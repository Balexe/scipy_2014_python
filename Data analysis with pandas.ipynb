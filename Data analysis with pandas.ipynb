{
 "metadata": {
  "name": "",
  "signature": "sha256:fb2493e2ccaa11467b1e14451dfa47112580516e5ce4189790d845bf7624b8bc"
 },
 "nbformat": 3,
 "nbformat_minor": 0,
 "worksheets": [
  {
   "cells": [
    {
     "cell_type": "heading",
     "level": 1,
     "metadata": {},
     "source": [
      "The `pandas` library for data analysis"
     ]
    },
    {
     "cell_type": "markdown",
     "metadata": {},
     "source": [
      "Powerful data analysis in Python is made easier by the `pandas` package.\n",
      "Its fundamental data structure is a *data frame*, a table of data in which each column is labelled and may be of a different type. It also allows us to deal with missing data. "
     ]
    },
    {
     "cell_type": "code",
     "collapsed": false,
     "input": [
      "import numpy as np\n",
      "import pandas as pd"
     ],
     "language": "python",
     "metadata": {},
     "outputs": []
    },
    {
     "cell_type": "code",
     "collapsed": false,
     "input": [
      "%matplotlib inline"
     ],
     "language": "python",
     "metadata": {},
     "outputs": []
    },
    {
     "cell_type": "markdown",
     "metadata": {},
     "source": [
      "We will use data on the number of students passing a certain course in UNAM (the National University of Mexico), given in an Excel spreadsheet."
     ]
    },
    {
     "cell_type": "code",
     "collapsed": false,
     "input": [
      "course_data = pd.read_excel(\"course_data.xls\", 'Sheet1')"
     ],
     "language": "python",
     "metadata": {},
     "outputs": []
    },
    {
     "cell_type": "code",
     "collapsed": false,
     "input": [
      "type(course_data)"
     ],
     "language": "python",
     "metadata": {},
     "outputs": []
    },
    {
     "cell_type": "markdown",
     "metadata": {},
     "source": [
      "The original, raw data, on 10 years' worth of groups for a certain course, looks like the following. The grade is out of 10; NP means that the student enrolled but then did not present the course and 5 is a fail:"
     ]
    },
    {
     "cell_type": "code",
     "collapsed": false,
     "input": [
      "course_data"
     ],
     "language": "python",
     "metadata": {},
     "outputs": []
    },
    {
     "cell_type": "markdown",
     "metadata": {},
     "source": [
      "We can obtain a more easily-digestible summary with the `head()` member function:"
     ]
    },
    {
     "cell_type": "code",
     "collapsed": false,
     "input": [
      "course_data.head()"
     ],
     "language": "python",
     "metadata": {},
     "outputs": []
    },
    {
     "cell_type": "markdown",
     "metadata": {},
     "source": [
      "----\n",
      "**Exercise**: Looking at the data, what kind of manipulations suggest themselves?\n",
      "\n",
      "----"
     ]
    },
    {
     "cell_type": "code",
     "collapsed": false,
     "input": [
      "column_names = course_data.columns.values\n",
      "column_names"
     ],
     "language": "python",
     "metadata": {},
     "outputs": []
    },
    {
     "cell_type": "markdown",
     "metadata": {},
     "source": [
      "Let's rename the columns to English and delete the \"group\" column, which is an internal number of no interest:"
     ]
    },
    {
     "cell_type": "code",
     "collapsed": false,
     "input": [
      "column_names[0:4] = \"semester group professor number\".split()\n",
      "column_names\n",
      "\n",
      "course_data.columns = column_names\n",
      "\n",
      "del course_data[\"group\"]  # delete the group column\n",
      "\n",
      "course_data.head()"
     ],
     "language": "python",
     "metadata": {},
     "outputs": []
    },
    {
     "cell_type": "heading",
     "level": 2,
     "metadata": {},
     "source": [
      "Data cleaning"
     ]
    },
    {
     "cell_type": "markdown",
     "metadata": {},
     "source": [
      "The word \"Profesor\" in each row is redundant, so we remove it:"
     ]
    },
    {
     "cell_type": "code",
     "collapsed": false,
     "input": [
      "professors = [ int(professor.split()[1]) for professor in course_data[\"professor\"] ]\n",
      "course_data[\"professor\"] = professors\n",
      "course_data.head()"
     ],
     "language": "python",
     "metadata": {},
     "outputs": []
    },
    {
     "cell_type": "markdown",
     "metadata": {},
     "source": [
      "The semester was given in the original spreadsheet as a number:"
     ]
    },
    {
     "cell_type": "code",
     "collapsed": false,
     "input": [
      "type(course_data[\"semester\"][1])"
     ],
     "language": "python",
     "metadata": {},
     "outputs": []
    },
    {
     "cell_type": "markdown",
     "metadata": {},
     "source": [
      "Let's convert it to a string:"
     ]
    },
    {
     "cell_type": "code",
     "collapsed": false,
     "input": [
      "semesters = [ str(int(semester)) for semester in course_data[\"semester\"] ]\n",
      "semesters = [ (semester[:-1] + \"-\" + semester[-1]) for semester in semesters ]\n",
      "course_data[\"semester\"] = semesters\n",
      "course_data.head()"
     ],
     "language": "python",
     "metadata": {},
     "outputs": []
    },
    {
     "cell_type": "markdown",
     "metadata": {},
     "source": [
      "We can separate the year and odd or even semester (since in odd semesters the students are mainly repeaters) and simply add new columns to the data frame:"
     ]
    },
    {
     "cell_type": "code",
     "collapsed": false,
     "input": [
      "parity = [semester[-1] for semester in course_data[\"semester\"]]\n",
      "year = [int(semester[:-2]) for semester in course_data[\"semester\"]]\n",
      "\n",
      "course_data[\"parity\"] = parity\n",
      "course_data[\"year\"] = year\n",
      "\n",
      "course_data.head()"
     ],
     "language": "python",
     "metadata": {},
     "outputs": []
    },
    {
     "cell_type": "heading",
     "level": 2,
     "metadata": {},
     "source": [
      "Data analysis"
     ]
    },
    {
     "cell_type": "markdown",
     "metadata": {},
     "source": [
      "We now would like to compute summary statistics, rearranging the data by field. This is achieved by `groupby`."
     ]
    },
    {
     "cell_type": "markdown",
     "metadata": {},
     "source": [
      "Total numbers of students in the course per year:"
     ]
    },
    {
     "cell_type": "code",
     "collapsed": false,
     "input": [
      "totals = course_data.groupby([\"year\"]).sum()\n",
      "\n",
      "totals['number'].plot(marker=\"o\")"
     ],
     "language": "python",
     "metadata": {},
     "outputs": []
    },
    {
     "cell_type": "markdown",
     "metadata": {},
     "source": [
      "We see that `pandas` provides a powerful and intuitive interface to `matplotlib` to easily explore data visually."
     ]
    },
    {
     "cell_type": "markdown",
     "metadata": {},
     "source": [
      "Total numbers of students separated by whether the semester is odd or even:"
     ]
    },
    {
     "cell_type": "code",
     "collapsed": false,
     "input": [
      "course_data.head()"
     ],
     "language": "python",
     "metadata": {},
     "outputs": []
    },
    {
     "cell_type": "code",
     "collapsed": false,
     "input": [
      "even = course_data[course_data[\"parity\"]==\"2\"].groupby(\"year\").sum()  # these create new data frames\n",
      "odd = course_data[course_data[\"parity\"]==\"1\"].groupby(\"year\").sum()\n",
      "\n",
      "odd[\"number\"].plot(marker='o')\n",
      "even[\"number\"].plot(marker='o')\n",
      "\n",
      "del odd[\"professor\"]\n",
      "del even[\"professor\"]\n"
     ],
     "language": "python",
     "metadata": {},
     "outputs": []
    },
    {
     "cell_type": "markdown",
     "metadata": {},
     "source": [
      "Here we used an indexing technique common in `numpy` for selecting subsets of elements from an array that satisfy certain conditions. E.g."
     ]
    },
    {
     "cell_type": "code",
     "collapsed": false,
     "input": [
      "import numpy as np\n",
      "\n",
      "x = np.random.rand(100)\n",
      "len(x[x > 0.5])  # those elements which are > 0.5"
     ],
     "language": "python",
     "metadata": {},
     "outputs": []
    },
    {
     "cell_type": "markdown",
     "metadata": {},
     "source": [
      "Let's find percentages of grades:"
     ]
    },
    {
     "cell_type": "code",
     "collapsed": false,
     "input": [
      "percent_odd = odd.copy()\n",
      "percent_even = even.copy()\n",
      "\n",
      "grades = [\"10\", \"09\", \"08\", \"07\", \"06\", \"05\", \"NP\"]\n",
      "\n",
      "for grade in grades:\n",
      "    percent_odd[grade] /= odd[\"number\"]\n",
      "    percent_even[grade] /= even[\"number\"]\n",
      "    \n",
      "del percent_even[\"number\"]\n",
      "del percent_odd[\"number\"]\n",
      "\n",
      "del even[\"number\"]\n",
      "del odd[\"number\"]\n",
      "\n",
      "even.plot(marker='o')\n",
      "odd.plot(marker='o')"
     ],
     "language": "python",
     "metadata": {},
     "outputs": []
    },
    {
     "cell_type": "markdown",
     "metadata": {},
     "source": [
      "Percentages:"
     ]
    },
    {
     "cell_type": "code",
     "collapsed": false,
     "input": [
      "percent_even.plot(marker='o')\n",
      "percent_odd.plot(marker='o')"
     ],
     "language": "python",
     "metadata": {},
     "outputs": []
    },
    {
     "cell_type": "markdown",
     "metadata": {},
     "source": [
      "Removing the NPs:"
     ]
    },
    {
     "cell_type": "code",
     "collapsed": false,
     "input": [
      "del percent_odd[\"NP\"]\n",
      "del percent_even[\"NP\"]\n",
      "\n",
      "percent_even.plot(marker='o')\n",
      "percent_odd.plot(marker='o')"
     ],
     "language": "python",
     "metadata": {},
     "outputs": []
    },
    {
     "cell_type": "code",
     "collapsed": false,
     "input": [
      "professors = course_data.groupby(\"professor\")"
     ],
     "language": "python",
     "metadata": {},
     "outputs": []
    },
    {
     "cell_type": "markdown",
     "metadata": {},
     "source": [
      "The number of times that each professor has taught the course:"
     ]
    },
    {
     "cell_type": "code",
     "collapsed": false,
     "input": [
      "professors.count()[\"semester\"]"
     ],
     "language": "python",
     "metadata": {},
     "outputs": []
    },
    {
     "cell_type": "code",
     "collapsed": false,
     "input": [
      "professors.count()"
     ],
     "language": "python",
     "metadata": {},
     "outputs": []
    }
   ],
   "metadata": {}
  }
 ]
}