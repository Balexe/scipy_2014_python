{
 "metadata": {
  "name": "",
  "signature": "sha256:de45f9dcec7aae9329e77befae312dd1f5df86879fd504ab5287c91ffcea6ca1"
 },
 "nbformat": 3,
 "nbformat_minor": 0,
 "worksheets": [
  {
   "cells": [
    {
     "cell_type": "heading",
     "level": 1,
     "metadata": {},
     "source": [
      "The `pandas` library for data analysis"
     ]
    },
    {
     "cell_type": "markdown",
     "metadata": {},
     "source": [
      "Powerful data analysis in Python is made easier by the `pandas` package.\n",
      "Its fundamental data structure is a *data frame*, a table of data in which each column is labelled and may be of a different type. It also allows us to deal with missing data. "
     ]
    },
    {
     "cell_type": "code",
     "collapsed": false,
     "input": [
      "import numpy as np\n",
      "import pandas as pd"
     ],
     "language": "python",
     "metadata": {},
     "outputs": [],
     "prompt_number": 1
    },
    {
     "cell_type": "code",
     "collapsed": false,
     "input": [
      "%matplotlib inline"
     ],
     "language": "python",
     "metadata": {},
     "outputs": [],
     "prompt_number": 2
    },
    {
     "cell_type": "markdown",
     "metadata": {},
     "source": [
      "We will use data on the number of students passing a certain course in UNAM (the National University of Mexico), given in an Excel spreadsheet."
     ]
    },
    {
     "cell_type": "code",
     "collapsed": false,
     "input": [
      "pd.read_excel?"
     ],
     "language": "python",
     "metadata": {},
     "outputs": [],
     "prompt_number": 4
    },
    {
     "cell_type": "code",
     "collapsed": false,
     "input": [
      "course_data = pd.read_excel(\"course_data.xls\", 'Sheet1')"
     ],
     "language": "python",
     "metadata": {},
     "outputs": [],
     "prompt_number": 3
    },
    {
     "cell_type": "code",
     "collapsed": false,
     "input": [
      "type(course_data)"
     ],
     "language": "python",
     "metadata": {},
     "outputs": [
      {
       "metadata": {},
       "output_type": "pyout",
       "prompt_number": 5,
       "text": [
        "pandas.core.frame.DataFrame"
       ]
      }
     ],
     "prompt_number": 5
    },
    {
     "cell_type": "markdown",
     "metadata": {},
     "source": [
      "The original, raw data, on 10 years' worth of groups for a certain course, looks like the following. The grade is out of 10; NP means that the student enrolled but then did not present the course and 5 is a fail:"
     ]
    },
    {
     "cell_type": "code",
     "collapsed": false,
     "input": [
      "course_data.head()"
     ],
     "language": "python",
     "metadata": {},
     "outputs": [
      {
       "html": [
        "<div style=\"max-height:1000px;max-width:1500px;overflow:auto;\">\n",
        "<table border=\"1\" class=\"dataframe\">\n",
        "  <thead>\n",
        "    <tr style=\"text-align: right;\">\n",
        "      <th></th>\n",
        "      <th>semestre</th>\n",
        "      <th>grupo</th>\n",
        "      <th>profesor</th>\n",
        "      <th>matr</th>\n",
        "      <th>10</th>\n",
        "      <th>09</th>\n",
        "      <th>08</th>\n",
        "      <th>07</th>\n",
        "      <th>06</th>\n",
        "      <th>05</th>\n",
        "      <th>NP</th>\n",
        "    </tr>\n",
        "  </thead>\n",
        "  <tbody>\n",
        "    <tr>\n",
        "      <th>0</th>\n",
        "      <td> 20022</td>\n",
        "      <td> 8020</td>\n",
        "      <td>  Profesor 7</td>\n",
        "      <td> 32</td>\n",
        "      <td> 1</td>\n",
        "      <td> 1</td>\n",
        "      <td> 6</td>\n",
        "      <td> 5</td>\n",
        "      <td> 0</td>\n",
        "      <td>  0</td>\n",
        "      <td> 19</td>\n",
        "    </tr>\n",
        "    <tr>\n",
        "      <th>1</th>\n",
        "      <td> 20022</td>\n",
        "      <td> 8021</td>\n",
        "      <td> Profesor 52</td>\n",
        "      <td> 29</td>\n",
        "      <td> 1</td>\n",
        "      <td> 6</td>\n",
        "      <td> 4</td>\n",
        "      <td> 2</td>\n",
        "      <td> 2</td>\n",
        "      <td>  7</td>\n",
        "      <td>  7</td>\n",
        "    </tr>\n",
        "    <tr>\n",
        "      <th>2</th>\n",
        "      <td> 20022</td>\n",
        "      <td> 8022</td>\n",
        "      <td> Profesor 46</td>\n",
        "      <td> 34</td>\n",
        "      <td> 5</td>\n",
        "      <td> 5</td>\n",
        "      <td> 5</td>\n",
        "      <td> 5</td>\n",
        "      <td> 2</td>\n",
        "      <td> 12</td>\n",
        "      <td>  0</td>\n",
        "    </tr>\n",
        "    <tr>\n",
        "      <th>3</th>\n",
        "      <td> 20022</td>\n",
        "      <td> 8023</td>\n",
        "      <td> Profesor 33</td>\n",
        "      <td> 23</td>\n",
        "      <td> 0</td>\n",
        "      <td> 5</td>\n",
        "      <td> 4</td>\n",
        "      <td> 4</td>\n",
        "      <td> 4</td>\n",
        "      <td>  0</td>\n",
        "      <td>  6</td>\n",
        "    </tr>\n",
        "    <tr>\n",
        "      <th>4</th>\n",
        "      <td> 20022</td>\n",
        "      <td> 8032</td>\n",
        "      <td> Profesor 48</td>\n",
        "      <td> 10</td>\n",
        "      <td> 0</td>\n",
        "      <td> 1</td>\n",
        "      <td> 3</td>\n",
        "      <td> 2</td>\n",
        "      <td> 2</td>\n",
        "      <td>  2</td>\n",
        "      <td>  0</td>\n",
        "    </tr>\n",
        "  </tbody>\n",
        "</table>\n",
        "<p>5 rows \u00d7 11 columns</p>\n",
        "</div>"
       ],
       "metadata": {},
       "output_type": "pyout",
       "prompt_number": 7,
       "text": [
        "   semestre  grupo     profesor  matr  10  09  08  07  06  05  NP\n",
        "0     20022   8020   Profesor 7    32   1   1   6   5   0   0  19\n",
        "1     20022   8021  Profesor 52    29   1   6   4   2   2   7   7\n",
        "2     20022   8022  Profesor 46    34   5   5   5   5   2  12   0\n",
        "3     20022   8023  Profesor 33    23   0   5   4   4   4   0   6\n",
        "4     20022   8032  Profesor 48    10   0   1   3   2   2   2   0\n",
        "\n",
        "[5 rows x 11 columns]"
       ]
      }
     ],
     "prompt_number": 7
    },
    {
     "cell_type": "markdown",
     "metadata": {},
     "source": [
      "We can obtain a more easily-digestible summary with the `head()` member function:"
     ]
    },
    {
     "cell_type": "code",
     "collapsed": false,
     "input": [
      "course_data.head()"
     ],
     "language": "python",
     "metadata": {},
     "outputs": []
    },
    {
     "cell_type": "markdown",
     "metadata": {},
     "source": [
      "----\n",
      "**Exercise**: Looking at the data, what kind of manipulations suggest themselves?\n",
      "\n",
      "----"
     ]
    },
    {
     "cell_type": "code",
     "collapsed": false,
     "input": [
      "column_names = course_data.columns.values\n",
      "column_names"
     ],
     "language": "python",
     "metadata": {},
     "outputs": [
      {
       "metadata": {},
       "output_type": "pyout",
       "prompt_number": 8,
       "text": [
        "array([u'semestre', u'grupo', u'profesor', u'matr', u'10', u'09', u'08',\n",
        "       u'07', u'06', u'05', u'NP'], dtype=object)"
       ]
      }
     ],
     "prompt_number": 8
    },
    {
     "cell_type": "markdown",
     "metadata": {},
     "source": [
      "Let's rename the columns to English and delete the \"group\" column, which is an internal number of no interest:"
     ]
    },
    {
     "cell_type": "code",
     "collapsed": false,
     "input": [
      "column_names[0:4] = \"semester group professor number\".split()\n",
      "column_names"
     ],
     "language": "python",
     "metadata": {},
     "outputs": [
      {
       "metadata": {},
       "output_type": "pyout",
       "prompt_number": 10,
       "text": [
        "array(['semester', 'group', 'professor', 'number', u'10', u'09', u'08',\n",
        "       u'07', u'06', u'05', u'NP'], dtype=object)"
       ]
      }
     ],
     "prompt_number": 10
    },
    {
     "cell_type": "code",
     "collapsed": false,
     "input": [
      "course_data.columns = column_names\n",
      "\n",
      "del course_data[\"group\"]  # delete the group column\n",
      "\n",
      "course_data.head()"
     ],
     "language": "python",
     "metadata": {},
     "outputs": [
      {
       "html": [
        "<div style=\"max-height:1000px;max-width:1500px;overflow:auto;\">\n",
        "<table border=\"1\" class=\"dataframe\">\n",
        "  <thead>\n",
        "    <tr style=\"text-align: right;\">\n",
        "      <th></th>\n",
        "      <th>semester</th>\n",
        "      <th>professor</th>\n",
        "      <th>number</th>\n",
        "      <th>10</th>\n",
        "      <th>09</th>\n",
        "      <th>08</th>\n",
        "      <th>07</th>\n",
        "      <th>06</th>\n",
        "      <th>05</th>\n",
        "      <th>NP</th>\n",
        "    </tr>\n",
        "  </thead>\n",
        "  <tbody>\n",
        "    <tr>\n",
        "      <th>0</th>\n",
        "      <td> 20022</td>\n",
        "      <td>  Profesor 7</td>\n",
        "      <td> 32</td>\n",
        "      <td> 1</td>\n",
        "      <td> 1</td>\n",
        "      <td> 6</td>\n",
        "      <td> 5</td>\n",
        "      <td> 0</td>\n",
        "      <td>  0</td>\n",
        "      <td> 19</td>\n",
        "    </tr>\n",
        "    <tr>\n",
        "      <th>1</th>\n",
        "      <td> 20022</td>\n",
        "      <td> Profesor 52</td>\n",
        "      <td> 29</td>\n",
        "      <td> 1</td>\n",
        "      <td> 6</td>\n",
        "      <td> 4</td>\n",
        "      <td> 2</td>\n",
        "      <td> 2</td>\n",
        "      <td>  7</td>\n",
        "      <td>  7</td>\n",
        "    </tr>\n",
        "    <tr>\n",
        "      <th>2</th>\n",
        "      <td> 20022</td>\n",
        "      <td> Profesor 46</td>\n",
        "      <td> 34</td>\n",
        "      <td> 5</td>\n",
        "      <td> 5</td>\n",
        "      <td> 5</td>\n",
        "      <td> 5</td>\n",
        "      <td> 2</td>\n",
        "      <td> 12</td>\n",
        "      <td>  0</td>\n",
        "    </tr>\n",
        "    <tr>\n",
        "      <th>3</th>\n",
        "      <td> 20022</td>\n",
        "      <td> Profesor 33</td>\n",
        "      <td> 23</td>\n",
        "      <td> 0</td>\n",
        "      <td> 5</td>\n",
        "      <td> 4</td>\n",
        "      <td> 4</td>\n",
        "      <td> 4</td>\n",
        "      <td>  0</td>\n",
        "      <td>  6</td>\n",
        "    </tr>\n",
        "    <tr>\n",
        "      <th>4</th>\n",
        "      <td> 20022</td>\n",
        "      <td> Profesor 48</td>\n",
        "      <td> 10</td>\n",
        "      <td> 0</td>\n",
        "      <td> 1</td>\n",
        "      <td> 3</td>\n",
        "      <td> 2</td>\n",
        "      <td> 2</td>\n",
        "      <td>  2</td>\n",
        "      <td>  0</td>\n",
        "    </tr>\n",
        "  </tbody>\n",
        "</table>\n",
        "<p>5 rows \u00d7 10 columns</p>\n",
        "</div>"
       ],
       "metadata": {},
       "output_type": "pyout",
       "prompt_number": 11,
       "text": [
        "   semester    professor  number  10  09  08  07  06  05  NP\n",
        "0     20022   Profesor 7      32   1   1   6   5   0   0  19\n",
        "1     20022  Profesor 52      29   1   6   4   2   2   7   7\n",
        "2     20022  Profesor 46      34   5   5   5   5   2  12   0\n",
        "3     20022  Profesor 33      23   0   5   4   4   4   0   6\n",
        "4     20022  Profesor 48      10   0   1   3   2   2   2   0\n",
        "\n",
        "[5 rows x 10 columns]"
       ]
      }
     ],
     "prompt_number": 11
    },
    {
     "cell_type": "heading",
     "level": 2,
     "metadata": {},
     "source": [
      "Data cleaning"
     ]
    },
    {
     "cell_type": "markdown",
     "metadata": {},
     "source": [
      "The word \"Profesor\" in each row is redundant, so we remove it:"
     ]
    },
    {
     "cell_type": "code",
     "collapsed": false,
     "input": [
      "course_data[\"professor\"]"
     ],
     "language": "python",
     "metadata": {},
     "outputs": [
      {
       "metadata": {},
       "output_type": "pyout",
       "prompt_number": 12,
       "text": [
        "0      Profesor 7\n",
        "1     Profesor 52\n",
        "2     Profesor 46\n",
        "3     Profesor 33\n",
        "4     Profesor 48\n",
        "5     Profesor 16\n",
        "6      Profesor 7\n",
        "7     Profesor 48\n",
        "8     Profesor 45\n",
        "9      Profesor 5\n",
        "10    Profesor 36\n",
        "11     Profesor 7\n",
        "12    Profesor 52\n",
        "13     Profesor 4\n",
        "14    Profesor 33\n",
        "...\n",
        "196    Profesor 36\n",
        "197    Profesor 47\n",
        "198    Profesor 49\n",
        "199    Profesor 23\n",
        "200     Profesor 6\n",
        "201    Profesor 15\n",
        "202    Profesor 42\n",
        "203    Profesor 52\n",
        "204    Profesor 32\n",
        "205    Profesor 40\n",
        "206    Profesor 44\n",
        "207     Profesor 1\n",
        "208    Profesor 53\n",
        "209    Profesor 35\n",
        "210    Profesor 43\n",
        "Name: professor, Length: 211, dtype: object"
       ]
      }
     ],
     "prompt_number": 12
    },
    {
     "cell_type": "code",
     "collapsed": false,
     "input": [
      "type(_)"
     ],
     "language": "python",
     "metadata": {},
     "outputs": [
      {
       "metadata": {},
       "output_type": "pyout",
       "prompt_number": 13,
       "text": [
        "pandas.core.series.Series"
       ]
      }
     ],
     "prompt_number": 13
    },
    {
     "cell_type": "code",
     "collapsed": false,
     "input": [
      "professors = [ int(professor.split()[1]) for professor in course_data[\"professor\"] ]\n",
      "course_data[\"professor\"] = professors\n",
      "course_data.head()"
     ],
     "language": "python",
     "metadata": {},
     "outputs": [
      {
       "html": [
        "<div style=\"max-height:1000px;max-width:1500px;overflow:auto;\">\n",
        "<table border=\"1\" class=\"dataframe\">\n",
        "  <thead>\n",
        "    <tr style=\"text-align: right;\">\n",
        "      <th></th>\n",
        "      <th>semester</th>\n",
        "      <th>professor</th>\n",
        "      <th>number</th>\n",
        "      <th>10</th>\n",
        "      <th>09</th>\n",
        "      <th>08</th>\n",
        "      <th>07</th>\n",
        "      <th>06</th>\n",
        "      <th>05</th>\n",
        "      <th>NP</th>\n",
        "    </tr>\n",
        "  </thead>\n",
        "  <tbody>\n",
        "    <tr>\n",
        "      <th>0</th>\n",
        "      <td> 20022</td>\n",
        "      <td>  7</td>\n",
        "      <td> 32</td>\n",
        "      <td> 1</td>\n",
        "      <td> 1</td>\n",
        "      <td> 6</td>\n",
        "      <td> 5</td>\n",
        "      <td> 0</td>\n",
        "      <td>  0</td>\n",
        "      <td> 19</td>\n",
        "    </tr>\n",
        "    <tr>\n",
        "      <th>1</th>\n",
        "      <td> 20022</td>\n",
        "      <td> 52</td>\n",
        "      <td> 29</td>\n",
        "      <td> 1</td>\n",
        "      <td> 6</td>\n",
        "      <td> 4</td>\n",
        "      <td> 2</td>\n",
        "      <td> 2</td>\n",
        "      <td>  7</td>\n",
        "      <td>  7</td>\n",
        "    </tr>\n",
        "    <tr>\n",
        "      <th>2</th>\n",
        "      <td> 20022</td>\n",
        "      <td> 46</td>\n",
        "      <td> 34</td>\n",
        "      <td> 5</td>\n",
        "      <td> 5</td>\n",
        "      <td> 5</td>\n",
        "      <td> 5</td>\n",
        "      <td> 2</td>\n",
        "      <td> 12</td>\n",
        "      <td>  0</td>\n",
        "    </tr>\n",
        "    <tr>\n",
        "      <th>3</th>\n",
        "      <td> 20022</td>\n",
        "      <td> 33</td>\n",
        "      <td> 23</td>\n",
        "      <td> 0</td>\n",
        "      <td> 5</td>\n",
        "      <td> 4</td>\n",
        "      <td> 4</td>\n",
        "      <td> 4</td>\n",
        "      <td>  0</td>\n",
        "      <td>  6</td>\n",
        "    </tr>\n",
        "    <tr>\n",
        "      <th>4</th>\n",
        "      <td> 20022</td>\n",
        "      <td> 48</td>\n",
        "      <td> 10</td>\n",
        "      <td> 0</td>\n",
        "      <td> 1</td>\n",
        "      <td> 3</td>\n",
        "      <td> 2</td>\n",
        "      <td> 2</td>\n",
        "      <td>  2</td>\n",
        "      <td>  0</td>\n",
        "    </tr>\n",
        "  </tbody>\n",
        "</table>\n",
        "<p>5 rows \u00d7 10 columns</p>\n",
        "</div>"
       ],
       "metadata": {},
       "output_type": "pyout",
       "prompt_number": 14,
       "text": [
        "   semester  professor  number  10  09  08  07  06  05  NP\n",
        "0     20022          7      32   1   1   6   5   0   0  19\n",
        "1     20022         52      29   1   6   4   2   2   7   7\n",
        "2     20022         46      34   5   5   5   5   2  12   0\n",
        "3     20022         33      23   0   5   4   4   4   0   6\n",
        "4     20022         48      10   0   1   3   2   2   2   0\n",
        "\n",
        "[5 rows x 10 columns]"
       ]
      }
     ],
     "prompt_number": 14
    },
    {
     "cell_type": "markdown",
     "metadata": {},
     "source": [
      "The semester was given in the original spreadsheet as a number:"
     ]
    },
    {
     "cell_type": "code",
     "collapsed": false,
     "input": [
      "type(course_data[\"semester\"][1])"
     ],
     "language": "python",
     "metadata": {},
     "outputs": [
      {
       "metadata": {},
       "output_type": "pyout",
       "prompt_number": 15,
       "text": [
        "numpy.int64"
       ]
      }
     ],
     "prompt_number": 15
    },
    {
     "cell_type": "markdown",
     "metadata": {},
     "source": [
      "Let's convert it to a string:"
     ]
    },
    {
     "cell_type": "code",
     "collapsed": false,
     "input": [
      "semesters = [ str(int(semester)) for semester in course_data[\"semester\"] ]\n",
      "semesters = [ (semester[:-1] + \"-\" + semester[-1]) for semester in semesters ]\n",
      "course_data[\"semester\"] = semesters\n",
      "course_data.head()"
     ],
     "language": "python",
     "metadata": {},
     "outputs": [
      {
       "html": [
        "<div style=\"max-height:1000px;max-width:1500px;overflow:auto;\">\n",
        "<table border=\"1\" class=\"dataframe\">\n",
        "  <thead>\n",
        "    <tr style=\"text-align: right;\">\n",
        "      <th></th>\n",
        "      <th>semester</th>\n",
        "      <th>professor</th>\n",
        "      <th>number</th>\n",
        "      <th>10</th>\n",
        "      <th>09</th>\n",
        "      <th>08</th>\n",
        "      <th>07</th>\n",
        "      <th>06</th>\n",
        "      <th>05</th>\n",
        "      <th>NP</th>\n",
        "    </tr>\n",
        "  </thead>\n",
        "  <tbody>\n",
        "    <tr>\n",
        "      <th>0</th>\n",
        "      <td> 2002-2</td>\n",
        "      <td>  7</td>\n",
        "      <td> 32</td>\n",
        "      <td> 1</td>\n",
        "      <td> 1</td>\n",
        "      <td> 6</td>\n",
        "      <td> 5</td>\n",
        "      <td> 0</td>\n",
        "      <td>  0</td>\n",
        "      <td> 19</td>\n",
        "    </tr>\n",
        "    <tr>\n",
        "      <th>1</th>\n",
        "      <td> 2002-2</td>\n",
        "      <td> 52</td>\n",
        "      <td> 29</td>\n",
        "      <td> 1</td>\n",
        "      <td> 6</td>\n",
        "      <td> 4</td>\n",
        "      <td> 2</td>\n",
        "      <td> 2</td>\n",
        "      <td>  7</td>\n",
        "      <td>  7</td>\n",
        "    </tr>\n",
        "    <tr>\n",
        "      <th>2</th>\n",
        "      <td> 2002-2</td>\n",
        "      <td> 46</td>\n",
        "      <td> 34</td>\n",
        "      <td> 5</td>\n",
        "      <td> 5</td>\n",
        "      <td> 5</td>\n",
        "      <td> 5</td>\n",
        "      <td> 2</td>\n",
        "      <td> 12</td>\n",
        "      <td>  0</td>\n",
        "    </tr>\n",
        "    <tr>\n",
        "      <th>3</th>\n",
        "      <td> 2002-2</td>\n",
        "      <td> 33</td>\n",
        "      <td> 23</td>\n",
        "      <td> 0</td>\n",
        "      <td> 5</td>\n",
        "      <td> 4</td>\n",
        "      <td> 4</td>\n",
        "      <td> 4</td>\n",
        "      <td>  0</td>\n",
        "      <td>  6</td>\n",
        "    </tr>\n",
        "    <tr>\n",
        "      <th>4</th>\n",
        "      <td> 2002-2</td>\n",
        "      <td> 48</td>\n",
        "      <td> 10</td>\n",
        "      <td> 0</td>\n",
        "      <td> 1</td>\n",
        "      <td> 3</td>\n",
        "      <td> 2</td>\n",
        "      <td> 2</td>\n",
        "      <td>  2</td>\n",
        "      <td>  0</td>\n",
        "    </tr>\n",
        "  </tbody>\n",
        "</table>\n",
        "<p>5 rows \u00d7 10 columns</p>\n",
        "</div>"
       ],
       "metadata": {},
       "output_type": "pyout",
       "prompt_number": 16,
       "text": [
        "  semester  professor  number  10  09  08  07  06  05  NP\n",
        "0   2002-2          7      32   1   1   6   5   0   0  19\n",
        "1   2002-2         52      29   1   6   4   2   2   7   7\n",
        "2   2002-2         46      34   5   5   5   5   2  12   0\n",
        "3   2002-2         33      23   0   5   4   4   4   0   6\n",
        "4   2002-2         48      10   0   1   3   2   2   2   0\n",
        "\n",
        "[5 rows x 10 columns]"
       ]
      }
     ],
     "prompt_number": 16
    },
    {
     "cell_type": "markdown",
     "metadata": {},
     "source": [
      "We can separate the year and odd or even semester (since in odd semesters the students are mainly repeaters) and simply add new columns to the data frame:"
     ]
    },
    {
     "cell_type": "code",
     "collapsed": false,
     "input": [],
     "language": "python",
     "metadata": {},
     "outputs": []
    },
    {
     "cell_type": "code",
     "collapsed": false,
     "input": [
      "parity = [semester[-1] for semester in course_data[\"semester\"]]\n",
      "year = [int(semester[:-2]) for semester in course_data[\"semester\"]]\n",
      "\n",
      "course_data[\"parity\"] = parity\n",
      "course_data[\"year\"] = year\n",
      "\n",
      "course_data.head()"
     ],
     "language": "python",
     "metadata": {},
     "outputs": [
      {
       "html": [
        "<div style=\"max-height:1000px;max-width:1500px;overflow:auto;\">\n",
        "<table border=\"1\" class=\"dataframe\">\n",
        "  <thead>\n",
        "    <tr style=\"text-align: right;\">\n",
        "      <th></th>\n",
        "      <th>semester</th>\n",
        "      <th>professor</th>\n",
        "      <th>number</th>\n",
        "      <th>10</th>\n",
        "      <th>09</th>\n",
        "      <th>08</th>\n",
        "      <th>07</th>\n",
        "      <th>06</th>\n",
        "      <th>05</th>\n",
        "      <th>NP</th>\n",
        "      <th>parity</th>\n",
        "      <th>year</th>\n",
        "    </tr>\n",
        "  </thead>\n",
        "  <tbody>\n",
        "    <tr>\n",
        "      <th>0</th>\n",
        "      <td> 2002-2</td>\n",
        "      <td>  7</td>\n",
        "      <td> 32</td>\n",
        "      <td> 1</td>\n",
        "      <td> 1</td>\n",
        "      <td> 6</td>\n",
        "      <td> 5</td>\n",
        "      <td> 0</td>\n",
        "      <td>  0</td>\n",
        "      <td> 19</td>\n",
        "      <td> 2</td>\n",
        "      <td> 2002</td>\n",
        "    </tr>\n",
        "    <tr>\n",
        "      <th>1</th>\n",
        "      <td> 2002-2</td>\n",
        "      <td> 52</td>\n",
        "      <td> 29</td>\n",
        "      <td> 1</td>\n",
        "      <td> 6</td>\n",
        "      <td> 4</td>\n",
        "      <td> 2</td>\n",
        "      <td> 2</td>\n",
        "      <td>  7</td>\n",
        "      <td>  7</td>\n",
        "      <td> 2</td>\n",
        "      <td> 2002</td>\n",
        "    </tr>\n",
        "    <tr>\n",
        "      <th>2</th>\n",
        "      <td> 2002-2</td>\n",
        "      <td> 46</td>\n",
        "      <td> 34</td>\n",
        "      <td> 5</td>\n",
        "      <td> 5</td>\n",
        "      <td> 5</td>\n",
        "      <td> 5</td>\n",
        "      <td> 2</td>\n",
        "      <td> 12</td>\n",
        "      <td>  0</td>\n",
        "      <td> 2</td>\n",
        "      <td> 2002</td>\n",
        "    </tr>\n",
        "    <tr>\n",
        "      <th>3</th>\n",
        "      <td> 2002-2</td>\n",
        "      <td> 33</td>\n",
        "      <td> 23</td>\n",
        "      <td> 0</td>\n",
        "      <td> 5</td>\n",
        "      <td> 4</td>\n",
        "      <td> 4</td>\n",
        "      <td> 4</td>\n",
        "      <td>  0</td>\n",
        "      <td>  6</td>\n",
        "      <td> 2</td>\n",
        "      <td> 2002</td>\n",
        "    </tr>\n",
        "    <tr>\n",
        "      <th>4</th>\n",
        "      <td> 2002-2</td>\n",
        "      <td> 48</td>\n",
        "      <td> 10</td>\n",
        "      <td> 0</td>\n",
        "      <td> 1</td>\n",
        "      <td> 3</td>\n",
        "      <td> 2</td>\n",
        "      <td> 2</td>\n",
        "      <td>  2</td>\n",
        "      <td>  0</td>\n",
        "      <td> 2</td>\n",
        "      <td> 2002</td>\n",
        "    </tr>\n",
        "  </tbody>\n",
        "</table>\n",
        "<p>5 rows \u00d7 12 columns</p>\n",
        "</div>"
       ],
       "metadata": {},
       "output_type": "pyout",
       "prompt_number": 17,
       "text": [
        "  semester  professor  number  10  09  08  07  06  05  NP parity  year\n",
        "0   2002-2          7      32   1   1   6   5   0   0  19      2  2002\n",
        "1   2002-2         52      29   1   6   4   2   2   7   7      2  2002\n",
        "2   2002-2         46      34   5   5   5   5   2  12   0      2  2002\n",
        "3   2002-2         33      23   0   5   4   4   4   0   6      2  2002\n",
        "4   2002-2         48      10   0   1   3   2   2   2   0      2  2002\n",
        "\n",
        "[5 rows x 12 columns]"
       ]
      }
     ],
     "prompt_number": 17
    },
    {
     "cell_type": "code",
     "collapsed": false,
     "input": [
      "type(parity)"
     ],
     "language": "python",
     "metadata": {},
     "outputs": [
      {
       "metadata": {},
       "output_type": "pyout",
       "prompt_number": 18,
       "text": [
        "list"
       ]
      }
     ],
     "prompt_number": 18
    },
    {
     "cell_type": "heading",
     "level": 2,
     "metadata": {},
     "source": [
      "Data analysis"
     ]
    },
    {
     "cell_type": "markdown",
     "metadata": {},
     "source": [
      "We now would like to compute summary statistics, rearranging the data by field. This is achieved by `groupby`."
     ]
    },
    {
     "cell_type": "markdown",
     "metadata": {},
     "source": [
      "Total numbers of students in the course per year:"
     ]
    },
    {
     "cell_type": "code",
     "collapsed": false,
     "input": [
      "course_data.groupby([\"year\"])"
     ],
     "language": "python",
     "metadata": {},
     "outputs": [
      {
       "metadata": {},
       "output_type": "pyout",
       "prompt_number": 20,
       "text": [
        "<pandas.core.groupby.DataFrameGroupBy object at 0x1075dc890>"
       ]
      }
     ],
     "prompt_number": 20
    },
    {
     "cell_type": "code",
     "collapsed": false,
     "input": [],
     "language": "python",
     "metadata": {},
     "outputs": []
    },
    {
     "cell_type": "code",
     "collapsed": false,
     "input": [
      "totals = course_data.groupby([\"year\"]).sum()"
     ],
     "language": "python",
     "metadata": {},
     "outputs": [],
     "prompt_number": 21
    },
    {
     "cell_type": "code",
     "collapsed": false,
     "input": [
      "totals"
     ],
     "language": "python",
     "metadata": {},
     "outputs": [
      {
       "html": [
        "<div style=\"max-height:1000px;max-width:1500px;overflow:auto;\">\n",
        "<table border=\"1\" class=\"dataframe\">\n",
        "  <thead>\n",
        "    <tr style=\"text-align: right;\">\n",
        "      <th></th>\n",
        "      <th>professor</th>\n",
        "      <th>number</th>\n",
        "      <th>10</th>\n",
        "      <th>09</th>\n",
        "      <th>08</th>\n",
        "      <th>07</th>\n",
        "      <th>06</th>\n",
        "      <th>05</th>\n",
        "      <th>NP</th>\n",
        "    </tr>\n",
        "    <tr>\n",
        "      <th>year</th>\n",
        "      <th></th>\n",
        "      <th></th>\n",
        "      <th></th>\n",
        "      <th></th>\n",
        "      <th></th>\n",
        "      <th></th>\n",
        "      <th></th>\n",
        "      <th></th>\n",
        "      <th></th>\n",
        "    </tr>\n",
        "  </thead>\n",
        "  <tbody>\n",
        "    <tr>\n",
        "      <th>2002</th>\n",
        "      <td> 202</td>\n",
        "      <td> 146</td>\n",
        "      <td>  7</td>\n",
        "      <td> 19</td>\n",
        "      <td>  23</td>\n",
        "      <td> 22</td>\n",
        "      <td> 10</td>\n",
        "      <td>  21</td>\n",
        "      <td>  44</td>\n",
        "    </tr>\n",
        "    <tr>\n",
        "      <th>2003</th>\n",
        "      <td> 357</td>\n",
        "      <td> 261</td>\n",
        "      <td> 24</td>\n",
        "      <td> 47</td>\n",
        "      <td>  33</td>\n",
        "      <td> 17</td>\n",
        "      <td>  5</td>\n",
        "      <td>  22</td>\n",
        "      <td> 113</td>\n",
        "    </tr>\n",
        "    <tr>\n",
        "      <th>2004</th>\n",
        "      <td> 421</td>\n",
        "      <td> 277</td>\n",
        "      <td> 24</td>\n",
        "      <td> 22</td>\n",
        "      <td>  25</td>\n",
        "      <td> 24</td>\n",
        "      <td> 18</td>\n",
        "      <td>  40</td>\n",
        "      <td> 124</td>\n",
        "    </tr>\n",
        "    <tr>\n",
        "      <th>2005</th>\n",
        "      <td> 467</td>\n",
        "      <td> 337</td>\n",
        "      <td> 23</td>\n",
        "      <td> 39</td>\n",
        "      <td>  28</td>\n",
        "      <td> 23</td>\n",
        "      <td> 26</td>\n",
        "      <td>  46</td>\n",
        "      <td> 152</td>\n",
        "    </tr>\n",
        "    <tr>\n",
        "      <th>2006</th>\n",
        "      <td> 497</td>\n",
        "      <td> 373</td>\n",
        "      <td> 33</td>\n",
        "      <td> 48</td>\n",
        "      <td>  47</td>\n",
        "      <td> 22</td>\n",
        "      <td> 14</td>\n",
        "      <td>  22</td>\n",
        "      <td> 187</td>\n",
        "    </tr>\n",
        "    <tr>\n",
        "      <th>2007</th>\n",
        "      <td> 527</td>\n",
        "      <td> 412</td>\n",
        "      <td> 34</td>\n",
        "      <td> 41</td>\n",
        "      <td>  47</td>\n",
        "      <td> 20</td>\n",
        "      <td>  6</td>\n",
        "      <td>  22</td>\n",
        "      <td> 242</td>\n",
        "    </tr>\n",
        "    <tr>\n",
        "      <th>2008</th>\n",
        "      <td> 511</td>\n",
        "      <td> 499</td>\n",
        "      <td> 61</td>\n",
        "      <td> 35</td>\n",
        "      <td>  41</td>\n",
        "      <td> 30</td>\n",
        "      <td> 15</td>\n",
        "      <td>  66</td>\n",
        "      <td> 251</td>\n",
        "    </tr>\n",
        "    <tr>\n",
        "      <th>2009</th>\n",
        "      <td> 494</td>\n",
        "      <td> 552</td>\n",
        "      <td> 39</td>\n",
        "      <td> 67</td>\n",
        "      <td>  55</td>\n",
        "      <td> 30</td>\n",
        "      <td> 19</td>\n",
        "      <td> 111</td>\n",
        "      <td> 231</td>\n",
        "    </tr>\n",
        "    <tr>\n",
        "      <th>2010</th>\n",
        "      <td> 450</td>\n",
        "      <td> 575</td>\n",
        "      <td> 52</td>\n",
        "      <td> 67</td>\n",
        "      <td>  52</td>\n",
        "      <td> 43</td>\n",
        "      <td> 19</td>\n",
        "      <td> 104</td>\n",
        "      <td> 238</td>\n",
        "    </tr>\n",
        "    <tr>\n",
        "      <th>2011</th>\n",
        "      <td> 599</td>\n",
        "      <td> 650</td>\n",
        "      <td> 60</td>\n",
        "      <td> 68</td>\n",
        "      <td>  77</td>\n",
        "      <td> 66</td>\n",
        "      <td> 32</td>\n",
        "      <td> 130</td>\n",
        "      <td> 217</td>\n",
        "    </tr>\n",
        "    <tr>\n",
        "      <th>2012</th>\n",
        "      <td> 700</td>\n",
        "      <td> 716</td>\n",
        "      <td> 84</td>\n",
        "      <td> 97</td>\n",
        "      <td> 101</td>\n",
        "      <td> 73</td>\n",
        "      <td> 24</td>\n",
        "      <td>  92</td>\n",
        "      <td> 245</td>\n",
        "    </tr>\n",
        "    <tr>\n",
        "      <th>2013</th>\n",
        "      <td> 880</td>\n",
        "      <td> 687</td>\n",
        "      <td> 68</td>\n",
        "      <td> 82</td>\n",
        "      <td>  79</td>\n",
        "      <td> 66</td>\n",
        "      <td> 31</td>\n",
        "      <td> 105</td>\n",
        "      <td> 256</td>\n",
        "    </tr>\n",
        "  </tbody>\n",
        "</table>\n",
        "<p>12 rows \u00d7 9 columns</p>\n",
        "</div>"
       ],
       "metadata": {},
       "output_type": "pyout",
       "prompt_number": 22,
       "text": [
        "      professor  number  10  09   08  07  06   05   NP\n",
        "year                                                  \n",
        "2002        202     146   7  19   23  22  10   21   44\n",
        "2003        357     261  24  47   33  17   5   22  113\n",
        "2004        421     277  24  22   25  24  18   40  124\n",
        "2005        467     337  23  39   28  23  26   46  152\n",
        "2006        497     373  33  48   47  22  14   22  187\n",
        "2007        527     412  34  41   47  20   6   22  242\n",
        "2008        511     499  61  35   41  30  15   66  251\n",
        "2009        494     552  39  67   55  30  19  111  231\n",
        "2010        450     575  52  67   52  43  19  104  238\n",
        "2011        599     650  60  68   77  66  32  130  217\n",
        "2012        700     716  84  97  101  73  24   92  245\n",
        "2013        880     687  68  82   79  66  31  105  256\n",
        "\n",
        "[12 rows x 9 columns]"
       ]
      }
     ],
     "prompt_number": 22
    },
    {
     "cell_type": "code",
     "collapsed": false,
     "input": [
      "totals['number'].plot(marker=\"o\")"
     ],
     "language": "python",
     "metadata": {},
     "outputs": [
      {
       "metadata": {},
       "output_type": "pyout",
       "prompt_number": 23,
       "text": [
        "<matplotlib.axes.AxesSubplot at 0x1075f32d0>"
       ]
      },
      {
       "metadata": {},
       "output_type": "display_data",
       "png": "[encoded data removed]",
       "text": [
        "<matplotlib.figure.Figure at 0x1075dc450>"
       ]
      }
     ],
     "prompt_number": 23
    },
    {
     "cell_type": "markdown",
     "metadata": {},
     "source": [
      "We see that `pandas` provides a powerful and intuitive interface to `matplotlib` to easily explore data visually."
     ]
    },
    {
     "cell_type": "markdown",
     "metadata": {},
     "source": [
      "Total numbers of students separated by whether the semester is odd or even:"
     ]
    },
    {
     "cell_type": "code",
     "collapsed": false,
     "input": [
      "course_data.head()"
     ],
     "language": "python",
     "metadata": {},
     "outputs": []
    },
    {
     "cell_type": "code",
     "collapsed": false,
     "input": [
      "even = course_data[course_data[\"parity\"]==\"2\"].groupby(\"year\").sum()  # these create new data frames\n",
      "odd = course_data[course_data[\"parity\"]==\"1\"].groupby(\"year\").sum()\n",
      "\n",
      "odd[\"number\"].plot(marker='o')\n",
      "even[\"number\"].plot(marker='o')\n",
      "\n",
      "del odd[\"professor\"]\n",
      "del even[\"professor\"]\n"
     ],
     "language": "python",
     "metadata": {},
     "outputs": [
      {
       "metadata": {},
       "output_type": "display_data",
       "png": "[encoded data removed]",
       "text": [
        "<matplotlib.figure.Figure at 0x107633bd0>"
       ]
      }
     ],
     "prompt_number": 24
    },
    {
     "cell_type": "markdown",
     "metadata": {},
     "source": [
      "Here we used an indexing technique common in `numpy` for selecting subsets of elements from an array that satisfy certain conditions. E.g."
     ]
    },
    {
     "cell_type": "code",
     "collapsed": false,
     "input": [
      "import numpy as np\n",
      "\n",
      "x = np.random.rand(100)"
     ],
     "language": "python",
     "metadata": {},
     "outputs": [],
     "prompt_number": 25
    },
    {
     "cell_type": "code",
     "collapsed": false,
     "input": [
      "x"
     ],
     "language": "python",
     "metadata": {},
     "outputs": [
      {
       "metadata": {},
       "output_type": "pyout",
       "prompt_number": 26,
       "text": [
        "array([ 0.03826292,  0.01727249,  0.98061233,  0.73796002,  0.19398   ,\n",
        "        0.07875737,  0.02788882,  0.66587734,  0.02861305,  0.6129012 ,\n",
        "        0.5047513 ,  0.23280691,  0.51181104,  0.53933414,  0.53301324,\n",
        "        0.52652824,  0.70976312,  0.84177195,  0.58403661,  0.26953014,\n",
        "        0.8968177 ,  0.50939338,  0.81551005,  0.82550203,  0.19520244,\n",
        "        0.88586124,  0.04257733,  0.01497839,  0.740006  ,  0.53788922,\n",
        "        0.53221441,  0.86863669,  0.25985602,  0.43308858,  0.05738781,\n",
        "        0.86320597,  0.23422714,  0.72721448,  0.78221549,  0.1672681 ,\n",
        "        0.28918326,  0.90339652,  0.17240021,  0.07870298,  0.09807824,\n",
        "        0.57341471,  0.33193127,  0.70234953,  0.59889693,  0.19831294,\n",
        "        0.88631038,  0.47622473,  0.60410111,  0.76733366,  0.5849723 ,\n",
        "        0.47707788,  0.78572751,  0.7810073 ,  0.30293581,  0.4251052 ,\n",
        "        0.17974193,  0.15895492,  0.03616629,  0.36518215,  0.70822222,\n",
        "        0.96490168,  0.12987724,  0.48491736,  0.1836523 ,  0.12219566,\n",
        "        0.27758268,  0.07332881,  0.89594166,  0.42316091,  0.87685454,\n",
        "        0.98292041,  0.63838195,  0.06431176,  0.51255536,  0.55424937,\n",
        "        0.5078693 ,  0.48725274,  0.83945748,  0.80090366,  0.54315207,\n",
        "        0.43301154,  0.47056456,  0.11330736,  0.42013552,  0.6490616 ,\n",
        "        0.62222007,  0.30022293,  0.05915667,  0.74508773,  0.74767012,\n",
        "        0.65386362,  0.23686155,  0.30060673,  0.95367041,  0.19522894])"
       ]
      }
     ],
     "prompt_number": 26
    },
    {
     "cell_type": "code",
     "collapsed": false,
     "input": [
      "x > 0.5"
     ],
     "language": "python",
     "metadata": {},
     "outputs": [
      {
       "metadata": {},
       "output_type": "pyout",
       "prompt_number": 27,
       "text": [
        "array([False, False,  True,  True, False, False, False,  True, False,\n",
        "        True,  True, False,  True,  True,  True,  True,  True,  True,\n",
        "        True, False,  True,  True,  True,  True, False,  True, False,\n",
        "       False,  True,  True,  True,  True, False, False, False,  True,\n",
        "       False,  True,  True, False, False,  True, False, False, False,\n",
        "        True, False,  True,  True, False,  True, False,  True,  True,\n",
        "        True, False,  True,  True, False, False, False, False, False,\n",
        "       False,  True,  True, False, False, False, False, False, False,\n",
        "        True, False,  True,  True,  True, False,  True,  True,  True,\n",
        "       False,  True,  True,  True, False, False, False, False,  True,\n",
        "        True, False, False,  True,  True,  True, False, False,  True, False], dtype=bool)"
       ]
      }
     ],
     "prompt_number": 27
    },
    {
     "cell_type": "code",
     "collapsed": false,
     "input": [
      "x[ x > 0.5 ]"
     ],
     "language": "python",
     "metadata": {},
     "outputs": [
      {
       "metadata": {},
       "output_type": "pyout",
       "prompt_number": 28,
       "text": [
        "array([ 0.98061233,  0.73796002,  0.66587734,  0.6129012 ,  0.5047513 ,\n",
        "        0.51181104,  0.53933414,  0.53301324,  0.52652824,  0.70976312,\n",
        "        0.84177195,  0.58403661,  0.8968177 ,  0.50939338,  0.81551005,\n",
        "        0.82550203,  0.88586124,  0.740006  ,  0.53788922,  0.53221441,\n",
        "        0.86863669,  0.86320597,  0.72721448,  0.78221549,  0.90339652,\n",
        "        0.57341471,  0.70234953,  0.59889693,  0.88631038,  0.60410111,\n",
        "        0.76733366,  0.5849723 ,  0.78572751,  0.7810073 ,  0.70822222,\n",
        "        0.96490168,  0.89594166,  0.87685454,  0.98292041,  0.63838195,\n",
        "        0.51255536,  0.55424937,  0.5078693 ,  0.83945748,  0.80090366,\n",
        "        0.54315207,  0.6490616 ,  0.62222007,  0.74508773,  0.74767012,\n",
        "        0.65386362,  0.95367041])"
       ]
      }
     ],
     "prompt_number": 28
    },
    {
     "cell_type": "code",
     "collapsed": false,
     "input": [
      "x = np.random.rand(100)\n",
      "len(x [x > 0.5])  # those elements which are > 0.5"
     ],
     "language": "python",
     "metadata": {},
     "outputs": [
      {
       "metadata": {},
       "output_type": "pyout",
       "prompt_number": 51,
       "text": [
        "59"
       ]
      }
     ],
     "prompt_number": 51
    },
    {
     "cell_type": "code",
     "collapsed": false,
     "input": [],
     "language": "python",
     "metadata": {},
     "outputs": []
    },
    {
     "cell_type": "markdown",
     "metadata": {},
     "source": [
      "Let's find percentages of grades:"
     ]
    },
    {
     "cell_type": "code",
     "collapsed": false,
     "input": [
      "percent_odd = odd.copy()\n",
      "percent_even = even.copy()\n",
      "\n",
      "grades = [\"10\", \"09\", \"08\", \"07\", \"06\", \"05\", \"NP\"]\n",
      "\n",
      "for grade in grades:\n",
      "    percent_odd[grade] /= odd[\"number\"]\n",
      "    percent_even[grade] /= even[\"number\"]\n",
      "    \n",
      "del percent_even[\"number\"]\n",
      "del percent_odd[\"number\"]\n",
      "\n",
      "del even[\"number\"]\n",
      "del odd[\"number\"]\n",
      "\n",
      "even.plot(marker='o')\n",
      "odd.plot(marker='o')"
     ],
     "language": "python",
     "metadata": {},
     "outputs": []
    },
    {
     "cell_type": "markdown",
     "metadata": {},
     "source": [
      "Percentages:"
     ]
    },
    {
     "cell_type": "code",
     "collapsed": false,
     "input": [
      "percent_even.plot(marker='o')\n",
      "percent_odd.plot(marker='o')"
     ],
     "language": "python",
     "metadata": {},
     "outputs": []
    },
    {
     "cell_type": "markdown",
     "metadata": {},
     "source": [
      "Removing the NPs:"
     ]
    },
    {
     "cell_type": "code",
     "collapsed": false,
     "input": [
      "del percent_odd[\"NP\"]\n",
      "del percent_even[\"NP\"]\n",
      "\n",
      "percent_even.plot(marker='o')\n",
      "percent_odd.plot(marker='o')"
     ],
     "language": "python",
     "metadata": {},
     "outputs": []
    },
    {
     "cell_type": "code",
     "collapsed": false,
     "input": [
      "professors = course_data.groupby(\"professor\")"
     ],
     "language": "python",
     "metadata": {},
     "outputs": [],
     "prompt_number": 52
    },
    {
     "cell_type": "markdown",
     "metadata": {},
     "source": [
      "The number of times that each professor has taught the course:"
     ]
    },
    {
     "cell_type": "code",
     "collapsed": false,
     "input": [
      "professors.count()[\"semester\"]"
     ],
     "language": "python",
     "metadata": {},
     "outputs": [
      {
       "metadata": {},
       "output_type": "pyout",
       "prompt_number": 53,
       "text": [
        "professor\n",
        "1             3\n",
        "2             4\n",
        "3             1\n",
        "4             7\n",
        "5             1\n",
        "6            11\n",
        "7            11\n",
        "8             3\n",
        "9             3\n",
        "10            3\n",
        "11            1\n",
        "12            3\n",
        "13            3\n",
        "14            1\n",
        "15            2\n",
        "16            1\n",
        "17            1\n",
        "18           10\n",
        "19            2\n",
        "20            2\n",
        "21            1\n",
        "22            3\n",
        "23            1\n",
        "24            2\n",
        "25            1\n",
        "26            1\n",
        "27            3\n",
        "28            3\n",
        "29            2\n",
        "30           14\n",
        "31            2\n",
        "32            6\n",
        "33            5\n",
        "34            6\n",
        "35            1\n",
        "36           16\n",
        "37            1\n",
        "38            1\n",
        "39            1\n",
        "40            1\n",
        "41           10\n",
        "42            2\n",
        "43            1\n",
        "44            5\n",
        "45            2\n",
        "46            6\n",
        "47            6\n",
        "48           10\n",
        "49            1\n",
        "50            2\n",
        "51            6\n",
        "52           15\n",
        "53            1\n",
        "Name: semester, Length: 53, dtype: int64"
       ]
      }
     ],
     "prompt_number": 53
    },
    {
     "cell_type": "code",
     "collapsed": false,
     "input": [
      "professors.count()"
     ],
     "language": "python",
     "metadata": {},
     "outputs": []
    }
   ],
   "metadata": {}
  }
 ]
}