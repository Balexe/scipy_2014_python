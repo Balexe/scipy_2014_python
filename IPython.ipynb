{
 "metadata": {
  "name": "",
  "signature": "sha256:d45c93b400acb79df0115545e46d8ed9ba007cc7b01d5f25ce7e4039035e6b9a"
 },
 "nbformat": 3,
 "nbformat_minor": 0,
 "worksheets": [
  {
   "cells": [
    {
     "cell_type": "heading",
     "level": 1,
     "metadata": {},
     "source": [
      "Starting with IPython"
     ]
    },
    {
     "cell_type": "markdown",
     "metadata": {},
     "source": [
      "The IPython Notebook provides an interactive (web-based) environment for scientific Python programming.\n",
      "\n",
      "It is based on a sequence of \"cells\" of different types, which are executed using `Shift + Enter`\n",
      "\n",
      "The basic cell types are:\n",
      "- `Markdown` (rich text; `Ctrl-m m`)\n",
      "- `Heading`s  (`Ctrl-m 1` to `6`)\n",
      "- `Code` (`Ctrl-m y`)\n",
      "\n",
      "The type of the current cell is indicated in the Cell drop-down menu.\n",
      "\n",
      "A green box, together with a pencil symbol at the top right of the page, indicates that a cell is being edited in Edit mode. Otherwise the Notebook is in Command mode. A full list of shortcut keys is available with `Ctrl-m h`. From Command mode, `Enter` is used to enter Edit mode on the current cell."
     ]
    },
    {
     "cell_type": "heading",
     "level": 2,
     "metadata": {},
     "source": [
      "Literate programming"
     ]
    },
    {
     "cell_type": "markdown",
     "metadata": {},
     "source": [
      "One of the goals of the IPython Notebook is to encourage *Literate programming*, in which code is interweaved with both explanatory text and the results of running the code, including figures.\n",
      "\n",
      "To this end, rich text cells are formatted using a markup language called Markdown, and which allows the use of equations written using LaTeX, both inline, $y=x^2$ and displayed:\n",
      "$$y = \\exp(x^2)$$"
     ]
    },
    {
     "cell_type": "heading",
     "level": 2,
     "metadata": {},
     "source": [
      "IPython internal commands (\"magic\" functions)"
     ]
    },
    {
     "cell_type": "markdown",
     "metadata": {},
     "source": [
      "IPython has a number of internal commands (also called \"magic functions\", due to their powerful nature) which begin with `%` and are entered in Code cells, for example:"
     ]
    },
    {
     "cell_type": "code",
     "collapsed": false,
     "input": [
      "%pwd"
     ],
     "language": "python",
     "metadata": {},
     "outputs": []
    },
    {
     "cell_type": "markdown",
     "metadata": {},
     "source": [
      "To obtain documentation on IPython and Python functions, use `?` before or after the command:"
     ]
    },
    {
     "cell_type": "code",
     "collapsed": false,
     "input": [
      "%pwd?"
     ],
     "language": "python",
     "metadata": {},
     "outputs": []
    },
    {
     "cell_type": "markdown",
     "metadata": {},
     "source": [
      "A list of IPython internal commands is avaiable via"
     ]
    },
    {
     "cell_type": "code",
     "collapsed": false,
     "input": [
      "%lsmagic"
     ],
     "language": "python",
     "metadata": {},
     "outputs": []
    },
    {
     "cell_type": "markdown",
     "metadata": {},
     "source": [
      "There are two types of magic functions:  line magics and cell magics.\n",
      "Line magics, written with one `%`, accept the rest of a single line as their argument, while cell magics, with `%%`, act on the rest of the cell, for example:"
     ]
    },
    {
     "cell_type": "code",
     "collapsed": false,
     "input": [
      "%%file test.txt\n",
      "The contents of this cell\n",
      "Will be written to the file test.txt"
     ],
     "language": "python",
     "metadata": {},
     "outputs": []
    },
    {
     "cell_type": "code",
     "collapsed": false,
     "input": [
      "%cat test.txt"
     ],
     "language": "python",
     "metadata": {},
     "outputs": []
    },
    {
     "cell_type": "heading",
     "level": 2,
     "metadata": {},
     "source": [
      "Code cells"
     ]
    },
    {
     "cell_type": "markdown",
     "metadata": {},
     "source": [
      "Each new cell is, by default, a Code cell, in which Python code (and IPython magic functions) may be input. When the cell is executed, any output is sent to the corresponding output cell:"
     ]
    },
    {
     "cell_type": "code",
     "collapsed": false,
     "input": [
      "3 + 4"
     ],
     "language": "python",
     "metadata": {},
     "outputs": []
    },
    {
     "cell_type": "markdown",
     "metadata": {},
     "source": [
      "Meaningful variable names are encouraged by a powerful use of the `Tab` key for completing variable and command names:"
     ]
    },
    {
     "cell_type": "code",
     "collapsed": false,
     "input": [
      "salutation = \"Hello\"\n",
      "name = \"David\"\n",
      "\n",
      "\"{} {}\".format(salutation, name)"
     ],
     "language": "python",
     "metadata": {},
     "outputs": []
    },
    {
     "cell_type": "heading",
     "level": 2,
     "metadata": {},
     "source": [
      "History"
     ]
    },
    {
     "cell_type": "markdown",
     "metadata": {},
     "source": [
      "The history of the session is stored in the Python list `In` and in a a dictionary `Out`"
     ]
    },
    {
     "cell_type": "code",
     "collapsed": false,
     "input": [
      "In"
     ],
     "language": "python",
     "metadata": {},
     "outputs": []
    },
    {
     "cell_type": "code",
     "collapsed": false,
     "input": [
      "In[10]"
     ],
     "language": "python",
     "metadata": {},
     "outputs": []
    },
    {
     "cell_type": "code",
     "collapsed": false,
     "input": [
      "exec(In[10])"
     ],
     "language": "python",
     "metadata": {},
     "outputs": []
    },
    {
     "cell_type": "code",
     "collapsed": false,
     "input": [
      "Out"
     ],
     "language": "python",
     "metadata": {},
     "outputs": []
    },
    {
     "cell_type": "code",
     "collapsed": false,
     "input": [],
     "language": "python",
     "metadata": {},
     "outputs": []
    }
   ],
   "metadata": {}
  }
 ]
}