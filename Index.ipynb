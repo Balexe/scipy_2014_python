{
 "metadata": {
  "name": "",
  "signature": "sha256:3e8bcaa075cb2fcb51a728d10a5176065bf65e1ac9f8e80a40ef1dcb07a49d52"
 },
 "nbformat": 3,
 "nbformat_minor": 0,
 "worksheets": [
  {
   "cells": [
    {
     "cell_type": "markdown",
     "metadata": {},
     "source": [
      "The main parts of the tutorial are the following notebooks, in this order:\n",
      "\n",
      "- [Starting out with SciPy](Starting out with SciPy.ipynb)\n",
      "- [Using SciPy for scientific problems](Using SciPy for scientific problems.ipynb)\n",
      "- [Symbolic computation with sympy.ipynb](Symbolic computation with sympy.ipynb)\n",
      "- [Data analysis with pandas.ipynb](Data analysis with pandas.ipynb)\n",
      "\n",
      "The first two integrate the IPython Notebook, `numpy` and `matplotlib`, as well as `scipy` (in the second)."
     ]
    },
    {
     "cell_type": "markdown",
     "metadata": {},
     "source": [
      "There are additional notebooks giving more detail about the individual packages:\n",
      "\n",
      "- [IPython](IPython.ipynb)\n",
      "- [numpy](numpy.ipynb)\n",
      "- [matplotlib](matplotlib.ipynb)"
     ]
    },
    {
     "cell_type": "markdown",
     "metadata": {},
     "source": [
      "For a more traditional introduction to each package separately, I highly recommend J.R. Johansson's [scientific Python lectures](https://github.com/jrjohansson/scientific-python-lectures)."
     ]
    }
   ],
   "metadata": {}
  }
 ]
}