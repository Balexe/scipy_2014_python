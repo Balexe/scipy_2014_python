{
 "metadata": {
  "name": ""
 },
 "nbformat": 3,
 "nbformat_minor": 0,
 "worksheets": [
  {
   "cells": [
    {
     "cell_type": "heading",
     "level": 1,
     "metadata": {},
     "source": [
      "The Lorenz system"
     ]
    },
    {
     "cell_type": "code",
     "collapsed": false,
     "input": [
      "from sympy import * # symbols, Lambda, init_printing, diff, Function, Equality, solve, Rational\n",
      "init_printing()"
     ],
     "language": "python",
     "metadata": {},
     "outputs": [],
     "prompt_number": 36
    },
    {
     "cell_type": "markdown",
     "metadata": {},
     "source": [
      "The Lorenz equations are the following set of 3 ODEs:"
     ]
    },
    {
     "cell_type": "markdown",
     "metadata": {},
     "source": [
      "\\begin{align}\n",
      "\\frac{\\mathrm{d}x}{\\mathrm{d}t} &= \\sigma (y - x), \\\\\n",
      "\\frac{\\mathrm{d}y}{\\mathrm{d}t} &= \\rho x  - y - x z \\\\\n",
      "\\frac{\\mathrm{d}z}{\\mathrm{d}t} &= x y - \\beta z.\n",
      "\\end{align}"
     ]
    },
    {
     "cell_type": "markdown",
     "metadata": {},
     "source": [
      "The classical values of the parameters are\n",
      "\n",
      "$$\\sigma = 10; \\qquad \\rho = 28; \\qquad \\beta = \\frac{8}{3}$$"
     ]
    },
    {
     "cell_type": "code",
     "collapsed": false,
     "input": [
      "x, y, z = symbols(\"x y z\")\n",
      "t = symbols(\"t\")\n",
      "sigma, rho, beta = symbols(\"sigma rho beta\")"
     ],
     "language": "python",
     "metadata": {},
     "outputs": [],
     "prompt_number": 38
    },
    {
     "cell_type": "code",
     "collapsed": false,
     "input": [
      "sigma*(y - x)"
     ],
     "language": "python",
     "metadata": {},
     "outputs": [
      {
       "latex": [
        "$$\\sigma \\left(- x + y\\right)$$"
       ],
       "metadata": {},
       "output_type": "pyout",
       "png": "[encoded data removed]",
       "prompt_number": 39,
       "text": [
        "\u03c3\u22c5(-x + y)"
       ]
      }
     ],
     "prompt_number": 39
    },
    {
     "cell_type": "code",
     "collapsed": false,
     "input": [
      "eq1 = Eq(diff(x(t), t), sigma*(-x+y))\n",
      "eq2 = Eq(diff(y(t),t), rho*x - x*z - y)\n",
      "eq3 = Eq(diff(z(t),t), -beta*x + x*y)\n",
      "[eq1, eq2, eq3]"
     ],
     "language": "python",
     "metadata": {},
     "outputs": [
      {
       "latex": [
        "$$\\left[ \\frac{d}{d t} x\\! \\! { \\left( t \\right) } = \\sigma \\left(- x + y\\right), \\, \\frac{d}{d t} y\\! \\! { \\left( t \\right) } = \\rho x - x z - y, \\, \\frac{d}{d t} z\\! \\! { \\left( t \\right) } = - \\beta x + x y \\right]$$"
       ],
       "metadata": {},
       "output_type": "pyout",
       "png": "[encoded data removed]",
       "prompt_number": 163,
       "text": [
        "\u23a1d                      d                         d                    \u23a4\n",
        "\u23a2\u2500\u2500(x(t)) = \u03c3\u22c5(-x + y), \u2500\u2500(y(t)) = \u03c1\u22c5x - x\u22c5z - y, \u2500\u2500(z(t)) = -\u03b2\u22c5x + x\u22c5y\u23a5\n",
        "\u23a3dt                     dt                        dt                   \u23a6"
       ]
      }
     ],
     "prompt_number": 163
    },
    {
     "cell_type": "code",
     "collapsed": false,
     "input": [
      "xx = Matrix([x, y, z])\n",
      "F = Lambda( xx,  Matrix([eq1.rhs, eq2.rhs, eq3.rhs]) )\n",
      "F"
     ],
     "language": "python",
     "metadata": {},
     "outputs": [
      {
       "latex": [
        "$$\\left( x, \\, y, \\, z \\right) \\mapsto \\left[\\begin{matrix}\\sigma \\left(- x + y\\right)\\\\\\rho x - x z - y\\\\- \\beta z + x y\\end{matrix}\\right]$$"
       ],
       "metadata": {},
       "output_type": "pyout",
       "png": "[encoded data removed]",
       "prompt_number": 64,
       "text": [
        "\u039b\u239b(x, y, z), \u23a1 \u03c3\u22c5(-x + y)  \u23a4\u239e\n",
        " \u239c           \u23a2             \u23a5\u239f\n",
        " \u239c           \u23a2\u03c1\u22c5x - x\u22c5z - y\u23a5\u239f\n",
        " \u239c           \u23a2             \u23a5\u239f\n",
        " \u239d           \u23a3 -\u03b2\u22c5z + x\u22c5y  \u23a6\u23a0"
       ]
      }
     ],
     "prompt_number": 64
    },
    {
     "cell_type": "code",
     "collapsed": false,
     "input": [
      "fixed_points = solve(F(x,y,z), [x, y, z])\n",
      "fixed_points"
     ],
     "language": "python",
     "metadata": {},
     "outputs": [
      {
       "latex": [
        "$$\\left[ \\left( 0, \\, 0, \\, 0 \\right), \\, \\left( - \\sqrt{\\beta \\rho - \\beta}, \\, - \\sqrt{\\beta \\left(\\rho - 1\\right)}, \\, \\rho - 1 \\right), \\, \\left( \\sqrt{\\beta \\rho - \\beta}, \\, \\sqrt{\\beta \\left(\\rho - 1\\right)}, \\, \\rho - 1 \\right) \\right]$$"
       ],
       "metadata": {},
       "output_type": "pyout",
       "png": "[encoded data removed]",
       "prompt_number": 71,
       "text": [
        "\u23a1           \u239b   _________     ___________       \u239e  \u239b  _________    ___________\n",
        "\u23a3(0, 0, 0), \u239d-\u2572\u2571 \u03b2\u22c5\u03c1 - \u03b2 , -\u2572\u2571 \u03b2\u22c5(\u03c1 - 1) , \u03c1 - 1\u23a0, \u239d\u2572\u2571 \u03b2\u22c5\u03c1 - \u03b2 , \u2572\u2571 \u03b2\u22c5(\u03c1 - 1) \n",
        "\n",
        "       \u239e\u23a4\n",
        ", \u03c1 - 1\u23a0\u23a6"
       ]
      }
     ],
     "prompt_number": 71
    },
    {
     "cell_type": "code",
     "collapsed": false,
     "input": [
      "J = Lambda(xx, F(x, y, z).jacobian([x, y, z]))\n",
      "J"
     ],
     "language": "python",
     "metadata": {},
     "outputs": [
      {
       "latex": [
        "$$\\left( x, \\, y, \\, z \\right) \\mapsto \\left[\\begin{matrix}- \\sigma & \\sigma & 0\\\\\\rho - z & -1 & - x\\\\y & x & - \\beta\\end{matrix}\\right]$$"
       ],
       "metadata": {},
       "output_type": "pyout",
       "png": "[encoded data removed]",
       "prompt_number": 85,
       "text": [
        "\u039b\u239b(x, y, z), \u23a1 -\u03c3    \u03c3   0 \u23a4\u239e\n",
        " \u239c           \u23a2             \u23a5\u239f\n",
        " \u239c           \u23a2\u03c1 - z  -1  -x\u23a5\u239f\n",
        " \u239c           \u23a2             \u23a5\u239f\n",
        " \u239d           \u23a3  y    x   -\u03b2\u23a6\u23a0"
       ]
      }
     ],
     "prompt_number": 85
    },
    {
     "cell_type": "code",
     "collapsed": false,
     "input": [
      "standard_params = {sigma:10, rho:28, beta:Rational(8,3)}\n",
      "standard_params"
     ],
     "language": "python",
     "metadata": {},
     "outputs": [
      {
       "latex": [
        "$$\\begin{Bmatrix}\\beta : \\frac{8}{3}, & \\rho : 28, & \\sigma : 10\\end{Bmatrix}$$"
       ],
       "metadata": {},
       "output_type": "pyout",
       "png": "[encoded data removed]",
       "prompt_number": 130,
       "text": [
        "{\u03b2: 8/3, \u03c1: 28, \u03c3: 10}"
       ]
      }
     ],
     "prompt_number": 130
    },
    {
     "cell_type": "code",
     "collapsed": false,
     "input": [
      "fps = [Matrix(fp) for fp in fixed_points]\n",
      "fps"
     ],
     "language": "python",
     "metadata": {},
     "outputs": [
      {
       "latex": [
        "$$\\left[ \\left[\\begin{matrix}0\\\\0\\\\0\\end{matrix}\\right], \\, \\left[\\begin{matrix}- \\sqrt{\\beta \\rho - \\beta}\\\\- \\sqrt{\\beta \\left(\\rho - 1\\right)}\\\\\\rho - 1\\end{matrix}\\right], \\, \\left[\\begin{matrix}\\sqrt{\\beta \\rho - \\beta}\\\\\\sqrt{\\beta \\left(\\rho - 1\\right)}\\\\\\rho - 1\\end{matrix}\\right] \\right]$$"
       ],
       "metadata": {},
       "output_type": "pyout",
       "png": "[encoded data removed]",
       "prompt_number": 108,
       "text": [
        "\u23a1     \u23a1    _________ \u23a4  \u23a1   _________ \u23a4\u23a4\n",
        "\u23a2\u23a10\u23a4, \u23a2 -\u2572\u2571 \u03b2\u22c5\u03c1 - \u03b2  \u23a5, \u23a2 \u2572\u2571 \u03b2\u22c5\u03c1 - \u03b2  \u23a5\u23a5\n",
        "\u23a2\u23a2 \u23a5  \u23a2              \u23a5  \u23a2             \u23a5\u23a5\n",
        "\u23a2\u23a20\u23a5  \u23a2   ___________\u23a5  \u23a2  ___________\u23a5\u23a5\n",
        "\u23a2\u23a2 \u23a5  \u23a2-\u2572\u2571 \u03b2\u22c5(\u03c1 - 1) \u23a5  \u23a2\u2572\u2571 \u03b2\u22c5(\u03c1 - 1) \u23a5\u23a5\n",
        "\u23a2\u23a30\u23a6  \u23a2              \u23a5  \u23a2             \u23a5\u23a5\n",
        "\u23a3     \u23a3    \u03c1 - 1     \u23a6  \u23a3    \u03c1 - 1    \u23a6\u23a6"
       ]
      }
     ],
     "prompt_number": 108
    },
    {
     "cell_type": "code",
     "collapsed": false,
     "input": [
      "from sympy.matrices import *"
     ],
     "language": "python",
     "metadata": {},
     "outputs": [],
     "prompt_number": 103
    },
    {
     "cell_type": "code",
     "collapsed": false,
     "input": [
      "stability_matrices = [ J(*fp) for fp in fps ]\n",
      "stability_matrices"
     ],
     "language": "python",
     "metadata": {},
     "outputs": [
      {
       "latex": [
        "$$\\left[ \\left[\\begin{matrix}- \\sigma & \\sigma & 0\\\\\\rho & -1 & 0\\\\0 & 0 & - \\beta\\end{matrix}\\right], \\, \\left[\\begin{matrix}- \\sigma & \\sigma & 0\\\\1 & -1 & \\sqrt{\\beta \\rho - \\beta}\\\\- \\sqrt{\\beta \\left(\\rho - 1\\right)} & - \\sqrt{\\beta \\rho - \\beta} & - \\beta\\end{matrix}\\right], \\, \\left[\\begin{matrix}- \\sigma & \\sigma & 0\\\\1 & -1 & - \\sqrt{\\beta \\rho - \\beta}\\\\\\sqrt{\\beta \\left(\\rho - 1\\right)} & \\sqrt{\\beta \\rho - \\beta} & - \\beta\\end{matrix}\\right] \\right]$$"
       ],
       "metadata": {},
       "output_type": "pyout",
       "png": "[encoded data removed]",
       "prompt_number": 109,
       "text": [
        "\u23a1\u23a1-\u03c3  \u03c3   0 \u23a4, \u23a1      -\u03c3             \u03c3             0     \u23a4, \u23a1     -\u03c3          \n",
        "\u23a2\u23a2          \u23a5  \u23a2                                         \u23a5  \u23a2                 \n",
        "\u23a2\u23a2\u03c1   -1  0 \u23a5  \u23a2                                _________\u23a5  \u23a2                 \n",
        "\u23a2\u23a2          \u23a5  \u23a2      1              -1       \u2572\u2571 \u03b2\u22c5\u03c1 - \u03b2 \u23a5  \u23a2      1          \n",
        "\u23a2\u23a30   0   -\u03b2\u23a6  \u23a2                                         \u23a5  \u23a2                 \n",
        "\u23a2              \u23a2   ___________     _________             \u23a5  \u23a2  ___________    \n",
        "\u23a3              \u23a3-\u2572\u2571 \u03b2\u22c5(\u03c1 - 1)   -\u2572\u2571 \u03b2\u22c5\u03c1 - \u03b2       -\u03b2     \u23a6  \u23a3\u2572\u2571 \u03b2\u22c5(\u03c1 - 1)   \u2572\u2571\n",
        "\n",
        "   \u03c3            0      \u23a4\u23a4\n",
        "                       \u23a5\u23a5\n",
        "              _________\u23a5\u23a5\n",
        "  -1       -\u2572\u2571 \u03b2\u22c5\u03c1 - \u03b2 \u23a5\u23a5\n",
        "                       \u23a5\u23a5\n",
        "_________              \u23a5\u23a5\n",
        " \u03b2\u22c5\u03c1 - \u03b2        -\u03b2     \u23a6\u23a6"
       ]
      }
     ],
     "prompt_number": 109
    },
    {
     "cell_type": "code",
     "collapsed": false,
     "input": [
      "stability_eigenvals = [M.eigenvals() for M in stability_matrices]"
     ],
     "language": "python",
     "metadata": {},
     "outputs": [],
     "prompt_number": 115
    },
    {
     "cell_type": "code",
     "collapsed": false,
     "input": [
      "stability_eigenvals"
     ],
     "language": "python",
     "metadata": {},
     "outputs": [
      {
       "latex": [
        "$$\\left[ \\begin{Bmatrix}- \\beta : 1, & - \\frac{\\sigma}{2} - \\frac{1}{2} \\sqrt{4 \\rho \\sigma + \\sigma^{2} - 2 \\sigma + 1} - \\frac{1}{2} : 1, & - \\frac{\\sigma}{2} + \\frac{1}{2} \\sqrt{4 \\rho \\sigma + \\sigma^{2} - 2 \\sigma + 1} - \\frac{1}{2} : 1\\end{Bmatrix}, \\, \\begin{Bmatrix}- \\frac{\\beta}{3} - \\frac{\\sigma}{3} + \\frac{\\frac{\\beta \\rho}{3} + \\frac{\\beta \\sigma}{3} - \\frac{1}{9} \\left(\\beta + \\sigma + 1\\right)^{2}}{\\sqrt[3]{\\beta \\rho \\sigma - \\beta \\sigma - \\frac{1}{6} \\left(\\beta \\rho + \\beta \\sigma\\right) \\left(\\beta + \\sigma + 1\\right) + \\sqrt{\\left(\\frac{\\beta \\rho}{3} + \\frac{\\beta \\sigma}{3} - \\frac{1}{9} \\left(\\beta + \\sigma + 1\\right)^{2}\\right)^{3} + \\frac{1}{4} \\left(2 \\beta \\rho \\sigma - 2 \\beta \\sigma - \\frac{1}{3} \\left(\\beta \\rho + \\beta \\sigma\\right) \\left(\\beta + \\sigma + 1\\right) + \\frac{2}{27} \\left(\\beta + \\sigma + 1\\right)^{3}\\right)^{2}} + \\frac{1}{27} \\left(\\beta + \\sigma + 1\\right)^{3}}} - \\sqrt[3]{\\beta \\rho \\sigma - \\beta \\sigma - \\frac{1}{6} \\left(\\beta \\rho + \\beta \\sigma\\right) \\left(\\beta + \\sigma + 1\\right) + \\sqrt{\\left(\\frac{\\beta \\rho}{3} + \\frac{\\beta \\sigma}{3} - \\frac{1}{9} \\left(\\beta + \\sigma + 1\\right)^{2}\\right)^{3} + \\frac{1}{4} \\left(2 \\beta \\rho \\sigma - 2 \\beta \\sigma - \\frac{1}{3} \\left(\\beta \\rho + \\beta \\sigma\\right) \\left(\\beta + \\sigma + 1\\right) + \\frac{2}{27} \\left(\\beta + \\sigma + 1\\right)^{3}\\right)^{2}} + \\frac{1}{27} \\left(\\beta + \\sigma + 1\\right)^{3}} - \\frac{1}{3} : 1, & - \\frac{\\beta}{3} - \\frac{\\sigma}{3} + \\frac{\\frac{\\beta \\rho}{3} + \\frac{\\beta \\sigma}{3} - \\frac{1}{9} \\left(\\beta + \\sigma + 1\\right)^{2}}{\\left(- \\frac{1}{2} - \\frac{\\sqrt{3} i}{2}\\right) \\sqrt[3]{\\beta \\rho \\sigma - \\beta \\sigma - \\frac{1}{6} \\left(\\beta \\rho + \\beta \\sigma\\right) \\left(\\beta + \\sigma + 1\\right) + \\sqrt{\\left(\\frac{\\beta \\rho}{3} + \\frac{\\beta \\sigma}{3} - \\frac{1}{9} \\left(\\beta + \\sigma + 1\\right)^{2}\\right)^{3} + \\frac{1}{4} \\left(2 \\beta \\rho \\sigma - 2 \\beta \\sigma - \\frac{1}{3} \\left(\\beta \\rho + \\beta \\sigma\\right) \\left(\\beta + \\sigma + 1\\right) + \\frac{2}{27} \\left(\\beta + \\sigma + 1\\right)^{3}\\right)^{2}} + \\frac{1}{27} \\left(\\beta + \\sigma + 1\\right)^{3}}} - \\left(- \\frac{1}{2} - \\frac{\\sqrt{3} i}{2}\\right) \\sqrt[3]{\\beta \\rho \\sigma - \\beta \\sigma - \\frac{1}{6} \\left(\\beta \\rho + \\beta \\sigma\\right) \\left(\\beta + \\sigma + 1\\right) + \\sqrt{\\left(\\frac{\\beta \\rho}{3} + \\frac{\\beta \\sigma}{3} - \\frac{1}{9} \\left(\\beta + \\sigma + 1\\right)^{2}\\right)^{3} + \\frac{1}{4} \\left(2 \\beta \\rho \\sigma - 2 \\beta \\sigma - \\frac{1}{3} \\left(\\beta \\rho + \\beta \\sigma\\right) \\left(\\beta + \\sigma + 1\\right) + \\frac{2}{27} \\left(\\beta + \\sigma + 1\\right)^{3}\\right)^{2}} + \\frac{1}{27} \\left(\\beta + \\sigma + 1\\right)^{3}} - \\frac{1}{3} : 1, & - \\frac{\\beta}{3} - \\frac{\\sigma}{3} + \\frac{\\frac{\\beta \\rho}{3} + \\frac{\\beta \\sigma}{3} - \\frac{1}{9} \\left(\\beta + \\sigma + 1\\right)^{2}}{\\left(- \\frac{1}{2} + \\frac{\\sqrt{3} i}{2}\\right) \\sqrt[3]{\\beta \\rho \\sigma - \\beta \\sigma - \\frac{1}{6} \\left(\\beta \\rho + \\beta \\sigma\\right) \\left(\\beta + \\sigma + 1\\right) + \\sqrt{\\left(\\frac{\\beta \\rho}{3} + \\frac{\\beta \\sigma}{3} - \\frac{1}{9} \\left(\\beta + \\sigma + 1\\right)^{2}\\right)^{3} + \\frac{1}{4} \\left(2 \\beta \\rho \\sigma - 2 \\beta \\sigma - \\frac{1}{3} \\left(\\beta \\rho + \\beta \\sigma\\right) \\left(\\beta + \\sigma + 1\\right) + \\frac{2}{27} \\left(\\beta + \\sigma + 1\\right)^{3}\\right)^{2}} + \\frac{1}{27} \\left(\\beta + \\sigma + 1\\right)^{3}}} - \\left(- \\frac{1}{2} + \\frac{\\sqrt{3} i}{2}\\right) \\sqrt[3]{\\beta \\rho \\sigma - \\beta \\sigma - \\frac{1}{6} \\left(\\beta \\rho + \\beta \\sigma\\right) \\left(\\beta + \\sigma + 1\\right) + \\sqrt{\\left(\\frac{\\beta \\rho}{3} + \\frac{\\beta \\sigma}{3} - \\frac{1}{9} \\left(\\beta + \\sigma + 1\\right)^{2}\\right)^{3} + \\frac{1}{4} \\left(2 \\beta \\rho \\sigma - 2 \\beta \\sigma - \\frac{1}{3} \\left(\\beta \\rho + \\beta \\sigma\\right) \\left(\\beta + \\sigma + 1\\right) + \\frac{2}{27} \\left(\\beta + \\sigma + 1\\right)^{3}\\right)^{2}} + \\frac{1}{27} \\left(\\beta + \\sigma + 1\\right)^{3}} - \\frac{1}{3} : 1\\end{Bmatrix}, \\, \\begin{Bmatrix}- \\frac{\\beta}{3} - \\frac{\\sigma}{3} + \\frac{\\frac{\\beta \\rho}{3} + \\frac{\\beta \\sigma}{3} - \\frac{1}{9} \\left(\\beta + \\sigma + 1\\right)^{2}}{\\sqrt[3]{\\beta \\rho \\sigma - \\beta \\sigma - \\frac{1}{6} \\left(\\beta \\rho + \\beta \\sigma\\right) \\left(\\beta + \\sigma + 1\\right) + \\sqrt{\\left(\\frac{\\beta \\rho}{3} + \\frac{\\beta \\sigma}{3} - \\frac{1}{9} \\left(\\beta + \\sigma + 1\\right)^{2}\\right)^{3} + \\frac{1}{4} \\left(2 \\beta \\rho \\sigma - 2 \\beta \\sigma - \\frac{1}{3} \\left(\\beta \\rho + \\beta \\sigma\\right) \\left(\\beta + \\sigma + 1\\right) + \\frac{2}{27} \\left(\\beta + \\sigma + 1\\right)^{3}\\right)^{2}} + \\frac{1}{27} \\left(\\beta + \\sigma + 1\\right)^{3}}} - \\sqrt[3]{\\beta \\rho \\sigma - \\beta \\sigma - \\frac{1}{6} \\left(\\beta \\rho + \\beta \\sigma\\right) \\left(\\beta + \\sigma + 1\\right) + \\sqrt{\\left(\\frac{\\beta \\rho}{3} + \\frac{\\beta \\sigma}{3} - \\frac{1}{9} \\left(\\beta + \\sigma + 1\\right)^{2}\\right)^{3} + \\frac{1}{4} \\left(2 \\beta \\rho \\sigma - 2 \\beta \\sigma - \\frac{1}{3} \\left(\\beta \\rho + \\beta \\sigma\\right) \\left(\\beta + \\sigma + 1\\right) + \\frac{2}{27} \\left(\\beta + \\sigma + 1\\right)^{3}\\right)^{2}} + \\frac{1}{27} \\left(\\beta + \\sigma + 1\\right)^{3}} - \\frac{1}{3} : 1, & - \\frac{\\beta}{3} - \\frac{\\sigma}{3} + \\frac{\\frac{\\beta \\rho}{3} + \\frac{\\beta \\sigma}{3} - \\frac{1}{9} \\left(\\beta + \\sigma + 1\\right)^{2}}{\\left(- \\frac{1}{2} - \\frac{\\sqrt{3} i}{2}\\right) \\sqrt[3]{\\beta \\rho \\sigma - \\beta \\sigma - \\frac{1}{6} \\left(\\beta \\rho + \\beta \\sigma\\right) \\left(\\beta + \\sigma + 1\\right) + \\sqrt{\\left(\\frac{\\beta \\rho}{3} + \\frac{\\beta \\sigma}{3} - \\frac{1}{9} \\left(\\beta + \\sigma + 1\\right)^{2}\\right)^{3} + \\frac{1}{4} \\left(2 \\beta \\rho \\sigma - 2 \\beta \\sigma - \\frac{1}{3} \\left(\\beta \\rho + \\beta \\sigma\\right) \\left(\\beta + \\sigma + 1\\right) + \\frac{2}{27} \\left(\\beta + \\sigma + 1\\right)^{3}\\right)^{2}} + \\frac{1}{27} \\left(\\beta + \\sigma + 1\\right)^{3}}} - \\left(- \\frac{1}{2} - \\frac{\\sqrt{3} i}{2}\\right) \\sqrt[3]{\\beta \\rho \\sigma - \\beta \\sigma - \\frac{1}{6} \\left(\\beta \\rho + \\beta \\sigma\\right) \\left(\\beta + \\sigma + 1\\right) + \\sqrt{\\left(\\frac{\\beta \\rho}{3} + \\frac{\\beta \\sigma}{3} - \\frac{1}{9} \\left(\\beta + \\sigma + 1\\right)^{2}\\right)^{3} + \\frac{1}{4} \\left(2 \\beta \\rho \\sigma - 2 \\beta \\sigma - \\frac{1}{3} \\left(\\beta \\rho + \\beta \\sigma\\right) \\left(\\beta + \\sigma + 1\\right) + \\frac{2}{27} \\left(\\beta + \\sigma + 1\\right)^{3}\\right)^{2}} + \\frac{1}{27} \\left(\\beta + \\sigma + 1\\right)^{3}} - \\frac{1}{3} : 1, & - \\frac{\\beta}{3} - \\frac{\\sigma}{3} + \\frac{\\frac{\\beta \\rho}{3} + \\frac{\\beta \\sigma}{3} - \\frac{1}{9} \\left(\\beta + \\sigma + 1\\right)^{2}}{\\left(- \\frac{1}{2} + \\frac{\\sqrt{3} i}{2}\\right) \\sqrt[3]{\\beta \\rho \\sigma - \\beta \\sigma - \\frac{1}{6} \\left(\\beta \\rho + \\beta \\sigma\\right) \\left(\\beta + \\sigma + 1\\right) + \\sqrt{\\left(\\frac{\\beta \\rho}{3} + \\frac{\\beta \\sigma}{3} - \\frac{1}{9} \\left(\\beta + \\sigma + 1\\right)^{2}\\right)^{3} + \\frac{1}{4} \\left(2 \\beta \\rho \\sigma - 2 \\beta \\sigma - \\frac{1}{3} \\left(\\beta \\rho + \\beta \\sigma\\right) \\left(\\beta + \\sigma + 1\\right) + \\frac{2}{27} \\left(\\beta + \\sigma + 1\\right)^{3}\\right)^{2}} + \\frac{1}{27} \\left(\\beta + \\sigma + 1\\right)^{3}}} - \\left(- \\frac{1}{2} + \\frac{\\sqrt{3} i}{2}\\right) \\sqrt[3]{\\beta \\rho \\sigma - \\beta \\sigma - \\frac{1}{6} \\left(\\beta \\rho + \\beta \\sigma\\right) \\left(\\beta + \\sigma + 1\\right) + \\sqrt{\\left(\\frac{\\beta \\rho}{3} + \\frac{\\beta \\sigma}{3} - \\frac{1}{9} \\left(\\beta + \\sigma + 1\\right)^{2}\\right)^{3} + \\frac{1}{4} \\left(2 \\beta \\rho \\sigma - 2 \\beta \\sigma - \\frac{1}{3} \\left(\\beta \\rho + \\beta \\sigma\\right) \\left(\\beta + \\sigma + 1\\right) + \\frac{2}{27} \\left(\\beta + \\sigma + 1\\right)^{3}\\right)^{2}} + \\frac{1}{27} \\left(\\beta + \\sigma + 1\\right)^{3}} - \\frac{1}{3} : 1\\end{Bmatrix} \\right]$$"
       ],
       "metadata": {},
       "output_type": "pyout",
       "png": "[encoded data removed]",
       "prompt_number": 116,
       "text": [
        "\u23a1                                                                             \n",
        "\u23a2                                                                             \n",
        "\u23a2                                                                             \n",
        "\u23a2                                                                             \n",
        "\u23a2\u23a7                ______________________                  ____________________\n",
        "\u23a2\u23aa               \u2571          2                            \u2571          2         \n",
        "\u23a2\u23a8         \u03c3   \u2572\u2571  4\u22c5\u03c1\u22c5\u03c3 + \u03c3  - 2\u22c5\u03c3 + 1    1       \u03c3   \u2572\u2571  4\u22c5\u03c1\u22c5\u03c3 + \u03c3  - 2\u22c5\u03c3 + \n",
        "\u23a2\u23aa-\u03b2: 1, - \u2500 - \u2500\u2500\u2500\u2500\u2500\u2500\u2500\u2500\u2500\u2500\u2500\u2500\u2500\u2500\u2500\u2500\u2500\u2500\u2500\u2500\u2500\u2500\u2500\u2500\u2500 - \u2500: 1, - \u2500 + \u2500\u2500\u2500\u2500\u2500\u2500\u2500\u2500\u2500\u2500\u2500\u2500\u2500\u2500\u2500\u2500\u2500\u2500\u2500\u2500\u2500\u2500\u2500\n",
        "\u23a2\u23a9         2               2               2       2               2          \n",
        "\u23a2                                                                             \n",
        "\u23a2                                                                             \n",
        "\u23a2                                                                             \n",
        "\u23a2                                                                             \n",
        "\u23a2                                                                             \n",
        "\u23a2                                                                             \n",
        "\u23a2                                                                             \n",
        "\u23a3                                                                             \n",
        "\n",
        "            \u23a7                                                                 \n",
        "            \u23aa                                                                 \n",
        "            \u23aa                                                                 \n",
        "            \u23aa                                                                 \n",
        "__       \u23ab  \u23aa                                                                 \n",
        "         \u23aa  \u23aa                                                                 \n",
        "1    1   \u23ac  \u23aa  \u03b2   \u03c3                                                          \n",
        "\u2500\u2500 - \u2500: 1\u23aa, \u23aa- \u2500 - \u2500 + \u2500\u2500\u2500\u2500\u2500\u2500\u2500\u2500\u2500\u2500\u2500\u2500\u2500\u2500\u2500\u2500\u2500\u2500\u2500\u2500\u2500\u2500\u2500\u2500\u2500\u2500\u2500\u2500\u2500\u2500\u2500\u2500\u2500\u2500\u2500\u2500\u2500\u2500\u2500\u2500\u2500\u2500\u2500\u2500\u2500\u2500\u2500\u2500\u2500\u2500\u2500\u2500\u2500\u2500\u2500\n",
        "     2   \u23ad  \u23a8  3   3            ______________________________________________\n",
        "            \u23aa                  \u2571                                              \n",
        "            \u23aa                 \u2571                                               \n",
        "            \u23aa                \u2571                                                \n",
        "            \u23aa               \u2571                                                 \n",
        "            \u23aa              \u2571                                                 \u2571\n",
        "            \u23aa             \u2571                    (\u03b2\u22c5\u03c1 + \u03b2\u22c5\u03c3)\u22c5(\u03b2 + \u03c3 + 1)      \u2571 \n",
        "            \u23aa          3 \u2571       \u03b2\u22c5\u03c1\u22c5\u03c3 - \u03b2\u22c5\u03c3 - \u2500\u2500\u2500\u2500\u2500\u2500\u2500\u2500\u2500\u2500\u2500\u2500\u2500\u2500\u2500\u2500\u2500\u2500\u2500\u2500\u2500\u2500\u2500 +   \u2571  \n",
        "            \u23a9          \u2572\u2571                                 6              \u2572\u2571   \n",
        "\n",
        "                                                                              \n",
        "                                                                              \n",
        "                                                                              \n",
        "                                        2                                     \n",
        "                 \u03b2\u22c5\u03c1   \u03b2\u22c5\u03c3   (\u03b2 + \u03c3 + 1)                                      \n",
        "                 \u2500\u2500\u2500 + \u2500\u2500\u2500 - \u2500\u2500\u2500\u2500\u2500\u2500\u2500\u2500\u2500\u2500\u2500\u2500                                     \n",
        "                  3     3         9                                           \n",
        "\u2500\u2500\u2500\u2500\u2500\u2500\u2500\u2500\u2500\u2500\u2500\u2500\u2500\u2500\u2500\u2500\u2500\u2500\u2500\u2500\u2500\u2500\u2500\u2500\u2500\u2500\u2500\u2500\u2500\u2500\u2500\u2500\u2500\u2500\u2500\u2500\u2500\u2500\u2500\u2500\u2500\u2500\u2500\u2500\u2500\u2500\u2500\u2500\u2500\u2500\u2500\u2500\u2500\u2500\u2500\u2500\u2500\u2500\u2500\u2500\u2500\u2500\u2500\u2500\u2500\u2500\u2500\u2500\u2500\u2500\u2500\u2500\u2500\u2500\u2500\u2500\u2500\u2500\n",
        "______________________________________________________________________________\n",
        "   ___________________________________________________________________________\n",
        "  \u2571                                                                           \n",
        " \u2571                                \u239b                                           \n",
        "\u2571                             3   \u239c                  (\u03b2\u22c5\u03c1 + \u03b2\u22c5\u03c3)\u22c5(\u03b2 + \u03c3 + 1)  \n",
        "    \u239b                       2\u239e    \u239c2\u22c5\u03b2\u22c5\u03c1\u22c5\u03c3 - 2\u22c5\u03b2\u22c5\u03c3 - \u2500\u2500\u2500\u2500\u2500\u2500\u2500\u2500\u2500\u2500\u2500\u2500\u2500\u2500\u2500\u2500\u2500\u2500\u2500\u2500\u2500\u2500\u2500 +\n",
        "    \u239c\u03b2\u22c5\u03c1   \u03b2\u22c5\u03c3   (\u03b2 + \u03c3 + 1) \u239f    \u239d                             3             \n",
        "    \u239c\u2500\u2500\u2500 + \u2500\u2500\u2500 - \u2500\u2500\u2500\u2500\u2500\u2500\u2500\u2500\u2500\u2500\u2500\u2500\u239f  + \u2500\u2500\u2500\u2500\u2500\u2500\u2500\u2500\u2500\u2500\u2500\u2500\u2500\u2500\u2500\u2500\u2500\u2500\u2500\u2500\u2500\u2500\u2500\u2500\u2500\u2500\u2500\u2500\u2500\u2500\u2500\u2500\u2500\u2500\u2500\u2500\u2500\u2500\u2500\u2500\u2500\u2500\u2500\u2500\n",
        "    \u239d 3     3         9      \u23a0                                  4             \n",
        "\n",
        "                                              ________________________________\n",
        "                                             \u2571                                \n",
        "                                            \u2571                                 \n",
        "                                           \u2571                                  \n",
        "                                          \u2571                                   \n",
        "                                         \u2571                                    \n",
        "                                        \u2571                    (\u03b2\u22c5\u03c1 + \u03b2\u22c5\u03c3)\u22c5(\u03b2 + \n",
        "\u2500\u2500\u2500\u2500\u2500\u2500\u2500\u2500\u2500\u2500\u2500\u2500\u2500\u2500\u2500\u2500\u2500\u2500\u2500\u2500\u2500\u2500\u2500\u2500\u2500\u2500\u2500\u2500\u2500\u2500\u2500\u2500\u2500\u2500 - 3 \u2571       \u03b2\u22c5\u03c1\u22c5\u03c3 - \u03b2\u22c5\u03c3 - \u2500\u2500\u2500\u2500\u2500\u2500\u2500\u2500\u2500\u2500\u2500\u2500\u2500\u2500\u2500\u2500\u2500\n",
        "__________________________________   \u2572\u2571                                 6     \n",
        "__________________                                                            \n",
        "                2                                                             \n",
        "              3\u239e                                                              \n",
        " 2\u22c5(\u03b2 + \u03c3 + 1) \u239f                                                              \n",
        " \u2500\u2500\u2500\u2500\u2500\u2500\u2500\u2500\u2500\u2500\u2500\u2500\u2500\u2500\u239f                3                                             \n",
        "       27      \u23a0     (\u03b2 + \u03c3 + 1)                                              \n",
        "\u2500\u2500\u2500\u2500\u2500\u2500\u2500\u2500\u2500\u2500\u2500\u2500\u2500\u2500\u2500\u2500\u2500  + \u2500\u2500\u2500\u2500\u2500\u2500\u2500\u2500\u2500\u2500\u2500\u2500                                             \n",
        "                          27                                                  \n",
        "\n",
        "______________________________________________________________________________\n",
        "                 _____________________________________________________________\n",
        "                \u2571                                                             \n",
        "               \u2571                                \u239b                             \n",
        "              \u2571                             3   \u239c                  (\u03b2\u22c5\u03c1 + \u03b2\u22c5\u03c3)\n",
        "             \u2571    \u239b                       2\u239e    \u239c2\u22c5\u03b2\u22c5\u03c1\u22c5\u03c3 - 2\u22c5\u03b2\u22c5\u03c3 - \u2500\u2500\u2500\u2500\u2500\u2500\u2500\u2500\u2500\u2500\u2500\n",
        "\u03c3 + 1)      \u2571     \u239c\u03b2\u22c5\u03c1   \u03b2\u22c5\u03c3   (\u03b2 + \u03c3 + 1) \u239f    \u239d                             \n",
        "\u2500\u2500\u2500\u2500\u2500\u2500 +   \u2571      \u239c\u2500\u2500\u2500 + \u2500\u2500\u2500 - \u2500\u2500\u2500\u2500\u2500\u2500\u2500\u2500\u2500\u2500\u2500\u2500\u239f  + \u2500\u2500\u2500\u2500\u2500\u2500\u2500\u2500\u2500\u2500\u2500\u2500\u2500\u2500\u2500\u2500\u2500\u2500\u2500\u2500\u2500\u2500\u2500\u2500\u2500\u2500\u2500\u2500\u2500\u2500\n",
        "         \u2572\u2571       \u239d 3     3         9      \u23a0                                  \n",
        "                                                                              \n",
        "                                                                              \n",
        "                                                                              \n",
        "                                                                              \n",
        "                                                                              \n",
        "                                                                              \n",
        "                                                                              \n",
        "                                                                              \n",
        "\n",
        "________________________________________________                              \n",
        "________________________________                                              \n",
        "                              2                                               \n",
        "                            3\u239e                                                \n",
        "\u22c5(\u03b2 + \u03c3 + 1)   2\u22c5(\u03b2 + \u03c3 + 1) \u239f                                                \n",
        "\u2500\u2500\u2500\u2500\u2500\u2500\u2500\u2500\u2500\u2500\u2500\u2500 + \u2500\u2500\u2500\u2500\u2500\u2500\u2500\u2500\u2500\u2500\u2500\u2500\u2500\u2500\u239f                3                               \n",
        "3                    27      \u23a0     (\u03b2 + \u03c3 + 1)     1       \u03b2   \u03c3              \n",
        "\u2500\u2500\u2500\u2500\u2500\u2500\u2500\u2500\u2500\u2500\u2500\u2500\u2500\u2500\u2500\u2500\u2500\u2500\u2500\u2500\u2500\u2500\u2500\u2500\u2500\u2500\u2500\u2500\u2500\u2500\u2500  + \u2500\u2500\u2500\u2500\u2500\u2500\u2500\u2500\u2500\u2500\u2500\u2500  - \u2500: 1, - \u2500 - \u2500 + \u2500\u2500\u2500\u2500\u2500\u2500\u2500\u2500\u2500\u2500\u2500\n",
        "4                                       27         3       3   3              \n",
        "                                                                              \n",
        "                                                                              \n",
        "                                                                              \n",
        "                                                                              \n",
        "                                                                   \u239b        __\n",
        "                                                                   \u239c  1   \u2572\u2571 3\n",
        "                                                                   \u239c- \u2500 - \u2500\u2500\u2500\u2500\n",
        "                                                                   \u239d  2      2\n",
        "\n",
        "                                                                              \n",
        "                                                                              \n",
        "                                                                              \n",
        "                                                                              \n",
        "                                                                     \u03b2\u22c5\u03c1   \u03b2\u22c5\u03c3\n",
        "                                                                     \u2500\u2500\u2500 + \u2500\u2500\u2500\n",
        "                                                                      3     3 \n",
        "\u2500\u2500\u2500\u2500\u2500\u2500\u2500\u2500\u2500\u2500\u2500\u2500\u2500\u2500\u2500\u2500\u2500\u2500\u2500\u2500\u2500\u2500\u2500\u2500\u2500\u2500\u2500\u2500\u2500\u2500\u2500\u2500\u2500\u2500\u2500\u2500\u2500\u2500\u2500\u2500\u2500\u2500\u2500\u2500\u2500\u2500\u2500\u2500\u2500\u2500\u2500\u2500\u2500\u2500\u2500\u2500\u2500\u2500\u2500\u2500\u2500\u2500\u2500\u2500\u2500\u2500\u2500\u2500\u2500\u2500\u2500\u2500\u2500\u2500\u2500\u2500\u2500\u2500\n",
        "              ________________________________________________________________\n",
        "             \u2571                                                 _______________\n",
        "            \u2571                                                 \u2571               \n",
        "           \u2571                                                 \u2571                \n",
        "          \u2571                                                 \u2571                 \n",
        "_  \u239e     \u2571                                                 \u2571    \u239b             \n",
        " \u22c5\u2148\u239f    \u2571                    (\u03b2\u22c5\u03c1 + \u03b2\u22c5\u03c3)\u22c5(\u03b2 + \u03c3 + 1)      \u2571     \u239c\u03b2\u22c5\u03c1   \u03b2\u22c5\u03c3   (\n",
        "\u2500\u2500\u2500\u239f\u22c53 \u2571       \u03b2\u22c5\u03c1\u22c5\u03c3 - \u03b2\u22c5\u03c3 - \u2500\u2500\u2500\u2500\u2500\u2500\u2500\u2500\u2500\u2500\u2500\u2500\u2500\u2500\u2500\u2500\u2500\u2500\u2500\u2500\u2500\u2500\u2500 +   \u2571      \u239c\u2500\u2500\u2500 + \u2500\u2500\u2500 - \u2500\n",
        "   \u23a0 \u2572\u2571                                 6              \u2572\u2571       \u239d 3     3     \n",
        "\n",
        "                                                                              \n",
        "                                                                              \n",
        "                                                                              \n",
        "              2                                                               \n",
        "   (\u03b2 + \u03c3 + 1)                                                                \n",
        " - \u2500\u2500\u2500\u2500\u2500\u2500\u2500\u2500\u2500\u2500\u2500\u2500                                                               \n",
        "        9                                                                     \n",
        "\u2500\u2500\u2500\u2500\u2500\u2500\u2500\u2500\u2500\u2500\u2500\u2500\u2500\u2500\u2500\u2500\u2500\u2500\u2500\u2500\u2500\u2500\u2500\u2500\u2500\u2500\u2500\u2500\u2500\u2500\u2500\u2500\u2500\u2500\u2500\u2500\u2500\u2500\u2500\u2500\u2500\u2500\u2500\u2500\u2500\u2500\u2500\u2500\u2500\u2500\u2500\u2500\u2500\u2500\u2500\u2500\u2500\u2500\u2500\u2500\u2500\u2500\u2500\u2500\u2500\u2500\u2500\u2500\u2500\u2500\u2500\u2500\u2500\u2500\u2500\u2500\u2500\u2500\n",
        "______________________________________________________________________________\n",
        "______________________________________________________________________________\n",
        "                                                                            2 \n",
        "                \u239b                                                         3\u239e  \n",
        "            3   \u239c                  (\u03b2\u22c5\u03c1 + \u03b2\u22c5\u03c3)\u22c5(\u03b2 + \u03c3 + 1)   2\u22c5(\u03b2 + \u03c3 + 1) \u239f  \n",
        "          2\u239e    \u239c2\u22c5\u03b2\u22c5\u03c1\u22c5\u03c3 - 2\u22c5\u03b2\u22c5\u03c3 - \u2500\u2500\u2500\u2500\u2500\u2500\u2500\u2500\u2500\u2500\u2500\u2500\u2500\u2500\u2500\u2500\u2500\u2500\u2500\u2500\u2500\u2500\u2500 + \u2500\u2500\u2500\u2500\u2500\u2500\u2500\u2500\u2500\u2500\u2500\u2500\u2500\u2500\u239f  \n",
        "\u03b2 + \u03c3 + 1) \u239f    \u239d                             3                    27      \u23a0  \n",
        "\u2500\u2500\u2500\u2500\u2500\u2500\u2500\u2500\u2500\u2500\u2500\u239f  + \u2500\u2500\u2500\u2500\u2500\u2500\u2500\u2500\u2500\u2500\u2500\u2500\u2500\u2500\u2500\u2500\u2500\u2500\u2500\u2500\u2500\u2500\u2500\u2500\u2500\u2500\u2500\u2500\u2500\u2500\u2500\u2500\u2500\u2500\u2500\u2500\u2500\u2500\u2500\u2500\u2500\u2500\u2500\u2500\u2500\u2500\u2500\u2500\u2500\u2500\u2500\u2500\u2500\u2500\u2500\u2500\u2500\u2500\u2500\u2500\u2500 \n",
        "    9      \u23a0                                  4                               \n",
        "\n",
        "                                            __________________________________\n",
        "                                           \u2571                                  \n",
        "                                          \u2571                                   \n",
        "                                         \u2571                                    \n",
        "                                        \u2571                                     \n",
        "                   \u239b        ___  \u239e     \u2571                                      \n",
        "                   \u239c  1   \u2572\u2571 3 \u22c5\u2148\u239f    \u2571                    (\u03b2\u22c5\u03c1 + \u03b2\u22c5\u03c3)\u22c5(\u03b2 + \u03c3 \n",
        "\u2500\u2500\u2500\u2500\u2500\u2500\u2500\u2500\u2500\u2500\u2500\u2500\u2500\u2500\u2500\u2500 - \u239c- \u2500 - \u2500\u2500\u2500\u2500\u2500\u2500\u2500\u239f\u22c53 \u2571       \u03b2\u22c5\u03c1\u22c5\u03c3 - \u03b2\u22c5\u03c3 - \u2500\u2500\u2500\u2500\u2500\u2500\u2500\u2500\u2500\u2500\u2500\u2500\u2500\u2500\u2500\u2500\u2500\u2500\u2500\n",
        "________________   \u239d  2      2   \u23a0 \u2572\u2571                                 6       \n",
        "                                                                              \n",
        "                                                                              \n",
        "                                                                              \n",
        "                                                                              \n",
        "              3                                                               \n",
        "   (\u03b2 + \u03c3 + 1)                                                                \n",
        " + \u2500\u2500\u2500\u2500\u2500\u2500\u2500\u2500\u2500\u2500\u2500\u2500                                                               \n",
        "        27                                                                    \n",
        "\n",
        "______________________________________________________________________________\n",
        "               _______________________________________________________________\n",
        "              \u2571                                                               \n",
        "             \u2571                                \u239b                               \n",
        "            \u2571                             3   \u239c                  (\u03b2\u22c5\u03c1 + \u03b2\u22c5\u03c3)\u22c5(\n",
        "           \u2571    \u239b                       2\u239e    \u239c2\u22c5\u03b2\u22c5\u03c1\u22c5\u03c3 - 2\u22c5\u03b2\u22c5\u03c3 - \u2500\u2500\u2500\u2500\u2500\u2500\u2500\u2500\u2500\u2500\u2500\u2500\u2500\n",
        "+ 1)      \u2571     \u239c\u03b2\u22c5\u03c1   \u03b2\u22c5\u03c3   (\u03b2 + \u03c3 + 1) \u239f    \u239d                             3 \n",
        "\u2500\u2500\u2500\u2500 +   \u2571      \u239c\u2500\u2500\u2500 + \u2500\u2500\u2500 - \u2500\u2500\u2500\u2500\u2500\u2500\u2500\u2500\u2500\u2500\u2500\u2500\u239f  + \u2500\u2500\u2500\u2500\u2500\u2500\u2500\u2500\u2500\u2500\u2500\u2500\u2500\u2500\u2500\u2500\u2500\u2500\u2500\u2500\u2500\u2500\u2500\u2500\u2500\u2500\u2500\u2500\u2500\u2500\u2500\u2500\n",
        "       \u2572\u2571       \u239d 3     3         9      \u23a0                                  4 \n",
        "                                                                              \n",
        "                                                                              \n",
        "                                                                              \n",
        "                                                                              \n",
        "                                                                              \n",
        "                                                                              \n",
        "                                                                              \n",
        "                                                                              \n",
        "\n",
        "______________________________________________                                \n",
        "______________________________                                                \n",
        "                            2                                                 \n",
        "                          3\u239e                                                  \n",
        "\u03b2 + \u03c3 + 1)   2\u22c5(\u03b2 + \u03c3 + 1) \u239f                                                  \n",
        "\u2500\u2500\u2500\u2500\u2500\u2500\u2500\u2500\u2500\u2500 + \u2500\u2500\u2500\u2500\u2500\u2500\u2500\u2500\u2500\u2500\u2500\u2500\u2500\u2500\u239f                3                                 \n",
        "                   27      \u23a0     (\u03b2 + \u03c3 + 1)     1       \u03b2   \u03c3                \n",
        "\u2500\u2500\u2500\u2500\u2500\u2500\u2500\u2500\u2500\u2500\u2500\u2500\u2500\u2500\u2500\u2500\u2500\u2500\u2500\u2500\u2500\u2500\u2500\u2500\u2500\u2500\u2500\u2500\u2500  + \u2500\u2500\u2500\u2500\u2500\u2500\u2500\u2500\u2500\u2500\u2500\u2500  - \u2500: 1, - \u2500 - \u2500 + \u2500\u2500\u2500\u2500\u2500\u2500\u2500\u2500\u2500\u2500\u2500\u2500\u2500\n",
        "                                      27         3       3   3                \n",
        "                                                                              \n",
        "                                                                              \n",
        "                                                                              \n",
        "                                                                              \n",
        "                                                                 \u239b        ___ \n",
        "                                                                 \u239c  1   \u2572\u2571 3 \u22c5\n",
        "                                                                 \u239c- \u2500 + \u2500\u2500\u2500\u2500\u2500\u2500\n",
        "                                                                 \u239d  2      2  \n",
        "\n",
        "                                                                              \n",
        "                                                                              \n",
        "                                                                              \n",
        "                                                                              \n",
        "                                                                   \u03b2\u22c5\u03c1   \u03b2\u22c5\u03c3  \n",
        "                                                                   \u2500\u2500\u2500 + \u2500\u2500\u2500 -\n",
        "                                                                    3     3   \n",
        "\u2500\u2500\u2500\u2500\u2500\u2500\u2500\u2500\u2500\u2500\u2500\u2500\u2500\u2500\u2500\u2500\u2500\u2500\u2500\u2500\u2500\u2500\u2500\u2500\u2500\u2500\u2500\u2500\u2500\u2500\u2500\u2500\u2500\u2500\u2500\u2500\u2500\u2500\u2500\u2500\u2500\u2500\u2500\u2500\u2500\u2500\u2500\u2500\u2500\u2500\u2500\u2500\u2500\u2500\u2500\u2500\u2500\u2500\u2500\u2500\u2500\u2500\u2500\u2500\u2500\u2500\u2500\u2500\u2500\u2500\u2500\u2500\u2500\u2500\u2500\u2500\u2500\u2500\n",
        "            __________________________________________________________________\n",
        "           \u2571                                                 _________________\n",
        "          \u2571                                                 \u2571                 \n",
        "         \u2571                                                 \u2571                  \n",
        "        \u2571                                                 \u2571                   \n",
        " \u239e     \u2571                                                 \u2571    \u239b               \n",
        "\u2148\u239f    \u2571                    (\u03b2\u22c5\u03c1 + \u03b2\u22c5\u03c3)\u22c5(\u03b2 + \u03c3 + 1)      \u2571     \u239c\u03b2\u22c5\u03c1   \u03b2\u22c5\u03c3   (\u03b2 \n",
        "\u2500\u239f\u22c53 \u2571       \u03b2\u22c5\u03c1\u22c5\u03c3 - \u03b2\u22c5\u03c3 - \u2500\u2500\u2500\u2500\u2500\u2500\u2500\u2500\u2500\u2500\u2500\u2500\u2500\u2500\u2500\u2500\u2500\u2500\u2500\u2500\u2500\u2500\u2500 +   \u2571      \u239c\u2500\u2500\u2500 + \u2500\u2500\u2500 - \u2500\u2500\u2500\n",
        " \u23a0 \u2572\u2571                                 6              \u2572\u2571       \u239d 3     3       \n",
        "\n",
        "                                                                              \n",
        "                                                                              \n",
        "                                                                              \n",
        "            2                                                                 \n",
        " (\u03b2 + \u03c3 + 1)                                                                  \n",
        " \u2500\u2500\u2500\u2500\u2500\u2500\u2500\u2500\u2500\u2500\u2500\u2500                                                                 \n",
        "      9                                                                       \n",
        "\u2500\u2500\u2500\u2500\u2500\u2500\u2500\u2500\u2500\u2500\u2500\u2500\u2500\u2500\u2500\u2500\u2500\u2500\u2500\u2500\u2500\u2500\u2500\u2500\u2500\u2500\u2500\u2500\u2500\u2500\u2500\u2500\u2500\u2500\u2500\u2500\u2500\u2500\u2500\u2500\u2500\u2500\u2500\u2500\u2500\u2500\u2500\u2500\u2500\u2500\u2500\u2500\u2500\u2500\u2500\u2500\u2500\u2500\u2500\u2500\u2500\u2500\u2500\u2500\u2500\u2500\u2500\u2500\u2500\u2500\u2500\u2500\u2500\u2500\u2500\u2500\u2500\u2500\n",
        "______________________________________________________________________________\n",
        "____________________________________________________________________________  \n",
        "                                                                          2   \n",
        "              \u239b                                                         3\u239e    \n",
        "          3   \u239c                  (\u03b2\u22c5\u03c1 + \u03b2\u22c5\u03c3)\u22c5(\u03b2 + \u03c3 + 1)   2\u22c5(\u03b2 + \u03c3 + 1) \u239f    \n",
        "        2\u239e    \u239c2\u22c5\u03b2\u22c5\u03c1\u22c5\u03c3 - 2\u22c5\u03b2\u22c5\u03c3 - \u2500\u2500\u2500\u2500\u2500\u2500\u2500\u2500\u2500\u2500\u2500\u2500\u2500\u2500\u2500\u2500\u2500\u2500\u2500\u2500\u2500\u2500\u2500 + \u2500\u2500\u2500\u2500\u2500\u2500\u2500\u2500\u2500\u2500\u2500\u2500\u2500\u2500\u239f    \n",
        "+ \u03c3 + 1) \u239f    \u239d                             3                    27      \u23a0    \n",
        "\u2500\u2500\u2500\u2500\u2500\u2500\u2500\u2500\u2500\u239f  + \u2500\u2500\u2500\u2500\u2500\u2500\u2500\u2500\u2500\u2500\u2500\u2500\u2500\u2500\u2500\u2500\u2500\u2500\u2500\u2500\u2500\u2500\u2500\u2500\u2500\u2500\u2500\u2500\u2500\u2500\u2500\u2500\u2500\u2500\u2500\u2500\u2500\u2500\u2500\u2500\u2500\u2500\u2500\u2500\u2500\u2500\u2500\u2500\u2500\u2500\u2500\u2500\u2500\u2500\u2500\u2500\u2500\u2500\u2500\u2500\u2500  +\n",
        "  9      \u23a0                                  4                                 \n",
        "\n",
        "                                          ____________________________________\n",
        "                                         \u2571                                    \n",
        "                                        \u2571                                     \n",
        "                                       \u2571                                      \n",
        "                                      \u2571                                       \n",
        "                 \u239b        ___  \u239e     \u2571                                        \n",
        "                 \u239c  1   \u2572\u2571 3 \u22c5\u2148\u239f    \u2571                    (\u03b2\u22c5\u03c1 + \u03b2\u22c5\u03c3)\u22c5(\u03b2 + \u03c3 + \n",
        "\u2500\u2500\u2500\u2500\u2500\u2500\u2500\u2500\u2500\u2500\u2500\u2500\u2500\u2500 - \u239c- \u2500 + \u2500\u2500\u2500\u2500\u2500\u2500\u2500\u239f\u22c53 \u2571       \u03b2\u22c5\u03c1\u22c5\u03c3 - \u03b2\u22c5\u03c3 - \u2500\u2500\u2500\u2500\u2500\u2500\u2500\u2500\u2500\u2500\u2500\u2500\u2500\u2500\u2500\u2500\u2500\u2500\u2500\u2500\u2500\n",
        "______________   \u239d  2      2   \u23a0 \u2572\u2571                                 6         \n",
        "                                                                              \n",
        "                                                                              \n",
        "                                                                              \n",
        "                                                                              \n",
        "            3                                                                 \n",
        " (\u03b2 + \u03c3 + 1)                                                                  \n",
        " \u2500\u2500\u2500\u2500\u2500\u2500\u2500\u2500\u2500\u2500\u2500\u2500                                                                 \n",
        "      27                                                                      \n",
        "\n",
        "______________________________________________________________________________\n",
        "             _________________________________________________________________\n",
        "            \u2571                                                                 \n",
        "           \u2571                                \u239b                                 \n",
        "          \u2571                             3   \u239c                  (\u03b2\u22c5\u03c1 + \u03b2\u22c5\u03c3)\u22c5(\u03b2 \n",
        "         \u2571    \u239b                       2\u239e    \u239c2\u22c5\u03b2\u22c5\u03c1\u22c5\u03c3 - 2\u22c5\u03b2\u22c5\u03c3 - \u2500\u2500\u2500\u2500\u2500\u2500\u2500\u2500\u2500\u2500\u2500\u2500\u2500\u2500\u2500\n",
        "1)      \u2571     \u239c\u03b2\u22c5\u03c1   \u03b2\u22c5\u03c3   (\u03b2 + \u03c3 + 1) \u239f    \u239d                             3   \n",
        "\u2500\u2500 +   \u2571      \u239c\u2500\u2500\u2500 + \u2500\u2500\u2500 - \u2500\u2500\u2500\u2500\u2500\u2500\u2500\u2500\u2500\u2500\u2500\u2500\u239f  + \u2500\u2500\u2500\u2500\u2500\u2500\u2500\u2500\u2500\u2500\u2500\u2500\u2500\u2500\u2500\u2500\u2500\u2500\u2500\u2500\u2500\u2500\u2500\u2500\u2500\u2500\u2500\u2500\u2500\u2500\u2500\u2500\u2500\u2500\n",
        "     \u2572\u2571       \u239d 3     3         9      \u23a0                                  4   \n",
        "                                                                              \n",
        "                                                                              \n",
        "                                                                              \n",
        "                                                                              \n",
        "                                                                              \n",
        "                                                                              \n",
        "                                                                              \n",
        "                                                                              \n",
        "\n",
        "____________________________________________       \u23ab  \u23a7                       \n",
        "____________________________                       \u23aa  \u23aa                       \n",
        "                          2                        \u23aa  \u23aa                       \n",
        "                        3\u239e                         \u23aa  \u23aa                       \n",
        "+ \u03c3 + 1)   2\u22c5(\u03b2 + \u03c3 + 1) \u239f                         \u23aa  \u23aa                       \n",
        "\u2500\u2500\u2500\u2500\u2500\u2500\u2500\u2500 + \u2500\u2500\u2500\u2500\u2500\u2500\u2500\u2500\u2500\u2500\u2500\u2500\u2500\u2500\u239f                3        \u23aa  \u23aa                       \n",
        "                 27      \u23a0     (\u03b2 + \u03c3 + 1)     1   \u23aa  \u23aa  \u03b2   \u03c3                \n",
        "\u2500\u2500\u2500\u2500\u2500\u2500\u2500\u2500\u2500\u2500\u2500\u2500\u2500\u2500\u2500\u2500\u2500\u2500\u2500\u2500\u2500\u2500\u2500\u2500\u2500\u2500\u2500  + \u2500\u2500\u2500\u2500\u2500\u2500\u2500\u2500\u2500\u2500\u2500\u2500  - \u2500: 1\u23aa, \u23aa- \u2500 - \u2500 + \u2500\u2500\u2500\u2500\u2500\u2500\u2500\u2500\u2500\u2500\u2500\u2500\u2500\n",
        "                                    27         3   \u23ac  \u23a8  3   3            ____\n",
        "                                                   \u23aa  \u23aa                  \u2571    \n",
        "                                                   \u23aa  \u23aa                 \u2571     \n",
        "                                                   \u23aa  \u23aa                \u2571      \n",
        "                                                   \u23aa  \u23aa               \u2571       \n",
        "                                                   \u23aa  \u23aa              \u2571        \n",
        "                                                   \u23aa  \u23aa             \u2571         \n",
        "                                                   \u23aa  \u23aa          3 \u2571       \u03b2\u22c5\u03c1\n",
        "                                                   \u23ad  \u23a9          \u2572\u2571           \n",
        "\n",
        "                                                                              \n",
        "                                                                              \n",
        "                                                                              \n",
        "                                                                              \n",
        "                                                           \u03b2\u22c5\u03c1   \u03b2\u22c5\u03c3   (\u03b2 + \u03c3 \n",
        "                                                           \u2500\u2500\u2500 + \u2500\u2500\u2500 - \u2500\u2500\u2500\u2500\u2500\u2500\u2500\n",
        "                                                            3     3         9 \n",
        "\u2500\u2500\u2500\u2500\u2500\u2500\u2500\u2500\u2500\u2500\u2500\u2500\u2500\u2500\u2500\u2500\u2500\u2500\u2500\u2500\u2500\u2500\u2500\u2500\u2500\u2500\u2500\u2500\u2500\u2500\u2500\u2500\u2500\u2500\u2500\u2500\u2500\u2500\u2500\u2500\u2500\u2500\u2500\u2500\u2500\u2500\u2500\u2500\u2500\u2500\u2500\u2500\u2500\u2500\u2500\u2500\u2500\u2500\u2500\u2500\u2500\u2500\u2500\u2500\u2500\u2500\u2500\u2500\u2500\u2500\u2500\u2500\u2500\u2500\u2500\u2500\u2500\u2500\n",
        "______________________________________________________________________________\n",
        "                                             _________________________________\n",
        "                                            \u2571                                 \n",
        "                                           \u2571                                \u239b \n",
        "                                          \u2571                             3   \u239c \n",
        "                                         \u2571    \u239b                       2\u239e    \u239c2\n",
        "           (\u03b2\u22c5\u03c1 + \u03b2\u22c5\u03c3)\u22c5(\u03b2 + \u03c3 + 1)      \u2571     \u239c\u03b2\u22c5\u03c1   \u03b2\u22c5\u03c3   (\u03b2 + \u03c3 + 1) \u239f    \u239d \n",
        "\u22c5\u03c3 - \u03b2\u22c5\u03c3 - \u2500\u2500\u2500\u2500\u2500\u2500\u2500\u2500\u2500\u2500\u2500\u2500\u2500\u2500\u2500\u2500\u2500\u2500\u2500\u2500\u2500\u2500\u2500 +   \u2571      \u239c\u2500\u2500\u2500 + \u2500\u2500\u2500 - \u2500\u2500\u2500\u2500\u2500\u2500\u2500\u2500\u2500\u2500\u2500\u2500\u239f  + \u2500\u2500\n",
        "                      6              \u2572\u2571       \u239d 3     3         9      \u23a0      \n",
        "\n",
        "                                                                              \n",
        "                                                                              \n",
        "                                                                              \n",
        "    2                                                                         \n",
        "+ 1)                                                                          \n",
        "\u2500\u2500\u2500\u2500\u2500                                                                         \n",
        "                                                                              \n",
        "\u2500\u2500\u2500\u2500\u2500\u2500\u2500\u2500\u2500\u2500\u2500\u2500\u2500\u2500\u2500\u2500\u2500\u2500\u2500\u2500\u2500\u2500\u2500\u2500\u2500\u2500\u2500\u2500\u2500\u2500\u2500\u2500\u2500\u2500\u2500\u2500\u2500\u2500\u2500\u2500\u2500\u2500\u2500\u2500\u2500\u2500\u2500\u2500\u2500\u2500\u2500\u2500\u2500\u2500\u2500\u2500\u2500\u2500\u2500\u2500\u2500\u2500\u2500\u2500\u2500\u2500\u2500\u2500\u2500\u2500\u2500\u2500\u2500\u2500\u2500\u2500 -\n",
        "____________________________________________________________________________  \n",
        "____________________________________________________________                  \n",
        "                                                          2                   \n",
        "                                                        3\u239e                    \n",
        "                 (\u03b2\u22c5\u03c1 + \u03b2\u22c5\u03c3)\u22c5(\u03b2 + \u03c3 + 1)   2\u22c5(\u03b2 + \u03c3 + 1) \u239f                    \n",
        "\u22c5\u03b2\u22c5\u03c1\u22c5\u03c3 - 2\u22c5\u03b2\u22c5\u03c3 - \u2500\u2500\u2500\u2500\u2500\u2500\u2500\u2500\u2500\u2500\u2500\u2500\u2500\u2500\u2500\u2500\u2500\u2500\u2500\u2500\u2500\u2500\u2500 + \u2500\u2500\u2500\u2500\u2500\u2500\u2500\u2500\u2500\u2500\u2500\u2500\u2500\u2500\u239f                3   \n",
        "                            3                    27      \u23a0     (\u03b2 + \u03c3 + 1)    \n",
        "\u2500\u2500\u2500\u2500\u2500\u2500\u2500\u2500\u2500\u2500\u2500\u2500\u2500\u2500\u2500\u2500\u2500\u2500\u2500\u2500\u2500\u2500\u2500\u2500\u2500\u2500\u2500\u2500\u2500\u2500\u2500\u2500\u2500\u2500\u2500\u2500\u2500\u2500\u2500\u2500\u2500\u2500\u2500\u2500\u2500\u2500\u2500\u2500\u2500\u2500\u2500\u2500\u2500\u2500\u2500\u2500\u2500\u2500\u2500  + \u2500\u2500\u2500\u2500\u2500\u2500\u2500\u2500\u2500\u2500\u2500\u2500   \n",
        "                            4                                       27        \n",
        "\n",
        "          ____________________________________________________________________\n",
        "         \u2571                                                 ___________________\n",
        "        \u2571                                                 \u2571                   \n",
        "       \u2571                                                 \u2571                    \n",
        "      \u2571                                                 \u2571                     \n",
        "     \u2571                                                 \u2571    \u239b                 \n",
        "    \u2571                    (\u03b2\u22c5\u03c1 + \u03b2\u22c5\u03c3)\u22c5(\u03b2 + \u03c3 + 1)      \u2571     \u239c\u03b2\u22c5\u03c1   \u03b2\u22c5\u03c3   (\u03b2 + \n",
        " 3 \u2571       \u03b2\u22c5\u03c1\u22c5\u03c3 - \u03b2\u22c5\u03c3 - \u2500\u2500\u2500\u2500\u2500\u2500\u2500\u2500\u2500\u2500\u2500\u2500\u2500\u2500\u2500\u2500\u2500\u2500\u2500\u2500\u2500\u2500\u2500 +   \u2571      \u239c\u2500\u2500\u2500 + \u2500\u2500\u2500 - \u2500\u2500\u2500\u2500\u2500\n",
        " \u2572\u2571                                 6              \u2572\u2571       \u239d 3     3         \n",
        "                                                                              \n",
        "                                                                              \n",
        "                                                                              \n",
        "                                                                              \n",
        "                                                                              \n",
        "                                                                              \n",
        "                                                                              \n",
        "                                                                              \n",
        "\n",
        "______________________________________________________________________________\n",
        "__________________________________________________________________________    \n",
        "                                                                        2     \n",
        "            \u239b                                                         3\u239e      \n",
        "        3   \u239c                  (\u03b2\u22c5\u03c1 + \u03b2\u22c5\u03c3)\u22c5(\u03b2 + \u03c3 + 1)   2\u22c5(\u03b2 + \u03c3 + 1) \u239f      \n",
        "      2\u239e    \u239c2\u22c5\u03b2\u22c5\u03c1\u22c5\u03c3 - 2\u22c5\u03b2\u22c5\u03c3 - \u2500\u2500\u2500\u2500\u2500\u2500\u2500\u2500\u2500\u2500\u2500\u2500\u2500\u2500\u2500\u2500\u2500\u2500\u2500\u2500\u2500\u2500\u2500 + \u2500\u2500\u2500\u2500\u2500\u2500\u2500\u2500\u2500\u2500\u2500\u2500\u2500\u2500\u239f      \n",
        "\u03c3 + 1) \u239f    \u239d                             3                    27      \u23a0     (\n",
        "\u2500\u2500\u2500\u2500\u2500\u2500\u2500\u239f  + \u2500\u2500\u2500\u2500\u2500\u2500\u2500\u2500\u2500\u2500\u2500\u2500\u2500\u2500\u2500\u2500\u2500\u2500\u2500\u2500\u2500\u2500\u2500\u2500\u2500\u2500\u2500\u2500\u2500\u2500\u2500\u2500\u2500\u2500\u2500\u2500\u2500\u2500\u2500\u2500\u2500\u2500\u2500\u2500\u2500\u2500\u2500\u2500\u2500\u2500\u2500\u2500\u2500\u2500\u2500\u2500\u2500\u2500\u2500\u2500\u2500  + \u2500\n",
        "9      \u23a0                                  4                                   \n",
        "                                                                              \n",
        "                                                                              \n",
        "                                                                              \n",
        "                                                                              \n",
        "                                                                              \n",
        "                                                                              \n",
        "                                                                              \n",
        "                                                                              \n",
        "\n",
        "____________                                                                  \n",
        "                                                                              \n",
        "                                                                              \n",
        "                                                                              \n",
        "                                                                              \n",
        "          3                                                                   \n",
        "\u03b2 + \u03c3 + 1)     1       \u03b2   \u03c3                                                  \n",
        "\u2500\u2500\u2500\u2500\u2500\u2500\u2500\u2500\u2500\u2500\u2500  - \u2500: 1, - \u2500 - \u2500 + \u2500\u2500\u2500\u2500\u2500\u2500\u2500\u2500\u2500\u2500\u2500\u2500\u2500\u2500\u2500\u2500\u2500\u2500\u2500\u2500\u2500\u2500\u2500\u2500\u2500\u2500\u2500\u2500\u2500\u2500\u2500\u2500\u2500\u2500\u2500\u2500\u2500\u2500\u2500\u2500\u2500\u2500\u2500\u2500\u2500\u2500\u2500\n",
        "    27         3       3   3                            ______________________\n",
        "                                                       \u2571                      \n",
        "                                                      \u2571                       \n",
        "                                                     \u2571                        \n",
        "                                                    \u2571                         \n",
        "                               \u239b        ___  \u239e     \u2571                          \n",
        "                               \u239c  1   \u2572\u2571 3 \u22c5\u2148\u239f    \u2571                    (\u03b2\u22c5\u03c1 + \n",
        "                               \u239c- \u2500 - \u2500\u2500\u2500\u2500\u2500\u2500\u2500\u239f\u22c53 \u2571       \u03b2\u22c5\u03c1\u22c5\u03c3 - \u03b2\u22c5\u03c3 - \u2500\u2500\u2500\u2500\u2500\u2500\u2500\n",
        "                               \u239d  2      2   \u23a0 \u2572\u2571                             \n",
        "\n",
        "                                                                              \n",
        "                                                                              \n",
        "                                                                              \n",
        "                                                        2                     \n",
        "                                 \u03b2\u22c5\u03c1   \u03b2\u22c5\u03c3   (\u03b2 + \u03c3 + 1)                      \n",
        "                                 \u2500\u2500\u2500 + \u2500\u2500\u2500 - \u2500\u2500\u2500\u2500\u2500\u2500\u2500\u2500\u2500\u2500\u2500\u2500                     \n",
        "                                  3     3         9                           \n",
        "\u2500\u2500\u2500\u2500\u2500\u2500\u2500\u2500\u2500\u2500\u2500\u2500\u2500\u2500\u2500\u2500\u2500\u2500\u2500\u2500\u2500\u2500\u2500\u2500\u2500\u2500\u2500\u2500\u2500\u2500\u2500\u2500\u2500\u2500\u2500\u2500\u2500\u2500\u2500\u2500\u2500\u2500\u2500\u2500\u2500\u2500\u2500\u2500\u2500\u2500\u2500\u2500\u2500\u2500\u2500\u2500\u2500\u2500\u2500\u2500\u2500\u2500\u2500\u2500\u2500\u2500\u2500\u2500\u2500\u2500\u2500\u2500\u2500\u2500\u2500\u2500\u2500\u2500\n",
        "______________________________________________________________________________\n",
        "                           ___________________________________________________\n",
        "                          \u2571                                                   \n",
        "                         \u2571                                \u239b                   \n",
        "                        \u2571                             3   \u239c                  (\n",
        "                       \u2571    \u239b                       2\u239e    \u239c2\u22c5\u03b2\u22c5\u03c1\u22c5\u03c3 - 2\u22c5\u03b2\u22c5\u03c3 - \u2500\n",
        "\u03b2\u22c5\u03c3)\u22c5(\u03b2 + \u03c3 + 1)      \u2571     \u239c\u03b2\u22c5\u03c1   \u03b2\u22c5\u03c3   (\u03b2 + \u03c3 + 1) \u239f    \u239d                   \n",
        "\u2500\u2500\u2500\u2500\u2500\u2500\u2500\u2500\u2500\u2500\u2500\u2500\u2500\u2500\u2500\u2500 +   \u2571      \u239c\u2500\u2500\u2500 + \u2500\u2500\u2500 - \u2500\u2500\u2500\u2500\u2500\u2500\u2500\u2500\u2500\u2500\u2500\u2500\u239f  + \u2500\u2500\u2500\u2500\u2500\u2500\u2500\u2500\u2500\u2500\u2500\u2500\u2500\u2500\u2500\u2500\u2500\u2500\u2500\u2500\n",
        "    6              \u2572\u2571       \u239d 3     3         9      \u23a0                        \n",
        "\n",
        "                                                                              \n",
        "                                                                              \n",
        "                                                                              \n",
        "                                                                              \n",
        "                                                                              \n",
        "                                                             \u239b        ___  \u239e  \n",
        "                                                             \u239c  1   \u2572\u2571 3 \u22c5\u2148\u239f  \n",
        "\u2500\u2500\u2500\u2500\u2500\u2500\u2500\u2500\u2500\u2500\u2500\u2500\u2500\u2500\u2500\u2500\u2500\u2500\u2500\u2500\u2500\u2500\u2500\u2500\u2500\u2500\u2500\u2500\u2500\u2500\u2500\u2500\u2500\u2500\u2500\u2500\u2500\u2500\u2500\u2500\u2500\u2500\u2500\u2500\u2500\u2500\u2500\u2500\u2500\u2500\u2500\u2500\u2500\u2500\u2500\u2500\u2500\u2500 - \u239c- \u2500 - \u2500\u2500\u2500\u2500\u2500\u2500\u2500\u239f\u22c53\n",
        "__________________________________________________________   \u239d  2      2   \u23a0 \u2572\n",
        "__________________________________________                                    \n",
        "                                        2                                     \n",
        "                                      3\u239e                                      \n",
        "\u03b2\u22c5\u03c1 + \u03b2\u22c5\u03c3)\u22c5(\u03b2 + \u03c3 + 1)   2\u22c5(\u03b2 + \u03c3 + 1) \u239f                                      \n",
        "\u2500\u2500\u2500\u2500\u2500\u2500\u2500\u2500\u2500\u2500\u2500\u2500\u2500\u2500\u2500\u2500\u2500\u2500\u2500\u2500\u2500\u2500 + \u2500\u2500\u2500\u2500\u2500\u2500\u2500\u2500\u2500\u2500\u2500\u2500\u2500\u2500\u239f                3                     \n",
        "          3                    27      \u23a0     (\u03b2 + \u03c3 + 1)                      \n",
        "\u2500\u2500\u2500\u2500\u2500\u2500\u2500\u2500\u2500\u2500\u2500\u2500\u2500\u2500\u2500\u2500\u2500\u2500\u2500\u2500\u2500\u2500\u2500\u2500\u2500\u2500\u2500\u2500\u2500\u2500\u2500\u2500\u2500\u2500\u2500\u2500\u2500\u2500\u2500\u2500\u2500  + \u2500\u2500\u2500\u2500\u2500\u2500\u2500\u2500\u2500\u2500\u2500\u2500                     \n",
        "          4                                       27                          \n",
        "\n",
        "        ______________________________________________________________________\n",
        "       \u2571                                                 _____________________\n",
        "      \u2571                                                 \u2571                     \n",
        "     \u2571                                                 \u2571                      \n",
        "    \u2571                                                 \u2571                       \n",
        "   \u2571                                                 \u2571    \u239b                   \n",
        "  \u2571                    (\u03b2\u22c5\u03c1 + \u03b2\u22c5\u03c3)\u22c5(\u03b2 + \u03c3 + 1)      \u2571     \u239c\u03b2\u22c5\u03c1   \u03b2\u22c5\u03c3   (\u03b2 + \u03c3 \n",
        " \u2571       \u03b2\u22c5\u03c1\u22c5\u03c3 - \u03b2\u22c5\u03c3 - \u2500\u2500\u2500\u2500\u2500\u2500\u2500\u2500\u2500\u2500\u2500\u2500\u2500\u2500\u2500\u2500\u2500\u2500\u2500\u2500\u2500\u2500\u2500 +   \u2571      \u239c\u2500\u2500\u2500 + \u2500\u2500\u2500 - \u2500\u2500\u2500\u2500\u2500\u2500\u2500\n",
        "\u2571                                 6              \u2572\u2571       \u239d 3     3         9 \n",
        "                                                                              \n",
        "                                                                              \n",
        "                                                                              \n",
        "                                                                              \n",
        "                                                                              \n",
        "                                                                              \n",
        "                                                                              \n",
        "                                                                              \n",
        "\n",
        "______________________________________________________________________________\n",
        "________________________________________________________________________      \n",
        "                                                                      2       \n",
        "          \u239b                                                         3\u239e        \n",
        "      3   \u239c                  (\u03b2\u22c5\u03c1 + \u03b2\u22c5\u03c3)\u22c5(\u03b2 + \u03c3 + 1)   2\u22c5(\u03b2 + \u03c3 + 1) \u239f        \n",
        "    2\u239e    \u239c2\u22c5\u03b2\u22c5\u03c1\u22c5\u03c3 - 2\u22c5\u03b2\u22c5\u03c3 - \u2500\u2500\u2500\u2500\u2500\u2500\u2500\u2500\u2500\u2500\u2500\u2500\u2500\u2500\u2500\u2500\u2500\u2500\u2500\u2500\u2500\u2500\u2500 + \u2500\u2500\u2500\u2500\u2500\u2500\u2500\u2500\u2500\u2500\u2500\u2500\u2500\u2500\u239f        \n",
        "+ 1) \u239f    \u239d                             3                    27      \u23a0     (\u03b2 \n",
        "\u2500\u2500\u2500\u2500\u2500\u239f  + \u2500\u2500\u2500\u2500\u2500\u2500\u2500\u2500\u2500\u2500\u2500\u2500\u2500\u2500\u2500\u2500\u2500\u2500\u2500\u2500\u2500\u2500\u2500\u2500\u2500\u2500\u2500\u2500\u2500\u2500\u2500\u2500\u2500\u2500\u2500\u2500\u2500\u2500\u2500\u2500\u2500\u2500\u2500\u2500\u2500\u2500\u2500\u2500\u2500\u2500\u2500\u2500\u2500\u2500\u2500\u2500\u2500\u2500\u2500\u2500\u2500  + \u2500\u2500\u2500\n",
        "     \u23a0                                  4                                     \n",
        "                                                                              \n",
        "                                                                              \n",
        "                                                                              \n",
        "                                                                              \n",
        "                                                                              \n",
        "                                                                              \n",
        "                                                                              \n",
        "                                                                              \n",
        "\n",
        "__________                                                                    \n",
        "                                                                              \n",
        "                                                                              \n",
        "                                                                              \n",
        "                                                                              \n",
        "        3                                                                     \n",
        "+ \u03c3 + 1)     1       \u03b2   \u03c3                                                    \n",
        "\u2500\u2500\u2500\u2500\u2500\u2500\u2500\u2500\u2500  - \u2500: 1, - \u2500 - \u2500 + \u2500\u2500\u2500\u2500\u2500\u2500\u2500\u2500\u2500\u2500\u2500\u2500\u2500\u2500\u2500\u2500\u2500\u2500\u2500\u2500\u2500\u2500\u2500\u2500\u2500\u2500\u2500\u2500\u2500\u2500\u2500\u2500\u2500\u2500\u2500\u2500\u2500\u2500\u2500\u2500\u2500\u2500\u2500\u2500\u2500\u2500\u2500\u2500\u2500\n",
        "  27         3       3   3                            ________________________\n",
        "                                                     \u2571                        \n",
        "                                                    \u2571                         \n",
        "                                                   \u2571                          \n",
        "                                                  \u2571                           \n",
        "                             \u239b        ___  \u239e     \u2571                            \n",
        "                             \u239c  1   \u2572\u2571 3 \u22c5\u2148\u239f    \u2571                    (\u03b2\u22c5\u03c1 + \u03b2\u22c5\n",
        "                             \u239c- \u2500 + \u2500\u2500\u2500\u2500\u2500\u2500\u2500\u239f\u22c53 \u2571       \u03b2\u22c5\u03c1\u22c5\u03c3 - \u03b2\u22c5\u03c3 - \u2500\u2500\u2500\u2500\u2500\u2500\u2500\u2500\u2500\n",
        "                             \u239d  2      2   \u23a0 \u2572\u2571                               \n",
        "\n",
        "                                                                              \n",
        "                                                                              \n",
        "                                                                              \n",
        "                                                      2                       \n",
        "                               \u03b2\u22c5\u03c1   \u03b2\u22c5\u03c3   (\u03b2 + \u03c3 + 1)                        \n",
        "                               \u2500\u2500\u2500 + \u2500\u2500\u2500 - \u2500\u2500\u2500\u2500\u2500\u2500\u2500\u2500\u2500\u2500\u2500\u2500                       \n",
        "                                3     3         9                             \n",
        "\u2500\u2500\u2500\u2500\u2500\u2500\u2500\u2500\u2500\u2500\u2500\u2500\u2500\u2500\u2500\u2500\u2500\u2500\u2500\u2500\u2500\u2500\u2500\u2500\u2500\u2500\u2500\u2500\u2500\u2500\u2500\u2500\u2500\u2500\u2500\u2500\u2500\u2500\u2500\u2500\u2500\u2500\u2500\u2500\u2500\u2500\u2500\u2500\u2500\u2500\u2500\u2500\u2500\u2500\u2500\u2500\u2500\u2500\u2500\u2500\u2500\u2500\u2500\u2500\u2500\u2500\u2500\u2500\u2500\u2500\u2500\u2500\u2500\u2500\u2500\u2500\u2500\u2500\n",
        "______________________________________________________________________________\n",
        "                         _____________________________________________________\n",
        "                        \u2571                                                     \n",
        "                       \u2571                                \u239b                     \n",
        "                      \u2571                             3   \u239c                  (\u03b2\u22c5\n",
        "                     \u2571    \u239b                       2\u239e    \u239c2\u22c5\u03b2\u22c5\u03c1\u22c5\u03c3 - 2\u22c5\u03b2\u22c5\u03c3 - \u2500\u2500\u2500\n",
        "\u03c3)\u22c5(\u03b2 + \u03c3 + 1)      \u2571     \u239c\u03b2\u22c5\u03c1   \u03b2\u22c5\u03c3   (\u03b2 + \u03c3 + 1) \u239f    \u239d                     \n",
        "\u2500\u2500\u2500\u2500\u2500\u2500\u2500\u2500\u2500\u2500\u2500\u2500\u2500\u2500 +   \u2571      \u239c\u2500\u2500\u2500 + \u2500\u2500\u2500 - \u2500\u2500\u2500\u2500\u2500\u2500\u2500\u2500\u2500\u2500\u2500\u2500\u239f  + \u2500\u2500\u2500\u2500\u2500\u2500\u2500\u2500\u2500\u2500\u2500\u2500\u2500\u2500\u2500\u2500\u2500\u2500\u2500\u2500\u2500\u2500\n",
        "  6              \u2572\u2571       \u239d 3     3         9      \u23a0                          \n",
        "\n",
        "                                                                              \n",
        "                                                                              \n",
        "                                                                              \n",
        "                                                                              \n",
        "                                                                              \n",
        "                                                           \u239b        ___  \u239e    \n",
        "                                                           \u239c  1   \u2572\u2571 3 \u22c5\u2148\u239f    \n",
        "\u2500\u2500\u2500\u2500\u2500\u2500\u2500\u2500\u2500\u2500\u2500\u2500\u2500\u2500\u2500\u2500\u2500\u2500\u2500\u2500\u2500\u2500\u2500\u2500\u2500\u2500\u2500\u2500\u2500\u2500\u2500\u2500\u2500\u2500\u2500\u2500\u2500\u2500\u2500\u2500\u2500\u2500\u2500\u2500\u2500\u2500\u2500\u2500\u2500\u2500\u2500\u2500\u2500\u2500\u2500\u2500 - \u239c- \u2500 + \u2500\u2500\u2500\u2500\u2500\u2500\u2500\u239f\u22c53 \u2571\n",
        "________________________________________________________   \u239d  2      2   \u23a0 \u2572\u2571 \n",
        "________________________________________                                      \n",
        "                                      2                                       \n",
        "                                    3\u239e                                        \n",
        "\u03c1 + \u03b2\u22c5\u03c3)\u22c5(\u03b2 + \u03c3 + 1)   2\u22c5(\u03b2 + \u03c3 + 1) \u239f                                        \n",
        "\u2500\u2500\u2500\u2500\u2500\u2500\u2500\u2500\u2500\u2500\u2500\u2500\u2500\u2500\u2500\u2500\u2500\u2500\u2500\u2500 + \u2500\u2500\u2500\u2500\u2500\u2500\u2500\u2500\u2500\u2500\u2500\u2500\u2500\u2500\u239f                3                       \n",
        "        3                    27      \u23a0     (\u03b2 + \u03c3 + 1)                        \n",
        "\u2500\u2500\u2500\u2500\u2500\u2500\u2500\u2500\u2500\u2500\u2500\u2500\u2500\u2500\u2500\u2500\u2500\u2500\u2500\u2500\u2500\u2500\u2500\u2500\u2500\u2500\u2500\u2500\u2500\u2500\u2500\u2500\u2500\u2500\u2500\u2500\u2500\u2500\u2500  + \u2500\u2500\u2500\u2500\u2500\u2500\u2500\u2500\u2500\u2500\u2500\u2500                       \n",
        "        4                                       27                            \n",
        "\n",
        "      ________________________________________________________________________\n",
        "     \u2571                                                 _______________________\n",
        "    \u2571                                                 \u2571                       \n",
        "   \u2571                                                 \u2571                        \n",
        "  \u2571                                                 \u2571                         \n",
        " \u2571                                                 \u2571    \u239b                     \n",
        "\u2571                    (\u03b2\u22c5\u03c1 + \u03b2\u22c5\u03c3)\u22c5(\u03b2 + \u03c3 + 1)      \u2571     \u239c\u03b2\u22c5\u03c1   \u03b2\u22c5\u03c3   (\u03b2 + \u03c3 + \n",
        "       \u03b2\u22c5\u03c1\u22c5\u03c3 - \u03b2\u22c5\u03c3 - \u2500\u2500\u2500\u2500\u2500\u2500\u2500\u2500\u2500\u2500\u2500\u2500\u2500\u2500\u2500\u2500\u2500\u2500\u2500\u2500\u2500\u2500\u2500 +   \u2571      \u239c\u2500\u2500\u2500 + \u2500\u2500\u2500 - \u2500\u2500\u2500\u2500\u2500\u2500\u2500\u2500\u2500\n",
        "                                6              \u2572\u2571       \u239d 3     3         9   \n",
        "                                                                              \n",
        "                                                                              \n",
        "                                                                              \n",
        "                                                                              \n",
        "                                                                              \n",
        "                                                                              \n",
        "                                                                              \n",
        "                                                                              \n",
        "\n",
        "______________________________________________________________________________\n",
        "______________________________________________________________________        \n",
        "                                                                    2         \n",
        "        \u239b                                                         3\u239e          \n",
        "    3   \u239c                  (\u03b2\u22c5\u03c1 + \u03b2\u22c5\u03c3)\u22c5(\u03b2 + \u03c3 + 1)   2\u22c5(\u03b2 + \u03c3 + 1) \u239f          \n",
        "  2\u239e    \u239c2\u22c5\u03b2\u22c5\u03c1\u22c5\u03c3 - 2\u22c5\u03b2\u22c5\u03c3 - \u2500\u2500\u2500\u2500\u2500\u2500\u2500\u2500\u2500\u2500\u2500\u2500\u2500\u2500\u2500\u2500\u2500\u2500\u2500\u2500\u2500\u2500\u2500 + \u2500\u2500\u2500\u2500\u2500\u2500\u2500\u2500\u2500\u2500\u2500\u2500\u2500\u2500\u239f          \n",
        "1) \u239f    \u239d                             3                    27      \u23a0     (\u03b2 + \n",
        "\u2500\u2500\u2500\u239f  + \u2500\u2500\u2500\u2500\u2500\u2500\u2500\u2500\u2500\u2500\u2500\u2500\u2500\u2500\u2500\u2500\u2500\u2500\u2500\u2500\u2500\u2500\u2500\u2500\u2500\u2500\u2500\u2500\u2500\u2500\u2500\u2500\u2500\u2500\u2500\u2500\u2500\u2500\u2500\u2500\u2500\u2500\u2500\u2500\u2500\u2500\u2500\u2500\u2500\u2500\u2500\u2500\u2500\u2500\u2500\u2500\u2500\u2500\u2500\u2500\u2500  + \u2500\u2500\u2500\u2500\u2500\n",
        "   \u23a0                                  4                                       \n",
        "                                                                              \n",
        "                                                                              \n",
        "                                                                              \n",
        "                                                                              \n",
        "                                                                              \n",
        "                                                                              \n",
        "                                                                              \n",
        "                                                                              \n",
        "\n",
        "________       \u23ab\u23a4\n",
        "               \u23aa\u23a5\n",
        "               \u23aa\u23a5\n",
        "               \u23aa\u23a5\n",
        "               \u23aa\u23a5\n",
        "      3        \u23aa\u23a5\n",
        "\u03c3 + 1)     1   \u23aa\u23a5\n",
        "\u2500\u2500\u2500\u2500\u2500\u2500\u2500  - \u2500: 1\u23aa\u23a5\n",
        "27         3   \u23ac\u23a5\n",
        "               \u23aa\u23a5\n",
        "               \u23aa\u23a5\n",
        "               \u23aa\u23a5\n",
        "               \u23aa\u23a5\n",
        "               \u23aa\u23a5\n",
        "               \u23aa\u23a5\n",
        "               \u23aa\u23a5\n",
        "               \u23ad\u23a6"
       ]
      }
     ],
     "prompt_number": 116
    },
    {
     "cell_type": "code",
     "collapsed": false,
     "input": [
      "stab_origin = list(stability_eigenvals[0])\n",
      "stab_origin"
     ],
     "language": "python",
     "metadata": {},
     "outputs": [
      {
       "latex": [
        "$$\\left[ - \\beta, \\, - \\frac{\\sigma}{2} - \\frac{1}{2} \\sqrt{4 \\rho \\sigma + \\sigma^{2} - 2 \\sigma + 1} - \\frac{1}{2}, \\, - \\frac{\\sigma}{2} + \\frac{1}{2} \\sqrt{4 \\rho \\sigma + \\sigma^{2} - 2 \\sigma + 1} - \\frac{1}{2} \\right]$$"
       ],
       "metadata": {},
       "output_type": "pyout",
       "png": "[encoded data removed]",
       "prompt_number": 167,
       "text": [
        "\u23a1             ______________________               ______________________    \u23a4\n",
        "\u23a2            \u2571          2                         \u2571          2               \u23a5\n",
        "\u23a2      \u03c3   \u2572\u2571  4\u22c5\u03c1\u22c5\u03c3 + \u03c3  - 2\u22c5\u03c3 + 1    1    \u03c3   \u2572\u2571  4\u22c5\u03c1\u22c5\u03c3 + \u03c3  - 2\u22c5\u03c3 + 1    1\u23a5\n",
        "\u23a2-\u03b2, - \u2500 - \u2500\u2500\u2500\u2500\u2500\u2500\u2500\u2500\u2500\u2500\u2500\u2500\u2500\u2500\u2500\u2500\u2500\u2500\u2500\u2500\u2500\u2500\u2500\u2500\u2500 - \u2500, - \u2500 + \u2500\u2500\u2500\u2500\u2500\u2500\u2500\u2500\u2500\u2500\u2500\u2500\u2500\u2500\u2500\u2500\u2500\u2500\u2500\u2500\u2500\u2500\u2500\u2500\u2500 - \u2500\u23a5\n",
        "\u23a3      2               2               2    2               2               2\u23a6"
       ]
      }
     ],
     "prompt_number": 167
    },
    {
     "cell_type": "code",
     "collapsed": false,
     "input": [
      "eigval = stab_origin[1]"
     ],
     "language": "python",
     "metadata": {},
     "outputs": [],
     "prompt_number": 127
    },
    {
     "cell_type": "code",
     "collapsed": false,
     "input": [
      "[eigval.subs(standard_params).n(30) for eigval in stab_origin]"
     ],
     "language": "python",
     "metadata": {},
     "outputs": [
      {
       "latex": [
        "$$\\left[ -2.66666666666666666666666666667, \\, -22.8277234511634562848083303601, \\, 11.8277234511634562848083303601 \\right]$$"
       ],
       "metadata": {},
       "output_type": "pyout",
       "png": "[encoded data removed]",
       "prompt_number": 166,
       "text": [
        "[-2.66666666666666666666666666667, -22.8277234511634562848083303601, 11.827723\n",
        "4511634562848083303601]"
       ]
      }
     ],
     "prompt_number": 166
    },
    {
     "cell_type": "code",
     "collapsed": false,
     "input": [
      "J(*fps[2].subs(standard_params)).subs(standard_params)"
     ],
     "language": "python",
     "metadata": {},
     "outputs": [
      {
       "latex": [
        "$$\\left[\\begin{matrix}-10 & 10 & 0\\\\1 & -1 & - 6 \\sqrt{2}\\\\6 \\sqrt{2} & 6 \\sqrt{2} & - \\frac{8}{3}\\end{matrix}\\right]$$"
       ],
       "metadata": {},
       "output_type": "pyout",
       "png": "[encoded data removed]",
       "prompt_number": 168,
       "text": [
        "\u23a1  -10      10        0    \u23a4\n",
        "\u23a2                          \u23a5\n",
        "\u23a2                       ___\u23a5\n",
        "\u23a2   1       -1     -6\u22c5\u2572\u2571 2 \u23a5\n",
        "\u23a2                          \u23a5\n",
        "\u23a2    ___      ___          \u23a5\n",
        "\u23a36\u22c5\u2572\u2571 2   6\u22c5\u2572\u2571 2     -8/3  \u23a6"
       ]
      }
     ],
     "prompt_number": 168
    },
    {
     "cell_type": "code",
     "collapsed": false,
     "input": [
      "list(_.eigenvals())"
     ],
     "language": "python",
     "metadata": {},
     "outputs": [
      {
       "latex": [
        "$$\\left[ - \\frac{41}{9} - \\left(- \\frac{1}{2} + \\frac{\\sqrt{3} i}{2}\\right) \\sqrt[3]{\\frac{425537}{729} + \\frac{4 \\sqrt{140629614}}{81}} + \\frac{1055}{81 \\left(- \\frac{1}{2} + \\frac{\\sqrt{3} i}{2}\\right) \\sqrt[3]{\\frac{425537}{729} + \\frac{4 \\sqrt{140629614}}{81}}}, \\, - \\frac{41}{9} + \\frac{1055}{81 \\left(- \\frac{1}{2} - \\frac{\\sqrt{3} i}{2}\\right) \\sqrt[3]{\\frac{425537}{729} + \\frac{4 \\sqrt{140629614}}{81}}} - \\left(- \\frac{1}{2} - \\frac{\\sqrt{3} i}{2}\\right) \\sqrt[3]{\\frac{425537}{729} + \\frac{4 \\sqrt{140629614}}{81}}, \\, - \\sqrt[3]{\\frac{425537}{729} + \\frac{4 \\sqrt{140629614}}{81}} - \\frac{41}{9} + \\frac{1055}{81 \\sqrt[3]{\\frac{425537}{729} + \\frac{4 \\sqrt{140629614}}{81}}} \\right]$$"
       ],
       "metadata": {},
       "output_type": "pyout",
       "png": "[encoded data removed]",
       "prompt_number": 169,
       "text": [
        "\u23a1                            __________________________                       \n",
        "\u23a2       \u239b        ___  \u239e     \u2571              ___________                        \n",
        "\u23a2  41   \u239c  1   \u2572\u2571 3 \u22c5\u2148\u239f    \u2571  425537   4\u22c5\u2572\u2571 140629614                         \n",
        "\u23a2- \u2500\u2500 - \u239c- \u2500 + \u2500\u2500\u2500\u2500\u2500\u2500\u2500\u239f\u22c53 \u2571   \u2500\u2500\u2500\u2500\u2500\u2500 + \u2500\u2500\u2500\u2500\u2500\u2500\u2500\u2500\u2500\u2500\u2500\u2500\u2500\u2500\u2500  + \u2500\u2500\u2500\u2500\u2500\u2500\u2500\u2500\u2500\u2500\u2500\u2500\u2500\u2500\u2500\u2500\u2500\u2500\u2500\u2500\n",
        "\u23a2  9    \u239d  2      2   \u23a0 \u2572\u2571     729            81                              \n",
        "\u23a2                                                            \u239b        ___  \u239e  \n",
        "\u23a2                                                            \u239c  1   \u2572\u2571 3 \u22c5\u2148\u239f  \n",
        "\u23a2                                                         81\u22c5\u239c- \u2500 + \u2500\u2500\u2500\u2500\u2500\u2500\u2500\u239f\u22c53\n",
        "\u23a3                                                            \u239d  2      2   \u23a0 \u2572\n",
        "\n",
        "                                                                              \n",
        "                                                                              \n",
        "   1055                           41                          1055            \n",
        "\u2500\u2500\u2500\u2500\u2500\u2500\u2500\u2500\u2500\u2500\u2500\u2500\u2500\u2500\u2500\u2500\u2500\u2500\u2500\u2500\u2500\u2500\u2500\u2500\u2500\u2500\u2500\u2500\u2500\u2500, - \u2500\u2500 + \u2500\u2500\u2500\u2500\u2500\u2500\u2500\u2500\u2500\u2500\u2500\u2500\u2500\u2500\u2500\u2500\u2500\u2500\u2500\u2500\u2500\u2500\u2500\u2500\u2500\u2500\u2500\u2500\u2500\u2500\u2500\u2500\u2500\u2500\u2500\u2500\u2500\u2500\u2500\n",
        "    __________________________    9                            _______________\n",
        "   \u2571              ___________             \u239b        ___  \u239e     \u2571              _\n",
        "  \u2571  425537   4\u22c5\u2572\u2571 140629614              \u239c  1   \u2572\u2571 3 \u22c5\u2148\u239f    \u2571  425537   4\u22c5\u2572\u2571 \n",
        " \u2571   \u2500\u2500\u2500\u2500\u2500\u2500 + \u2500\u2500\u2500\u2500\u2500\u2500\u2500\u2500\u2500\u2500\u2500\u2500\u2500\u2500\u2500          81\u22c5\u239c- \u2500 - \u2500\u2500\u2500\u2500\u2500\u2500\u2500\u239f\u22c53 \u2571   \u2500\u2500\u2500\u2500\u2500\u2500 + \u2500\u2500\u2500\u2500\u2500\n",
        "\u2571     729            81                   \u239d  2      2   \u23a0 \u2572\u2571     729          \n",
        "\n",
        "                                   __________________________         ________\n",
        "              \u239b        ___  \u239e     \u2571              ___________         \u2571        \n",
        "              \u239c  1   \u2572\u2571 3 \u22c5\u2148\u239f    \u2571  425537   4\u22c5\u2572\u2571 140629614         \u2571  425537 \n",
        "\u2500\u2500\u2500\u2500\u2500\u2500\u2500\u2500\u2500\u2500\u2500 - \u239c- \u2500 - \u2500\u2500\u2500\u2500\u2500\u2500\u2500\u239f\u22c53 \u2571   \u2500\u2500\u2500\u2500\u2500\u2500 + \u2500\u2500\u2500\u2500\u2500\u2500\u2500\u2500\u2500\u2500\u2500\u2500\u2500\u2500\u2500 , - 3 \u2571   \u2500\u2500\u2500\u2500\u2500\u2500 \n",
        "___________   \u239d  2      2   \u23a0 \u2572\u2571     729            81           \u2572\u2571     729   \n",
        "__________                                                                    \n",
        "140629614                                                                     \n",
        "\u2500\u2500\u2500\u2500\u2500\u2500\u2500\u2500\u2500\u2500                                                                    \n",
        "  81                                                                          \n",
        "\n",
        "__________________                                          \u23a4\n",
        "      ___________                                           \u23a5\n",
        "  4\u22c5\u2572\u2571 140629614     41                  1055               \u23a5\n",
        "+ \u2500\u2500\u2500\u2500\u2500\u2500\u2500\u2500\u2500\u2500\u2500\u2500\u2500\u2500\u2500  - \u2500\u2500 + \u2500\u2500\u2500\u2500\u2500\u2500\u2500\u2500\u2500\u2500\u2500\u2500\u2500\u2500\u2500\u2500\u2500\u2500\u2500\u2500\u2500\u2500\u2500\u2500\u2500\u2500\u2500\u2500\u2500\u2500\u2500\u2500\u2500\u2500\u23a5\n",
        "         81          9            __________________________\u23a5\n",
        "                                 \u2571              ___________ \u23a5\n",
        "                                \u2571  425537   4\u22c5\u2572\u2571 140629614  \u23a5\n",
        "                          81\u22c53 \u2571   \u2500\u2500\u2500\u2500\u2500\u2500 + \u2500\u2500\u2500\u2500\u2500\u2500\u2500\u2500\u2500\u2500\u2500\u2500\u2500\u2500\u2500 \u23a5\n",
        "                             \u2572\u2571     729            81       \u23a6"
       ]
      }
     ],
     "prompt_number": 169
    },
    {
     "cell_type": "code",
     "collapsed": false,
     "input": [
      "simplify(_)"
     ],
     "language": "python",
     "metadata": {},
     "outputs": [
      {
       "latex": [
        "$$\\left[ - \\frac{41}{9} - \\left(- \\frac{1}{2} + \\frac{\\sqrt{3} i}{2}\\right) \\sqrt[3]{\\frac{425537}{729} + \\frac{4 \\sqrt{140629614}}{81}} + \\frac{1055}{81 \\left(- \\frac{1}{2} + \\frac{\\sqrt{3} i}{2}\\right) \\sqrt[3]{\\frac{425537}{729} + \\frac{4 \\sqrt{140629614}}{81}}}, \\, - \\frac{41}{9} + \\frac{1055}{81 \\left(- \\frac{1}{2} - \\frac{\\sqrt{3} i}{2}\\right) \\sqrt[3]{\\frac{425537}{729} + \\frac{4 \\sqrt{140629614}}{81}}} - \\left(- \\frac{1}{2} - \\frac{\\sqrt{3} i}{2}\\right) \\sqrt[3]{\\frac{425537}{729} + \\frac{4 \\sqrt{140629614}}{81}}, \\, - \\sqrt[3]{\\frac{425537}{729} + \\frac{4 \\sqrt{140629614}}{81}} - \\frac{41}{9} + \\frac{1055}{81 \\sqrt[3]{\\frac{425537}{729} + \\frac{4 \\sqrt{140629614}}{81}}} \\right]$$"
       ],
       "metadata": {},
       "output_type": "pyout",
       "png": "[encoded data removed]",
       "prompt_number": 170,
       "text": [
        "\u23a1                            __________________________                       \n",
        "\u23a2       \u239b        ___  \u239e     \u2571              ___________                        \n",
        "\u23a2  41   \u239c  1   \u2572\u2571 3 \u22c5\u2148\u239f    \u2571  425537   4\u22c5\u2572\u2571 140629614                         \n",
        "\u23a2- \u2500\u2500 - \u239c- \u2500 + \u2500\u2500\u2500\u2500\u2500\u2500\u2500\u239f\u22c53 \u2571   \u2500\u2500\u2500\u2500\u2500\u2500 + \u2500\u2500\u2500\u2500\u2500\u2500\u2500\u2500\u2500\u2500\u2500\u2500\u2500\u2500\u2500  + \u2500\u2500\u2500\u2500\u2500\u2500\u2500\u2500\u2500\u2500\u2500\u2500\u2500\u2500\u2500\u2500\u2500\u2500\u2500\u2500\n",
        "\u23a2  9    \u239d  2      2   \u23a0 \u2572\u2571     729            81                              \n",
        "\u23a2                                                            \u239b        ___  \u239e  \n",
        "\u23a2                                                            \u239c  1   \u2572\u2571 3 \u22c5\u2148\u239f  \n",
        "\u23a2                                                         81\u22c5\u239c- \u2500 + \u2500\u2500\u2500\u2500\u2500\u2500\u2500\u239f\u22c53\n",
        "\u23a3                                                            \u239d  2      2   \u23a0 \u2572\n",
        "\n",
        "                                                                              \n",
        "                                                                              \n",
        "   1055                           41                          1055            \n",
        "\u2500\u2500\u2500\u2500\u2500\u2500\u2500\u2500\u2500\u2500\u2500\u2500\u2500\u2500\u2500\u2500\u2500\u2500\u2500\u2500\u2500\u2500\u2500\u2500\u2500\u2500\u2500\u2500\u2500\u2500, - \u2500\u2500 + \u2500\u2500\u2500\u2500\u2500\u2500\u2500\u2500\u2500\u2500\u2500\u2500\u2500\u2500\u2500\u2500\u2500\u2500\u2500\u2500\u2500\u2500\u2500\u2500\u2500\u2500\u2500\u2500\u2500\u2500\u2500\u2500\u2500\u2500\u2500\u2500\u2500\u2500\u2500\n",
        "    __________________________    9                            _______________\n",
        "   \u2571              ___________             \u239b        ___  \u239e     \u2571              _\n",
        "  \u2571  425537   4\u22c5\u2572\u2571 140629614              \u239c  1   \u2572\u2571 3 \u22c5\u2148\u239f    \u2571  425537   4\u22c5\u2572\u2571 \n",
        " \u2571   \u2500\u2500\u2500\u2500\u2500\u2500 + \u2500\u2500\u2500\u2500\u2500\u2500\u2500\u2500\u2500\u2500\u2500\u2500\u2500\u2500\u2500          81\u22c5\u239c- \u2500 - \u2500\u2500\u2500\u2500\u2500\u2500\u2500\u239f\u22c53 \u2571   \u2500\u2500\u2500\u2500\u2500\u2500 + \u2500\u2500\u2500\u2500\u2500\n",
        "\u2571     729            81                   \u239d  2      2   \u23a0 \u2572\u2571     729          \n",
        "\n",
        "                                   __________________________         ________\n",
        "              \u239b        ___  \u239e     \u2571              ___________         \u2571        \n",
        "              \u239c  1   \u2572\u2571 3 \u22c5\u2148\u239f    \u2571  425537   4\u22c5\u2572\u2571 140629614         \u2571  425537 \n",
        "\u2500\u2500\u2500\u2500\u2500\u2500\u2500\u2500\u2500\u2500\u2500 - \u239c- \u2500 - \u2500\u2500\u2500\u2500\u2500\u2500\u2500\u239f\u22c53 \u2571   \u2500\u2500\u2500\u2500\u2500\u2500 + \u2500\u2500\u2500\u2500\u2500\u2500\u2500\u2500\u2500\u2500\u2500\u2500\u2500\u2500\u2500 , - 3 \u2571   \u2500\u2500\u2500\u2500\u2500\u2500 \n",
        "___________   \u239d  2      2   \u23a0 \u2572\u2571     729            81           \u2572\u2571     729   \n",
        "__________                                                                    \n",
        "140629614                                                                     \n",
        "\u2500\u2500\u2500\u2500\u2500\u2500\u2500\u2500\u2500\u2500                                                                    \n",
        "  81                                                                          \n",
        "\n",
        "__________________                                          \u23a4\n",
        "      ___________                                           \u23a5\n",
        "  4\u22c5\u2572\u2571 140629614     41                  1055               \u23a5\n",
        "+ \u2500\u2500\u2500\u2500\u2500\u2500\u2500\u2500\u2500\u2500\u2500\u2500\u2500\u2500\u2500  - \u2500\u2500 + \u2500\u2500\u2500\u2500\u2500\u2500\u2500\u2500\u2500\u2500\u2500\u2500\u2500\u2500\u2500\u2500\u2500\u2500\u2500\u2500\u2500\u2500\u2500\u2500\u2500\u2500\u2500\u2500\u2500\u2500\u2500\u2500\u2500\u2500\u23a5\n",
        "         81          9            __________________________\u23a5\n",
        "                                 \u2571              ___________ \u23a5\n",
        "                                \u2571  425537   4\u22c5\u2572\u2571 140629614  \u23a5\n",
        "                          81\u22c53 \u2571   \u2500\u2500\u2500\u2500\u2500\u2500 + \u2500\u2500\u2500\u2500\u2500\u2500\u2500\u2500\u2500\u2500\u2500\u2500\u2500\u2500\u2500 \u23a5\n",
        "                             \u2572\u2571     729            81       \u23a6"
       ]
      }
     ],
     "prompt_number": 170
    },
    {
     "cell_type": "code",
     "collapsed": false,
     "input": [
      "simplify(_[0])\n"
     ],
     "language": "python",
     "metadata": {},
     "outputs": [
      {
       "latex": [
        "$$\\frac{1}{18 \\left(1 - \\sqrt{3} i\\right) \\sqrt[3]{425537 + 36 \\sqrt{140629614}}} \\left(-4220 + \\left(-82 + \\left(1 - \\sqrt{3} i\\right) \\sqrt[3]{425537 + 36 \\sqrt{140629614}}\\right) \\left(1 - \\sqrt{3} i\\right) \\sqrt[3]{425537 + 36 \\sqrt{140629614}}\\right)$$"
       ],
       "metadata": {},
       "output_type": "pyout",
       "png": "[encoded data removed]",
       "prompt_number": 171,
       "text": [
        "        \u239b                       ___________________________\u239e                  \n",
        "        \u239c      \u239b      ___  \u239e 3 \u2571               ___________ \u239f \u239b      ___  \u239e 3 \u2571\n",
        "-4220 + \u239d-82 + \u239d1 - \u2572\u2571 3 \u22c5\u2148\u23a0\u22c5\u2572\u2571  425537 + 36\u22c5\u2572\u2571 140629614  \u23a0\u22c5\u239d1 - \u2572\u2571 3 \u22c5\u2148\u23a0\u22c5\u2572\u2571 \n",
        "\u2500\u2500\u2500\u2500\u2500\u2500\u2500\u2500\u2500\u2500\u2500\u2500\u2500\u2500\u2500\u2500\u2500\u2500\u2500\u2500\u2500\u2500\u2500\u2500\u2500\u2500\u2500\u2500\u2500\u2500\u2500\u2500\u2500\u2500\u2500\u2500\u2500\u2500\u2500\u2500\u2500\u2500\u2500\u2500\u2500\u2500\u2500\u2500\u2500\u2500\u2500\u2500\u2500\u2500\u2500\u2500\u2500\u2500\u2500\u2500\u2500\u2500\u2500\u2500\u2500\u2500\u2500\u2500\u2500\u2500\u2500\u2500\u2500\u2500\u2500\u2500\u2500\u2500\n",
        "                                                 ___________________________  \n",
        "                                \u239b      ___  \u239e 3 \u2571               ___________   \n",
        "                             18\u22c5\u239d1 - \u2572\u2571 3 \u22c5\u2148\u23a0\u22c5\u2572\u2571  425537 + 36\u22c5\u2572\u2571 140629614    \n",
        "\n",
        "___________________________\n",
        "               ___________ \n",
        " 425537 + 36\u22c5\u2572\u2571 140629614  \n",
        "\u2500\u2500\u2500\u2500\u2500\u2500\u2500\u2500\u2500\u2500\u2500\u2500\u2500\u2500\u2500\u2500\u2500\u2500\u2500\u2500\u2500\u2500\u2500\u2500\u2500\u2500\u2500\n",
        "                           \n",
        "                           \n",
        "                           "
       ]
      }
     ],
     "prompt_number": 171
    },
    {
     "cell_type": "code",
     "collapsed": false,
     "input": [
      "[i.n() for i in _]"
     ],
     "language": "python",
     "metadata": {},
     "outputs": [
      {
       "latex": [
        "$$\\left[ 0.0939556239646855 - 10.1945052209278 i, \\, 0.0939556239646855 + 10.1945052209278 i, \\, -13.854577914596 \\right]$$"
       ],
       "metadata": {},
       "output_type": "pyout",
       "png": "[encoded data removed]",
       "prompt_number": 159,
       "text": [
        "[0.0939556239646855 - 10.1945052209278\u22c5\u2148, 0.0939556239646855 + 10.194505220927\n",
        "8\u22c5\u2148, -13.854577914596]"
       ]
      }
     ],
     "prompt_number": 159
    },
    {
     "cell_type": "code",
     "collapsed": false,
     "input": [],
     "language": "python",
     "metadata": {},
     "outputs": []
    }
   ],
   "metadata": {}
  }
 ]
}