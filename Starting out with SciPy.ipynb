{
 "metadata": {
  "name": "",
  "signature": "sha256:79ae6092a0a724068e7a7038aa309984da4467c4fa06177bcaf10a5fc2893918"
 },
 "nbformat": 3,
 "nbformat_minor": 0,
 "worksheets": [
  {
   "cells": [
    {
     "cell_type": "heading",
     "level": 1,
     "metadata": {},
     "source": [
      "Getting started with Scientific Python: \n",
      "the IPython Notebook, `numpy` and `matplotlib`"
     ]
    },
    {
     "cell_type": "markdown",
     "metadata": {},
     "source": [
      "In this notebook, we will begin to explore the tools that make up the Scientific Python (SciPy) \"stack\" or \"ecosystem\". The fundamental ones are the **IPython Notebook**, the **numpy** package for arrays, and the **matplotlib** scientific plotting package."
     ]
    },
    {
     "cell_type": "code",
     "collapsed": false,
     "input": [
      "# 2.7 / 3 compatibility:\n",
      "from __future__ import print_function, division"
     ],
     "language": "python",
     "metadata": {},
     "outputs": [],
     "prompt_number": 106
    },
    {
     "cell_type": "heading",
     "level": 1,
     "metadata": {},
     "source": [
      "The IPython Notebook"
     ]
    },
    {
     "cell_type": "markdown",
     "metadata": {},
     "source": [
      "This document is an IPython notebook document, which is an interactive computational document that can be modified and executed in the IPython Notebook web application, a fantastic way to produce computational workflows that mix rich text, Python (and other languages) code, graphics, and other multimedia.\n",
      "\n",
      "The structure of a notebook document is based on **cells**, which are executed using `Shift-Enter`. These cells have different types"
     ]
    },
    {
     "cell_type": "heading",
     "level": 1,
     "metadata": {},
     "source": [
      "Looking at mathematical functions: `numpy`"
     ]
    },
    {
     "cell_type": "markdown",
     "metadata": {},
     "source": [
      "Let's start with a simple scientific problem: just visualizing some data"
     ]
    },
    {
     "cell_type": "code",
     "collapsed": false,
     "input": [
      "import numpy as np"
     ],
     "language": "python",
     "metadata": {},
     "outputs": [],
     "prompt_number": 1
    },
    {
     "cell_type": "markdown",
     "metadata": {},
     "source": [
      "Let's create some data by evaluating a function, `sin`"
     ]
    },
    {
     "cell_type": "markdown",
     "metadata": {},
     "source": [
      "Replace `range` by `arange`:"
     ]
    },
    {
     "cell_type": "code",
     "collapsed": false,
     "input": [
      "help(np.arange)"
     ],
     "language": "python",
     "metadata": {},
     "outputs": [
      {
       "output_type": "stream",
       "stream": "stdout",
       "text": [
        "Help on built-in function arange in module numpy.core.multiarray:\n",
        "\n",
        "arange(...)\n",
        "    arange([start,] stop[, step,], dtype=None)\n",
        "    \n",
        "    Return evenly spaced values within a given interval.\n",
        "    \n",
        "    Values are generated within the half-open interval ``[start, stop)``\n",
        "    (in other words, the interval including `start` but excluding `stop`).\n",
        "    For integer arguments the function is equivalent to the Python built-in\n",
        "    `range <http://docs.python.org/lib/built-in-funcs.html>`_ function,\n",
        "    but returns an ndarray rather than a list.\n",
        "    \n",
        "    When using a non-integer step, such as 0.1, the results will often not\n",
        "    be consistent.  It is better to use ``linspace`` for these cases.\n",
        "    \n",
        "    Parameters\n",
        "    ----------\n",
        "    start : number, optional\n",
        "        Start of interval.  The interval includes this value.  The default\n",
        "        start value is 0.\n",
        "    stop : number\n",
        "        End of interval.  The interval does not include this value, except\n",
        "        in some cases where `step` is not an integer and floating point\n",
        "        round-off affects the length of `out`.\n",
        "    step : number, optional\n",
        "        Spacing between values.  For any output `out`, this is the distance\n",
        "        between two adjacent values, ``out[i+1] - out[i]``.  The default\n",
        "        step size is 1.  If `step` is specified, `start` must also be given.\n",
        "    dtype : dtype\n",
        "        The type of the output array.  If `dtype` is not given, infer the data\n",
        "        type from the other input arguments.\n",
        "    \n",
        "    Returns\n",
        "    -------\n",
        "    arange : ndarray\n",
        "        Array of evenly spaced values.\n",
        "    \n",
        "        For floating point arguments, the length of the result is\n",
        "        ``ceil((stop - start)/step)``.  Because of floating point overflow,\n",
        "        this rule may result in the last element of `out` being greater\n",
        "        than `stop`.\n",
        "    \n",
        "    See Also\n",
        "    --------\n",
        "    linspace : Evenly spaced numbers with careful handling of endpoints.\n",
        "    ogrid: Arrays of evenly spaced numbers in N-dimensions.\n",
        "    mgrid: Grid-shaped arrays of evenly spaced numbers in N-dimensions.\n",
        "    \n",
        "    Examples\n",
        "    --------\n",
        "    >>> np.arange(3)\n",
        "    array([0, 1, 2])\n",
        "    >>> np.arange(3.0)\n",
        "    array([ 0.,  1.,  2.])\n",
        "    >>> np.arange(3,7)\n",
        "    array([3, 4, 5, 6])\n",
        "    >>> np.arange(3,7,2)\n",
        "    array([3, 5])\n",
        "\n"
       ]
      }
     ],
     "prompt_number": 7
    },
    {
     "cell_type": "code",
     "collapsed": false,
     "input": [
      "np.arange(-2.*pi, 2.*pi, 0.1)"
     ],
     "language": "python",
     "metadata": {},
     "outputs": [
      {
       "metadata": {},
       "output_type": "pyout",
       "prompt_number": 10,
       "text": [
        "array([-6.28318531, -6.18318531, -6.08318531, -5.98318531, -5.88318531,\n",
        "       -5.78318531, -5.68318531, -5.58318531, -5.48318531, -5.38318531,\n",
        "       -5.28318531, -5.18318531, -5.08318531, -4.98318531, -4.88318531,\n",
        "       -4.78318531, -4.68318531, -4.58318531, -4.48318531, -4.38318531,\n",
        "       -4.28318531, -4.18318531, -4.08318531, -3.98318531, -3.88318531,\n",
        "       -3.78318531, -3.68318531, -3.58318531, -3.48318531, -3.38318531,\n",
        "       -3.28318531, -3.18318531, -3.08318531, -2.98318531, -2.88318531,\n",
        "       -2.78318531, -2.68318531, -2.58318531, -2.48318531, -2.38318531,\n",
        "       -2.28318531, -2.18318531, -2.08318531, -1.98318531, -1.88318531,\n",
        "       -1.78318531, -1.68318531, -1.58318531, -1.48318531, -1.38318531,\n",
        "       -1.28318531, -1.18318531, -1.08318531, -0.98318531, -0.88318531,\n",
        "       -0.78318531, -0.68318531, -0.58318531, -0.48318531, -0.38318531,\n",
        "       -0.28318531, -0.18318531, -0.08318531,  0.01681469,  0.11681469,\n",
        "        0.21681469,  0.31681469,  0.41681469,  0.51681469,  0.61681469,\n",
        "        0.71681469,  0.81681469,  0.91681469,  1.01681469,  1.11681469,\n",
        "        1.21681469,  1.31681469,  1.41681469,  1.51681469,  1.61681469,\n",
        "        1.71681469,  1.81681469,  1.91681469,  2.01681469,  2.11681469,\n",
        "        2.21681469,  2.31681469,  2.41681469,  2.51681469,  2.61681469,\n",
        "        2.71681469,  2.81681469,  2.91681469,  3.01681469,  3.11681469,\n",
        "        3.21681469,  3.31681469,  3.41681469,  3.51681469,  3.61681469,\n",
        "        3.71681469,  3.81681469,  3.91681469,  4.01681469,  4.11681469,\n",
        "        4.21681469,  4.31681469,  4.41681469,  4.51681469,  4.61681469,\n",
        "        4.71681469,  4.81681469,  4.91681469,  5.01681469,  5.11681469,\n",
        "        5.21681469,  5.31681469,  5.41681469,  5.51681469,  5.61681469,\n",
        "        5.71681469,  5.81681469,  5.91681469,  6.01681469,  6.11681469,\n",
        "        6.21681469])"
       ]
      }
     ],
     "prompt_number": 10
    },
    {
     "cell_type": "code",
     "collapsed": false,
     "input": [
      "x = np.arange(-2.*np.pi, 2.*np.pi, 0.1)"
     ],
     "language": "python",
     "metadata": {},
     "outputs": [],
     "prompt_number": 13
    },
    {
     "cell_type": "markdown",
     "metadata": {},
     "source": [
      "NB: We could import the functions that we will use with `from numpy import sin` etc., but for the purposes, at least, of this tutorial, it is more useful to keep track of where they live."
     ]
    },
    {
     "cell_type": "markdown",
     "metadata": {},
     "source": [
      "What kind of object is `x`?"
     ]
    },
    {
     "cell_type": "code",
     "collapsed": false,
     "input": [
      "type(x)"
     ],
     "language": "python",
     "metadata": {},
     "outputs": [
      {
       "metadata": {},
       "output_type": "pyout",
       "prompt_number": 14,
       "text": [
        "numpy.ndarray"
       ]
      }
     ],
     "prompt_number": 14
    },
    {
     "cell_type": "markdown",
     "metadata": {},
     "source": [
      "This is a new type (class), defined in `numpy`, that represents an $n$-dimensional array (hence the name)."
     ]
    },
    {
     "cell_type": "markdown",
     "metadata": {},
     "source": [
      "As any object in Python, `x` has properties, i.e. internal variables that belong to it, and methods, i.e. functions that act on it. IPython allows us to discover these properties (*introspect*) using the `TAB` key, by typing `x.<TAB>`. [The creator of IPython refers to this as weaponizing the `TAB` key, but if we prefer to avoid military references, we could talk about *empowering* it instead.]"
     ]
    },
    {
     "cell_type": "markdown",
     "metadata": {},
     "source": [
      "--------\n",
      "\n",
      "**Exercise**: Before reading on, play around with `x`; try to find out information about it and do things with it by investigating its properties and methods.\n",
      "\n",
      "---------"
     ]
    },
    {
     "cell_type": "markdown",
     "metadata": {},
     "source": [
      "Some examples of useful things we can do with `x`:"
     ]
    },
    {
     "cell_type": "code",
     "collapsed": false,
     "input": [
      "x.shape  # size in each of the dimensions of x; returns a tuple"
     ],
     "language": "python",
     "metadata": {},
     "outputs": [
      {
       "metadata": {},
       "output_type": "pyout",
       "prompt_number": 18,
       "text": [
        "(126,)"
       ]
      }
     ],
     "prompt_number": 18
    },
    {
     "cell_type": "code",
     "collapsed": false,
     "input": [
      "x.sum()  # sum of the elements of x, perhaps a surprising result!"
     ],
     "language": "python",
     "metadata": {},
     "outputs": [
      {
       "metadata": {},
       "output_type": "pyout",
       "prompt_number": 19,
       "text": [
        "-4.1813487046305955"
       ]
      }
     ],
     "prompt_number": 19
    },
    {
     "cell_type": "markdown",
     "metadata": {},
     "source": [
      "An alternative, often less subtle, way of generating ranges of numbers is using `np.linspace`:"
     ]
    },
    {
     "cell_type": "code",
     "collapsed": false,
     "input": [
      "x = np.linspace(-2.*np.pi, 2.*np.pi, 31)"
     ],
     "language": "python",
     "metadata": {},
     "outputs": [],
     "prompt_number": 47
    },
    {
     "cell_type": "code",
     "collapsed": false,
     "input": [
      "x.sum()  "
     ],
     "language": "python",
     "metadata": {},
     "outputs": [
      {
       "metadata": {},
       "output_type": "pyout",
       "prompt_number": 48,
       "text": [
        "-8.8817841970012523e-15"
       ]
      }
     ],
     "prompt_number": 48
    },
    {
     "cell_type": "markdown",
     "metadata": {},
     "source": [
      "This is more in line with our symmetry expectations!"
     ]
    },
    {
     "cell_type": "code",
     "collapsed": false,
     "input": [
      "x"
     ],
     "language": "python",
     "metadata": {},
     "outputs": [
      {
       "metadata": {},
       "output_type": "pyout",
       "prompt_number": 49,
       "text": [
        "array([-6.28318531, -5.86430629, -5.44542727, -5.02654825, -4.60766923,\n",
        "       -4.1887902 , -3.76991118, -3.35103216, -2.93215314, -2.51327412,\n",
        "       -2.0943951 , -1.67551608, -1.25663706, -0.83775804, -0.41887902,\n",
        "        0.        ,  0.41887902,  0.83775804,  1.25663706,  1.67551608,\n",
        "        2.0943951 ,  2.51327412,  2.93215314,  3.35103216,  3.76991118,\n",
        "        4.1887902 ,  4.60766923,  5.02654825,  5.44542727,  5.86430629,\n",
        "        6.28318531])"
       ]
      }
     ],
     "prompt_number": 49
    },
    {
     "cell_type": "markdown",
     "metadata": {},
     "source": [
      "We now wish to evaluate the `sin` function in each of these values of $x$. Standard Python provides us with several ways of doing this. Two of the neatest are \"functional\" approaches: list comprehensions and the `map` function. [In Python 3, `map` no longer returns a list.]"
     ]
    },
    {
     "cell_type": "code",
     "collapsed": false,
     "input": [
      "s1 = [sin(xx) for xx in x]\n",
      "s2 = map(sin, x)"
     ],
     "language": "python",
     "metadata": {},
     "outputs": [],
     "prompt_number": 43
    },
    {
     "cell_type": "markdown",
     "metadata": {},
     "source": [
      "However, we have now left the `numpy` world:"
     ]
    },
    {
     "cell_type": "code",
     "collapsed": false,
     "input": [
      "type(s1), type(s2)"
     ],
     "language": "python",
     "metadata": {},
     "outputs": [
      {
       "metadata": {},
       "output_type": "pyout",
       "prompt_number": 44,
       "text": [
        "(list, list)"
       ]
      }
     ],
     "prompt_number": 44
    },
    {
     "cell_type": "markdown",
     "metadata": {},
     "source": [
      "Of course, it's easy to get back: we can pass a list to the `np.array` function to convert it into a `numpy` array:"
     ]
    },
    {
     "cell_type": "code",
     "collapsed": false,
     "input": [
      "s3 = np.array(s1);"
     ],
     "language": "python",
     "metadata": {},
     "outputs": [],
     "prompt_number": 45
    },
    {
     "cell_type": "markdown",
     "metadata": {},
     "source": [
      "However, this is inefficient, since we have created an intermediate copy of all the data.\n",
      "\n",
      "Instead, `numpy` (and `scipy` etc.) are based around *vectorized* versions of functions. These operate on a `numpy` array and return a new array of the same type:"
     ]
    },
    {
     "cell_type": "code",
     "collapsed": false,
     "input": [
      "y = np.sin(x)\n",
      "y"
     ],
     "language": "python",
     "metadata": {},
     "outputs": [
      {
       "metadata": {},
       "output_type": "pyout",
       "prompt_number": 50,
       "text": [
        "array([  2.44929360e-16,   4.06736643e-01,   7.43144825e-01,\n",
        "         9.51056516e-01,   9.94521895e-01,   8.66025404e-01,\n",
        "         5.87785252e-01,   2.07911691e-01,  -2.07911691e-01,\n",
        "        -5.87785252e-01,  -8.66025404e-01,  -9.94521895e-01,\n",
        "        -9.51056516e-01,  -7.43144825e-01,  -4.06736643e-01,\n",
        "         0.00000000e+00,   4.06736643e-01,   7.43144825e-01,\n",
        "         9.51056516e-01,   9.94521895e-01,   8.66025404e-01,\n",
        "         5.87785252e-01,   2.07911691e-01,  -2.07911691e-01,\n",
        "        -5.87785252e-01,  -8.66025404e-01,  -9.94521895e-01,\n",
        "        -9.51056516e-01,  -7.43144825e-01,  -4.06736643e-01,\n",
        "        -2.44929360e-16])"
       ]
      }
     ],
     "prompt_number": 50
    },
    {
     "cell_type": "markdown",
     "metadata": {},
     "source": [
      "What is `np.sin`?"
     ]
    },
    {
     "cell_type": "code",
     "collapsed": false,
     "input": [
      "np.sin"
     ],
     "language": "python",
     "metadata": {},
     "outputs": [
      {
       "metadata": {},
       "output_type": "pyout",
       "prompt_number": 51,
       "text": [
        "<ufunc 'sin'>"
       ]
      }
     ],
     "prompt_number": 51
    },
    {
     "cell_type": "markdown",
     "metadata": {},
     "source": [
      "It is a \"ufunc\", i.e. a \"universal function\", that knows how to operate both on floating-point numbers and on complete arrays.\n",
      "\n",
      "The idea of `numpy` is that we should think in a vectorized way, always trying to operate in this way on complete arrays as a unit. In this way, we can forget about the internal implementation details, which, in fact, could be rather complicated these days, when multicore machines and GPUs are involved. We just specify the desired result, and let somebody else do the hard work of figuring out what's going on underneath to make it all happen!"
     ]
    },
    {
     "cell_type": "heading",
     "level": 2,
     "metadata": {},
     "source": [
      "Arithmetic on vectors"
     ]
    },
    {
     "cell_type": "markdown",
     "metadata": {},
     "source": [
      "`numpy` also, of course, provides the missing vector, matrix etc. functionality that does not come in standard Python.\n",
      "\n",
      "At first glance, Python lists seem like they should work find as vectors:"
     ]
    },
    {
     "cell_type": "code",
     "collapsed": false,
     "input": [
      "v = [3., 4., 5.]\n",
      "v"
     ],
     "language": "python",
     "metadata": {},
     "outputs": [
      {
       "metadata": {},
       "output_type": "pyout",
       "prompt_number": 52,
       "text": [
        "[3.0, 4.0, 5.0]"
       ]
      }
     ],
     "prompt_number": 52
    },
    {
     "cell_type": "markdown",
     "metadata": {},
     "source": [
      "But we quickly find out that that's not the case:"
     ]
    },
    {
     "cell_type": "code",
     "collapsed": false,
     "input": [
      "v + v"
     ],
     "language": "python",
     "metadata": {},
     "outputs": [
      {
       "metadata": {},
       "output_type": "pyout",
       "prompt_number": 53,
       "text": [
        "[3.0, 4.0, 5.0, 3.0, 4.0, 5.0]"
       ]
      }
     ],
     "prompt_number": 53
    },
    {
     "cell_type": "code",
     "collapsed": false,
     "input": [
      "3.5 * v"
     ],
     "language": "python",
     "metadata": {},
     "outputs": [
      {
       "ename": "TypeError",
       "evalue": "can't multiply sequence by non-int of type 'float'",
       "output_type": "pyerr",
       "traceback": [
        "\u001b[0;31m---------------------------------------------------------------------------\u001b[0m\n\u001b[0;31mTypeError\u001b[0m                                 Traceback (most recent call last)",
        "\u001b[0;32m<ipython-input-54-a0712e28c078>\u001b[0m in \u001b[0;36m<module>\u001b[0;34m()\u001b[0m\n\u001b[0;32m----> 1\u001b[0;31m \u001b[0;36m3.5\u001b[0m \u001b[0;34m*\u001b[0m \u001b[0mv\u001b[0m\u001b[0;34m\u001b[0m\u001b[0m\n\u001b[0m",
        "\u001b[0;31mTypeError\u001b[0m: can't multiply sequence by non-int of type 'float'"
       ]
      }
     ],
     "prompt_number": 54
    },
    {
     "cell_type": "markdown",
     "metadata": {},
     "source": [
      "`numpy` is designed to provide this missing functionality via its `ndarray` type. The *constructor*, i.e. the function which creates objects of this type, is the function `np.array`. It accepts lists (and other iterables) and creates a version as an `ndarray`:"
     ]
    },
    {
     "cell_type": "code",
     "collapsed": false,
     "input": [
      "x = np.array( [1., 2., 3.] )  # careful with the order of the parentheses and the square brackets!\n",
      "y = np.array( [3., 4, 5] )"
     ],
     "language": "python",
     "metadata": {},
     "outputs": [],
     "prompt_number": 69
    },
    {
     "cell_type": "code",
     "collapsed": false,
     "input": [
      "print(x)"
     ],
     "language": "python",
     "metadata": {},
     "outputs": [
      {
       "output_type": "stream",
       "stream": "stdout",
       "text": [
        "[ 1.  2.  3.]\n"
       ]
      }
     ],
     "prompt_number": 70
    },
    {
     "cell_type": "markdown",
     "metadata": {},
     "source": [
      "Arithmetic operations now just work!:"
     ]
    },
    {
     "cell_type": "code",
     "collapsed": false,
     "input": [
      "x + y"
     ],
     "language": "python",
     "metadata": {},
     "outputs": [
      {
       "metadata": {},
       "output_type": "pyout",
       "prompt_number": 71,
       "text": [
        "array([ 4.,  6.,  8.])"
       ]
      }
     ],
     "prompt_number": 71
    },
    {
     "cell_type": "code",
     "collapsed": false,
     "input": [
      "(x + y).dtype"
     ],
     "language": "python",
     "metadata": {},
     "outputs": [
      {
       "metadata": {},
       "output_type": "pyout",
       "prompt_number": 72,
       "text": [
        "dtype('float64')"
       ]
      }
     ],
     "prompt_number": 72
    },
    {
     "cell_type": "code",
     "collapsed": false,
     "input": [
      "-3.5 * x"
     ],
     "language": "python",
     "metadata": {},
     "outputs": [
      {
       "metadata": {},
       "output_type": "pyout",
       "prompt_number": 73,
       "text": [
        "array([ -3.5,  -7. , -10.5])"
       ]
      }
     ],
     "prompt_number": 73
    },
    {
     "cell_type": "markdown",
     "metadata": {},
     "source": [
      "We can, for example, use complex numbers:"
     ]
    },
    {
     "cell_type": "code",
     "collapsed": false,
     "input": [
      "z = 3j * x"
     ],
     "language": "python",
     "metadata": {},
     "outputs": [],
     "prompt_number": 75
    },
    {
     "cell_type": "code",
     "collapsed": false,
     "input": [
      "z.dtype  # \"datatype\""
     ],
     "language": "python",
     "metadata": {},
     "outputs": [
      {
       "metadata": {},
       "output_type": "pyout",
       "prompt_number": 76,
       "text": [
        "dtype('complex128')"
       ]
      }
     ],
     "prompt_number": 76
    },
    {
     "cell_type": "markdown",
     "metadata": {},
     "source": [
      "We see that `numpy` arrays have associated a data type: all elements must be of the same type (unlike in standard Python lists). This is for efficiency purposes."
     ]
    },
    {
     "cell_type": "markdown",
     "metadata": {},
     "source": [
      "-----------\n",
      "\n",
      "**Exercise**: Play around with arithmetic and mathematical operations on `numpy` arrays.\n",
      "\n",
      "-----------"
     ]
    },
    {
     "cell_type": "heading",
     "level": 2,
     "metadata": {},
     "source": [
      "What is `numpy`?"
     ]
    },
    {
     "cell_type": "markdown",
     "metadata": {},
     "source": [
      "`numpy` thus can be thought of as providing two things:\n",
      "\n",
      "- a numerical array type, suitable for scientific data (vectors, matrices, etc.)\n",
      "- vectorized operations for operating on arrays"
     ]
    },
    {
     "cell_type": "markdown",
     "metadata": {},
     "source": [
      "-----------"
     ]
    },
    {
     "cell_type": "heading",
     "level": 1,
     "metadata": {},
     "source": [
      "Visualizing it: `matplotlib`"
     ]
    },
    {
     "cell_type": "markdown",
     "metadata": {},
     "source": [
      "Now we have some data, that could have come from an experiment, or a social network, etc., stored in a `numpy` array. The next thing to do is - obviously - to visualize it to see what's going on.\n",
      "\n",
      "The standard scientific graphing package, which forms part of the core SciPy stack, is `matplotlib`, so called because it was originally designed to have a MATLAB compatibility layer. This easy-to-use layer is called `pyplot`, and it is standard to import it with the name `plt`:"
     ]
    },
    {
     "cell_type": "code",
     "collapsed": false,
     "input": [
      "import matplotlib.pyplot as plt"
     ],
     "language": "python",
     "metadata": {},
     "outputs": [],
     "prompt_number": 77
    },
    {
     "cell_type": "markdown",
     "metadata": {},
     "source": [
      "-------\n",
      "\n",
      "**Exercise**: Investigate the contents of the `pyplot` submodule.\n",
      "\n",
      "-------"
     ]
    },
    {
     "cell_type": "markdown",
     "metadata": {},
     "source": [
      "Let's recap how to get our data:"
     ]
    },
    {
     "cell_type": "code",
     "collapsed": false,
     "input": [
      "x = np.linspace(-2.*np.pi, 2.*np.pi, 101)\n",
      "y = np.sin(x)"
     ],
     "language": "python",
     "metadata": {},
     "outputs": [],
     "prompt_number": 80
    },
    {
     "cell_type": "markdown",
     "metadata": {},
     "source": [
      "Now we plot it:"
     ]
    },
    {
     "cell_type": "code",
     "collapsed": false,
     "input": [
      "plt.plot(x, y)"
     ],
     "language": "python",
     "metadata": {},
     "outputs": [
      {
       "metadata": {},
       "output_type": "pyout",
       "prompt_number": 82,
       "text": [
        "[<matplotlib.lines.Line2D at 0x106d15b90>]"
       ]
      }
     ],
     "prompt_number": 82
    },
    {
     "cell_type": "markdown",
     "metadata": {},
     "source": [
      "But nothing happens! We need to `show` it:"
     ]
    },
    {
     "cell_type": "code",
     "collapsed": false,
     "input": [
      "plt.show()"
     ],
     "language": "python",
     "metadata": {},
     "outputs": [],
     "prompt_number": 83
    },
    {
     "cell_type": "markdown",
     "metadata": {},
     "source": [
      "We see that the plot is generated in a separate window, and control is *not* returned to IPython until we close the window; this is a threading issue. This is not good, so let's improve the situation. We must do some backend stuff so that IPython communicates in a more useful way with `matplotlib`:"
     ]
    },
    {
     "cell_type": "code",
     "collapsed": false,
     "input": [
      "%matplotlib"
     ],
     "language": "python",
     "metadata": {},
     "outputs": [
      {
       "output_type": "stream",
       "stream": "stdout",
       "text": [
        "Using matplotlib backend: MacOSX\n"
       ]
      }
     ],
     "prompt_number": 84
    },
    {
     "cell_type": "markdown",
     "metadata": {},
     "source": [
      "Commands with an initial `%` are internal IPython commands (**magic functions** or **magics**). This one sets up the necessary communication. *However*, it does not actually import any names into the current namespace from `matplotlib`, so  `import matplotlib.pyplot as plt` is still necessary."
     ]
    },
    {
     "cell_type": "code",
     "collapsed": false,
     "input": [
      "plt.plot(x,y)"
     ],
     "language": "python",
     "metadata": {},
     "outputs": [
      {
       "metadata": {},
       "output_type": "pyout",
       "prompt_number": 85,
       "text": [
        "[<matplotlib.lines.Line2D at 0x106ead890>]"
       ]
      }
     ],
     "prompt_number": 85
    },
    {
     "cell_type": "markdown",
     "metadata": {},
     "source": [
      "We see that the plot is still generated in a separate window, but we can continue to work in IPython at the same time. \n",
      "\n",
      "When the plot is in a separate window like this (rendered using a certain \"backend\", that will depend on which windowing libraries matplotlib was compiled with support for), it can be panned, zoomed and saved."
     ]
    },
    {
     "cell_type": "markdown",
     "metadata": {},
     "source": [
      "For many purposes, however, it would be useful to have the figure includled within the same notebook document; in particular, in order to include it when sending it to somebody or exporting it. This can be accomplished with:"
     ]
    },
    {
     "cell_type": "code",
     "collapsed": false,
     "input": [
      "%matplotlib inline"
     ],
     "language": "python",
     "metadata": {},
     "outputs": [],
     "prompt_number": 86
    },
    {
     "cell_type": "code",
     "collapsed": false,
     "input": [
      "plt.plot(x, y)"
     ],
     "language": "python",
     "metadata": {},
     "outputs": [
      {
       "metadata": {},
       "output_type": "pyout",
       "prompt_number": 87,
       "text": [
        "[<matplotlib.lines.Line2D at 0x10aa576d0>]"
       ]
      },
      {
       "metadata": {},
       "output_type": "display_data",
       "png": "[encoded data removed]",
       "text": [
        "<matplotlib.figure.Figure at 0x106eb46d0>"
       ]
      }
     ],
     "prompt_number": 87
    },
    {
     "cell_type": "markdown",
     "metadata": {},
     "source": [
      "Currently, it is not possible to modify such plots interactively in the same way as with external windows; however, this functionality is in preparation and should be included in `matplotlib` soon."
     ]
    },
    {
     "cell_type": "markdown",
     "metadata": {},
     "source": [
      "Several plot commands can be included in the same graph. Plot styles may be changed; axis labels and legends may be added."
     ]
    },
    {
     "cell_type": "code",
     "collapsed": false,
     "input": [
      "plt.plot(x, np.sin(x), label=\"$\\sin(x)$\")\n",
      "plt.plot(x, np.cos(x), \"ro--\", label=\"$\\cos(x)$\")  # red points and dashed lines\n",
      "plt.xlabel(\"$x$\", size=20)\n",
      "plt.ylabel(\"$\\sin(x), \\cos(x)$\", size=20)\n",
      "plt.legend()\n"
     ],
     "language": "python",
     "metadata": {},
     "outputs": [
      {
       "metadata": {},
       "output_type": "pyout",
       "prompt_number": 96,
       "text": [
        "<matplotlib.legend.Legend at 0x10c55f950>"
       ]
      },
      {
       "metadata": {},
       "output_type": "display_data",
       "png": "[encoded data removed]",
       "text": [
        "<matplotlib.figure.Figure at 0x10bf61810>"
       ]
      }
     ],
     "prompt_number": 96
    },
    {
     "cell_type": "markdown",
     "metadata": {},
     "source": [
      "The graph may be saved using"
     ]
    },
    {
     "cell_type": "code",
     "collapsed": false,
     "input": [
      "plt.savefig(\"sincos.pdf\")"
     ],
     "language": "python",
     "metadata": {},
     "outputs": [
      {
       "metadata": {},
       "output_type": "display_data",
       "text": [
        "<matplotlib.figure.Figure at 0x106dd9850>"
       ]
      }
     ],
     "prompt_number": 90
    },
    {
     "cell_type": "markdown",
     "metadata": {},
     "source": [
      "`matplotlib` includes a subset of LaTeX notation. The labels may also be processed by LaTeX if required."
     ]
    },
    {
     "cell_type": "markdown",
     "metadata": {},
     "source": [
      "Help may be obtained in IPython using `?`. The documentation for `plot` includes full details of the options for point and line types, colours, etc."
     ]
    },
    {
     "cell_type": "code",
     "collapsed": false,
     "input": [
      "plt.plot?"
     ],
     "language": "python",
     "metadata": {},
     "outputs": [],
     "prompt_number": 95
    },
    {
     "cell_type": "markdown",
     "metadata": {},
     "source": [
      "`matplotlib` requires iterables (`numpy` arrays, Python lists, etc.) as its first two arguments, giving the $x$- and $y$-coordinates of the points to plot."
     ]
    },
    {
     "cell_type": "markdown",
     "metadata": {},
     "source": [
      "-----\n",
      "**Exercise**: Plot the exponential and logarithm functions, together with a dashed line showing $y=x$ to show the symmetry.\n",
      "\n",
      "Use `plt.axis(\"equal\")` to get the correct aspect ratio.\n",
      "\n",
      "-----"
     ]
    },
    {
     "cell_type": "heading",
     "level": 2,
     "metadata": {},
     "source": [
      "What is `matplotlib`"
     ]
    },
    {
     "cell_type": "markdown",
     "metadata": {},
     "source": [
      "`matplotlib`, then, provides\n",
      "- high-quality 2D (and some 3D) graphs\n",
      "- inline plotting in the IPython notebook\n",
      "- publication-quality exported PDFs, SVGs, PNGs\n",
      "\n",
      "-----------\n"
     ]
    },
    {
     "cell_type": "heading",
     "level": 1,
     "metadata": {},
     "source": [
      "Adding interactivity with the IPython Notebook"
     ]
    },
    {
     "cell_type": "markdown",
     "metadata": {},
     "source": [
      "A recent addition to the IPython Notebook, released with version 2.0 of IPython a few months ago, is the ability to use interactive widgets. This brings a whole new dimension to scientific exploration and visualization."
     ]
    },
    {
     "cell_type": "markdown",
     "metadata": {},
     "source": [
      "We first import the widgets functionality:"
     ]
    },
    {
     "cell_type": "code",
     "collapsed": false,
     "input": [
      "import IPython.html.widgets as widgets"
     ],
     "language": "python",
     "metadata": {},
     "outputs": [],
     "prompt_number": 97
    },
    {
     "cell_type": "markdown",
     "metadata": {},
     "source": [
      "The easiest way to use the new functionality is via the powerful `interact` command. This takes a Python function and provides widgets (sliders, buttons, etc.) to modify the arguments of the function:"
     ]
    },
    {
     "cell_type": "code",
     "collapsed": false,
     "input": [
      "def f(a):\n",
      "    print(a**2)"
     ],
     "language": "python",
     "metadata": {},
     "outputs": [],
     "prompt_number": 99
    },
    {
     "cell_type": "code",
     "collapsed": false,
     "input": [
      "widgets.interact(f, a=(-5, 5, 0.1))"
     ],
     "language": "python",
     "metadata": {},
     "outputs": [
      {
       "output_type": "stream",
       "stream": "stdout",
       "text": [
        "4.41\n"
       ]
      }
     ],
     "prompt_number": 101
    },
    {
     "cell_type": "markdown",
     "metadata": {},
     "source": [
      "As the slider is moved, the output changes accordingly."
     ]
    },
    {
     "cell_type": "markdown",
     "metadata": {},
     "source": [
      "By including a plot inside the function, we obtain interactive plots controlled by sliders:"
     ]
    },
    {
     "cell_type": "code",
     "collapsed": false,
     "input": [
      "def sincos(a, b):\n",
      "\n",
      "    plt.plot(x, a*np.sin(x+b), label=\"$a \\sin(x) + b$\")\n",
      "    plt.plot(x, np.cos(x), \"ro--\", label=\"$\\cos(x)$\")  # red points and dashed lines\n",
      "    plt.xlabel(\"$x$\", size=20)\n",
      "    plt.ylabel(\"$\\sin(x), \\cos(x)$\", size=20)\n",
      "    plt.legend()\n",
      "    \n",
      "    plt.xlim(-2.*np.pi, 2.*np.pi)\n",
      "    plt.ylim(-2, 2)\n"
     ],
     "language": "python",
     "metadata": {},
     "outputs": [],
     "prompt_number": 104
    },
    {
     "cell_type": "code",
     "collapsed": false,
     "input": [
      "widgets.interact(sincos, a=(-5, 5, 0.1), b=(-5, 5, 0.1))"
     ],
     "language": "python",
     "metadata": {},
     "outputs": [
      {
       "metadata": {},
       "output_type": "display_data",
       "png": "[encoded data removed]",
       "text": [
        "<matplotlib.figure.Figure at 0x109005410>"
       ]
      }
     ],
     "prompt_number": 105
    },
    {
     "cell_type": "markdown",
     "metadata": {},
     "source": [
      "--------\n",
      "\n",
      "**Exercise**: Explore interactivity using your favourite mathematical functions.\n",
      "\n",
      "--------"
     ]
    },
    {
     "cell_type": "heading",
     "level": 1,
     "metadata": {},
     "source": [
      "Using data with `numpy`"
     ]
    },
    {
     "cell_type": "markdown",
     "metadata": {},
     "source": [
      "-----\n",
      "**Exercise**: Write and illustrate a short segment on your favourite function(s).\n",
      "\n",
      "-----"
     ]
    },
    {
     "cell_type": "markdown",
     "metadata": {},
     "source": [
      "Naturally, many applications of scientific computing do not manufacture data from functions or obtain it from numerical simulations, but rather use pre-existing data.\n",
      "\n",
      "`numpy` has functions to save and load data from and to arrays. More extensive functionality is available in the `pandas` package."
     ]
    },
    {
     "cell_type": "markdown",
     "metadata": {},
     "source": [
      "Let's start by creating some artificial data with random noise from the `numpy.random` submodule of `numpy`:"
     ]
    },
    {
     "cell_type": "code",
     "collapsed": false,
     "input": [
      "import numpy.random as random\n",
      "\n",
      "x = np.linspace(-5, 5, 31)\n",
      "x += 0.5*random.rand(len(x))\n",
      "y = x**2 + 5*random.rand(len(x))"
     ],
     "language": "python",
     "metadata": {},
     "outputs": [],
     "prompt_number": 198
    },
    {
     "cell_type": "markdown",
     "metadata": {},
     "source": [
      "`random.rand()` generates a (pseudo-)random number between 0 and 1:"
     ]
    },
    {
     "cell_type": "code",
     "collapsed": false,
     "input": [
      "random.rand()"
     ],
     "language": "python",
     "metadata": {},
     "outputs": [
      {
       "metadata": {},
       "output_type": "pyout",
       "prompt_number": 199,
       "text": [
        "0.03865287816719298"
       ]
      }
     ],
     "prompt_number": 199
    },
    {
     "cell_type": "markdown",
     "metadata": {},
     "source": [
      "Giving it an argument generates a vector or matrix of that form:"
     ]
    },
    {
     "cell_type": "code",
     "collapsed": false,
     "input": [
      "random.rand(10)"
     ],
     "language": "python",
     "metadata": {},
     "outputs": [
      {
       "metadata": {},
       "output_type": "pyout",
       "prompt_number": 200,
       "text": [
        "array([ 0.01861897,  0.9603972 ,  0.15906408,  0.90035687,  0.17803107,\n",
        "        0.5821093 ,  0.50453356,  0.6576183 ,  0.61080591,  0.00724729])"
       ]
      }
     ],
     "prompt_number": 200
    },
    {
     "cell_type": "code",
     "collapsed": false,
     "input": [
      "random.rand(4,4)"
     ],
     "language": "python",
     "metadata": {},
     "outputs": [
      {
       "metadata": {},
       "output_type": "pyout",
       "prompt_number": 201,
       "text": [
        "array([[ 0.24214074,  0.68096856,  0.78788579,  0.47132542],\n",
        "       [ 0.86743414,  0.56857706,  0.8762979 ,  0.060866  ],\n",
        "       [ 0.1686223 ,  0.03585102,  0.88958179,  0.17806736],\n",
        "       [ 0.03883447,  0.93245476,  0.68703281,  0.38854506]])"
       ]
      }
     ],
     "prompt_number": 201
    },
    {
     "cell_type": "code",
     "collapsed": false,
     "input": [
      "plt.plot(x, y, 'o')"
     ],
     "language": "python",
     "metadata": {},
     "outputs": [
      {
       "metadata": {},
       "output_type": "pyout",
       "prompt_number": 166,
       "text": [
        "[<matplotlib.lines.Line2D at 0x10d0d7050>]"
       ]
      },
      {
       "metadata": {},
       "output_type": "display_data",
       "png": "[encoded data removed]",
       "text": [
        "<matplotlib.figure.Figure at 0x106ec00d0>"
       ]
      }
     ],
     "prompt_number": 166
    },
    {
     "cell_type": "heading",
     "level": 2,
     "metadata": {},
     "source": [
      "Matrices in `numpy`"
     ]
    },
    {
     "cell_type": "markdown",
     "metadata": {},
     "source": [
      "To export the data, we need it in a tabular form in a matrix, which is represented in `numpy` as an array formed as a list of lists. Let's combine the two arrays into a matrix by stacking them. There's a special syntax to do this:"
     ]
    },
    {
     "cell_type": "code",
     "collapsed": false,
     "input": [
      "z = np.c_[x, y]"
     ],
     "language": "python",
     "metadata": {},
     "outputs": [],
     "prompt_number": 167
    },
    {
     "cell_type": "code",
     "collapsed": false,
     "input": [
      "np.savetxt(\"noisy_quadratic.dat\", z)"
     ],
     "language": "python",
     "metadata": {},
     "outputs": [],
     "prompt_number": 168
    },
    {
     "cell_type": "code",
     "collapsed": false,
     "input": [
      "%cat noisy_quadratic.dat  # %cat is an IPython command to show the contents of a file"
     ],
     "language": "python",
     "metadata": {},
     "outputs": [
      {
       "output_type": "stream",
       "stream": "stdout",
       "text": [
        "-4.699279157875198898e+00 2.251417986630641010e+01\r\n",
        "-4.424198135565108991e+00 1.974739446689032718e+01\r\n",
        "-3.912255029552071495e+00 1.734681627258994752e+01\r\n",
        "-3.507831942489962884e+00 1.728350673625993394e+01\r\n",
        "-3.574459428335507560e+00 1.756681427546776320e+01\r\n",
        "-2.855916898022498707e+00 9.782826126472253137e+00\r\n",
        "-2.878715519946814627e+00 1.133671046325726728e+01\r\n",
        "-2.613253438657196170e+00 1.136227611138387772e+01\r\n",
        "-2.143473485229214326e+00 5.912924139417560454e+00\r\n",
        "-1.879558054056924110e+00 7.795667942476434575e+00\r\n",
        "-1.557845174156174295e+00 6.076722185187093395e+00\r\n",
        "-1.141978668150286813e+00 1.879777102450269854e+00\r\n",
        "-9.081805464142179707e-01 4.615737660110898588e+00\r\n",
        "-2.291377619619988648e-01 4.380170224121131550e-01\r\n",
        "-1.610355229240109654e-01 3.895778224566140757e+00\r\n",
        "2.359408641465601808e-01 1.997377519146037672e+00\r\n",
        "4.817748944631143893e-01 4.038088710701008388e+00\r\n",
        "9.353306044795504093e-01 5.698388339763614141e+00\r\n",
        "1.370289469954225625e+00 6.659028761550168873e+00\r\n",
        "1.518088549570560497e+00 6.492975309963624042e+00\r\n",
        "1.908207060933421406e+00 4.062390518749094070e+00\r\n",
        "2.456422961225222412e+00 8.409478685329428771e+00\r\n",
        "2.455773840139011011e+00 8.334548298606982542e+00\r\n",
        "3.132240981809657043e+00 1.361527316229750895e+01\r\n",
        "3.131756264663429157e+00 1.376228522113798647e+01\r\n",
        "3.711929276700796976e+00 1.462343334505909809e+01\r\n",
        "3.904610913705619524e+00 1.772129609417245888e+01\r\n",
        "4.443433060443947369e+00 2.288720112623281722e+01\r\n",
        "4.566135786800689544e+00 2.293380170567864340e+01\r\n",
        "5.093843760997657455e+00 2.903122173035499998e+01\r\n",
        "5.010625659636456675e+00 2.901998956276333885e+01\r\n"
       ]
      }
     ],
     "prompt_number": 169
    },
    {
     "cell_type": "markdown",
     "metadata": {},
     "source": [
      "`np.savetxt` enables the specification of a format string for output:"
     ]
    },
    {
     "cell_type": "code",
     "collapsed": false,
     "input": [
      "np.savetxt?"
     ],
     "language": "python",
     "metadata": {},
     "outputs": [],
     "prompt_number": 154
    },
    {
     "cell_type": "code",
     "collapsed": false,
     "input": [
      "np.savetxt(\"noisy_quadratic.dat\", z, fmt=\"%20.5f %20.5f\")"
     ],
     "language": "python",
     "metadata": {},
     "outputs": [],
     "prompt_number": 170
    },
    {
     "cell_type": "code",
     "collapsed": false,
     "input": [
      "%cat noisy_quadratic.dat"
     ],
     "language": "python",
     "metadata": {},
     "outputs": [
      {
       "output_type": "stream",
       "stream": "stdout",
       "text": [
        "            -4.69928             22.51418\r\n",
        "            -4.42420             19.74739\r\n",
        "            -3.91226             17.34682\r\n",
        "            -3.50783             17.28351\r\n",
        "            -3.57446             17.56681\r\n",
        "            -2.85592              9.78283\r\n",
        "            -2.87872             11.33671\r\n",
        "            -2.61325             11.36228\r\n",
        "            -2.14347              5.91292\r\n",
        "            -1.87956              7.79567\r\n",
        "            -1.55785              6.07672\r\n",
        "            -1.14198              1.87978\r\n",
        "            -0.90818              4.61574\r\n",
        "            -0.22914              0.43802\r\n",
        "            -0.16104              3.89578\r\n",
        "             0.23594              1.99738\r\n",
        "             0.48177              4.03809\r\n",
        "             0.93533              5.69839\r\n",
        "             1.37029              6.65903\r\n",
        "             1.51809              6.49298\r\n",
        "             1.90821              4.06239\r\n",
        "             2.45642              8.40948\r\n",
        "             2.45577              8.33455\r\n",
        "             3.13224             13.61527\r\n",
        "             3.13176             13.76229\r\n",
        "             3.71193             14.62343\r\n",
        "             3.90461             17.72130\r\n",
        "             4.44343             22.88720\r\n",
        "             4.56614             22.93380\r\n",
        "             5.09384             29.03122\r\n",
        "             5.01063             29.01999\r\n"
       ]
      }
     ],
     "prompt_number": 171
    },
    {
     "cell_type": "code",
     "collapsed": false,
     "input": [
      "np.savetxt?"
     ],
     "language": "python",
     "metadata": {},
     "outputs": [],
     "prompt_number": 160
    },
    {
     "cell_type": "markdown",
     "metadata": {},
     "source": [
      "Similarly, `numpy` has a relatively simple function `loadtxt` for loading tabulated data:"
     ]
    },
    {
     "cell_type": "code",
     "collapsed": false,
     "input": [
      "zz = np.loadtxt(\"noisy_quadratic.dat\")"
     ],
     "language": "python",
     "metadata": {},
     "outputs": [],
     "prompt_number": 174
    },
    {
     "cell_type": "code",
     "collapsed": false,
     "input": [
      "zz"
     ],
     "language": "python",
     "metadata": {},
     "outputs": [
      {
       "metadata": {},
       "output_type": "pyout",
       "prompt_number": 175,
       "text": [
        "array([[ -4.69928,  22.51418],\n",
        "       [ -4.4242 ,  19.74739],\n",
        "       [ -3.91226,  17.34682],\n",
        "       [ -3.50783,  17.28351],\n",
        "       [ -3.57446,  17.56681],\n",
        "       [ -2.85592,   9.78283],\n",
        "       [ -2.87872,  11.33671],\n",
        "       [ -2.61325,  11.36228],\n",
        "       [ -2.14347,   5.91292],\n",
        "       [ -1.87956,   7.79567],\n",
        "       [ -1.55785,   6.07672],\n",
        "       [ -1.14198,   1.87978],\n",
        "       [ -0.90818,   4.61574],\n",
        "       [ -0.22914,   0.43802],\n",
        "       [ -0.16104,   3.89578],\n",
        "       [  0.23594,   1.99738],\n",
        "       [  0.48177,   4.03809],\n",
        "       [  0.93533,   5.69839],\n",
        "       [  1.37029,   6.65903],\n",
        "       [  1.51809,   6.49298],\n",
        "       [  1.90821,   4.06239],\n",
        "       [  2.45642,   8.40948],\n",
        "       [  2.45577,   8.33455],\n",
        "       [  3.13224,  13.61527],\n",
        "       [  3.13176,  13.76229],\n",
        "       [  3.71193,  14.62343],\n",
        "       [  3.90461,  17.7213 ],\n",
        "       [  4.44343,  22.8872 ],\n",
        "       [  4.56614,  22.9338 ],\n",
        "       [  5.09384,  29.03122],\n",
        "       [  5.01063,  29.01999]])"
       ]
      }
     ],
     "prompt_number": 175
    },
    {
     "cell_type": "markdown",
     "metadata": {},
     "source": [
      "Now we need to split the array `z_new` up into columns. The syntax for accessing elements of an array is like that of a list in Python: the first element of an array `x` is `x[0]`, the second `x[1]`, etc."
     ]
    },
    {
     "cell_type": "markdown",
     "metadata": {},
     "source": [
      "----\n",
      "\n",
      "**Exercise**: What do the elements of the array `z_new` look like? Play with the standard colon (`:`) notation for ranges to access elements of the matrix. How can you extract the first column of the matrix?\n",
      "\n",
      "----"
     ]
    },
    {
     "cell_type": "markdown",
     "metadata": {},
     "source": [
      "Individual elements of the matrix are accessed via"
     ]
    },
    {
     "cell_type": "code",
     "collapsed": false,
     "input": [
      "zz[1, 0]"
     ],
     "language": "python",
     "metadata": {},
     "outputs": [
      {
       "metadata": {},
       "output_type": "pyout",
       "prompt_number": 185,
       "text": [
        "-4.4241999999999999"
       ]
      }
     ],
     "prompt_number": 185
    },
    {
     "cell_type": "markdown",
     "metadata": {},
     "source": [
      "Thus `zz` behaves as if it were a mathematical matrix: the first entry specifies the row and the second the column, except that indexing always starts at 0."
     ]
    },
    {
     "cell_type": "markdown",
     "metadata": {},
     "source": [
      "Ranges of elements are specified as with Python lists, using `:`, available for specifying ranges in both directions:"
     ]
    },
    {
     "cell_type": "code",
     "collapsed": false,
     "input": [
      "zz[1:3, 0:2]"
     ],
     "language": "python",
     "metadata": {},
     "outputs": [
      {
       "metadata": {},
       "output_type": "pyout",
       "prompt_number": 186,
       "text": [
        "array([[ -4.4242 ,  19.74739],\n",
        "       [ -3.91226,  17.34682]])"
       ]
      }
     ],
     "prompt_number": 186
    },
    {
     "cell_type": "markdown",
     "metadata": {},
     "source": [
      "Ranges that span the the whole direction may be specified just with the colon:"
     ]
    },
    {
     "cell_type": "code",
     "collapsed": false,
     "input": [
      "zz[1:3, :]"
     ],
     "language": "python",
     "metadata": {},
     "outputs": [
      {
       "metadata": {},
       "output_type": "pyout",
       "prompt_number": 187,
       "text": [
        "array([[ -4.4242 ,  19.74739],\n",
        "       [ -3.91226,  17.34682]])"
       ]
      }
     ],
     "prompt_number": 187
    },
    {
     "cell_type": "markdown",
     "metadata": {},
     "source": [
      "Thus, the first column is"
     ]
    },
    {
     "cell_type": "code",
     "collapsed": false,
     "input": [
      "zz[:,1]"
     ],
     "language": "python",
     "metadata": {},
     "outputs": [
      {
       "metadata": {},
       "output_type": "pyout",
       "prompt_number": 188,
       "text": [
        "array([ 22.51418,  19.74739,  17.34682,  17.28351,  17.56681,   9.78283,\n",
        "        11.33671,  11.36228,   5.91292,   7.79567,   6.07672,   1.87978,\n",
        "         4.61574,   0.43802,   3.89578,   1.99738,   4.03809,   5.69839,\n",
        "         6.65903,   6.49298,   4.06239,   8.40948,   8.33455,  13.61527,\n",
        "        13.76229,  14.62343,  17.7213 ,  22.8872 ,  22.9338 ,  29.03122,\n",
        "        29.01999])"
       ]
      }
     ],
     "prompt_number": 188
    },
    {
     "cell_type": "markdown",
     "metadata": {},
     "source": [
      "Thus finally, we can set"
     ]
    },
    {
     "cell_type": "code",
     "collapsed": false,
     "input": [
      "xx = zz[:, 0]\n",
      "yy = zz[:, 1]"
     ],
     "language": "python",
     "metadata": {},
     "outputs": [],
     "prompt_number": 189
    },
    {
     "cell_type": "markdown",
     "metadata": {},
     "source": [
      "In fact, there is a simple trick to obtain this: we may transpose the matrix `zz`:"
     ]
    },
    {
     "cell_type": "code",
     "collapsed": false,
     "input": [
      "zz.T"
     ],
     "language": "python",
     "metadata": {},
     "outputs": [
      {
       "metadata": {},
       "output_type": "pyout",
       "prompt_number": 190,
       "text": [
        "array([[ -4.69928,  -4.4242 ,  -3.91226,  -3.50783,  -3.57446,  -2.85592,\n",
        "         -2.87872,  -2.61325,  -2.14347,  -1.87956,  -1.55785,  -1.14198,\n",
        "         -0.90818,  -0.22914,  -0.16104,   0.23594,   0.48177,   0.93533,\n",
        "          1.37029,   1.51809,   1.90821,   2.45642,   2.45577,   3.13224,\n",
        "          3.13176,   3.71193,   3.90461,   4.44343,   4.56614,   5.09384,\n",
        "          5.01063],\n",
        "       [ 22.51418,  19.74739,  17.34682,  17.28351,  17.56681,   9.78283,\n",
        "         11.33671,  11.36228,   5.91292,   7.79567,   6.07672,   1.87978,\n",
        "          4.61574,   0.43802,   3.89578,   1.99738,   4.03809,   5.69839,\n",
        "          6.65903,   6.49298,   4.06239,   8.40948,   8.33455,  13.61527,\n",
        "         13.76229,  14.62343,  17.7213 ,  22.8872 ,  22.9338 ,  29.03122,\n",
        "         29.01999]])"
       ]
      }
     ],
     "prompt_number": 190
    },
    {
     "cell_type": "markdown",
     "metadata": {},
     "source": [
      "and then use tuple unpacking:"
     ]
    },
    {
     "cell_type": "code",
     "collapsed": false,
     "input": [
      "xx, yy = zz.T"
     ],
     "language": "python",
     "metadata": {},
     "outputs": [],
     "prompt_number": 191
    },
    {
     "cell_type": "markdown",
     "metadata": {},
     "source": [
      "Furthermore, `np.loadtxt` has a keyword option that allows us to do all of this in one step:"
     ]
    },
    {
     "cell_type": "code",
     "collapsed": false,
     "input": [
      "xxx, yyy = np.loadtxt(\"noisy_quadratic.dat\", unpack=True)"
     ],
     "language": "python",
     "metadata": {},
     "outputs": [],
     "prompt_number": 194
    },
    {
     "cell_type": "code",
     "collapsed": false,
     "input": [
      "xxx - xx"
     ],
     "language": "python",
     "metadata": {},
     "outputs": [
      {
       "metadata": {},
       "output_type": "pyout",
       "prompt_number": 195,
       "text": [
        "array([ 0.,  0.,  0.,  0.,  0.,  0.,  0.,  0.,  0.,  0.,  0.,  0.,  0.,\n",
        "        0.,  0.,  0.,  0.,  0.,  0.,  0.,  0.,  0.,  0.,  0.,  0.,  0.,\n",
        "        0.,  0.,  0.,  0.,  0.])"
       ]
      }
     ],
     "prompt_number": 195
    },
    {
     "cell_type": "markdown",
     "metadata": {},
     "source": [
      "----\n",
      "**Exercise**: Load and plot some of your favourite data.\n",
      "\n",
      "----"
     ]
    },
    {
     "cell_type": "code",
     "collapsed": false,
     "input": [],
     "language": "python",
     "metadata": {},
     "outputs": []
    },
    {
     "cell_type": "heading",
     "level": 2,
     "metadata": {},
     "source": [
      "Literate programming: the IPython Notebook"
     ]
    },
    {
     "cell_type": "markdown",
     "metadata": {},
     "source": [
      "We can do **literate programming** by mixing textual commentary with our code and calculations. To do so, we use a lightweight **markup language**, called *Markdown*.\n",
      "\n",
      "Markdown allows us to write *italics* using `*italics*` and **bold text** using `**bold text**`.\n",
      "\n",
      "It allows\n",
      "- bulleted lists, using `-` at the start of each line\n",
      "- quoted passages, by using `>`: \n",
      "\n",
      "> All the world is a stage.  \n",
      "\n",
      "Significantly for scientific computing, within Markdown cells, we may *use equations, written using (a subset of) LaTeX*, by enclosing the equations in `$` for inline maths, or `$$` for displayed equations:\n",
      "\n",
      "The equation $y = x^2$ is very interesting. A more complicated one is\n",
      "$$\\mathcal{N}(x) = C e^(-x^2}$$.\n",
      "\n",
      "In order to render these equations, the MathJax library is used. An online version is used by default; if you require a local version, it must be downloaded by typing the following in a Python session:\n",
      "\n",
      "    from IPython.external import mathjax\n",
      "    mathjax.install_mathjax()"
     ]
    },
    {
     "cell_type": "heading",
     "level": 1,
     "metadata": {},
     "source": [
      "Exporting your notebook document"
     ]
    },
    {
     "cell_type": "markdown",
     "metadata": {},
     "source": [
      "When you save an IPython notebook document, it is saved in the current working directory (available with `pwd()`) with the extension `.ipynb`. This file is a plain text file, in a certain format called JSON (\"Javascript Object Notation\"), which contains a *complete* record of *exactly* the contents of the notebook in your environment. This file may be saved in a version control system, sent to a colleague, etc."
     ]
    },
    {
     "cell_type": "markdown",
     "metadata": {},
     "source": [
      "Another important feature of IPython is the ability to export, or convert, the notebook format to other types of format, including LaTeX and PDF documents, HTML, reStructured Text, and even slide shows."
     ]
    },
    {
     "cell_type": "markdown",
     "metadata": {},
     "source": [
      "Several of these options are available from the `File | Download as` option from within the Notebook itself. For the other formats, and more control, we use the `ipython nbconvert` command-line tool."
     ]
    },
    {
     "cell_type": "markdown",
     "metadata": {},
     "source": [
      "IPython provides access to the command line with the `!` operator. We can convert to a static HTML, e.g. suitable for a blog post:"
     ]
    },
    {
     "cell_type": "code",
     "collapsed": false,
     "input": [
      "!ipython nbconvert Starting\\ out\\ with\\ SciPy\\ --\\ IPython,\\ numpy\\ and\\ matplotlib.ipynb --to html"
     ],
     "language": "python",
     "metadata": {},
     "outputs": [
      {
       "output_type": "stream",
       "stream": "stdout",
       "text": [
        "[NbConvertApp] Using existing profile dir: u'/Users/david/.ipython/profile_default'\r\n"
       ]
      },
      {
       "output_type": "stream",
       "stream": "stdout",
       "text": [
        "[NbConvertApp] Converting notebook Starting out with SciPy -- IPython, numpy and matplotlib.ipynb to html\r\n",
        "[NbConvertApp] Support files will be in Starting out with SciPy -- IPython, numpy and matplotlib_files/\r\n"
       ]
      },
      {
       "output_type": "stream",
       "stream": "stdout",
       "text": [
        "[NbConvertApp] Loaded template full.tpl\r\n"
       ]
      },
      {
       "output_type": "stream",
       "stream": "stdout",
       "text": [
        "/Users/david/anaconda/lib/python2.7/site-packages/IPython/nbconvert/filters/markdown.py:78: UserWarning: Node.js 0.9.12 or later wasn't found.\r\n",
        "Nbconvert will try to use Pandoc instead.\r\n",
        "  \"Nbconvert will try to use Pandoc instead.\")\r\n"
       ]
      },
      {
       "output_type": "stream",
       "stream": "stdout",
       "text": [
        "[NbConvertApp] Writing 347213 bytes to Starting out with SciPy -- IPython, numpy and matplotlib.html\r\n"
       ]
      }
     ],
     "prompt_number": 202
    },
    {
     "cell_type": "code",
     "collapsed": false,
     "input": [
      "!open Starting\\ out\\ with\\ SciPy\\ --\\ IPython,\\ numpy\\ and\\ matplotlib.html"
     ],
     "language": "python",
     "metadata": {},
     "outputs": [],
     "prompt_number": 203
    },
    {
     "cell_type": "markdown",
     "metadata": {},
     "source": [
      "To convert to PDF, first LaTeX is output, and then this is converted to PDF by the `--post PDF` (\"post\" stands for \"post-processing\"):"
     ]
    },
    {
     "cell_type": "code",
     "collapsed": false,
     "input": [
      "!ipython nbconvert Starting\\ out\\ with\\ SciPy\\ --\\ IPython,\\ numpy\\ and\\ matplotlib.ipynb --to latex --post PDF"
     ],
     "language": "python",
     "metadata": {},
     "outputs": [
      {
       "output_type": "stream",
       "stream": "stdout",
       "text": [
        "[NbConvertApp] Using existing profile dir: u'/Users/david/.ipython/profile_default'\r\n",
        "[NbConvertApp] Converting notebook Starting out with SciPy -- IPython, numpy and matplotlib.ipynb to latex\r\n",
        "[NbConvertApp] Support files will be in Starting out with SciPy -- IPython, numpy and matplotlib_files/\r\n"
       ]
      },
      {
       "output_type": "stream",
       "stream": "stdout",
       "text": [
        "[NbConvertApp] Loaded template article.tplx\r\n"
       ]
      },
      {
       "output_type": "stream",
       "stream": "stdout",
       "text": [
        "[NbConvertApp] Making directory Starting out with SciPy -- IPython, numpy and matplotlib_files\r\n",
        "[NbConvertApp] Writing 66180 bytes to Starting out with SciPy -- IPython, numpy and matplotlib.tex\r\n",
        "[NbConvertApp] Building PDF\r\n",
        "[NbConvertApp] Running pdflatex 3 times: [u'pdflatex', u'Starting out with SciPy -- IPython, numpy and matplotlib.tex']\r\n"
       ]
      },
      {
       "output_type": "stream",
       "stream": "stdout",
       "text": [
        "[NbConvertApp] CRITICAL | pdflatex failed: [u'pdflatex', u'Starting out with SciPy -- IPython, numpy and matplotlib.tex']\r\n",
        "This is pdfTeX, Version 3.1415926-2.5-1.40.14 (TeX Live 2013)\r\n",
        " restricted \\write18 enabled.\r\n",
        "entering extended mode\r\n",
        "(./Starting out with SciPy -- IPython, numpy and matplotlib.tex\r\n",
        "LaTeX2e <2011/06/27>\r\n",
        "Babel <3.9f> and hyphenation patterns for 78 languages loaded.\r\n",
        "(/usr/local/texlive/2013/texmf-dist/tex/latex/base/article.cls\r\n",
        "Document Class: article 2007/10/19 v1.4h Standard LaTeX document class\r\n",
        "(/usr/local/texlive/2013/texmf-dist/tex/latex/base/size10.clo))\r\n",
        "(/usr/local/texlive/2013/texmf-dist/tex/latex/graphics/graphicx.sty\r\n",
        "(/usr/local/texlive/2013/texmf-dist/tex/latex/graphics/keyval.sty)\r\n",
        "(/usr/local/texlive/2013/texmf-dist/tex/latex/graphics/graphics.sty\r\n",
        "(/usr/local/texlive/2013/texmf-dist/tex/latex/graphics/trig.sty)\r\n",
        "(/usr/local/texlive/2013/texmf-dist/tex/latex/latexconfig/graphics.cfg)\r\n",
        "(/usr/local/texlive/2013/texmf-dist/tex/latex/pdftex-def/pdftex.def\r\n",
        "(/usr/local/texlive/2013/texmf-dist/tex/generic/oberdiek/infwarerr.sty)\r\n",
        "(/usr/local/texlive/2013/texmf-dist/tex/generic/oberdiek/ltxcmds.sty))))\r\n",
        "(/usr/local/texlive/2013/texmf-dist/tex/latex/adjustbox/adjustbox.sty\r\n",
        "(/usr/local/texlive/2013/texmf-dist/tex/latex/xkeyval/xkeyval.sty\r\n",
        "(/usr/local/texlive/2013/texmf-dist/tex/generic/xkeyval/xkeyval.tex))\r\n",
        "(/usr/local/texlive/2013/texmf-dist/tex/latex/adjustbox/adjcalc.sty)\r\n",
        "(/usr/local/texlive/2013/texmf-dist/tex/latex/adjustbox/trimclip.sty\r\n",
        "(/usr/local/texlive/2013/texmf-dist/tex/latex/collectbox/collectbox.sty)\r\n",
        "(/usr/local/texlive/2013/texmf-dist/tex/latex/adjustbox/tc-pdftex.def))\r\n",
        "(/usr/local/texlive/2013/texmf-dist/tex/latex/ifoddpage/ifoddpage.sty)\r\n",
        "(/usr/local/texlive/2013/texmf-dist/tex/latex/varwidth/varwidth.sty))\r\n",
        "(/usr/local/texlive/2013/texmf-dist/tex/latex/graphics/color.sty\r\n",
        "(/usr/local/texlive/2013/texmf-dist/tex/latex/latexconfig/color.cfg))\r\n",
        "(/usr/local/texlive/2013/texmf-dist/tex/latex/tools/enumerate.sty)\r\n",
        "(/usr/local/texlive/2013/texmf-dist/tex/latex/geometry/geometry.sty\r\n",
        "(/usr/local/texlive/2013/texmf-dist/tex/generic/oberdiek/ifpdf.sty)\r\n",
        "(/usr/local/texlive/2013/texmf-dist/tex/generic/oberdiek/ifvtex.sty)\r\n",
        "(/usr/local/texlive/2013/texmf-dist/tex/generic/ifxetex/ifxetex.sty))\r\n",
        "(/usr/local/texlive/2013/texmf-dist/tex/latex/amsmath/amsmath.sty\r\n",
        "For additional information on amsmath, use the `?' option.\r\n",
        "(/usr/local/texlive/2013/texmf-dist/tex/latex/amsmath/amstext.sty\r\n",
        "(/usr/local/texlive/2013/texmf-dist/tex/latex/amsmath/amsgen.sty))\r\n",
        "(/usr/local/texlive/2013/texmf-dist/tex/latex/amsmath/amsbsy.sty)\r\n",
        "(/usr/local/texlive/2013/texmf-dist/tex/latex/amsmath/amsopn.sty))\r\n",
        "(/usr/local/texlive/2013/texmf-dist/tex/latex/amsfonts/amssymb.sty\r\n",
        "(/usr/local/texlive/2013/texmf-dist/tex/latex/amsfonts/amsfonts.sty))\r\n",
        "(/usr/local/texlive/2013/texmf-dist/tex/latex/ucs/ucs.sty\r\n",
        "(/usr/local/texlive/2013/texmf-dist/tex/latex/ucs/data/uni-global.def))\r\n",
        "(/usr/local/texlive/2013/texmf-dist/tex/latex/base/inputenc.sty\r\n",
        "(/usr/local/texlive/2013/texmf-dist/tex/latex/ucs/utf8x.def))\r",
        "\r\n",
        "(/usr/local/texlive/2013/texmf-dist/tex/latex/fancyvrb/fancyvrb.sty\r\n",
        "Style option: `fancyvrb' v2.7a, with DG/SPQR fixes, and firstline=lastline fix \r\n",
        "<2008/02/07> (tvz))\r\n",
        "(/usr/local/texlive/2013/texmf-dist/tex/latex/oberdiek/grffile.sty\r\n",
        "(/usr/local/texlive/2013/texmf-dist/tex/latex/oberdiek/kvoptions.sty\r\n",
        "(/usr/local/texlive/2013/texmf-dist/tex/generic/oberdiek/kvsetkeys.sty\r\n",
        "(/usr/local/texlive/2013/texmf-dist/tex/generic/oberdiek/etexcmds.sty\r\n",
        "(/usr/local/texlive/2013/texmf-dist/tex/generic/oberdiek/ifluatex.sty))))\r\n",
        "(/usr/local/texlive/2013/texmf-dist/tex/generic/oberdiek/pdftexcmds.sty))\r\n",
        "(/usr/local/texlive/2013/texmf-dist/tex/latex/hyperref/hyperref.sty\r\n",
        "(/usr/local/texlive/2013/texmf-dist/tex/generic/oberdiek/hobsub-hyperref.sty\r\n",
        "(/usr/local/texlive/2013/texmf-dist/tex/generic/oberdiek/hobsub-generic.sty))\r\n",
        "(/usr/local/texlive/2013/texmf-dist/tex/latex/oberdiek/auxhook.sty)\r\n",
        "(/usr/local/texlive/2013/texmf-dist/tex/latex/hyperref/pd1enc.def)\r\n",
        "(/usr/local/texlive/2013/texmf-dist/tex/latex/latexconfig/hyperref.cfg)\r\n",
        "(/usr/local/texlive/2013/texmf-dist/tex/latex/url/url.sty))\r\n",
        "\r\n",
        "Package hyperref Message: Driver (autodetected): hpdftex.\r\n",
        "\r\n",
        "(/usr/local/texlive/2013/texmf-dist/tex/latex/hyperref/hpdftex.def\r\n",
        "(/usr/local/texlive/2013/texmf-dist/tex/latex/oberdiek/rerunfilecheck.sty))\r\n",
        "(/usr/local/texlive/2013/texmf-dist/tex/latex/tools/longtable.sty)\r\n",
        "(/usr/local/texlive/2013/texmf-dist/tex/latex/booktabs/booktabs.sty)\r\n",
        "No file \"Starting out with SciPy -- IPython, numpy and matplotlib\".aux.\r\n",
        "(/usr/local/texlive/2013/texmf-dist/tex/context/base/supp-pdf.mkii\r\n",
        "[Loading MPS to PDF converter (version 2006.09.02).]\r\n",
        ") (/usr/local/texlive/2013/texmf-dist/tex/latex/oberdiek/epstopdf-base.sty\r\n",
        "(/usr/local/texlive/2013/texmf-dist/tex/latex/oberdiek/grfext.sty)\r\n",
        "(/usr/local/texlive/2013/texmf-dist/tex/latex/latexconfig/epstopdf-sys.cfg))\r\n",
        "*geometry* driver: auto-detecting\r\n",
        "*geometry* detected driver: pdftex\r\n",
        "\r\n",
        "Package geometry Warning: The marginal notes overrun the paper.\r\n",
        "     Add 3.73001pt and more to the right margin.\r\n",
        "\r\n",
        "*geometry* verbose mode - [ preamble ] result:\r\n",
        "* driver: pdftex\r\n",
        "* paper: <default>\r\n",
        "* layout: <same size as paper>\r\n",
        "* layoutoffset:(h,v)=(0.0pt,0.0pt)\r\n",
        "* modes: \r\n",
        "* h-part:(L,W,R)=(72.26999pt, 469.75502pt, 72.26999pt)\r\n",
        "* v-part:(T,H,B)=(72.26999pt, 650.43001pt, 72.26999pt)\r\n",
        "* \\paperwidth=614.295pt\r\n",
        "* \\paperheight=794.96999pt\r\n",
        "* \\textwidth=469.75502pt\r\n",
        "* \\textheight=650.43001pt\r\n",
        "* \\oddsidemargin=0.0pt\r\n",
        "* \\evensidemargin=0.0pt\r\n",
        "* \\topmargin=-37.0pt\r\n",
        "* \\headheight=12.0pt\r\n",
        "* \\headsep=25.0pt\r\n",
        "* \\topskip=10.0pt\r\n",
        "* \\footskip=30.0pt\r\n",
        "* \\marginparwidth=65.0pt\r\n",
        "* \\marginparsep=11.0pt\r\n",
        "* \\columnsep=10.0pt\r\n",
        "* \\skip\\footins=9.0pt plus 4.0pt minus 2.0pt\r\n",
        "* \\hoffset=0.0pt\r\n",
        "* \\voffset=0.0pt\r\n",
        "* \\mag=1000\r\n",
        "* \\@twocolumnfalse\r\n",
        "* \\@twosidefalse\r\n",
        "* \\@mparswitchfalse\r\n",
        "* \\@reversemarginfalse\r\n",
        "* (1in=72.27pt=25.4mm, 1cm=28.453pt)\r\n",
        "\r\n",
        "(/usr/local/texlive/2013/texmf-dist/tex/latex/ucs/ucsencs.def)\r\n",
        "(/usr/local/texlive/2013/texmf-dist/tex/latex/hyperref/nameref.sty\r\n",
        "(/usr/local/texlive/2013/texmf-dist/tex/generic/oberdiek/gettitlestring.sty))\r\n",
        "(/usr/local/texlive/2013/texmf-dist/tex/latex/amsfonts/umsa.fd)\r\n",
        "(/usr/local/texlive/2013/texmf-dist/tex/latex/amsfonts/umsb.fd)\r\n",
        "\r\n",
        "LaTeX Warning: No \\author given.\r\n",
        "\r\n",
        "[1{/usr/local/texlive/2013/texmf-var/fonts/map/pdftex/updmap/pdftex.map}]\r\n",
        "[2]\r\n",
        "\r\n",
        "LaTeX Font Warning: Font shape `OML/cmtt/m/n' undefined\r\n",
        "(Font)              using `OML/cmm/m/it' instead\r\n",
        "(Font)              for symbol `textless' on input line 391.\r\n",
        "\r\n",
        "[3] [4] [5] (/usr/local/texlive/2013/texmf-dist/tex/latex/base/omscmr.fd)\r\n",
        "[6]\r\n",
        "<Starting out with SciPy -- IPython, numpy and matplotlib_files/Starting out wi\r\n",
        "th SciPy -- IPython, numpy and matplotlib_76_1.png, id=46, 379.4175pt x 256.96p\r\n",
        "t>\r\n",
        "<use Starting out with SciPy -- IPython, numpy and matplotlib_files/Starting ou\r\n",
        "t with SciPy -- IPython, numpy and matplotlib_76_1.png>\r\n",
        "Underfull \\hbox (badness 10000) in paragraph at lines 765--766\r\n",
        "\r\n",
        "[7 <./Starting out with SciPy -- IPython, numpy and matplotlib_files/Starting o\r\n",
        "ut with SciPy -- IPython, numpy and matplotlib_76_1.png>]\r\n",
        "<Starting out with SciPy -- IPython, numpy and matplotlib_files/Starting out wi\r\n",
        "th SciPy -- IPython, numpy and matplotlib_79_1.png, id=54, 409.53pt x 281.05pt>\r\n",
        "\r\n",
        "<use Starting out with SciPy -- IPython, numpy and matplotlib_files/Starting ou\r\n",
        "t with SciPy -- IPython, numpy and matplotlib_79_1.png>\r\n",
        "Underfull \\hbox (badness 10000) in paragraph at lines 789--790\r\n",
        "\r\n",
        "\r\n",
        "Overfull \\hbox (11.63573pt too wide) in paragraph at lines 821--823\r\n",
        "[]\\OT1/cmr/bx/n/10 Exercise\\OT1/cmr/m/n/10 : \r\n",
        "\r\n",
        "Overfull \\hbox (56.36293pt too wide) in paragraph at lines 826--827\r\n",
        "\\OT1/cmtt/m/n/10 plt.axis(\"equal\") \r\n",
        "\r\n",
        "Underfull \\vbox (badness 10000) detected at line 830\r\n",
        "[8 <./Starting out with SciPy -- IPython, numpy and matplotlib_files/Starting o\r\n",
        "ut with SciPy -- IPython, numpy and matplotlib_79_1.png>] [9]\r\n",
        "<Starting out with SciPy -- IPython, numpy and matplotlib_files/Starting out wi\r\n",
        "th SciPy -- IPython, numpy and matplotlib_99_0.png, id=67, 406.51875pt x 281.05\r\n",
        "pt>\r\n",
        "<use Starting out with SciPy -- IPython, numpy and matplotlib_files/Starting ou\r\n",
        "t with SciPy -- IPython, numpy and matplotlib_99_0.png>\r\n",
        "Underfull \\hbox (badness 10000) in paragraph at lines 900--901\r\n",
        "\r\n",
        "\r\n",
        "Overfull \\hbox (11.63573pt too wide) in paragraph at lines 916--918\r\n",
        "[]\\OT1/cmr/bx/n/10 Exercise\\OT1/cmr/m/n/10 : \r\n",
        "\r\n",
        "Overfull \\hbox (5.47491pt too wide) in paragraph at lines 916--918\r\n",
        "\\OT1/cmr/m/n/10 favourite \r\n",
        "\r\n",
        "Underfull \\vbox (badness 10000) detected at line 921\r\n",
        "[10 <./Starting out with SciPy -- IPython, numpy and matplotlib_files/Starting \r\n",
        "out with SciPy -- IPython, numpy and matplotlib_99_0.png>]\r\n",
        "<Starting out with SciPy -- IPython, numpy and matplotlib_files/Starting out wi\r\n",
        "th SciPy -- IPython, numpy and matplotlib_111_1.png, id=75, 367.3725pt x 256.96\r\n",
        "pt>\r\n",
        "<use Starting out with SciPy -- IPython, numpy and matplotlib_files/Starting ou\r\n",
        "t with SciPy -- IPython, numpy and matplotlib_111_1.png> [11]\r\n",
        "Underfull \\hbox (badness 10000) in paragraph at lines 986--987\r\n",
        "\r\n",
        "[12 <./Starting out with SciPy -- IPython, numpy and matplotlib_files/Starting \r\n",
        "out with SciPy -- IPython, numpy and matplotlib_111_1.png>] [13] [14]\r\n",
        "Overfull \\hbox (21.03284pt too wide) in paragraph at lines 1263--1264\r\n",
        "[]\\OT1/cmr/bx/n/10 Exercise\\OT1/cmr/m/n/10 : \r\n",
        "\r\n",
        "Overfull \\hbox (14.87202pt too wide) in paragraph at lines 1263--1264\r\n",
        "\\OT1/cmr/m/n/10 favourite \r\n",
        "\r\n",
        "Underfull \\vbox (badness 10000) detected at line 1267\r\n",
        "[15] (/usr/local/texlive/2013/texmf-dist/tex/latex/ucs/data/uni-2.def)\r\n",
        "\r\n",
        "LaTeX Warning: Command \\^ invalid in math mode on input line 1297.\r\n",
        "\r\n",
        "! Please use \\mathaccent for accents in math mode.\r\n",
        "\\add@accent ...@spacefactor \\spacefactor }\\accent \r\n",
        "                                                  #1 #2\\egroup \\spacefactor ...\r\n",
        "l.1297 \\[\\mathcal{N}(x) = C \\exp{-x\u02c6\r\n",
        "                                     2}\\].\r\n",
        "? \r\n",
        "! Emergency stop.\r\n",
        "\\add@accent ...@spacefactor \\spacefactor }\\accent \r\n",
        "                                                  #1 #2\\egroup \\spacefactor ...\r\n",
        "l.1297 \\[\\mathcal{N}(x) = C \\exp{-x\u02c6\r\n",
        "                                     2}\\].\r\n",
        "!  ==> Fatal error occurred, no output PDF file produced!\r\n",
        "Transcript written on \"Starting out with SciPy -- IPython, numpy and matplotlib\r\n",
        ".log\".\r\n",
        "\r\n",
        "[NbConvertApp] Removing temporary LaTeX files\r\n"
       ]
      }
     ],
     "prompt_number": 206
    },
    {
     "cell_type": "code",
     "collapsed": false,
     "input": [
      "!open Star"
     ],
     "language": "python",
     "metadata": {},
     "outputs": []
    },
    {
     "cell_type": "markdown",
     "metadata": {},
     "source": [
      "There is also an option to generate an HTML file suitable for a slideshow presentation using the `Reveal.js` library. To use this option, choose the `Slideshow` option from the `Cell Toolbar`, and specify the types for each cell using the resulting popup boxes. Then convert the slides using the following. The `--post serve` option launches an HTML server to show the slides correctly."
     ]
    },
    {
     "cell_type": "code",
     "collapsed": false,
     "input": [
      "!ipython nbconvert Starting\\ out\\ with\\ SciPy\\ --\\ IPython,\\ numpy\\ and\\ matplotlib.ipynb --to slides --post serve"
     ],
     "language": "python",
     "metadata": {},
     "outputs": [
      {
       "output_type": "stream",
       "stream": "stdout",
       "text": [
        "[NbConvertApp] Using existing profile dir: u'/Users/david/.ipython/profile_default'\r\n"
       ]
      },
      {
       "output_type": "stream",
       "stream": "stdout",
       "text": [
        "[NbConvertApp] Converting notebook Starting out with SciPy -- IPython, numpy and matplotlib.ipynb to slides\r\n",
        "[NbConvertApp] Support files will be in Starting out with SciPy -- IPython, numpy and matplotlib_files/\r\n"
       ]
      },
      {
       "output_type": "stream",
       "stream": "stdout",
       "text": [
        "[NbConvertApp] Loaded template slides_reveal.tpl\r\n"
       ]
      },
      {
       "output_type": "stream",
       "stream": "stdout",
       "text": [
        "/Users/david/anaconda/lib/python2.7/site-packages/IPython/nbconvert/filters/markdown.py:78: UserWarning: Node.js 0.9.12 or later wasn't found.\r\n",
        "Nbconvert will try to use Pandoc instead.\r\n",
        "  \"Nbconvert will try to use Pandoc instead.\")\r\n"
       ]
      },
      {
       "output_type": "stream",
       "stream": "stdout",
       "text": [
        "[NbConvertApp] Writing 351623 bytes to Starting out with SciPy -- IPython, numpy and matplotlib.slides.html\r\n",
        "[NbConvertApp] Redirecting reveal.js requests to https://cdn.jsdelivr.net/reveal.js/2.5.0\r\n",
        "Serving your slides at http://127.0.0.1:8000/Starting out with SciPy -- IPython, numpy and matplotlib.slides.html\r\n",
        "Use Control-C to stop this server\r\n"
       ]
      },
      {
       "output_type": "stream",
       "stream": "stdout",
       "text": [
        "WARNING:tornado.access:404 GET /custom.css (127.0.0.1) 0.67ms\r\n"
       ]
      },
      {
       "output_type": "stream",
       "stream": "stdout",
       "text": [
        "WARNING:tornado.access:404 GET /favicon.ico (127.0.0.1) 0.61ms\r\n"
       ]
      },
      {
       "output_type": "stream",
       "stream": "stdout",
       "text": [
        "^C\r\n",
        "Interrupted\r\n",
        "\r\n"
       ]
      }
     ],
     "prompt_number": 205
    },
    {
     "cell_type": "markdown",
     "metadata": {},
     "source": [
      "The template files used for each format may be customized."
     ]
    },
    {
     "cell_type": "heading",
     "level": 2,
     "metadata": {},
     "source": [
      "What is the IPython Notebook?"
     ]
    },
    {
     "cell_type": "markdown",
     "metadata": {},
     "source": [
      "The IPython Notebook thus provides the necessary tools for a highly interactive dialogue with code, with mathematical commentary about the operations being performed.\n",
      "\n",
      "In this way, it is a wonderful tool for documenting computational workflows."
     ]
    },
    {
     "cell_type": "markdown",
     "metadata": {},
     "source": [
      "-----\n",
      "**Exercise**: Write and illustrate a short segment on your favourite function(s).\n",
      "\n",
      "-----"
     ]
    },
    {
     "cell_type": "markdown",
     "metadata": {},
     "source": [
      "Note that IPython is also a command-line program that provides a much-enhanced interactive Python shell. \n",
      "\n",
      "Since the notebook is a web application, it is easy to run it remotely on a notebook server."
     ]
    },
    {
     "cell_type": "heading",
     "level": 1,
     "metadata": {},
     "source": [
      "Summary"
     ]
    },
    {
     "cell_type": "markdown",
     "metadata": {},
     "source": [
      "In this notebook, we have seen the basic usage of the fundamental components of the SciPy stack:\n",
      "\n",
      "- The IPython Notebook\n",
      "    - an environment for facilitating computational workflows\n",
      "    - provides interactivity via widgets\n",
      "    - allows us to export notebook documents in different formats\n",
      "    \n",
      "- `numpy`\n",
      "    - provides vectors, matrices, and $n$-dimensional arrays\n",
      "    - provides fast vectorized mathematical operations on arrays\n",
      "    - easy input and output of data\n",
      "    \n",
      "- `matplotlib`\n",
      "    - 2D (and 3D) interactive plots\n",
      "    - many formatting options\n",
      "    - publication-quality output\n"
     ]
    },
    {
     "cell_type": "code",
     "collapsed": false,
     "input": [],
     "language": "python",
     "metadata": {},
     "outputs": []
    }
   ],
   "metadata": {}
  }
 ]
}