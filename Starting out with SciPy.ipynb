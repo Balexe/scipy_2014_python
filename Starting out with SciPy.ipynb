{
 "metadata": {
  "name": "",
  "signature": "sha256:ac41454428ed0bdfd84f1cccd60e70961b2589e8231232c0b0684eace8a5e3f0"
 },
 "nbformat": 3,
 "nbformat_minor": 0,
 "worksheets": [
  {
   "cells": [
    {
     "cell_type": "heading",
     "level": 1,
     "metadata": {},
     "source": [
      "Getting started with Scientific Python: \n",
      "the IPython Notebook, `numpy` and `matplotlib`"
     ]
    },
    {
     "cell_type": "markdown",
     "metadata": {},
     "source": [
      "In this notebook, we will begin to explore the tools that make up the Scientific Python (SciPy) \"stack\" or \"ecosystem\". The fundamental ones are the **IPython Notebook**, the **numpy** package for arrays, and the **matplotlib** scientific plotting package."
     ]
    },
    {
     "cell_type": "code",
     "collapsed": false,
     "input": [
      "# 2.7 / 3 compatibility:\n",
      "from __future__ import print_function, division"
     ],
     "language": "python",
     "metadata": {},
     "outputs": []
    },
    {
     "cell_type": "heading",
     "level": 1,
     "metadata": {},
     "source": [
      "The IPython Notebook"
     ]
    },
    {
     "cell_type": "markdown",
     "metadata": {},
     "source": [
      "This document is an IPython notebook document, which is an interactive computational document that can be modified and executed in the IPython Notebook web application, a fantastic way to produce computational workflows that mix rich text, Python (and other languages) code, graphics, and other multimedia.\n",
      "\n",
      "The structure of a notebook document is based on **cells**, which are executed using `Shift-Enter`. These cells have different types"
     ]
    },
    {
     "cell_type": "heading",
     "level": 1,
     "metadata": {},
     "source": [
      "Looking at mathematical functions: `numpy`"
     ]
    },
    {
     "cell_type": "markdown",
     "metadata": {},
     "source": [
      "Let's start with a simple scientific problem: just visualizing some data"
     ]
    },
    {
     "cell_type": "code",
     "collapsed": false,
     "input": [
      "import numpy as np"
     ],
     "language": "python",
     "metadata": {},
     "outputs": []
    },
    {
     "cell_type": "markdown",
     "metadata": {},
     "source": [
      "Let's create some data by evaluating a function, `sin`"
     ]
    },
    {
     "cell_type": "markdown",
     "metadata": {},
     "source": [
      "Replace `range` by `arange`:"
     ]
    },
    {
     "cell_type": "code",
     "collapsed": false,
     "input": [
      "help(np.arange)"
     ],
     "language": "python",
     "metadata": {},
     "outputs": []
    },
    {
     "cell_type": "code",
     "collapsed": false,
     "input": [
      "np.arange(-2.*pi, 2.*pi, 0.1)"
     ],
     "language": "python",
     "metadata": {},
     "outputs": []
    },
    {
     "cell_type": "code",
     "collapsed": false,
     "input": [
      "x = np.arange(-2.*np.pi, 2.*np.pi, 0.1)"
     ],
     "language": "python",
     "metadata": {},
     "outputs": []
    },
    {
     "cell_type": "markdown",
     "metadata": {},
     "source": [
      "NB: We could import the functions that we will use with `from numpy import sin` etc., but for the purposes, at least, of this tutorial, it is more useful to keep track of where they live."
     ]
    },
    {
     "cell_type": "markdown",
     "metadata": {},
     "source": [
      "What kind of object is `x`?"
     ]
    },
    {
     "cell_type": "code",
     "collapsed": false,
     "input": [
      "type(x)"
     ],
     "language": "python",
     "metadata": {},
     "outputs": []
    },
    {
     "cell_type": "markdown",
     "metadata": {},
     "source": [
      "This is a new type (class), defined in `numpy`, that represents an $n$-dimensional array (hence the name)."
     ]
    },
    {
     "cell_type": "markdown",
     "metadata": {},
     "source": [
      "As any object in Python, `x` has properties, i.e. internal variables that belong to it, and methods, i.e. functions that act on it. IPython allows us to discover these properties (*introspect*) using the `TAB` key, by typing `x.<TAB>`. [The creator of IPython refers to this as weaponizing the `TAB` key, but if we prefer to avoid military references, we could talk about *empowering* it instead.]"
     ]
    },
    {
     "cell_type": "markdown",
     "metadata": {},
     "source": [
      "--------\n",
      "\n",
      "**Exercise**: Before reading on, play around with `x`; try to find out information about it and do things with it by investigating its properties and methods.\n",
      "\n",
      "---------"
     ]
    },
    {
     "cell_type": "markdown",
     "metadata": {},
     "source": [
      "Some examples of useful things we can do with `x`:"
     ]
    },
    {
     "cell_type": "code",
     "collapsed": false,
     "input": [
      "x.shape  # size in each of the dimensions of x; returns a tuple"
     ],
     "language": "python",
     "metadata": {},
     "outputs": []
    },
    {
     "cell_type": "code",
     "collapsed": false,
     "input": [
      "x.sum()  # sum of the elements of x, perhaps a surprising result!"
     ],
     "language": "python",
     "metadata": {},
     "outputs": []
    },
    {
     "cell_type": "markdown",
     "metadata": {},
     "source": [
      "An alternative, often less subtle, way of generating ranges of numbers is using `np.linspace`:"
     ]
    },
    {
     "cell_type": "code",
     "collapsed": false,
     "input": [
      "x = np.linspace(-2.*np.pi, 2.*np.pi, 31)"
     ],
     "language": "python",
     "metadata": {},
     "outputs": []
    },
    {
     "cell_type": "code",
     "collapsed": false,
     "input": [
      "x.sum()  "
     ],
     "language": "python",
     "metadata": {},
     "outputs": []
    },
    {
     "cell_type": "markdown",
     "metadata": {},
     "source": [
      "This is more in line with our symmetry expectations!"
     ]
    },
    {
     "cell_type": "code",
     "collapsed": false,
     "input": [
      "x"
     ],
     "language": "python",
     "metadata": {},
     "outputs": []
    },
    {
     "cell_type": "markdown",
     "metadata": {},
     "source": [
      "We now wish to evaluate the `sin` function in each of these values of $x$. Standard Python provides us with several ways of doing this. Two of the neatest are \"functional\" approaches: list comprehensions and the `map` function. [In Python 3, `map` no longer returns a list.]"
     ]
    },
    {
     "cell_type": "code",
     "collapsed": false,
     "input": [
      "s1 = [sin(xx) for xx in x]\n",
      "s2 = map(sin, x)"
     ],
     "language": "python",
     "metadata": {},
     "outputs": []
    },
    {
     "cell_type": "markdown",
     "metadata": {},
     "source": [
      "However, we have now left the `numpy` world:"
     ]
    },
    {
     "cell_type": "code",
     "collapsed": false,
     "input": [
      "type(s1), type(s2)"
     ],
     "language": "python",
     "metadata": {},
     "outputs": []
    },
    {
     "cell_type": "markdown",
     "metadata": {},
     "source": [
      "Of course, it's easy to get back: we can pass a list to the `np.array` function to convert it into a `numpy` array:"
     ]
    },
    {
     "cell_type": "code",
     "collapsed": false,
     "input": [
      "s3 = np.array(s1);"
     ],
     "language": "python",
     "metadata": {},
     "outputs": []
    },
    {
     "cell_type": "markdown",
     "metadata": {},
     "source": [
      "However, this is inefficient, since we have created an intermediate copy of all the data.\n",
      "\n",
      "Instead, `numpy` (and `scipy` etc.) are based around *vectorized* versions of functions. These operate on a `numpy` array and return a new array of the same type:"
     ]
    },
    {
     "cell_type": "code",
     "collapsed": false,
     "input": [
      "y = np.sin(x)\n",
      "y"
     ],
     "language": "python",
     "metadata": {},
     "outputs": []
    },
    {
     "cell_type": "markdown",
     "metadata": {},
     "source": [
      "What is `np.sin`?"
     ]
    },
    {
     "cell_type": "code",
     "collapsed": false,
     "input": [
      "np.sin"
     ],
     "language": "python",
     "metadata": {},
     "outputs": []
    },
    {
     "cell_type": "markdown",
     "metadata": {},
     "source": [
      "It is a \"ufunc\", i.e. a \"universal function\", that knows how to operate both on floating-point numbers and on complete arrays.\n",
      "\n",
      "The idea of `numpy` is that we should think in a vectorized way, always trying to operate in this way on complete arrays as a unit. In this way, we can forget about the internal implementation details, which, in fact, could be rather complicated these days, when multicore machines and GPUs are involved. We just specify the desired result, and let somebody else do the hard work of figuring out what's going on underneath to make it all happen!"
     ]
    },
    {
     "cell_type": "heading",
     "level": 2,
     "metadata": {},
     "source": [
      "Arithmetic on vectors"
     ]
    },
    {
     "cell_type": "markdown",
     "metadata": {},
     "source": [
      "`numpy` also, of course, provides the missing vector, matrix etc. functionality that does not come in standard Python.\n",
      "\n",
      "At first glance, Python lists seem like they should work find as vectors:"
     ]
    },
    {
     "cell_type": "code",
     "collapsed": false,
     "input": [
      "v = [3., 4., 5.]\n",
      "v"
     ],
     "language": "python",
     "metadata": {},
     "outputs": []
    },
    {
     "cell_type": "markdown",
     "metadata": {},
     "source": [
      "But we quickly find out that that's not the case:"
     ]
    },
    {
     "cell_type": "code",
     "collapsed": false,
     "input": [
      "v + v"
     ],
     "language": "python",
     "metadata": {},
     "outputs": []
    },
    {
     "cell_type": "code",
     "collapsed": false,
     "input": [
      "3.5 * v"
     ],
     "language": "python",
     "metadata": {},
     "outputs": []
    },
    {
     "cell_type": "markdown",
     "metadata": {},
     "source": [
      "`numpy` is designed to provide this missing functionality via its `ndarray` type. The *constructor*, i.e. the function which creates objects of this type, is the function `np.array`. It accepts lists (and other iterables) and creates a version as an `ndarray`:"
     ]
    },
    {
     "cell_type": "code",
     "collapsed": false,
     "input": [
      "x = np.array( [1., 2., 3.] )  # careful with the order of the parentheses and the square brackets!\n",
      "y = np.array( [3., 4, 5] )"
     ],
     "language": "python",
     "metadata": {},
     "outputs": []
    },
    {
     "cell_type": "code",
     "collapsed": false,
     "input": [
      "print(x)"
     ],
     "language": "python",
     "metadata": {},
     "outputs": []
    },
    {
     "cell_type": "markdown",
     "metadata": {},
     "source": [
      "Arithmetic operations now just work!:"
     ]
    },
    {
     "cell_type": "code",
     "collapsed": false,
     "input": [
      "x + y"
     ],
     "language": "python",
     "metadata": {},
     "outputs": []
    },
    {
     "cell_type": "code",
     "collapsed": false,
     "input": [
      "(x + y).dtype"
     ],
     "language": "python",
     "metadata": {},
     "outputs": []
    },
    {
     "cell_type": "code",
     "collapsed": false,
     "input": [
      "-3.5 * x"
     ],
     "language": "python",
     "metadata": {},
     "outputs": []
    },
    {
     "cell_type": "markdown",
     "metadata": {},
     "source": [
      "We can, for example, use complex numbers:"
     ]
    },
    {
     "cell_type": "code",
     "collapsed": false,
     "input": [
      "z = 3j * x"
     ],
     "language": "python",
     "metadata": {},
     "outputs": []
    },
    {
     "cell_type": "code",
     "collapsed": false,
     "input": [
      "z.dtype  # \"datatype\""
     ],
     "language": "python",
     "metadata": {},
     "outputs": []
    },
    {
     "cell_type": "markdown",
     "metadata": {},
     "source": [
      "We see that `numpy` arrays have associated a data type: all elements must be of the same type (unlike in standard Python lists). This is for efficiency purposes."
     ]
    },
    {
     "cell_type": "markdown",
     "metadata": {},
     "source": [
      "-----------\n",
      "\n",
      "**Exercise**: Play around with arithmetic and mathematical operations on `numpy` arrays.\n",
      "\n",
      "-----------"
     ]
    },
    {
     "cell_type": "heading",
     "level": 2,
     "metadata": {},
     "source": [
      "What is `numpy`?"
     ]
    },
    {
     "cell_type": "markdown",
     "metadata": {},
     "source": [
      "`numpy` thus can be thought of as providing two things:\n",
      "\n",
      "- a numerical array type, suitable for scientific data (vectors, matrices, etc.)\n",
      "- vectorized operations for operating on arrays"
     ]
    },
    {
     "cell_type": "markdown",
     "metadata": {},
     "source": [
      "-----------"
     ]
    },
    {
     "cell_type": "heading",
     "level": 1,
     "metadata": {},
     "source": [
      "Visualizing it: `matplotlib`"
     ]
    },
    {
     "cell_type": "markdown",
     "metadata": {},
     "source": [
      "Now we have some data, that could have come from an experiment, or a social network, etc., stored in a `numpy` array. The next thing to do is - obviously - to visualize it to see what's going on.\n",
      "\n",
      "The standard scientific graphing package, which forms part of the core SciPy stack, is `matplotlib`, so called because it was originally designed to have a MATLAB compatibility layer. This easy-to-use layer is called `pyplot`, and it is standard to import it with the name `plt`:"
     ]
    },
    {
     "cell_type": "code",
     "collapsed": false,
     "input": [
      "import matplotlib.pyplot as plt"
     ],
     "language": "python",
     "metadata": {},
     "outputs": [],
     "prompt_number": 3
    },
    {
     "cell_type": "markdown",
     "metadata": {},
     "source": [
      "-------\n",
      "\n",
      "**Exercise**: Investigate the contents of the `pyplot` submodule.\n",
      "\n",
      "-------"
     ]
    },
    {
     "cell_type": "code",
     "collapsed": false,
     "input": [
      "%matplotlib inline"
     ],
     "language": "python",
     "metadata": {},
     "outputs": [],
     "prompt_number": 4
    },
    {
     "cell_type": "markdown",
     "metadata": {},
     "source": [
      "Let's recap how to get our data:"
     ]
    },
    {
     "cell_type": "code",
     "collapsed": false,
     "input": [
      "import numpy as np"
     ],
     "language": "python",
     "metadata": {},
     "outputs": [],
     "prompt_number": 1
    },
    {
     "cell_type": "code",
     "collapsed": false,
     "input": [
      "x = np.linspace(-2.*np.pi, 2.*np.pi, 101)\n",
      "y = np.sin(x)"
     ],
     "language": "python",
     "metadata": {},
     "outputs": [],
     "prompt_number": 2
    },
    {
     "cell_type": "markdown",
     "metadata": {},
     "source": [
      "Now we plot it:"
     ]
    },
    {
     "cell_type": "code",
     "collapsed": false,
     "input": [
      "plt.plot(x, y)"
     ],
     "language": "python",
     "metadata": {},
     "outputs": []
    },
    {
     "cell_type": "markdown",
     "metadata": {},
     "source": [
      "But nothing happens! We need to `show` it:"
     ]
    },
    {
     "cell_type": "code",
     "collapsed": false,
     "input": [
      "plt.show()"
     ],
     "language": "python",
     "metadata": {},
     "outputs": []
    },
    {
     "cell_type": "markdown",
     "metadata": {},
     "source": [
      "We see that the plot is generated in a separate window, and control is *not* returned to IPython until we close the window; this is a threading issue. This is not good, so let's improve the situation. We must do some backend stuff so that IPython communicates in a more useful way with `matplotlib`:"
     ]
    },
    {
     "cell_type": "code",
     "collapsed": false,
     "input": [
      "%matplotlib"
     ],
     "language": "python",
     "metadata": {},
     "outputs": []
    },
    {
     "cell_type": "markdown",
     "metadata": {},
     "source": [
      "Commands with an initial `%` are internal IPython commands (**magic functions** or **magics**). This one sets up the necessary communication. *However*, it does not actually import any names into the current namespace from `matplotlib`, so  `import matplotlib.pyplot as plt` is still necessary."
     ]
    },
    {
     "cell_type": "code",
     "collapsed": false,
     "input": [
      "plt.plot(x,y)"
     ],
     "language": "python",
     "metadata": {},
     "outputs": []
    },
    {
     "cell_type": "markdown",
     "metadata": {},
     "source": [
      "We see that the plot is still generated in a separate window, but we can continue to work in IPython at the same time. \n",
      "\n",
      "When the plot is in a separate window like this (rendered using a certain \"backend\", that will depend on which windowing libraries matplotlib was compiled with support for), it can be panned, zoomed and saved."
     ]
    },
    {
     "cell_type": "markdown",
     "metadata": {},
     "source": [
      "For many purposes, however, it would be useful to have the figure includled within the same notebook document; in particular, in order to include it when sending it to somebody or exporting it. This can be accomplished with:"
     ]
    },
    {
     "cell_type": "code",
     "collapsed": false,
     "input": [
      "%matplotlib inline"
     ],
     "language": "python",
     "metadata": {},
     "outputs": []
    },
    {
     "cell_type": "code",
     "collapsed": false,
     "input": [
      "plt.plot(x, y)"
     ],
     "language": "python",
     "metadata": {},
     "outputs": []
    },
    {
     "cell_type": "markdown",
     "metadata": {},
     "source": [
      "Currently, it is not possible to modify such plots interactively in the same way as with external windows; however, this functionality is in preparation and should be included in `matplotlib` soon."
     ]
    },
    {
     "cell_type": "markdown",
     "metadata": {},
     "source": [
      "Several plot commands can be included in the same graph. Plot styles may be changed; axis labels and legends may be added."
     ]
    },
    {
     "cell_type": "code",
     "collapsed": false,
     "input": [
      "from numpy import sin, cos"
     ],
     "language": "python",
     "metadata": {},
     "outputs": [],
     "prompt_number": 7
    },
    {
     "cell_type": "code",
     "collapsed": false,
     "input": [
      "plt.plot(x, sin(x))\n",
      "plt.plot(x, cos(x))"
     ],
     "language": "python",
     "metadata": {},
     "outputs": [
      {
       "metadata": {},
       "output_type": "pyout",
       "prompt_number": 8,
       "text": [
        "[<matplotlib.lines.Line2D at 0x105f0e8d0>]"
       ]
      },
      {
       "metadata": {},
       "output_type": "display_data",
       "png": "[encoded data removed]",
       "text": [
        "<matplotlib.figure.Figure at 0x105f0e890>"
       ]
      }
     ],
     "prompt_number": 8
    },
    {
     "cell_type": "code",
     "collapsed": false,
     "input": [
      "plt.plot(x, np.sin(x), label=\"sin(x)\")\n",
      "plt.plot(x, np.cos(x), \"ro--\", label=\"$\\cos(x)$\")  # red points and dashed lines\n",
      "plt.xlabel(\"$x$\", size=20)\n",
      "plt.ylabel(\"$\\sin(x), \\cos(x)$\", size=20)\n",
      "plt.legend()\n",
      "\n",
      "plt.savefig(\"sincos.pdf\")"
     ],
     "language": "python",
     "metadata": {},
     "outputs": [
      {
       "metadata": {},
       "output_type": "display_data",
       "png": "[encoded data removed]",
       "text": [
        "<matplotlib.figure.Figure at 0x105fd1c10>"
       ]
      }
     ],
     "prompt_number": 12
    },
    {
     "cell_type": "markdown",
     "metadata": {},
     "source": [
      "The graph may be saved using"
     ]
    },
    {
     "cell_type": "code",
     "collapsed": false,
     "input": [],
     "language": "python",
     "metadata": {},
     "outputs": []
    },
    {
     "cell_type": "markdown",
     "metadata": {},
     "source": [
      "`matplotlib` includes a subset of LaTeX notation. The labels may also be processed by LaTeX if required."
     ]
    },
    {
     "cell_type": "markdown",
     "metadata": {},
     "source": [
      "Help may be obtained in IPython using `?`. The documentation for `plot` includes full details of the options for point and line types, colours, etc."
     ]
    },
    {
     "cell_type": "code",
     "collapsed": false,
     "input": [
      "plt.plot?"
     ],
     "language": "python",
     "metadata": {},
     "outputs": []
    },
    {
     "cell_type": "markdown",
     "metadata": {},
     "source": [
      "`matplotlib` requires iterables (`numpy` arrays, Python lists, etc.) as its first two arguments, giving the $x$- and $y$-coordinates of the points to plot."
     ]
    },
    {
     "cell_type": "markdown",
     "metadata": {},
     "source": [
      "-----\n",
      "**Exercise**: Plot the exponential and logarithm functions, together with a dashed line showing $y=x$ to show the symmetry.\n",
      "\n",
      "Use `plt.axis(\"equal\")` to get the correct aspect ratio.\n",
      "\n",
      "-----"
     ]
    },
    {
     "cell_type": "code",
     "collapsed": false,
     "input": [
      "%pwd"
     ],
     "language": "python",
     "metadata": {},
     "outputs": [
      {
       "metadata": {},
       "output_type": "pyout",
       "prompt_number": 11,
       "text": [
        "u'/Users/david/Dropbox/docencia/scipy_2014_python'"
       ]
      }
     ],
     "prompt_number": 11
    },
    {
     "cell_type": "heading",
     "level": 2,
     "metadata": {},
     "source": [
      "What is `matplotlib`"
     ]
    },
    {
     "cell_type": "markdown",
     "metadata": {},
     "source": [
      "`matplotlib`, then, provides\n",
      "- high-quality 2D (and some 3D) graphs\n",
      "- inline plotting in the IPython notebook\n",
      "- publication-quality exported PDFs, SVGs, PNGs\n",
      "\n",
      "-----------\n"
     ]
    },
    {
     "cell_type": "heading",
     "level": 1,
     "metadata": {},
     "source": [
      "Adding interactivity with the IPython Notebook"
     ]
    },
    {
     "cell_type": "markdown",
     "metadata": {},
     "source": [
      "A recent addition to the IPython Notebook, released with version 2.0 of IPython a few months ago, is the ability to use interactive widgets. This brings a whole new dimension to scientific exploration and visualization."
     ]
    },
    {
     "cell_type": "markdown",
     "metadata": {},
     "source": [
      "We first import the widgets functionality:"
     ]
    },
    {
     "cell_type": "code",
     "collapsed": false,
     "input": [
      "import IPython.html.widgets as widgets"
     ],
     "language": "python",
     "metadata": {},
     "outputs": [],
     "prompt_number": 13
    },
    {
     "cell_type": "markdown",
     "metadata": {},
     "source": [
      "The easiest way to use the new functionality is via the powerful `interact` command. This takes a Python function and provides widgets (sliders, buttons, etc.) to modify the arguments of the function:"
     ]
    },
    {
     "cell_type": "code",
     "collapsed": false,
     "input": [
      "def f(a):\n",
      "    print(a**2)"
     ],
     "language": "python",
     "metadata": {},
     "outputs": [],
     "prompt_number": 14
    },
    {
     "cell_type": "code",
     "collapsed": false,
     "input": [
      "widgets.interact(f, a=(-5, 5, 0.1))"
     ],
     "language": "python",
     "metadata": {},
     "outputs": [
      {
       "output_type": "stream",
       "stream": "stdout",
       "text": [
        "1.44\n"
       ]
      }
     ],
     "prompt_number": 15
    },
    {
     "cell_type": "markdown",
     "metadata": {},
     "source": [
      "As the slider is moved, the output changes accordingly."
     ]
    },
    {
     "cell_type": "markdown",
     "metadata": {},
     "source": [
      "By including a plot inside the function, we obtain interactive plots controlled by sliders:"
     ]
    },
    {
     "cell_type": "code",
     "collapsed": false,
     "input": [
      "def sincos(a, b):\n",
      "\n",
      "    plt.plot(x, a*np.sin(x+b), label=\"$a \\sin(x) + b$\")\n",
      "    plt.plot(x, np.cos(x), \"ro--\", label=\"$\\cos(x)$\")  # red points and dashed lines\n",
      "    plt.xlabel(\"$x$\", size=20)\n",
      "    plt.ylabel(\"$\\sin(x), \\cos(x)$\", size=20)\n",
      "    plt.legend()\n",
      "    \n",
      "    plt.xlim(-2.*np.pi, 2.*np.pi)\n",
      "    plt.ylim(-2, 2)\n",
      "\n"
     ],
     "language": "python",
     "metadata": {},
     "outputs": [],
     "prompt_number": 16
    },
    {
     "cell_type": "code",
     "collapsed": false,
     "input": [
      "sincos(1, 2)"
     ],
     "language": "python",
     "metadata": {},
     "outputs": [
      {
       "metadata": {},
       "output_type": "display_data",
       "png": "[encoded data removed]",
       "text": [
        "<matplotlib.figure.Figure at 0x105f509d0>"
       ]
      }
     ],
     "prompt_number": 17
    },
    {
     "cell_type": "code",
     "collapsed": false,
     "input": [
      "widgets.interact(sincos, a=(-5, 5, 0.1), b=(-5, 5, 0.1))"
     ],
     "language": "python",
     "metadata": {},
     "outputs": [
      {
       "metadata": {},
       "output_type": "display_data",
       "png": "[encoded data removed]",
       "text": [
        "<matplotlib.figure.Figure at 0x105f69e10>"
       ]
      }
     ],
     "prompt_number": 18
    },
    {
     "cell_type": "markdown",
     "metadata": {},
     "source": [
      "--------\n",
      "\n",
      "**Exercise**: Explore interactivity using your favourite mathematical functions.\n",
      "\n",
      "--------"
     ]
    },
    {
     "cell_type": "heading",
     "level": 1,
     "metadata": {},
     "source": [
      "Using data with `numpy`"
     ]
    },
    {
     "cell_type": "markdown",
     "metadata": {},
     "source": [
      "Naturally, many applications of scientific computing do not manufacture data from functions or obtain it from numerical simulations, but rather use pre-existing data.\n",
      "\n",
      "`numpy` has functions to save and load data from and to arrays. More extensive functionality is available in the `pandas` package."
     ]
    },
    {
     "cell_type": "markdown",
     "metadata": {},
     "source": [
      "Let's start by creating some artificial data with random noise from the `numpy.random` submodule of `numpy`:"
     ]
    },
    {
     "cell_type": "code",
     "collapsed": false,
     "input": [
      "import numpy.random as random"
     ],
     "language": "python",
     "metadata": {},
     "outputs": [],
     "prompt_number": 19
    },
    {
     "cell_type": "code",
     "collapsed": false,
     "input": [
      "random.rand()"
     ],
     "language": "python",
     "metadata": {},
     "outputs": [
      {
       "metadata": {},
       "output_type": "pyout",
       "prompt_number": 39,
       "text": [
        "0.43050091399161583"
       ]
      }
     ],
     "prompt_number": 39
    },
    {
     "cell_type": "code",
     "collapsed": false,
     "input": [
      "x = random.rand(5)"
     ],
     "language": "python",
     "metadata": {},
     "outputs": [],
     "prompt_number": 42
    },
    {
     "cell_type": "code",
     "collapsed": false,
     "input": [
      " "
     ],
     "language": "python",
     "metadata": {},
     "outputs": []
    },
    {
     "cell_type": "code",
     "collapsed": false,
     "input": [
      "x = np.linspace(-5, 5, 31)\n",
      "len(x) "
     ],
     "language": "python",
     "metadata": {},
     "outputs": [
      {
       "metadata": {},
       "output_type": "pyout",
       "prompt_number": 40,
       "text": [
        "31"
       ]
      }
     ],
     "prompt_number": 40
    },
    {
     "cell_type": "code",
     "collapsed": false,
     "input": [
      "x = np.linspace(-5, 5, 31)\n",
      "x += 0.5*random.rand(len(x))\n",
      "y = x**2 + 5*random.rand(len(x))"
     ],
     "language": "python",
     "metadata": {},
     "outputs": [],
     "prompt_number": 43
    },
    {
     "cell_type": "markdown",
     "metadata": {},
     "source": [
      "`random.rand()` generates a (pseudo-)random number between 0 and 1:"
     ]
    },
    {
     "cell_type": "code",
     "collapsed": false,
     "input": [
      "random.rand()"
     ],
     "language": "python",
     "metadata": {},
     "outputs": []
    },
    {
     "cell_type": "markdown",
     "metadata": {},
     "source": [
      "Giving it an argument generates a vector or matrix of that form:"
     ]
    },
    {
     "cell_type": "code",
     "collapsed": false,
     "input": [
      "random.rand(10)"
     ],
     "language": "python",
     "metadata": {},
     "outputs": []
    },
    {
     "cell_type": "code",
     "collapsed": false,
     "input": [
      "random.rand(4,4)"
     ],
     "language": "python",
     "metadata": {},
     "outputs": []
    },
    {
     "cell_type": "code",
     "collapsed": false,
     "input": [
      "plt.plot(x, y, 'o')"
     ],
     "language": "python",
     "metadata": {},
     "outputs": [
      {
       "metadata": {},
       "output_type": "pyout",
       "prompt_number": 44,
       "text": [
        "[<matplotlib.lines.Line2D at 0x1062d0910>]"
       ]
      },
      {
       "metadata": {},
       "output_type": "display_data",
       "png": "[encoded data removed]",
       "text": [
        "<matplotlib.figure.Figure at 0x105c7b2d0>"
       ]
      }
     ],
     "prompt_number": 44
    },
    {
     "cell_type": "heading",
     "level": 2,
     "metadata": {},
     "source": [
      "Matrices in `numpy`"
     ]
    },
    {
     "cell_type": "markdown",
     "metadata": {},
     "source": [
      "To export the data, we need it in a tabular form in a matrix, which is represented in `numpy` as an array formed as a list of lists. Let's combine the two arrays into a matrix by stacking them. There's a special syntax to do this:"
     ]
    },
    {
     "cell_type": "code",
     "collapsed": false,
     "input": [
      "np.concatenate( (x, y), axis=2 )"
     ],
     "language": "python",
     "metadata": {},
     "outputs": [
      {
       "metadata": {},
       "output_type": "pyout",
       "prompt_number": 51,
       "text": [
        "array([ -4.71988785,  -4.53596207,  -3.93014435,  -3.81393325,\n",
        "        -3.20911764,  -3.10560312,  -2.73490725,  -2.21943719,\n",
        "        -1.9569157 ,  -1.65391094,  -1.42470734,  -0.84144377,\n",
        "        -0.98586905,  -0.50191646,  -0.22926681,   0.142802  ,\n",
        "         0.76813849,   0.97573011,   1.27206709,   1.35033229,\n",
        "         1.76068972,   2.02755275,   2.71133139,   2.85360181,\n",
        "         3.09609278,   3.60517884,   3.70110577,   4.4336134 ,\n",
        "         4.67158058,   5.13205797,   5.17970568,  23.82061529,\n",
        "        20.93211352,  20.33162724,  15.46994944,  14.62136303,\n",
        "        14.0637015 ,  11.12794014,   9.17906333,   8.54312315,\n",
        "         3.03193577,   3.04531455,   0.82123001,   5.21052221,\n",
        "         3.55544824,   5.02638916,   3.38961594,   3.01049682,\n",
        "         1.28100687,   2.45596431,   2.41462564,   4.84611838,\n",
        "         7.37448968,   7.91698609,   8.51920495,  12.76338312,\n",
        "        16.05243187,  17.65915249,  21.89743254,  26.7014599 ,\n",
        "        28.20998249,  28.82098312])"
       ]
      }
     ],
     "prompt_number": 51
    },
    {
     "cell_type": "code",
     "collapsed": false,
     "input": [
      "z = np.c_[x, y]\n",
      "z.shape"
     ],
     "language": "python",
     "metadata": {},
     "outputs": [
      {
       "metadata": {},
       "output_type": "pyout",
       "prompt_number": 54,
       "text": [
        "(31, 2)"
       ]
      }
     ],
     "prompt_number": 54
    },
    {
     "cell_type": "code",
     "collapsed": false,
     "input": [],
     "language": "python",
     "metadata": {},
     "outputs": []
    },
    {
     "cell_type": "code",
     "collapsed": false,
     "input": [
      "np.savez?"
     ],
     "language": "python",
     "metadata": {},
     "outputs": [],
     "prompt_number": 55
    },
    {
     "cell_type": "code",
     "collapsed": false,
     "input": [],
     "language": "python",
     "metadata": {},
     "outputs": []
    },
    {
     "cell_type": "code",
     "collapsed": false,
     "input": [
      "np.savetxt(\"noisy_quadratic.dat\", z)"
     ],
     "language": "python",
     "metadata": {},
     "outputs": [],
     "prompt_number": 56
    },
    {
     "cell_type": "code",
     "collapsed": false,
     "input": [
      "%cat noisy_quadratic.dat  # %cat is an IPython command to show the contents of a file"
     ],
     "language": "python",
     "metadata": {},
     "outputs": [
      {
       "output_type": "stream",
       "stream": "stdout",
       "text": [
        "-4.719887851615939489e+00 2.382061528709635212e+01\r\n",
        "-4.535962067815805909e+00 2.093211351962834499e+01\r\n",
        "-3.930144353996346318e+00 2.033162724006075450e+01\r\n",
        "-3.813933246412401612e+00 1.546994943567252179e+01\r\n",
        "-3.209117637463332340e+00 1.462136303088045253e+01\r\n",
        "-3.105603118601099499e+00 1.406370150100974570e+01\r\n",
        "-2.734907248902587185e+00 1.112794014384436991e+01\r\n",
        "-2.219437187717105964e+00 9.179063329704554519e+00\r\n",
        "-1.956915695747245332e+00 8.543123151173947605e+00\r\n",
        "-1.653910944982321052e+00 3.031935766106356844e+00\r\n",
        "-1.424707337606372581e+00 3.045314549333471899e+00\r\n",
        "-8.414437709086793893e-01 8.212300094863060895e-01\r\n",
        "-9.858690503656686310e-01 5.210522207656460125e+00\r\n",
        "-5.019164594892445708e-01 3.555448242773053824e+00\r\n",
        "-2.292668133806335939e-01 5.026389156535251423e+00\r\n",
        "1.428019971492797691e-01 3.389615936283091102e+00\r\n",
        "7.681384909609414446e-01 3.010496824642559410e+00\r\n",
        "9.757301108886248242e-01 1.281006865577076326e+00\r\n",
        "1.272067092307124891e+00 2.455964312195784149e+00\r\n",
        "1.350332292714720550e+00 2.414625637742776831e+00\r\n",
        "1.760689723401625661e+00 4.846118378958948369e+00\r\n",
        "2.027552748163724772e+00 7.374489678340232501e+00\r\n",
        "2.711331389869264807e+00 7.916986087828178142e+00\r\n",
        "2.853601808486159630e+00 8.519204949677147809e+00\r\n",
        "3.096092779636476777e+00 1.276338312198121727e+01\r\n",
        "3.605178844432806340e+00 1.605243187315790365e+01\r\n",
        "3.701105771435238445e+00 1.765915249231904482e+01\r\n",
        "4.433613396099546300e+00 2.189743254240550030e+01\r\n",
        "4.671580576104158666e+00 2.670145989660908725e+01\r\n",
        "5.132057965645159925e+00 2.820998249136182068e+01\r\n",
        "5.179705675368295736e+00 2.882098312138893803e+01\r\n"
       ]
      }
     ],
     "prompt_number": 57
    },
    {
     "cell_type": "markdown",
     "metadata": {},
     "source": [
      "`np.savetxt` enables the specification of a format string for output:"
     ]
    },
    {
     "cell_type": "code",
     "collapsed": false,
     "input": [
      "np.savetxt?"
     ],
     "language": "python",
     "metadata": {},
     "outputs": []
    },
    {
     "cell_type": "code",
     "collapsed": false,
     "input": [
      "np.savetxt(\"noisy_quadratic.dat\", z, fmt=\"%20.5f %20.5f\")"
     ],
     "language": "python",
     "metadata": {},
     "outputs": [],
     "prompt_number": 58
    },
    {
     "cell_type": "code",
     "collapsed": false,
     "input": [
      "%cat noisy_quadratic.dat"
     ],
     "language": "python",
     "metadata": {},
     "outputs": [
      {
       "output_type": "stream",
       "stream": "stdout",
       "text": [
        "            -4.71989             23.82062\r\n",
        "            -4.53596             20.93211\r\n",
        "            -3.93014             20.33163\r\n",
        "            -3.81393             15.46995\r\n",
        "            -3.20912             14.62136\r\n",
        "            -3.10560             14.06370\r\n",
        "            -2.73491             11.12794\r\n",
        "            -2.21944              9.17906\r\n",
        "            -1.95692              8.54312\r\n",
        "            -1.65391              3.03194\r\n",
        "            -1.42471              3.04531\r\n",
        "            -0.84144              0.82123\r\n",
        "            -0.98587              5.21052\r\n",
        "            -0.50192              3.55545\r\n",
        "            -0.22927              5.02639\r\n",
        "             0.14280              3.38962\r\n",
        "             0.76814              3.01050\r\n",
        "             0.97573              1.28101\r\n",
        "             1.27207              2.45596\r\n",
        "             1.35033              2.41463\r\n",
        "             1.76069              4.84612\r\n",
        "             2.02755              7.37449\r\n",
        "             2.71133              7.91699\r\n",
        "             2.85360              8.51920\r\n",
        "             3.09609             12.76338\r\n",
        "             3.60518             16.05243\r\n",
        "             3.70111             17.65915\r\n",
        "             4.43361             21.89743\r\n",
        "             4.67158             26.70146\r\n",
        "             5.13206             28.20998\r\n",
        "             5.17971             28.82098\r\n"
       ]
      }
     ],
     "prompt_number": 59
    },
    {
     "cell_type": "code",
     "collapsed": false,
     "input": [
      "!ls"
     ],
     "language": "python",
     "metadata": {},
     "outputs": [
      {
       "output_type": "stream",
       "stream": "stdout",
       "text": [
        "Data analysis with pandas.ipynb\r\n",
        "IPython.ipynb\r\n",
        "Index.ipynb\r\n",
        "Lorenz_stability_analysis.ipynb\r\n",
        "README.md\r\n",
        "Starting out with SciPy.ipynb\r\n",
        "Symbolic computation with sympy.ipynb\r\n",
        "Using SciPy for scientific problems.ipynb\r\n",
        "Wonderful World of Scientific Python.ipynb\r\n",
        "Wonderful World of Scientific Python.slides.html\r\n",
        "course_data.xls\r\n",
        "installing_python.md\r\n",
        "\u001b[34mlive\u001b[m\u001b[m\r\n",
        "matplotlib.ipynb\r\n",
        "noisy_quadratic.dat\r\n",
        "numpy.ipynb\r\n",
        "sincos.pdf\r\n"
       ]
      }
     ],
     "prompt_number": 60
    },
    {
     "cell_type": "code",
     "collapsed": false,
     "input": [
      "np.savetxt?"
     ],
     "language": "python",
     "metadata": {},
     "outputs": []
    },
    {
     "cell_type": "markdown",
     "metadata": {},
     "source": [
      "Similarly, `numpy` has a relatively simple function `loadtxt` for loading tabulated data:"
     ]
    },
    {
     "cell_type": "code",
     "collapsed": false,
     "input": [
      "zz = np.loadtxt(\"noisy_quadratic.dat\")"
     ],
     "language": "python",
     "metadata": {},
     "outputs": [],
     "prompt_number": 61
    },
    {
     "cell_type": "code",
     "collapsed": false,
     "input": [
      "zz"
     ],
     "language": "python",
     "metadata": {},
     "outputs": [
      {
       "metadata": {},
       "output_type": "pyout",
       "prompt_number": 62,
       "text": [
        "array([[ -4.71989,  23.82062],\n",
        "       [ -4.53596,  20.93211],\n",
        "       [ -3.93014,  20.33163],\n",
        "       [ -3.81393,  15.46995],\n",
        "       [ -3.20912,  14.62136],\n",
        "       [ -3.1056 ,  14.0637 ],\n",
        "       [ -2.73491,  11.12794],\n",
        "       [ -2.21944,   9.17906],\n",
        "       [ -1.95692,   8.54312],\n",
        "       [ -1.65391,   3.03194],\n",
        "       [ -1.42471,   3.04531],\n",
        "       [ -0.84144,   0.82123],\n",
        "       [ -0.98587,   5.21052],\n",
        "       [ -0.50192,   3.55545],\n",
        "       [ -0.22927,   5.02639],\n",
        "       [  0.1428 ,   3.38962],\n",
        "       [  0.76814,   3.0105 ],\n",
        "       [  0.97573,   1.28101],\n",
        "       [  1.27207,   2.45596],\n",
        "       [  1.35033,   2.41463],\n",
        "       [  1.76069,   4.84612],\n",
        "       [  2.02755,   7.37449],\n",
        "       [  2.71133,   7.91699],\n",
        "       [  2.8536 ,   8.5192 ],\n",
        "       [  3.09609,  12.76338],\n",
        "       [  3.60518,  16.05243],\n",
        "       [  3.70111,  17.65915],\n",
        "       [  4.43361,  21.89743],\n",
        "       [  4.67158,  26.70146],\n",
        "       [  5.13206,  28.20998],\n",
        "       [  5.17971,  28.82098]])"
       ]
      }
     ],
     "prompt_number": 62
    },
    {
     "cell_type": "markdown",
     "metadata": {},
     "source": [
      "Now we need to split the array `z_new` up into columns. The syntax for accessing elements of an array is like that of a list in Python: the first element of an array `x` is `x[0]`, the second `x[1]`, etc."
     ]
    },
    {
     "cell_type": "code",
     "collapsed": false,
     "input": [
      "x[3]"
     ],
     "language": "python",
     "metadata": {},
     "outputs": [
      {
       "metadata": {},
       "output_type": "pyout",
       "prompt_number": 64,
       "text": [
        "-3.8139332464124016"
       ]
      }
     ],
     "prompt_number": 64
    },
    {
     "cell_type": "code",
     "collapsed": false,
     "input": [
      "x[3:10]"
     ],
     "language": "python",
     "metadata": {},
     "outputs": [
      {
       "metadata": {},
       "output_type": "pyout",
       "prompt_number": 65,
       "text": [
        "array([-3.81393325, -3.20911764, -3.10560312, -2.73490725, -2.21943719,\n",
        "       -1.9569157 , -1.65391094])"
       ]
      }
     ],
     "prompt_number": 65
    },
    {
     "cell_type": "code",
     "collapsed": false,
     "input": [
      "z[3]"
     ],
     "language": "python",
     "metadata": {},
     "outputs": [
      {
       "metadata": {},
       "output_type": "pyout",
       "prompt_number": 67,
       "text": [
        "array([ -3.81393325,  15.46994944])"
       ]
      }
     ],
     "prompt_number": 67
    },
    {
     "cell_type": "code",
     "collapsed": false,
     "input": [
      "z[3:5]"
     ],
     "language": "python",
     "metadata": {},
     "outputs": [
      {
       "metadata": {},
       "output_type": "pyout",
       "prompt_number": 68,
       "text": [
        "array([[ -3.81393325,  15.46994944],\n",
        "       [ -3.20911764,  14.62136303]])"
       ]
      }
     ],
     "prompt_number": 68
    },
    {
     "cell_type": "code",
     "collapsed": false,
     "input": [
      "z[3:5, 1]"
     ],
     "language": "python",
     "metadata": {},
     "outputs": [
      {
       "metadata": {},
       "output_type": "pyout",
       "prompt_number": 69,
       "text": [
        "array([ 15.46994944,  14.62136303])"
       ]
      }
     ],
     "prompt_number": 69
    },
    {
     "cell_type": "code",
     "collapsed": false,
     "input": [
      "z[:, 0]"
     ],
     "language": "python",
     "metadata": {},
     "outputs": [
      {
       "metadata": {},
       "output_type": "pyout",
       "prompt_number": 70,
       "text": [
        "array([-4.71988785, -4.53596207, -3.93014435, -3.81393325, -3.20911764,\n",
        "       -3.10560312, -2.73490725, -2.21943719, -1.9569157 , -1.65391094,\n",
        "       -1.42470734, -0.84144377, -0.98586905, -0.50191646, -0.22926681,\n",
        "        0.142802  ,  0.76813849,  0.97573011,  1.27206709,  1.35033229,\n",
        "        1.76068972,  2.02755275,  2.71133139,  2.85360181,  3.09609278,\n",
        "        3.60517884,  3.70110577,  4.4336134 ,  4.67158058,  5.13205797,\n",
        "        5.17970568])"
       ]
      }
     ],
     "prompt_number": 70
    },
    {
     "cell_type": "markdown",
     "metadata": {},
     "source": [
      "----\n",
      "\n",
      "**Exercise**: What do the elements of the array `z_new` look like? Play with the standard colon (`:`) notation for ranges to access elements of the matrix. How can you extract the first column of the matrix?\n",
      "\n",
      "----"
     ]
    },
    {
     "cell_type": "markdown",
     "metadata": {},
     "source": [
      "Individual elements of the matrix are accessed via"
     ]
    },
    {
     "cell_type": "code",
     "collapsed": false,
     "input": [
      "zz[1, 0]"
     ],
     "language": "python",
     "metadata": {},
     "outputs": []
    },
    {
     "cell_type": "markdown",
     "metadata": {},
     "source": [
      "Thus `zz` behaves as if it were a mathematical matrix: the first entry specifies the row and the second the column, except that indexing always starts at 0."
     ]
    },
    {
     "cell_type": "markdown",
     "metadata": {},
     "source": [
      "Ranges of elements are specified as with Python lists, using `:`, available for specifying ranges in both directions:"
     ]
    },
    {
     "cell_type": "code",
     "collapsed": false,
     "input": [
      "zz[1:3, 0:2]"
     ],
     "language": "python",
     "metadata": {},
     "outputs": []
    },
    {
     "cell_type": "markdown",
     "metadata": {},
     "source": [
      "Ranges that span the the whole direction may be specified just with the colon:"
     ]
    },
    {
     "cell_type": "code",
     "collapsed": false,
     "input": [
      "zz[1:3, :]"
     ],
     "language": "python",
     "metadata": {},
     "outputs": []
    },
    {
     "cell_type": "markdown",
     "metadata": {},
     "source": [
      "Thus, the first column is"
     ]
    },
    {
     "cell_type": "code",
     "collapsed": false,
     "input": [
      "zz[:,1]"
     ],
     "language": "python",
     "metadata": {},
     "outputs": []
    },
    {
     "cell_type": "markdown",
     "metadata": {},
     "source": [
      "Thus finally, we can set"
     ]
    },
    {
     "cell_type": "code",
     "collapsed": false,
     "input": [
      "xx = zz[:, 0]\n",
      "yy = zz[:, 1]"
     ],
     "language": "python",
     "metadata": {},
     "outputs": []
    },
    {
     "cell_type": "markdown",
     "metadata": {},
     "source": [
      "In fact, there is a simple trick to obtain this: we may transpose the matrix `zz`:"
     ]
    },
    {
     "cell_type": "code",
     "collapsed": false,
     "input": [
      "zz.T"
     ],
     "language": "python",
     "metadata": {},
     "outputs": [
      {
       "metadata": {},
       "output_type": "pyout",
       "prompt_number": 72,
       "text": [
        "array([[ -4.71989,  -4.53596,  -3.93014,  -3.81393,  -3.20912,  -3.1056 ,\n",
        "         -2.73491,  -2.21944,  -1.95692,  -1.65391,  -1.42471,  -0.84144,\n",
        "         -0.98587,  -0.50192,  -0.22927,   0.1428 ,   0.76814,   0.97573,\n",
        "          1.27207,   1.35033,   1.76069,   2.02755,   2.71133,   2.8536 ,\n",
        "          3.09609,   3.60518,   3.70111,   4.43361,   4.67158,   5.13206,\n",
        "          5.17971],\n",
        "       [ 23.82062,  20.93211,  20.33163,  15.46995,  14.62136,  14.0637 ,\n",
        "         11.12794,   9.17906,   8.54312,   3.03194,   3.04531,   0.82123,\n",
        "          5.21052,   3.55545,   5.02639,   3.38962,   3.0105 ,   1.28101,\n",
        "          2.45596,   2.41463,   4.84612,   7.37449,   7.91699,   8.5192 ,\n",
        "         12.76338,  16.05243,  17.65915,  21.89743,  26.70146,  28.20998,\n",
        "         28.82098]])"
       ]
      }
     ],
     "prompt_number": 72
    },
    {
     "cell_type": "code",
     "collapsed": false,
     "input": [
      "zz.T"
     ],
     "language": "python",
     "metadata": {},
     "outputs": []
    },
    {
     "cell_type": "code",
     "collapsed": false,
     "input": [
      "zz.strides"
     ],
     "language": "python",
     "metadata": {},
     "outputs": [
      {
       "metadata": {},
       "output_type": "pyout",
       "prompt_number": 74,
       "text": [
        "(16, 8)"
       ]
      }
     ],
     "prompt_number": 74
    },
    {
     "cell_type": "code",
     "collapsed": false,
     "input": [
      "zz.T.strides"
     ],
     "language": "python",
     "metadata": {},
     "outputs": [
      {
       "metadata": {},
       "output_type": "pyout",
       "prompt_number": 75,
       "text": [
        "(8, 16)"
       ]
      }
     ],
     "prompt_number": 75
    },
    {
     "cell_type": "markdown",
     "metadata": {},
     "source": [
      "and then use tuple unpacking:"
     ]
    },
    {
     "cell_type": "code",
     "collapsed": false,
     "input": [
      "xx, yy = zz.T\n"
     ],
     "language": "python",
     "metadata": {},
     "outputs": [],
     "prompt_number": 73
    },
    {
     "cell_type": "markdown",
     "metadata": {},
     "source": [
      "Furthermore, `np.loadtxt` has a keyword option that allows us to do all of this in one step:"
     ]
    },
    {
     "cell_type": "code",
     "collapsed": false,
     "input": [
      "xxx, yyy = np.loadtxt(\"noisy_quadratic.dat\", unpack=True)"
     ],
     "language": "python",
     "metadata": {},
     "outputs": []
    },
    {
     "cell_type": "code",
     "collapsed": false,
     "input": [
      "np.loadtxt?"
     ],
     "language": "python",
     "metadata": {},
     "outputs": [],
     "prompt_number": 76
    },
    {
     "cell_type": "markdown",
     "metadata": {},
     "source": [
      "----\n",
      "**Exercise**: Load and plot some of your favourite data.\n",
      "\n",
      "----"
     ]
    },
    {
     "cell_type": "code",
     "collapsed": false,
     "input": [],
     "language": "python",
     "metadata": {},
     "outputs": []
    },
    {
     "cell_type": "heading",
     "level": 2,
     "metadata": {},
     "source": [
      "Literate programming: the IPython Notebook"
     ]
    },
    {
     "cell_type": "markdown",
     "metadata": {},
     "source": [
      "We can do **literate programming** by mixing textual commentary with our code and calculations. To do so, we use a lightweight **markup language**, called *Markdown*.\n",
      "\n",
      "Markdown allows us to write *italics* using `*italics*` and **bold text** using `**bold text**`.\n",
      "\n",
      "It allows\n",
      "- bulleted lists, using `-` at the start of each line\n",
      "- quoted passages, by using `>`: \n",
      "\n",
      "\n",
      "1. Numbered lists\n",
      "2. Hello\n",
      "\n",
      "> All the world is a stage.  \n",
      "\n",
      "Significantly for scientific computing, within Markdown cells, we may *use equations, written using (a subset of) LaTeX*, by enclosing the equations in `$` for inline maths, or `$$` for displayed equations:\n",
      "\n",
      "The equation $y = x^2$ is very interesting. A more complicated one is\n",
      "$$\\mathcal{N}(x) = C e^{-x^2}$$.\n",
      "\n",
      "In order to render these equations, the MathJax library is used. An online version is used by default; if you require a local version, it must be downloaded by typing the following in a Python session:\n",
      "\n",
      "    from IPython.external import mathjax\n",
      "    mathjax.install_mathjax()"
     ]
    },
    {
     "cell_type": "markdown",
     "metadata": {},
     "source": [
      "-----\n",
      "**Exercise**: Write and illustrate a short segment on your favourite function(s).\n",
      "\n",
      "-----"
     ]
    },
    {
     "cell_type": "heading",
     "level": 1,
     "metadata": {},
     "source": [
      "Exporting your notebook document"
     ]
    },
    {
     "cell_type": "markdown",
     "metadata": {},
     "source": [
      "When you save an IPython notebook document, it is saved in the current working directory (available with `pwd()`) with the extension `.ipynb`. This file is a plain text file, in a certain format called JSON (\"Javascript Object Notation\"), which contains a *complete* record of *exactly* the contents of the notebook in your environment. This file may be saved in a version control system, sent to a colleague, etc."
     ]
    },
    {
     "cell_type": "markdown",
     "metadata": {},
     "source": [
      "Another important feature of IPython is the ability to export, or convert, the notebook format to other types of format, including LaTeX and PDF documents, HTML, reStructured Text, and even slide shows."
     ]
    },
    {
     "cell_type": "markdown",
     "metadata": {},
     "source": [
      "Several of these options are available from the `File | Download as` option from within the Notebook itself. For the other formats, and more control, we use the `ipython nbconvert` command-line tool."
     ]
    },
    {
     "cell_type": "markdown",
     "metadata": {},
     "source": [
      "IPython provides access to the command line with the `!` operator. We can convert to a static HTML, e.g. suitable for a blog post:"
     ]
    },
    {
     "cell_type": "code",
     "collapsed": false,
     "input": [
      "!ipython nbconvert Starting\\ out\\ with\\ SciPy\\ --\\ IPython,\\ numpy\\ and\\ matplotlib.ipynb --to html"
     ],
     "language": "python",
     "metadata": {},
     "outputs": []
    },
    {
     "cell_type": "code",
     "collapsed": false,
     "input": [
      "!open Starting\\ out\\ with\\ SciPy\\ --\\ IPython,\\ numpy\\ and\\ matplotlib.html"
     ],
     "language": "python",
     "metadata": {},
     "outputs": []
    },
    {
     "cell_type": "markdown",
     "metadata": {},
     "source": [
      "To convert to PDF, first LaTeX is output, and then this is converted to PDF by the `--post PDF` (\"post\" stands for \"post-processing\"):"
     ]
    },
    {
     "cell_type": "code",
     "collapsed": false,
     "input": [
      "!ipython nbconvert Starting\\ out\\ with\\ SciPy\\ --\\ IPython,\\ numpy\\ and\\ matplotlib.ipynb --to latex --post PDF"
     ],
     "language": "python",
     "metadata": {},
     "outputs": []
    },
    {
     "cell_type": "code",
     "collapsed": false,
     "input": [
      "!open Star"
     ],
     "language": "python",
     "metadata": {},
     "outputs": []
    },
    {
     "cell_type": "markdown",
     "metadata": {},
     "source": [
      "There is also an option to generate an HTML file suitable for a slideshow presentation using the `Reveal.js` library. To use this option, choose the `Slideshow` option from the `Cell Toolbar`, and specify the types for each cell using the resulting popup boxes. Then convert the slides using the following. The `--post serve` option launches an HTML server to show the slides correctly."
     ]
    },
    {
     "cell_type": "code",
     "collapsed": false,
     "input": [
      "!ipython nbconvert Starting\\ out\\ with\\ SciPy\\ --\\ IPython,\\ numpy\\ and\\ matplotlib.ipynb --to slides --post serve"
     ],
     "language": "python",
     "metadata": {},
     "outputs": []
    },
    {
     "cell_type": "markdown",
     "metadata": {},
     "source": [
      "The template files used for each format may be customized."
     ]
    },
    {
     "cell_type": "heading",
     "level": 2,
     "metadata": {},
     "source": [
      "What is the IPython Notebook?"
     ]
    },
    {
     "cell_type": "markdown",
     "metadata": {},
     "source": [
      "The IPython Notebook thus provides the necessary tools for a highly interactive dialogue with code, with mathematical commentary about the operations being performed.\n",
      "\n",
      "In this way, it is a wonderful tool for documenting computational workflows."
     ]
    },
    {
     "cell_type": "markdown",
     "metadata": {},
     "source": [
      "-----\n",
      "**Exercise**: Write and illustrate a short segment on your favourite function(s).\n",
      "\n",
      "-----"
     ]
    },
    {
     "cell_type": "markdown",
     "metadata": {},
     "source": [
      "Note that IPython is also a command-line program that provides a much-enhanced interactive Python shell. \n",
      "\n",
      "Since the notebook is a web application, it is easy to run it remotely on a notebook server."
     ]
    },
    {
     "cell_type": "heading",
     "level": 1,
     "metadata": {},
     "source": [
      "Summary"
     ]
    },
    {
     "cell_type": "markdown",
     "metadata": {},
     "source": [
      "In this notebook, we have seen the basic usage of the fundamental components of the SciPy stack:\n",
      "\n",
      "- The IPython Notebook\n",
      "    - an environment for facilitating computational workflows\n",
      "    - provides interactivity via widgets\n",
      "    - allows us to export notebook documents in different formats\n",
      "    \n",
      "- `numpy`\n",
      "    - provides vectors, matrices, and $n$-dimensional arrays\n",
      "    - provides fast vectorized mathematical operations on arrays\n",
      "    - easy input and output of data\n",
      "    \n",
      "- `matplotlib`\n",
      "    - 2D (and 3D) interactive plots\n",
      "    - many formatting options\n",
      "    - publication-quality output\n"
     ]
    }
   ],
   "metadata": {}
  }
 ]
}