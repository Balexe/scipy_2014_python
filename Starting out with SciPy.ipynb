{
 "metadata": {
  "name": "",
  "signature": "sha256:f2a615ee9aa840b3cb8bbf143cf6d0557a080283222e842cad4cd0efa19ba544"
 },
 "nbformat": 3,
 "nbformat_minor": 0,
 "worksheets": [
  {
   "cells": [
    {
     "cell_type": "heading",
     "level": 1,
     "metadata": {},
     "source": [
      "Getting started with Scientific Python: \n",
      "the IPython Notebook, `numpy` and `matplotlib`"
     ]
    },
    {
     "cell_type": "markdown",
     "metadata": {},
     "source": [
      "In this notebook, we will begin to explore the tools that make up the Scientific Python (SciPy) \"stack\" or \"ecosystem\". The fundamental ones are the **IPython Notebook**, the **numpy** package for arrays, and the **matplotlib** scientific plotting package."
     ]
    },
    {
     "cell_type": "code",
     "collapsed": false,
     "input": [
      "# 2.7 / 3 compatibility:\n",
      "from __future__ import print_function, division"
     ],
     "language": "python",
     "metadata": {},
     "outputs": []
    },
    {
     "cell_type": "heading",
     "level": 1,
     "metadata": {},
     "source": [
      "The IPython Notebook"
     ]
    },
    {
     "cell_type": "markdown",
     "metadata": {},
     "source": [
      "This document is an IPython notebook document, which is an interactive computational document that can be modified and executed in the IPython Notebook web application, a fantastic way to produce computational workflows that mix rich text, Python (and other languages) code, graphics, and other multimedia.\n",
      "\n",
      "The structure of a notebook document is based on **cells**, which are executed using `Shift-Enter`. These cells have different types"
     ]
    },
    {
     "cell_type": "heading",
     "level": 1,
     "metadata": {},
     "source": [
      "Looking at mathematical functions: `numpy`"
     ]
    },
    {
     "cell_type": "markdown",
     "metadata": {},
     "source": [
      "Let's start with a simple scientific problem: just visualizing some data"
     ]
    },
    {
     "cell_type": "code",
     "collapsed": false,
     "input": [
      "import numpy as np"
     ],
     "language": "python",
     "metadata": {},
     "outputs": []
    },
    {
     "cell_type": "markdown",
     "metadata": {},
     "source": [
      "Let's create some data by evaluating a function, `sin`"
     ]
    },
    {
     "cell_type": "markdown",
     "metadata": {},
     "source": [
      "Replace `range` by `arange`:"
     ]
    },
    {
     "cell_type": "code",
     "collapsed": false,
     "input": [
      "help(np.arange)"
     ],
     "language": "python",
     "metadata": {},
     "outputs": []
    },
    {
     "cell_type": "code",
     "collapsed": false,
     "input": [
      "np.arange(-2.*pi, 2.*pi, 0.1)"
     ],
     "language": "python",
     "metadata": {},
     "outputs": []
    },
    {
     "cell_type": "code",
     "collapsed": false,
     "input": [
      "x = np.arange(-2.*np.pi, 2.*np.pi, 0.1)"
     ],
     "language": "python",
     "metadata": {},
     "outputs": []
    },
    {
     "cell_type": "markdown",
     "metadata": {},
     "source": [
      "NB: We could import the functions that we will use with `from numpy import sin` etc., but for the purposes, at least, of this tutorial, it is more useful to keep track of where they live."
     ]
    },
    {
     "cell_type": "markdown",
     "metadata": {},
     "source": [
      "What kind of object is `x`?"
     ]
    },
    {
     "cell_type": "code",
     "collapsed": false,
     "input": [
      "type(x)"
     ],
     "language": "python",
     "metadata": {},
     "outputs": []
    },
    {
     "cell_type": "markdown",
     "metadata": {},
     "source": [
      "This is a new type (class), defined in `numpy`, that represents an $n$-dimensional array (hence the name)."
     ]
    },
    {
     "cell_type": "markdown",
     "metadata": {},
     "source": [
      "As any object in Python, `x` has properties, i.e. internal variables that belong to it, and methods, i.e. functions that act on it. IPython allows us to discover these properties (*introspect*) using the `TAB` key, by typing `x.<TAB>`. [The creator of IPython refers to this as weaponizing the `TAB` key, but if we prefer to avoid military references, we could talk about *empowering* it instead.]"
     ]
    },
    {
     "cell_type": "markdown",
     "metadata": {},
     "source": [
      "--------\n",
      "\n",
      "**Exercise**: Before reading on, play around with `x`; try to find out information about it and do things with it by investigating its properties and methods.\n",
      "\n",
      "---------"
     ]
    },
    {
     "cell_type": "markdown",
     "metadata": {},
     "source": [
      "Some examples of useful things we can do with `x`:"
     ]
    },
    {
     "cell_type": "code",
     "collapsed": false,
     "input": [
      "x.shape  # size in each of the dimensions of x; returns a tuple"
     ],
     "language": "python",
     "metadata": {},
     "outputs": []
    },
    {
     "cell_type": "code",
     "collapsed": false,
     "input": [
      "x.sum()  # sum of the elements of x, perhaps a surprising result!"
     ],
     "language": "python",
     "metadata": {},
     "outputs": []
    },
    {
     "cell_type": "markdown",
     "metadata": {},
     "source": [
      "An alternative, often less subtle, way of generating ranges of numbers is using `np.linspace`:"
     ]
    },
    {
     "cell_type": "code",
     "collapsed": false,
     "input": [
      "x = np.linspace(-2.*np.pi, 2.*np.pi, 31)"
     ],
     "language": "python",
     "metadata": {},
     "outputs": []
    },
    {
     "cell_type": "code",
     "collapsed": false,
     "input": [
      "x.sum()  "
     ],
     "language": "python",
     "metadata": {},
     "outputs": []
    },
    {
     "cell_type": "markdown",
     "metadata": {},
     "source": [
      "This is more in line with our symmetry expectations!"
     ]
    },
    {
     "cell_type": "code",
     "collapsed": false,
     "input": [
      "x"
     ],
     "language": "python",
     "metadata": {},
     "outputs": []
    },
    {
     "cell_type": "markdown",
     "metadata": {},
     "source": [
      "We now wish to evaluate the `sin` function in each of these values of $x$. Standard Python provides us with several ways of doing this. Two of the neatest are \"functional\" approaches: list comprehensions and the `map` function. [In Python 3, `map` no longer returns a list.]"
     ]
    },
    {
     "cell_type": "code",
     "collapsed": false,
     "input": [
      "s1 = [sin(xx) for xx in x]\n",
      "s2 = map(sin, x)"
     ],
     "language": "python",
     "metadata": {},
     "outputs": []
    },
    {
     "cell_type": "markdown",
     "metadata": {},
     "source": [
      "However, we have now left the `numpy` world:"
     ]
    },
    {
     "cell_type": "code",
     "collapsed": false,
     "input": [
      "type(s1), type(s2)"
     ],
     "language": "python",
     "metadata": {},
     "outputs": []
    },
    {
     "cell_type": "markdown",
     "metadata": {},
     "source": [
      "Of course, it's easy to get back: we can pass a list to the `np.array` function to convert it into a `numpy` array:"
     ]
    },
    {
     "cell_type": "code",
     "collapsed": false,
     "input": [
      "s3 = np.array(s1);"
     ],
     "language": "python",
     "metadata": {},
     "outputs": []
    },
    {
     "cell_type": "markdown",
     "metadata": {},
     "source": [
      "However, this is inefficient, since we have created an intermediate copy of all the data.\n",
      "\n",
      "Instead, `numpy` (and `scipy` etc.) are based around *vectorized* versions of functions. These operate on a `numpy` array and return a new array of the same type:"
     ]
    },
    {
     "cell_type": "code",
     "collapsed": false,
     "input": [
      "y = np.sin(x)\n",
      "y"
     ],
     "language": "python",
     "metadata": {},
     "outputs": []
    },
    {
     "cell_type": "markdown",
     "metadata": {},
     "source": [
      "What is `np.sin`?"
     ]
    },
    {
     "cell_type": "code",
     "collapsed": false,
     "input": [
      "np.sin"
     ],
     "language": "python",
     "metadata": {},
     "outputs": []
    },
    {
     "cell_type": "markdown",
     "metadata": {},
     "source": [
      "It is a \"ufunc\", i.e. a \"universal function\", that knows how to operate both on floating-point numbers and on complete arrays.\n",
      "\n",
      "The idea of `numpy` is that we should think in a vectorized way, always trying to operate in this way on complete arrays as a unit. In this way, we can forget about the internal implementation details, which, in fact, could be rather complicated these days, when multicore machines and GPUs are involved. We just specify the desired result, and let somebody else do the hard work of figuring out what's going on underneath to make it all happen!"
     ]
    },
    {
     "cell_type": "heading",
     "level": 2,
     "metadata": {},
     "source": [
      "Arithmetic on vectors"
     ]
    },
    {
     "cell_type": "markdown",
     "metadata": {},
     "source": [
      "`numpy` also, of course, provides the missing vector, matrix etc. functionality that does not come in standard Python.\n",
      "\n",
      "At first glance, Python lists seem like they should work find as vectors:"
     ]
    },
    {
     "cell_type": "code",
     "collapsed": false,
     "input": [
      "v = [3., 4., 5.]\n",
      "v"
     ],
     "language": "python",
     "metadata": {},
     "outputs": []
    },
    {
     "cell_type": "markdown",
     "metadata": {},
     "source": [
      "But we quickly find out that that's not the case:"
     ]
    },
    {
     "cell_type": "code",
     "collapsed": false,
     "input": [
      "v + v"
     ],
     "language": "python",
     "metadata": {},
     "outputs": []
    },
    {
     "cell_type": "code",
     "collapsed": false,
     "input": [
      "3.5 * v"
     ],
     "language": "python",
     "metadata": {},
     "outputs": []
    },
    {
     "cell_type": "markdown",
     "metadata": {},
     "source": [
      "`numpy` is designed to provide this missing functionality via its `ndarray` type. The *constructor*, i.e. the function which creates objects of this type, is the function `np.array`. It accepts lists (and other iterables) and creates a version as an `ndarray`:"
     ]
    },
    {
     "cell_type": "code",
     "collapsed": false,
     "input": [
      "x = np.array( [1., 2., 3.] )  # careful with the order of the parentheses and the square brackets!\n",
      "y = np.array( [3., 4, 5] )"
     ],
     "language": "python",
     "metadata": {},
     "outputs": []
    },
    {
     "cell_type": "code",
     "collapsed": false,
     "input": [
      "print(x)"
     ],
     "language": "python",
     "metadata": {},
     "outputs": []
    },
    {
     "cell_type": "markdown",
     "metadata": {},
     "source": [
      "Arithmetic operations now just work!:"
     ]
    },
    {
     "cell_type": "code",
     "collapsed": false,
     "input": [
      "x + y"
     ],
     "language": "python",
     "metadata": {},
     "outputs": []
    },
    {
     "cell_type": "code",
     "collapsed": false,
     "input": [
      "(x + y).dtype"
     ],
     "language": "python",
     "metadata": {},
     "outputs": []
    },
    {
     "cell_type": "code",
     "collapsed": false,
     "input": [
      "-3.5 * x"
     ],
     "language": "python",
     "metadata": {},
     "outputs": []
    },
    {
     "cell_type": "markdown",
     "metadata": {},
     "source": [
      "We can, for example, use complex numbers:"
     ]
    },
    {
     "cell_type": "code",
     "collapsed": false,
     "input": [
      "z = 3j * x"
     ],
     "language": "python",
     "metadata": {},
     "outputs": []
    },
    {
     "cell_type": "code",
     "collapsed": false,
     "input": [
      "z.dtype  # \"datatype\""
     ],
     "language": "python",
     "metadata": {},
     "outputs": []
    },
    {
     "cell_type": "markdown",
     "metadata": {},
     "source": [
      "We see that `numpy` arrays have associated a data type: all elements must be of the same type (unlike in standard Python lists). This is for efficiency purposes."
     ]
    },
    {
     "cell_type": "markdown",
     "metadata": {},
     "source": [
      "-----------\n",
      "\n",
      "**Exercise**: Play around with arithmetic and mathematical operations on `numpy` arrays.\n",
      "\n",
      "-----------"
     ]
    },
    {
     "cell_type": "heading",
     "level": 2,
     "metadata": {},
     "source": [
      "What is `numpy`?"
     ]
    },
    {
     "cell_type": "markdown",
     "metadata": {},
     "source": [
      "`numpy` thus can be thought of as providing two things:\n",
      "\n",
      "- a numerical array type, suitable for scientific data (vectors, matrices, etc.)\n",
      "- vectorized operations for operating on arrays"
     ]
    },
    {
     "cell_type": "markdown",
     "metadata": {},
     "source": [
      "-----------"
     ]
    },
    {
     "cell_type": "heading",
     "level": 1,
     "metadata": {},
     "source": [
      "Visualizing it: `matplotlib`"
     ]
    },
    {
     "cell_type": "markdown",
     "metadata": {},
     "source": [
      "Now we have some data, that could have come from an experiment, or a social network, etc., stored in a `numpy` array. The next thing to do is - obviously - to visualize it to see what's going on.\n",
      "\n",
      "The standard scientific graphing package, which forms part of the core SciPy stack, is `matplotlib`, so called because it was originally designed to have a MATLAB compatibility layer. This easy-to-use layer is called `pyplot`, and it is standard to import it with the name `plt`:"
     ]
    },
    {
     "cell_type": "code",
     "collapsed": false,
     "input": [
      "import matplotlib.pyplot as plt"
     ],
     "language": "python",
     "metadata": {},
     "outputs": []
    },
    {
     "cell_type": "markdown",
     "metadata": {},
     "source": [
      "-------\n",
      "\n",
      "**Exercise**: Investigate the contents of the `pyplot` submodule.\n",
      "\n",
      "-------"
     ]
    },
    {
     "cell_type": "markdown",
     "metadata": {},
     "source": [
      "Let's recap how to get our data:"
     ]
    },
    {
     "cell_type": "code",
     "collapsed": false,
     "input": [
      "x = np.linspace(-2.*np.pi, 2.*np.pi, 101)\n",
      "y = np.sin(x)"
     ],
     "language": "python",
     "metadata": {},
     "outputs": []
    },
    {
     "cell_type": "markdown",
     "metadata": {},
     "source": [
      "Now we plot it:"
     ]
    },
    {
     "cell_type": "code",
     "collapsed": false,
     "input": [
      "plt.plot(x, y)"
     ],
     "language": "python",
     "metadata": {},
     "outputs": []
    },
    {
     "cell_type": "markdown",
     "metadata": {},
     "source": [
      "But nothing happens! We need to `show` it:"
     ]
    },
    {
     "cell_type": "code",
     "collapsed": false,
     "input": [
      "plt.show()"
     ],
     "language": "python",
     "metadata": {},
     "outputs": []
    },
    {
     "cell_type": "markdown",
     "metadata": {},
     "source": [
      "We see that the plot is generated in a separate window, and control is *not* returned to IPython until we close the window; this is a threading issue. This is not good, so let's improve the situation. We must do some backend stuff so that IPython communicates in a more useful way with `matplotlib`:"
     ]
    },
    {
     "cell_type": "code",
     "collapsed": false,
     "input": [
      "%matplotlib"
     ],
     "language": "python",
     "metadata": {},
     "outputs": []
    },
    {
     "cell_type": "markdown",
     "metadata": {},
     "source": [
      "Commands with an initial `%` are internal IPython commands (**magic functions** or **magics**). This one sets up the necessary communication. *However*, it does not actually import any names into the current namespace from `matplotlib`, so  `import matplotlib.pyplot as plt` is still necessary."
     ]
    },
    {
     "cell_type": "code",
     "collapsed": false,
     "input": [
      "plt.plot(x,y)"
     ],
     "language": "python",
     "metadata": {},
     "outputs": []
    },
    {
     "cell_type": "markdown",
     "metadata": {},
     "source": [
      "We see that the plot is still generated in a separate window, but we can continue to work in IPython at the same time. \n",
      "\n",
      "When the plot is in a separate window like this (rendered using a certain \"backend\", that will depend on which windowing libraries matplotlib was compiled with support for), it can be panned, zoomed and saved."
     ]
    },
    {
     "cell_type": "markdown",
     "metadata": {},
     "source": [
      "For many purposes, however, it would be useful to have the figure includled within the same notebook document; in particular, in order to include it when sending it to somebody or exporting it. This can be accomplished with:"
     ]
    },
    {
     "cell_type": "code",
     "collapsed": false,
     "input": [
      "%matplotlib inline"
     ],
     "language": "python",
     "metadata": {},
     "outputs": []
    },
    {
     "cell_type": "code",
     "collapsed": false,
     "input": [
      "plt.plot(x, y)"
     ],
     "language": "python",
     "metadata": {},
     "outputs": []
    },
    {
     "cell_type": "markdown",
     "metadata": {},
     "source": [
      "Currently, it is not possible to modify such plots interactively in the same way as with external windows; however, this functionality is in preparation and should be included in `matplotlib` soon."
     ]
    },
    {
     "cell_type": "markdown",
     "metadata": {},
     "source": [
      "Several plot commands can be included in the same graph. Plot styles may be changed; axis labels and legends may be added."
     ]
    },
    {
     "cell_type": "code",
     "collapsed": false,
     "input": [
      "plt.plot(x, np.sin(x), label=\"$\\sin(x)$\")\n",
      "plt.plot(x, np.cos(x), \"ro--\", label=\"$\\cos(x)$\")  # red points and dashed lines\n",
      "plt.xlabel(\"$x$\", size=20)\n",
      "plt.ylabel(\"$\\sin(x), \\cos(x)$\", size=20)\n",
      "plt.legend()\n"
     ],
     "language": "python",
     "metadata": {},
     "outputs": []
    },
    {
     "cell_type": "markdown",
     "metadata": {},
     "source": [
      "The graph may be saved using"
     ]
    },
    {
     "cell_type": "code",
     "collapsed": false,
     "input": [
      "plt.savefig(\"sincos.pdf\")"
     ],
     "language": "python",
     "metadata": {},
     "outputs": []
    },
    {
     "cell_type": "markdown",
     "metadata": {},
     "source": [
      "`matplotlib` includes a subset of LaTeX notation. The labels may also be processed by LaTeX if required."
     ]
    },
    {
     "cell_type": "markdown",
     "metadata": {},
     "source": [
      "Help may be obtained in IPython using `?`. The documentation for `plot` includes full details of the options for point and line types, colours, etc."
     ]
    },
    {
     "cell_type": "code",
     "collapsed": false,
     "input": [
      "plt.plot?"
     ],
     "language": "python",
     "metadata": {},
     "outputs": []
    },
    {
     "cell_type": "markdown",
     "metadata": {},
     "source": [
      "`matplotlib` requires iterables (`numpy` arrays, Python lists, etc.) as its first two arguments, giving the $x$- and $y$-coordinates of the points to plot."
     ]
    },
    {
     "cell_type": "markdown",
     "metadata": {},
     "source": [
      "-----\n",
      "**Exercise**: Plot the exponential and logarithm functions, together with a dashed line showing $y=x$ to show the symmetry.\n",
      "\n",
      "Use `plt.axis(\"equal\")` to get the correct aspect ratio.\n",
      "\n",
      "-----"
     ]
    },
    {
     "cell_type": "heading",
     "level": 2,
     "metadata": {},
     "source": [
      "What is `matplotlib`"
     ]
    },
    {
     "cell_type": "markdown",
     "metadata": {},
     "source": [
      "`matplotlib`, then, provides\n",
      "- high-quality 2D (and some 3D) graphs\n",
      "- inline plotting in the IPython notebook\n",
      "- publication-quality exported PDFs, SVGs, PNGs\n",
      "\n",
      "-----------\n"
     ]
    },
    {
     "cell_type": "heading",
     "level": 1,
     "metadata": {},
     "source": [
      "Adding interactivity with the IPython Notebook"
     ]
    },
    {
     "cell_type": "markdown",
     "metadata": {},
     "source": [
      "A recent addition to the IPython Notebook, released with version 2.0 of IPython a few months ago, is the ability to use interactive widgets. This brings a whole new dimension to scientific exploration and visualization."
     ]
    },
    {
     "cell_type": "markdown",
     "metadata": {},
     "source": [
      "We first import the widgets functionality:"
     ]
    },
    {
     "cell_type": "code",
     "collapsed": false,
     "input": [
      "import IPython.html.widgets as widgets"
     ],
     "language": "python",
     "metadata": {},
     "outputs": []
    },
    {
     "cell_type": "markdown",
     "metadata": {},
     "source": [
      "The easiest way to use the new functionality is via the powerful `interact` command. This takes a Python function and provides widgets (sliders, buttons, etc.) to modify the arguments of the function:"
     ]
    },
    {
     "cell_type": "code",
     "collapsed": false,
     "input": [
      "def f(a):\n",
      "    print(a**2)"
     ],
     "language": "python",
     "metadata": {},
     "outputs": []
    },
    {
     "cell_type": "code",
     "collapsed": false,
     "input": [
      "widgets.interact(f, a=(-5, 5, 0.1))"
     ],
     "language": "python",
     "metadata": {},
     "outputs": []
    },
    {
     "cell_type": "markdown",
     "metadata": {},
     "source": [
      "As the slider is moved, the output changes accordingly."
     ]
    },
    {
     "cell_type": "markdown",
     "metadata": {},
     "source": [
      "By including a plot inside the function, we obtain interactive plots controlled by sliders:"
     ]
    },
    {
     "cell_type": "code",
     "collapsed": false,
     "input": [
      "def sincos(a, b):\n",
      "\n",
      "    plt.plot(x, a*np.sin(x+b), label=\"$a \\sin(x) + b$\")\n",
      "    plt.plot(x, np.cos(x), \"ro--\", label=\"$\\cos(x)$\")  # red points and dashed lines\n",
      "    plt.xlabel(\"$x$\", size=20)\n",
      "    plt.ylabel(\"$\\sin(x), \\cos(x)$\", size=20)\n",
      "    plt.legend()\n",
      "    \n",
      "    plt.xlim(-2.*np.pi, 2.*np.pi)\n",
      "    plt.ylim(-2, 2)\n"
     ],
     "language": "python",
     "metadata": {},
     "outputs": []
    },
    {
     "cell_type": "code",
     "collapsed": false,
     "input": [
      "widgets.interact(sincos, a=(-5, 5, 0.1), b=(-5, 5, 0.1))"
     ],
     "language": "python",
     "metadata": {},
     "outputs": []
    },
    {
     "cell_type": "markdown",
     "metadata": {},
     "source": [
      "--------\n",
      "\n",
      "**Exercise**: Explore interactivity using your favourite mathematical functions.\n",
      "\n",
      "--------"
     ]
    },
    {
     "cell_type": "heading",
     "level": 1,
     "metadata": {},
     "source": [
      "Using data with `numpy`"
     ]
    },
    {
     "cell_type": "markdown",
     "metadata": {},
     "source": [
      "-----\n",
      "**Exercise**: Write and illustrate a short segment on your favourite function(s).\n",
      "\n",
      "-----"
     ]
    },
    {
     "cell_type": "markdown",
     "metadata": {},
     "source": [
      "Naturally, many applications of scientific computing do not manufacture data from functions or obtain it from numerical simulations, but rather use pre-existing data.\n",
      "\n",
      "`numpy` has functions to save and load data from and to arrays. More extensive functionality is available in the `pandas` package."
     ]
    },
    {
     "cell_type": "markdown",
     "metadata": {},
     "source": [
      "Let's start by creating some artificial data with random noise from the `numpy.random` submodule of `numpy`:"
     ]
    },
    {
     "cell_type": "code",
     "collapsed": false,
     "input": [
      "import numpy.random as random\n",
      "\n",
      "x = np.linspace(-5, 5, 31)\n",
      "x += 0.5*random.rand(len(x))\n",
      "y = x**2 + 5*random.rand(len(x))"
     ],
     "language": "python",
     "metadata": {},
     "outputs": []
    },
    {
     "cell_type": "markdown",
     "metadata": {},
     "source": [
      "`random.rand()` generates a (pseudo-)random number between 0 and 1:"
     ]
    },
    {
     "cell_type": "code",
     "collapsed": false,
     "input": [
      "random.rand()"
     ],
     "language": "python",
     "metadata": {},
     "outputs": []
    },
    {
     "cell_type": "markdown",
     "metadata": {},
     "source": [
      "Giving it an argument generates a vector or matrix of that form:"
     ]
    },
    {
     "cell_type": "code",
     "collapsed": false,
     "input": [
      "random.rand(10)"
     ],
     "language": "python",
     "metadata": {},
     "outputs": []
    },
    {
     "cell_type": "code",
     "collapsed": false,
     "input": [
      "random.rand(4,4)"
     ],
     "language": "python",
     "metadata": {},
     "outputs": []
    },
    {
     "cell_type": "code",
     "collapsed": false,
     "input": [
      "plt.plot(x, y, 'o')"
     ],
     "language": "python",
     "metadata": {},
     "outputs": []
    },
    {
     "cell_type": "heading",
     "level": 2,
     "metadata": {},
     "source": [
      "Matrices in `numpy`"
     ]
    },
    {
     "cell_type": "markdown",
     "metadata": {},
     "source": [
      "To export the data, we need it in a tabular form in a matrix, which is represented in `numpy` as an array formed as a list of lists. Let's combine the two arrays into a matrix by stacking them. There's a special syntax to do this:"
     ]
    },
    {
     "cell_type": "code",
     "collapsed": false,
     "input": [
      "z = np.c_[x, y]"
     ],
     "language": "python",
     "metadata": {},
     "outputs": []
    },
    {
     "cell_type": "code",
     "collapsed": false,
     "input": [
      "np.savetxt(\"noisy_quadratic.dat\", z)"
     ],
     "language": "python",
     "metadata": {},
     "outputs": []
    },
    {
     "cell_type": "code",
     "collapsed": false,
     "input": [
      "%cat noisy_quadratic.dat  # %cat is an IPython command to show the contents of a file"
     ],
     "language": "python",
     "metadata": {},
     "outputs": []
    },
    {
     "cell_type": "markdown",
     "metadata": {},
     "source": [
      "`np.savetxt` enables the specification of a format string for output:"
     ]
    },
    {
     "cell_type": "code",
     "collapsed": false,
     "input": [
      "np.savetxt?"
     ],
     "language": "python",
     "metadata": {},
     "outputs": []
    },
    {
     "cell_type": "code",
     "collapsed": false,
     "input": [
      "np.savetxt(\"noisy_quadratic.dat\", z, fmt=\"%20.5f %20.5f\")"
     ],
     "language": "python",
     "metadata": {},
     "outputs": []
    },
    {
     "cell_type": "code",
     "collapsed": false,
     "input": [
      "%cat noisy_quadratic.dat"
     ],
     "language": "python",
     "metadata": {},
     "outputs": []
    },
    {
     "cell_type": "code",
     "collapsed": false,
     "input": [
      "np.savetxt?"
     ],
     "language": "python",
     "metadata": {},
     "outputs": []
    },
    {
     "cell_type": "markdown",
     "metadata": {},
     "source": [
      "Similarly, `numpy` has a relatively simple function `loadtxt` for loading tabulated data:"
     ]
    },
    {
     "cell_type": "code",
     "collapsed": false,
     "input": [
      "zz = np.loadtxt(\"noisy_quadratic.dat\")"
     ],
     "language": "python",
     "metadata": {},
     "outputs": []
    },
    {
     "cell_type": "code",
     "collapsed": false,
     "input": [
      "zz"
     ],
     "language": "python",
     "metadata": {},
     "outputs": []
    },
    {
     "cell_type": "markdown",
     "metadata": {},
     "source": [
      "Now we need to split the array `z_new` up into columns. The syntax for accessing elements of an array is like that of a list in Python: the first element of an array `x` is `x[0]`, the second `x[1]`, etc."
     ]
    },
    {
     "cell_type": "markdown",
     "metadata": {},
     "source": [
      "----\n",
      "\n",
      "**Exercise**: What do the elements of the array `z_new` look like? Play with the standard colon (`:`) notation for ranges to access elements of the matrix. How can you extract the first column of the matrix?\n",
      "\n",
      "----"
     ]
    },
    {
     "cell_type": "markdown",
     "metadata": {},
     "source": [
      "Individual elements of the matrix are accessed via"
     ]
    },
    {
     "cell_type": "code",
     "collapsed": false,
     "input": [
      "zz[1, 0]"
     ],
     "language": "python",
     "metadata": {},
     "outputs": []
    },
    {
     "cell_type": "markdown",
     "metadata": {},
     "source": [
      "Thus `zz` behaves as if it were a mathematical matrix: the first entry specifies the row and the second the column, except that indexing always starts at 0."
     ]
    },
    {
     "cell_type": "markdown",
     "metadata": {},
     "source": [
      "Ranges of elements are specified as with Python lists, using `:`, available for specifying ranges in both directions:"
     ]
    },
    {
     "cell_type": "code",
     "collapsed": false,
     "input": [
      "zz[1:3, 0:2]"
     ],
     "language": "python",
     "metadata": {},
     "outputs": []
    },
    {
     "cell_type": "markdown",
     "metadata": {},
     "source": [
      "Ranges that span the the whole direction may be specified just with the colon:"
     ]
    },
    {
     "cell_type": "code",
     "collapsed": false,
     "input": [
      "zz[1:3, :]"
     ],
     "language": "python",
     "metadata": {},
     "outputs": []
    },
    {
     "cell_type": "markdown",
     "metadata": {},
     "source": [
      "Thus, the first column is"
     ]
    },
    {
     "cell_type": "code",
     "collapsed": false,
     "input": [
      "zz[:,1]"
     ],
     "language": "python",
     "metadata": {},
     "outputs": []
    },
    {
     "cell_type": "markdown",
     "metadata": {},
     "source": [
      "Thus finally, we can set"
     ]
    },
    {
     "cell_type": "code",
     "collapsed": false,
     "input": [
      "xx = zz[:, 0]\n",
      "yy = zz[:, 1]"
     ],
     "language": "python",
     "metadata": {},
     "outputs": []
    },
    {
     "cell_type": "markdown",
     "metadata": {},
     "source": [
      "In fact, there is a simple trick to obtain this: we may transpose the matrix `zz`:"
     ]
    },
    {
     "cell_type": "code",
     "collapsed": false,
     "input": [
      "zz.T"
     ],
     "language": "python",
     "metadata": {},
     "outputs": []
    },
    {
     "cell_type": "markdown",
     "metadata": {},
     "source": [
      "and then use tuple unpacking:"
     ]
    },
    {
     "cell_type": "code",
     "collapsed": false,
     "input": [
      "xx, yy = zz.T"
     ],
     "language": "python",
     "metadata": {},
     "outputs": []
    },
    {
     "cell_type": "markdown",
     "metadata": {},
     "source": [
      "Furthermore, `np.loadtxt` has a keyword option that allows us to do all of this in one step:"
     ]
    },
    {
     "cell_type": "code",
     "collapsed": false,
     "input": [
      "xxx, yyy = np.loadtxt(\"noisy_quadratic.dat\", unpack=True)"
     ],
     "language": "python",
     "metadata": {},
     "outputs": []
    },
    {
     "cell_type": "code",
     "collapsed": false,
     "input": [
      "xxx - xx"
     ],
     "language": "python",
     "metadata": {},
     "outputs": []
    },
    {
     "cell_type": "markdown",
     "metadata": {},
     "source": [
      "----\n",
      "**Exercise**: Load and plot some of your favourite data.\n",
      "\n",
      "----"
     ]
    },
    {
     "cell_type": "code",
     "collapsed": false,
     "input": [],
     "language": "python",
     "metadata": {},
     "outputs": []
    },
    {
     "cell_type": "heading",
     "level": 2,
     "metadata": {},
     "source": [
      "Literate programming: the IPython Notebook"
     ]
    },
    {
     "cell_type": "markdown",
     "metadata": {},
     "source": [
      "We can do **literate programming** by mixing textual commentary with our code and calculations. To do so, we use a lightweight **markup language**, called *Markdown*.\n",
      "\n",
      "Markdown allows us to write *italics* using `*italics*` and **bold text** using `**bold text**`.\n",
      "\n",
      "It allows\n",
      "- bulleted lists, using `-` at the start of each line\n",
      "- quoted passages, by using `>`: \n",
      "\n",
      "> All the world is a stage.  \n",
      "\n",
      "Significantly for scientific computing, within Markdown cells, we may *use equations, written using (a subset of) LaTeX*, by enclosing the equations in `$` for inline maths, or `$$` for displayed equations:\n",
      "\n",
      "The equation $y = x^2$ is very interesting. A more complicated one is\n",
      "$$\\mathcal{N}(x) = C e^(-x^2}$$.\n",
      "\n",
      "In order to render these equations, the MathJax library is used. An online version is used by default; if you require a local version, it must be downloaded by typing the following in a Python session:\n",
      "\n",
      "    from IPython.external import mathjax\n",
      "    mathjax.install_mathjax()"
     ]
    },
    {
     "cell_type": "heading",
     "level": 1,
     "metadata": {},
     "source": [
      "Exporting your notebook document"
     ]
    },
    {
     "cell_type": "markdown",
     "metadata": {},
     "source": [
      "When you save an IPython notebook document, it is saved in the current working directory (available with `pwd()`) with the extension `.ipynb`. This file is a plain text file, in a certain format called JSON (\"Javascript Object Notation\"), which contains a *complete* record of *exactly* the contents of the notebook in your environment. This file may be saved in a version control system, sent to a colleague, etc."
     ]
    },
    {
     "cell_type": "markdown",
     "metadata": {},
     "source": [
      "Another important feature of IPython is the ability to export, or convert, the notebook format to other types of format, including LaTeX and PDF documents, HTML, reStructured Text, and even slide shows."
     ]
    },
    {
     "cell_type": "markdown",
     "metadata": {},
     "source": [
      "Several of these options are available from the `File | Download as` option from within the Notebook itself. For the other formats, and more control, we use the `ipython nbconvert` command-line tool."
     ]
    },
    {
     "cell_type": "markdown",
     "metadata": {},
     "source": [
      "IPython provides access to the command line with the `!` operator. We can convert to a static HTML, e.g. suitable for a blog post:"
     ]
    },
    {
     "cell_type": "code",
     "collapsed": false,
     "input": [
      "!ipython nbconvert Starting\\ out\\ with\\ SciPy\\ --\\ IPython,\\ numpy\\ and\\ matplotlib.ipynb --to html"
     ],
     "language": "python",
     "metadata": {},
     "outputs": []
    },
    {
     "cell_type": "code",
     "collapsed": false,
     "input": [
      "!open Starting\\ out\\ with\\ SciPy\\ --\\ IPython,\\ numpy\\ and\\ matplotlib.html"
     ],
     "language": "python",
     "metadata": {},
     "outputs": []
    },
    {
     "cell_type": "markdown",
     "metadata": {},
     "source": [
      "To convert to PDF, first LaTeX is output, and then this is converted to PDF by the `--post PDF` (\"post\" stands for \"post-processing\"):"
     ]
    },
    {
     "cell_type": "code",
     "collapsed": false,
     "input": [
      "!ipython nbconvert Starting\\ out\\ with\\ SciPy\\ --\\ IPython,\\ numpy\\ and\\ matplotlib.ipynb --to latex --post PDF"
     ],
     "language": "python",
     "metadata": {},
     "outputs": []
    },
    {
     "cell_type": "code",
     "collapsed": false,
     "input": [
      "!open Star"
     ],
     "language": "python",
     "metadata": {},
     "outputs": []
    },
    {
     "cell_type": "markdown",
     "metadata": {},
     "source": [
      "There is also an option to generate an HTML file suitable for a slideshow presentation using the `Reveal.js` library. To use this option, choose the `Slideshow` option from the `Cell Toolbar`, and specify the types for each cell using the resulting popup boxes. Then convert the slides using the following. The `--post serve` option launches an HTML server to show the slides correctly."
     ]
    },
    {
     "cell_type": "code",
     "collapsed": false,
     "input": [
      "!ipython nbconvert Starting\\ out\\ with\\ SciPy\\ --\\ IPython,\\ numpy\\ and\\ matplotlib.ipynb --to slides --post serve"
     ],
     "language": "python",
     "metadata": {},
     "outputs": []
    },
    {
     "cell_type": "markdown",
     "metadata": {},
     "source": [
      "The template files used for each format may be customized."
     ]
    },
    {
     "cell_type": "heading",
     "level": 2,
     "metadata": {},
     "source": [
      "What is the IPython Notebook?"
     ]
    },
    {
     "cell_type": "markdown",
     "metadata": {},
     "source": [
      "The IPython Notebook thus provides the necessary tools for a highly interactive dialogue with code, with mathematical commentary about the operations being performed.\n",
      "\n",
      "In this way, it is a wonderful tool for documenting computational workflows."
     ]
    },
    {
     "cell_type": "markdown",
     "metadata": {},
     "source": [
      "-----\n",
      "**Exercise**: Write and illustrate a short segment on your favourite function(s).\n",
      "\n",
      "-----"
     ]
    },
    {
     "cell_type": "markdown",
     "metadata": {},
     "source": [
      "Note that IPython is also a command-line program that provides a much-enhanced interactive Python shell. \n",
      "\n",
      "Since the notebook is a web application, it is easy to run it remotely on a notebook server."
     ]
    },
    {
     "cell_type": "heading",
     "level": 1,
     "metadata": {},
     "source": [
      "Summary"
     ]
    },
    {
     "cell_type": "markdown",
     "metadata": {},
     "source": [
      "In this notebook, we have seen the basic usage of the fundamental components of the SciPy stack:\n",
      "\n",
      "- The IPython Notebook\n",
      "    - an environment for facilitating computational workflows\n",
      "    - provides interactivity via widgets\n",
      "    - allows us to export notebook documents in different formats\n",
      "    \n",
      "- `numpy`\n",
      "    - provides vectors, matrices, and $n$-dimensional arrays\n",
      "    - provides fast vectorized mathematical operations on arrays\n",
      "    - easy input and output of data\n",
      "    \n",
      "- `matplotlib`\n",
      "    - 2D (and 3D) interactive plots\n",
      "    - many formatting options\n",
      "    - publication-quality output\n"
     ]
    },
    {
     "cell_type": "code",
     "collapsed": false,
     "input": [],
     "language": "python",
     "metadata": {},
     "outputs": []
    }
   ],
   "metadata": {}
  }
 ]
}