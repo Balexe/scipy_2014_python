{
 "metadata": {
  "name": "",
  "signature": "sha256:eccb333d3c7d7de37bbfe6bc541f56f569a8b0221ddd584a30462e62889070f5"
 },
 "nbformat": 3,
 "nbformat_minor": 0,
 "worksheets": [
  {
   "cells": [
    {
     "cell_type": "heading",
     "level": 1,
     "metadata": {},
     "source": [
      "Linear stability analysis"
     ]
    },
    {
     "cell_type": "markdown",
     "metadata": {},
     "source": [
      "We want to analyse the following nonlinear ODE system [Lengyel et al., J. Am. Chem. Soc. 1990]"
     ]
    },
    {
     "cell_type": "markdown",
     "metadata": {},
     "source": [
      "\n",
      "\\begin{align}\n",
      "\\dot{x} &= a - x - \\frac{4xy}{1+x^2} \\\\\n",
      "\\dot{y} &= b \\, x \\left( 1-\\frac{y}{1+x^2} \\right)\n",
      "\\end{align}"
     ]
    },
    {
     "cell_type": "code",
     "collapsed": false,
     "input": [
      "import sympy"
     ],
     "language": "python",
     "metadata": {},
     "outputs": []
    },
    {
     "cell_type": "code",
     "collapsed": false,
     "input": [
      "from sympy import init_printing, symbols, Matrix, solve, lambdify\n",
      "init_printing()"
     ],
     "language": "python",
     "metadata": {},
     "outputs": []
    },
    {
     "cell_type": "code",
     "collapsed": false,
     "input": [
      "a, b, x, y = symbols(\"a b x y\")"
     ],
     "language": "python",
     "metadata": {},
     "outputs": []
    },
    {
     "cell_type": "code",
     "collapsed": false,
     "input": [
      "a"
     ],
     "language": "python",
     "metadata": {},
     "outputs": []
    },
    {
     "cell_type": "markdown",
     "metadata": {},
     "source": [
      "We define functions for the right-hand side"
     ]
    },
    {
     "cell_type": "code",
     "collapsed": false,
     "input": [
      "def f1(x, y):\n",
      "    return a - x - 4*x*y / (1+x**2)\n",
      "\n",
      "def f2(x, y):\n",
      "    return b * x * (1 - y/(1+x**2))"
     ],
     "language": "python",
     "metadata": {},
     "outputs": []
    },
    {
     "cell_type": "code",
     "collapsed": false,
     "input": [
      "f1(x, y), f2(x,y)"
     ],
     "language": "python",
     "metadata": {},
     "outputs": []
    },
    {
     "cell_type": "markdown",
     "metadata": {},
     "source": [
      "In `sympy`, vectors are expressed using the `Matrix` type:"
     ]
    },
    {
     "cell_type": "code",
     "collapsed": false,
     "input": [
      "M = Matrix([f1(x,y), f2(x,y)])"
     ],
     "language": "python",
     "metadata": {},
     "outputs": []
    },
    {
     "cell_type": "markdown",
     "metadata": {},
     "source": [
      "We can treat `M` as a function and find its Jacobian with respect to the variables $x$ and $y$:"
     ]
    },
    {
     "cell_type": "code",
     "collapsed": false,
     "input": [
      "M.jacobian([x, y])"
     ],
     "language": "python",
     "metadata": {},
     "outputs": []
    },
    {
     "cell_type": "markdown",
     "metadata": {},
     "source": [
      "`sympy` has capabilities for solving nonlinear equations:"
     ]
    },
    {
     "cell_type": "code",
     "collapsed": false,
     "input": [
      "fixed_point = solve(M, [x,y])[2]\n",
      "fixed_point"
     ],
     "language": "python",
     "metadata": {},
     "outputs": []
    },
    {
     "cell_type": "markdown",
     "metadata": {},
     "source": [
      "We may substitute values using a dictionary syntax:"
     ]
    },
    {
     "cell_type": "code",
     "collapsed": false,
     "input": [
      "J = M.jacobian([x,y]).subs({x:fixed_point[0], y:fixed_point[1]})"
     ],
     "language": "python",
     "metadata": {},
     "outputs": []
    },
    {
     "cell_type": "code",
     "collapsed": false,
     "input": [
      "J.eigenvals()"
     ],
     "language": "python",
     "metadata": {},
     "outputs": []
    },
    {
     "cell_type": "markdown",
     "metadata": {},
     "source": [
      "There is a special function `lambdify` in `sympy` that enables us to extract information from `sympy` into a numerical context (`numpy`). `lambdify` produces a `lambda` anonymous function mapping its inputs to outputs. "
     ]
    },
    {
     "cell_type": "code",
     "collapsed": false,
     "input": [
      "JJ = lambdify([a,b], J)"
     ],
     "language": "python",
     "metadata": {},
     "outputs": []
    },
    {
     "cell_type": "code",
     "collapsed": false,
     "input": [
      "lambdify([x,y])"
     ],
     "language": "python",
     "metadata": {},
     "outputs": []
    },
    {
     "cell_type": "code",
     "collapsed": false,
     "input": [
      "JJ(3, 2)"
     ],
     "language": "python",
     "metadata": {},
     "outputs": []
    },
    {
     "cell_type": "code",
     "collapsed": false,
     "input": [
      "type(_)"
     ],
     "language": "python",
     "metadata": {},
     "outputs": []
    },
    {
     "cell_type": "markdown",
     "metadata": {},
     "source": [
      "----\n",
      "**Exercise**: Use the results from this notebook to add a subplot to the phase portrait showing how the eigenvalues of the linearised Jacobian at the fixed point change.\n",
      "\n",
      "----"
     ]
    }
   ],
   "metadata": {}
  }
 ]
}