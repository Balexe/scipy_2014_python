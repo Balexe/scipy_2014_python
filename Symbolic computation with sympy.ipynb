{
 "metadata": {
  "name": "",
  "signature": "sha256:1d183a2e598bb7c6008867916927f269d7b3ab876f986711f4354e01eca9e20c"
 },
 "nbformat": 3,
 "nbformat_minor": 0,
 "worksheets": [
  {
   "cells": [
    {
     "cell_type": "heading",
     "level": 1,
     "metadata": {},
     "source": [
      "Linear stability analysis"
     ]
    },
    {
     "cell_type": "markdown",
     "metadata": {},
     "source": [
      "We want to analyse the following nonlinear ODE system [Lengyel et al., J. Am. Chem. Soc. 1990]"
     ]
    },
    {
     "cell_type": "markdown",
     "metadata": {},
     "source": [
      "\n",
      "\\begin{align}\n",
      "\\dot{x} &= a - x - \\frac{4xy}{1+x^2} \\\\\n",
      "\\dot{y} &= b \\, x \\left( 1-\\frac{y}{1+x^2} \\right)\n",
      "\\end{align}"
     ]
    },
    {
     "cell_type": "code",
     "collapsed": false,
     "input": [
      "import sympy"
     ],
     "language": "python",
     "metadata": {},
     "outputs": [],
     "prompt_number": 1
    },
    {
     "cell_type": "code",
     "collapsed": false,
     "input": [
      "from sympy import init_printing, symbols, Matrix, solve, lambdify\n",
      "init_printing()  # beautiful maths"
     ],
     "language": "python",
     "metadata": {},
     "outputs": [],
     "prompt_number": 6
    },
    {
     "cell_type": "code",
     "collapsed": false,
     "input": [
      "a, b, x, y, theta = symbols(\"a b x y theta\")"
     ],
     "language": "python",
     "metadata": {},
     "outputs": [],
     "prompt_number": 4
    },
    {
     "cell_type": "code",
     "collapsed": false,
     "input": [
      "a1 = symbols(\"a_1\")\n",
      "a1"
     ],
     "language": "python",
     "metadata": {},
     "outputs": [
      {
       "latex": [
        "$$a_{1}$$"
       ],
       "metadata": {},
       "output_type": "pyout",
       "png": "[encoded data removed]",
       "prompt_number": 9,
       "text": [
        "a\u2081"
       ]
      }
     ],
     "prompt_number": 9
    },
    {
     "cell_type": "code",
     "collapsed": false,
     "input": [
      "a"
     ],
     "language": "python",
     "metadata": {},
     "outputs": [
      {
       "latex": [
        "$$a$$"
       ],
       "metadata": {},
       "output_type": "pyout",
       "png": "[encoded data removed]",
       "prompt_number": 5,
       "text": [
        "a"
       ]
      }
     ],
     "prompt_number": 5
    },
    {
     "cell_type": "code",
     "collapsed": false,
     "input": [
      "theta"
     ],
     "language": "python",
     "metadata": {},
     "outputs": [
      {
       "latex": [
        "$$\\theta$$"
       ],
       "metadata": {},
       "output_type": "pyout",
       "png": "[encoded data removed]",
       "prompt_number": 7,
       "text": [
        "\u03b8"
       ]
      }
     ],
     "prompt_number": 7
    },
    {
     "cell_type": "markdown",
     "metadata": {},
     "source": [
      "We define functions for the right-hand side"
     ]
    },
    {
     "cell_type": "code",
     "collapsed": false,
     "input": [
      "def f1(x, y):\n",
      "    return a - x - 4*x*y / (1+x**2)\n",
      "\n",
      "def f2(x, y):\n",
      "    return b * x * (1 - y/(1+x**2))"
     ],
     "language": "python",
     "metadata": {},
     "outputs": [],
     "prompt_number": 8
    },
    {
     "cell_type": "code",
     "collapsed": false,
     "input": [
      "f1(x, y), f2(x,y)"
     ],
     "language": "python",
     "metadata": {},
     "outputs": [
      {
       "latex": [
        "$$\\begin{pmatrix}a - \\frac{4 x y}{x^{2} + 1} - x, & b x \\left(- \\frac{y}{x^{2} + 1} + 1\\right)\\end{pmatrix}$$"
       ],
       "metadata": {},
       "output_type": "pyout",
       "png": "[encoded data removed]",
       "prompt_number": 10,
       "text": [
        "\u239b    4\u22c5x\u22c5y           \u239b    y       \u239e\u239e\n",
        "\u239ca - \u2500\u2500\u2500\u2500\u2500\u2500 - x, b\u22c5x\u22c5\u239c- \u2500\u2500\u2500\u2500\u2500\u2500 + 1\u239f\u239f\n",
        "\u239c     2              \u239c   2        \u239f\u239f\n",
        "\u239d    x  + 1          \u239d  x  + 1    \u23a0\u23a0"
       ]
      }
     ],
     "prompt_number": 10
    },
    {
     "cell_type": "markdown",
     "metadata": {},
     "source": [
      "In `sympy`, vectors are expressed using the `Matrix` type:"
     ]
    },
    {
     "cell_type": "code",
     "collapsed": false,
     "input": [
      "M = Matrix([f1(x,y), f2(x,y)])\n",
      "M"
     ],
     "language": "python",
     "metadata": {},
     "outputs": [
      {
       "latex": [
        "$$\\left[\\begin{matrix}a - \\frac{4 x y}{x^{2} + 1} - x\\\\b x \\left(- \\frac{y}{x^{2} + 1} + 1\\right)\\end{matrix}\\right]$$"
       ],
       "metadata": {},
       "output_type": "pyout",
       "png": "[encoded data removed]",
       "prompt_number": 12,
       "text": [
        "\u23a1      4\u22c5x\u22c5y       \u23a4\n",
        "\u23a2  a - \u2500\u2500\u2500\u2500\u2500\u2500 - x  \u23a5\n",
        "\u23a2       2          \u23a5\n",
        "\u23a2      x  + 1      \u23a5\n",
        "\u23a2                  \u23a5\n",
        "\u23a2    \u239b    y       \u239e\u23a5\n",
        "\u23a2b\u22c5x\u22c5\u239c- \u2500\u2500\u2500\u2500\u2500\u2500 + 1\u239f\u23a5\n",
        "\u23a2    \u239c   2        \u239f\u23a5\n",
        "\u23a3    \u239d  x  + 1    \u23a0\u23a6"
       ]
      }
     ],
     "prompt_number": 12
    },
    {
     "cell_type": "markdown",
     "metadata": {},
     "source": [
      "We can treat `M` as a function and find its Jacobian with respect to the variables $x$ and $y$:"
     ]
    },
    {
     "cell_type": "markdown",
     "metadata": {},
     "source": [
      "`sympy` has capabilities for solving nonlinear equations:"
     ]
    },
    {
     "cell_type": "code",
     "collapsed": false,
     "input": [
      "fixed_point = solve(M, [x,y])[2]\n",
      "fixed_point"
     ],
     "language": "python",
     "metadata": {},
     "outputs": [
      {
       "latex": [
        "$$\\begin{pmatrix}\\frac{a}{5}, & \\frac{1}{25} \\left(a^{2} + 25\\right)\\end{pmatrix}$$"
       ],
       "metadata": {},
       "output_type": "pyout",
       "png": "[encoded data removed]",
       "prompt_number": 13,
       "text": [
        "\u239b    2     \u239e\n",
        "\u239ca  a  + 25\u239f\n",
        "\u239c\u2500, \u2500\u2500\u2500\u2500\u2500\u2500\u2500\u239f\n",
        "\u239d5     25  \u23a0"
       ]
      }
     ],
     "prompt_number": 13
    },
    {
     "cell_type": "markdown",
     "metadata": {},
     "source": [
      "We may substitute values using a dictionary syntax:"
     ]
    },
    {
     "cell_type": "code",
     "collapsed": false,
     "input": [
      "M.jacobian([x, y])"
     ],
     "language": "python",
     "metadata": {},
     "outputs": [
      {
       "latex": [
        "$$\\left[\\begin{matrix}\\frac{8 x^{2} y}{\\left(x^{2} + 1\\right)^{2}} - \\frac{4 y}{x^{2} + 1} - 1 & - \\frac{4 x}{x^{2} + 1}\\\\\\frac{2 b x^{2} y}{\\left(x^{2} + 1\\right)^{2}} + b \\left(- \\frac{y}{x^{2} + 1} + 1\\right) & - \\frac{b x}{x^{2} + 1}\\end{matrix}\\right]$$"
       ],
       "metadata": {},
       "output_type": "pyout",
       "png": "[encoded data removed]",
       "prompt_number": 14,
       "text": [
        "\u23a1        2                           \u23a4\n",
        "\u23a2     8\u22c5x \u22c5y     4\u22c5y           -4\u22c5x  \u23a5\n",
        "\u23a2   \u2500\u2500\u2500\u2500\u2500\u2500\u2500\u2500\u2500 - \u2500\u2500\u2500\u2500\u2500\u2500 - 1     \u2500\u2500\u2500\u2500\u2500\u2500\u23a5\n",
        "\u23a2           2    2              2    \u23a5\n",
        "\u23a2   \u239b 2    \u239e    x  + 1         x  + 1\u23a5\n",
        "\u23a2   \u239dx  + 1\u23a0                         \u23a5\n",
        "\u23a2                                    \u23a5\n",
        "\u23a2      2                             \u23a5\n",
        "\u23a2 2\u22c5b\u22c5x \u22c5y     \u239b    y       \u239e  -b\u22c5x  \u23a5\n",
        "\u23a2\u2500\u2500\u2500\u2500\u2500\u2500\u2500\u2500\u2500 + b\u22c5\u239c- \u2500\u2500\u2500\u2500\u2500\u2500 + 1\u239f  \u2500\u2500\u2500\u2500\u2500\u2500\u23a5\n",
        "\u23a2        2     \u239c   2        \u239f   2    \u23a5\n",
        "\u23a2\u239b 2    \u239e      \u239d  x  + 1    \u23a0  x  + 1\u23a5\n",
        "\u23a3\u239dx  + 1\u23a0                            \u23a6"
       ]
      }
     ],
     "prompt_number": 14
    },
    {
     "cell_type": "code",
     "collapsed": false,
     "input": [
      "J = M.jacobian([x,y]).subs({x:fixed_point[0], y:fixed_point[1]})\n",
      "J"
     ],
     "language": "python",
     "metadata": {},
     "outputs": [
      {
       "latex": [
        "$$\\left[\\begin{matrix}\\frac{8 a^{2} \\left(a^{2} + 25\\right)}{625 \\left(\\frac{a^{2}}{25} + 1\\right)^{2}} - 1 - \\frac{4 a^{2} + 100}{a^{2} + 25} & - \\frac{4 a}{\\frac{a^{2}}{5} + 5}\\\\\\frac{2 a^{2} b \\left(a^{2} + 25\\right)}{625 \\left(\\frac{a^{2}}{25} + 1\\right)^{2}} + b \\left(1 - \\frac{a^{2} + 25}{a^{2} + 25}\\right) & - \\frac{a b}{\\frac{a^{2}}{5} + 5}\\end{matrix}\\right]$$"
       ],
       "metadata": {},
       "output_type": "pyout",
       "png": "[encoded data removed]",
       "prompt_number": 16,
       "text": [
        "\u23a1      2 \u239b 2     \u239e         \u239b 2     \u239e               \u23a4\n",
        "\u23a2   8\u22c5a \u22c5\u239da  + 25\u23a0       4\u22c5\u239da  + 25\u23a0       -4\u22c5a    \u23a5\n",
        "\u23a2   \u2500\u2500\u2500\u2500\u2500\u2500\u2500\u2500\u2500\u2500\u2500\u2500\u2500\u2500 - 1 - \u2500\u2500\u2500\u2500\u2500\u2500\u2500\u2500\u2500\u2500\u2500     \u2500\u2500\u2500\u2500\u2500\u2500\u2500\u2500\u2500\u2500\u23a5\n",
        "\u23a2               2           \u239b 2    \u239e       \u239b 2    \u239e\u23a5\n",
        "\u23a2       \u239b 2    \u239e            \u239ca     \u239f       \u239ca     \u239f\u23a5\n",
        "\u23a2       \u239ca     \u239f         25\u22c5\u239c\u2500\u2500 + 1\u239f     5\u22c5\u239c\u2500\u2500 + 1\u239f\u23a5\n",
        "\u23a2   625\u22c5\u239c\u2500\u2500 + 1\u239f            \u239d25    \u23a0       \u239d25    \u23a0\u23a5\n",
        "\u23a2       \u239d25    \u23a0                                   \u23a5\n",
        "\u23a2                                                  \u23a5\n",
        "\u23a2   2   \u239b 2     \u239e     \u239b       2       \u239e            \u23a5\n",
        "\u23a22\u22c5a \u22c5b\u22c5\u239da  + 25\u23a0     \u239c      a  + 25  \u239f    -a\u22c5b    \u23a5\n",
        "\u23a2\u2500\u2500\u2500\u2500\u2500\u2500\u2500\u2500\u2500\u2500\u2500\u2500\u2500\u2500\u2500\u2500 + b\u22c5\u239c1 - \u2500\u2500\u2500\u2500\u2500\u2500\u2500\u2500\u2500\u2500\u2500\u239f  \u2500\u2500\u2500\u2500\u2500\u2500\u2500\u2500\u2500\u2500\u23a5\n",
        "\u23a2             2       \u239c       \u239b 2    \u239e\u239f    \u239b 2    \u239e\u23a5\n",
        "\u23a2     \u239b 2    \u239e        \u239c       \u239ca     \u239f\u239f    \u239ca     \u239f\u23a5\n",
        "\u23a2     \u239ca     \u239f        \u239c    25\u22c5\u239c\u2500\u2500 + 1\u239f\u239f  5\u22c5\u239c\u2500\u2500 + 1\u239f\u23a5\n",
        "\u23a2 625\u22c5\u239c\u2500\u2500 + 1\u239f        \u239d       \u239d25    \u23a0\u23a0    \u239d25    \u23a0\u23a5\n",
        "\u23a3     \u239d25    \u23a0                                     \u23a6"
       ]
      }
     ],
     "prompt_number": 16
    },
    {
     "cell_type": "code",
     "collapsed": false,
     "input": [
      "J.charpoly()"
     ],
     "language": "python",
     "metadata": {},
     "outputs": [
      {
       "latex": [
        "$$\\operatorname{PurePoly}{\\left( \\lambda^{2} + \\frac{\\lambda}{a^{2} + 25} \\left(- 3 a^{2} + 5 a b + 125\\right) + \\frac{25 a b}{a^{2} + 25}, \\lambda, domain=\\mathbb{Z}\\left(a, b\\right) \\right)}$$"
       ],
       "metadata": {},
       "output_type": "pyout",
       "png": "[encoded data removed]",
       "prompt_number": 17,
       "text": [
        "PurePoly(_lambda**2 + (-3*a**2 + 5*a*b + 125)/(a**2 + 25)*_lambda + 25*a*b/(a*\n",
        "*2 + 25), _lambda, domain='ZZ(a,b)')"
       ]
      }
     ],
     "prompt_number": 17
    },
    {
     "cell_type": "code",
     "collapsed": false,
     "input": [
      "J.eigenvals()"
     ],
     "language": "python",
     "metadata": {},
     "outputs": [
      {
       "latex": [
        "$$\\begin{Bmatrix}- \\frac{1}{2 a^{2} + 50} \\sqrt{9 a^{4} - 130 a^{3} b + 25 a^{2} b^{2} - 750 a^{2} - 1250 a b + 15625} + \\frac{3 a^{2} - 5 a b - 125}{2 a^{2} + 50} : 1, & \\frac{1}{2 a^{2} + 50} \\sqrt{9 a^{4} - 130 a^{3} b + 25 a^{2} b^{2} - 750 a^{2} - 1250 a b + 15625} + \\frac{3 a^{2} - 5 a b - 125}{2 a^{2} + 50} : 1\\end{Bmatrix}$$"
       ],
       "metadata": {},
       "output_type": "pyout",
       "png": "[encoded data removed]",
       "prompt_number": 18,
       "text": [
        "\u23a7     ________________________________________________________                \n",
        "\u23aa    \u2571    4        3         2  2        2                          2         \n",
        "\u23aa  \u2572\u2571  9\u22c5a  - 130\u22c5a \u22c5b + 25\u22c5a \u22c5b  - 750\u22c5a  - 1250\u22c5a\u22c5b + 15625    3\u22c5a  - 5\u22c5a\u22c5b \n",
        "\u23a8- \u2500\u2500\u2500\u2500\u2500\u2500\u2500\u2500\u2500\u2500\u2500\u2500\u2500\u2500\u2500\u2500\u2500\u2500\u2500\u2500\u2500\u2500\u2500\u2500\u2500\u2500\u2500\u2500\u2500\u2500\u2500\u2500\u2500\u2500\u2500\u2500\u2500\u2500\u2500\u2500\u2500\u2500\u2500\u2500\u2500\u2500\u2500\u2500\u2500\u2500\u2500\u2500\u2500\u2500\u2500\u2500\u2500\u2500\u2500 + \u2500\u2500\u2500\u2500\u2500\u2500\u2500\u2500\u2500\u2500\u2500\u2500\u2500\n",
        "\u23aa                              2                                      \u239b 2     \n",
        "\u23aa                           2\u22c5a  + 50                               2\u22c5\u239da  + 25\n",
        "\u23a9                                                                             \n",
        "\n",
        "             ________________________________________________________         \n",
        "            \u2571    4        3         2  2        2                          2  \n",
        "- 125     \u2572\u2571  9\u22c5a  - 130\u22c5a \u22c5b + 25\u22c5a \u22c5b  - 750\u22c5a  - 1250\u22c5a\u22c5b + 15625    3\u22c5a  -\n",
        "\u2500\u2500\u2500\u2500\u2500: 1, \u2500\u2500\u2500\u2500\u2500\u2500\u2500\u2500\u2500\u2500\u2500\u2500\u2500\u2500\u2500\u2500\u2500\u2500\u2500\u2500\u2500\u2500\u2500\u2500\u2500\u2500\u2500\u2500\u2500\u2500\u2500\u2500\u2500\u2500\u2500\u2500\u2500\u2500\u2500\u2500\u2500\u2500\u2500\u2500\u2500\u2500\u2500\u2500\u2500\u2500\u2500\u2500\u2500\u2500\u2500\u2500\u2500\u2500\u2500 + \u2500\u2500\u2500\u2500\u2500\u2500\n",
        "\u239e                                     2                                      \u239b\n",
        "\u23a0                                  2\u22c5a  + 50                               2\u22c5\u239d\n",
        "                                                                              \n",
        "\n",
        "               \u23ab\n",
        "               \u23aa\n",
        " 5\u22c5a\u22c5b - 125   \u23aa\n",
        "\u2500\u2500\u2500\u2500\u2500\u2500\u2500\u2500\u2500\u2500\u2500\u2500: 1\u23ac\n",
        " 2     \u239e       \u23aa\n",
        "a  + 25\u23a0       \u23aa\n",
        "               \u23ad"
       ]
      }
     ],
     "prompt_number": 18
    },
    {
     "cell_type": "markdown",
     "metadata": {},
     "source": [
      "There is a special function `lambdify` in `sympy` that enables us to extract information from `sympy` into a numerical context (`numpy`). `lambdify` produces a `lambda` anonymous function mapping its inputs to outputs. "
     ]
    },
    {
     "cell_type": "code",
     "collapsed": false,
     "input": [
      "JJ = lambdify([a], J)\n",
      "JJ"
     ],
     "language": "python",
     "metadata": {},
     "outputs": [
      {
       "metadata": {},
       "output_type": "pyout",
       "prompt_number": 26,
       "text": [
        "<function numpy.<lambda>>"
       ]
      }
     ],
     "prompt_number": 26
    },
    {
     "cell_type": "code",
     "collapsed": false,
     "input": [
      "lambdify([x,y])"
     ],
     "language": "python",
     "metadata": {},
     "outputs": []
    },
    {
     "cell_type": "code",
     "collapsed": false,
     "input": [
      "import numpy as np"
     ],
     "language": "python",
     "metadata": {},
     "outputs": [],
     "prompt_number": 23
    },
    {
     "cell_type": "code",
     "collapsed": false,
     "input": [
      "np.array( JJ(3, 2) )"
     ],
     "language": "python",
     "metadata": {},
     "outputs": [
      {
       "metadata": {},
       "output_type": "pyout",
       "prompt_number": 24,
       "text": [
        "array([[-2.88235294, -1.76470588],\n",
        "       [ 1.05882353, -0.88235294]])"
       ]
      }
     ],
     "prompt_number": 24
    },
    {
     "cell_type": "markdown",
     "metadata": {},
     "source": [
      "----\n",
      "**Exercise**: Use the results from this notebook to add a subplot to the phase portrait showing how the eigenvalues of the linearised Jacobian at the fixed point change.\n",
      "\n",
      "----"
     ]
    }
   ],
   "metadata": {}
  }
 ]
}