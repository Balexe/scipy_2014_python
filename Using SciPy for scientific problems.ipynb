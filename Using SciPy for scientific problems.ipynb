{
 "metadata": {
  "name": "",
  "signature": "sha256:6d7b303700fe465969765b1267d1dc4ea5244087b3d92481bc730c2850708292"
 },
 "nbformat": 3,
 "nbformat_minor": 0,
 "worksheets": [
  {
   "cells": [
    {
     "cell_type": "heading",
     "level": 1,
     "metadata": {},
     "source": [
      "Example 1: Calculating eigenvalues of a random matrix"
     ]
    },
    {
     "cell_type": "markdown",
     "metadata": {},
     "source": [
      "Random matrices are used to model complicated systems such as atomic nuclei. The eigenvalues of such matrices then correspond to energy levels in the nucleus. A random matrix is literally a matrix in which each entry is sampled at random, from a certain probability distribution.\n",
      "\n",
      "Let's recall that $\\lambda$ is an *eigenvalue*  of a matrix $M$ with *eigenvector* $\\mathbf{v}$ if \n",
      "$$M \\cdot \\mathbf{v} = \\lambda \\mathbf{v},$$\n",
      "i.e. if the *direction* of the vector is left unchanged when acted on by the matrix; only its size changes, by a factor equal to the eigenvalue."
     ]
    },
    {
     "cell_type": "markdown",
     "metadata": {},
     "source": [
      "What do the eigenvalues of a random matrix look like? This sounds like a silly question, since they will depend on how the random entries of the matrix are chosen. But, in fact, for matrices whose entries are taken from a certain probability distribution, they are remarkably insensitive to the exact values of the matrix entries, as we will see."
     ]
    },
    {
     "cell_type": "heading",
     "level": 2,
     "metadata": {},
     "source": [
      "Generating normally-distributed random variates"
     ]
    },
    {
     "cell_type": "markdown",
     "metadata": {},
     "source": [
      "To create the random matrix, we need to be able to generate random variates (i.e. samples from the distribution of interest).  We know that the submodule `numpy.random` of `numpy` contains such tools."
     ]
    },
    {
     "cell_type": "code",
     "collapsed": false,
     "input": [
      "import numpy as np"
     ],
     "language": "python",
     "metadata": {},
     "outputs": []
    },
    {
     "cell_type": "markdown",
     "metadata": {},
     "source": [
      "Let's suppose that the matrix elements are sampled (independently of the others) from a standard normal (or \"gaussian\" distribution). There is a function in `numpy.random` which does this for us:"
     ]
    },
    {
     "cell_type": "code",
     "collapsed": false,
     "input": [
      "np.random.randn()"
     ],
     "language": "python",
     "metadata": {},
     "outputs": []
    },
    {
     "cell_type": "markdown",
     "metadata": {},
     "source": [
      "It's always useful to check that library functions do \"what they say on the tin\" (what they claim to be doing). So let's generate a lot of samples and check if they seem to be distributed in a normal way:"
     ]
    },
    {
     "cell_type": "code",
     "collapsed": false,
     "input": [
      "samples = np.random.randn(100000)"
     ],
     "language": "python",
     "metadata": {},
     "outputs": []
    },
    {
     "cell_type": "markdown",
     "metadata": {},
     "source": [
      "A simple way to check the probability distribution of data is to calculate a *histogram*.\n",
      "We could do this by hand, but `numpy` already contains a `histogram` function that does this.\n",
      "You can even easily examine the source code (of those functions written in Python, not those in C):"
     ]
    },
    {
     "cell_type": "code",
     "collapsed": false,
     "input": [
      "np.histogram??"
     ],
     "language": "python",
     "metadata": {},
     "outputs": []
    },
    {
     "cell_type": "code",
     "collapsed": false,
     "input": [
      "hist = np.histogram(samples, 1000)\n",
      "hist"
     ],
     "language": "python",
     "metadata": {},
     "outputs": []
    },
    {
     "cell_type": "markdown",
     "metadata": {},
     "source": [
      "Just by eye, we can already see that the counts of numbers of elements in each \"bin\" (interval) has the right kind of shape. But, naturally, visualizing the data is more convincing. \n",
      "\n",
      "To draw a graph of these results, we use `matplotlib`:"
     ]
    },
    {
     "cell_type": "code",
     "collapsed": false,
     "input": [
      "%matplotlib inline\n",
      "import matplotlib.pyplot as plt"
     ],
     "language": "python",
     "metadata": {},
     "outputs": []
    },
    {
     "cell_type": "markdown",
     "metadata": {},
     "source": [
      "[Note that package imports can be done at any time.]"
     ]
    },
    {
     "cell_type": "markdown",
     "metadata": {},
     "source": [
      "The `histogram` function returns a *tuple* (ordered pair). The first entry gives the counts in each bin, and the second gives the locations of the bins. However, there is a slight problem:"
     ]
    },
    {
     "cell_type": "code",
     "collapsed": false,
     "input": [
      "len(hist[0]), len(hist[1])"
     ],
     "language": "python",
     "metadata": {},
     "outputs": []
    },
    {
     "cell_type": "markdown",
     "metadata": {},
     "source": [
      "The *ends* of the bins are given, and there is one more end than bins in total. For now, we will just use the left end of the bin to get an idea of the histogram."
     ]
    },
    {
     "cell_type": "code",
     "collapsed": false,
     "input": [
      "plt.plot(hist[1][:-1], hist[0])"
     ],
     "language": "python",
     "metadata": {},
     "outputs": []
    },
    {
     "cell_type": "markdown",
     "metadata": {},
     "source": [
      "This certainly looks convincingly normal by eye. But we should compare it to the true probability density function. To do so, we should normalise the histogram so that the total area is $1$. "
     ]
    },
    {
     "cell_type": "markdown",
     "metadata": {},
     "source": [
      "----\n",
      "**Exercise**: Normalise the histogram counts.\n",
      "\n",
      "----"
     ]
    },
    {
     "cell_type": "markdown",
     "metadata": {},
     "source": [
      "In fact, there is a keyword argument for `histogram` that does this for us:"
     ]
    },
    {
     "cell_type": "code",
     "collapsed": false,
     "input": [
      "hist = np.histogram(samples, 1000, normed=True)\n"
     ],
     "language": "python",
     "metadata": {},
     "outputs": []
    },
    {
     "cell_type": "markdown",
     "metadata": {},
     "source": [
      "Let's compare the output to the PDF of the standard normal distribution,\n",
      "$$\\mathcal{N}(x) = \\frac{1}{\\sqrt{2 \\pi}} \\exp(-\\textstyle \\frac{x^2}{2})$$"
     ]
    },
    {
     "cell_type": "code",
     "collapsed": false,
     "input": [
      "x = hist[1][:-1]\n",
      "plt.plot(x, hist[0], alpha=0.5)  # alpha gives transparency\n",
      "plt.plot(x, 1./np.sqrt(2.*np.pi) * np.exp(-x**2/2), linewidth=3)  # draw the true pdf"
     ],
     "language": "python",
     "metadata": {},
     "outputs": []
    },
    {
     "cell_type": "markdown",
     "metadata": {},
     "source": [
      "Indeed we have excellent agreement. We could also do a true statistical test (the Kolmogorov--Smirnov test). [One version of that test, although not the one that we would need in this context, is found in the `scipy.stats` submodule, as `scipy.stats.ks_2samp`.]"
     ]
    },
    {
     "cell_type": "markdown",
     "metadata": {},
     "source": [
      "Here, I was (surprisingly) able to correctly remember the analytical formula for the PDF (probability density function) of the normal distribution.\n",
      "\n"
     ]
    },
    {
     "cell_type": "heading",
     "level": 2,
     "metadata": {},
     "source": [
      "Creating the matrix"
     ]
    },
    {
     "cell_type": "markdown",
     "metadata": {},
     "source": [
      "To create matrices, `numpy` is again the tool of choice.\n",
      "In fact, the `randn` function can generate arrays of arbitrary shape:"
     ]
    },
    {
     "cell_type": "code",
     "collapsed": false,
     "input": [
      "N = 1000\n",
      "M = np.random.randn(N, N)"
     ],
     "language": "python",
     "metadata": {},
     "outputs": []
    },
    {
     "cell_type": "code",
     "collapsed": false,
     "input": [
      "M"
     ],
     "language": "python",
     "metadata": {},
     "outputs": []
    },
    {
     "cell_type": "markdown",
     "metadata": {},
     "source": [
      "Let's create a symmetric matrix by symmetrising this one, since then we can guarantee that the eigenvalues are real:"
     ]
    },
    {
     "cell_type": "markdown",
     "metadata": {},
     "source": [
      "----\n",
      "**Exercise**: How could we create a symmetric matrix from `M`?\n",
      " \n",
      "----"
     ]
    },
    {
     "cell_type": "code",
     "collapsed": false,
     "input": [
      "M = 0.5 * (M+M.T)"
     ],
     "language": "python",
     "metadata": {},
     "outputs": []
    },
    {
     "cell_type": "code",
     "collapsed": false,
     "input": [
      "M"
     ],
     "language": "python",
     "metadata": {},
     "outputs": []
    },
    {
     "cell_type": "markdown",
     "metadata": {},
     "source": [
      "Now we need to calculate the eigenvalues of the symmetrised matrix `M`. The SciPy stack contains functions to do this. There is a version in the `linalg` submodule of `numpy`, but the recommended versions are in the `linalg` submodule of `scipy`. "
     ]
    },
    {
     "cell_type": "heading",
     "level": 1,
     "metadata": {},
     "source": [
      "The `scipy` package"
     ]
    },
    {
     "cell_type": "markdown",
     "metadata": {},
     "source": [
      "Although the name SciPy is now used to refer to the complete Scientific Python ecosystem, it also refers (as it originally did) to the `scipy` package for scientific computing.\n",
      "\n",
      "The `scipy` package is a collection of submodules, each dedicated to a particular area of scientific computing. Each submodule contains functions that implement algorithms to perform scientific computations."
     ]
    },
    {
     "cell_type": "markdown",
     "metadata": {},
     "source": [
      "As a first example, let's return to the example of the histogram that we did above.\n",
      "There, I was (surprisingly) able to remember the analytical formula for the probability density function (PDF) of the normal distribution.\n",
      "\n",
      "However, this is not necessary: `scipy` contains a statistics submodule, `scipy.stats`, that has a lot of useful information about different probability distributions:"
     ]
    },
    {
     "cell_type": "code",
     "collapsed": false,
     "input": [
      "import scipy.stats as stats"
     ],
     "language": "python",
     "metadata": {},
     "outputs": []
    },
    {
     "cell_type": "markdown",
     "metadata": {},
     "source": [
      "The normal distribution is called `stats.norm`:"
     ]
    },
    {
     "cell_type": "code",
     "collapsed": false,
     "input": [
      "stats.norm"
     ],
     "language": "python",
     "metadata": {},
     "outputs": []
    },
    {
     "cell_type": "markdown",
     "metadata": {},
     "source": [
      "We see that it is an instantiation of a particular type."
     ]
    },
    {
     "cell_type": "code",
     "collapsed": false,
     "input": [
      "stats.norm?"
     ],
     "language": "python",
     "metadata": {},
     "outputs": []
    },
    {
     "cell_type": "code",
     "collapsed": false,
     "input": [
      "x = hist[1][:-1]\n",
      "plt.plot(x, hist[0], alpha=0.5)  # alpha gives transparency\n",
      "plt.plot(x, scipy.stats.norm.pdf(x), linewidth=3)  # draw the true pdf"
     ],
     "language": "python",
     "metadata": {},
     "outputs": []
    },
    {
     "cell_type": "markdown",
     "metadata": {},
     "source": [
      "Finally, it turns out that `matplotlib` in fact has a `hist` function that does all of these steps:"
     ]
    },
    {
     "cell_type": "code",
     "collapsed": false,
     "input": [
      "# Use a semicolon to suppress text output:\n",
      "plt.hist(samples, 100, normed=True, histtype=\"step\");"
     ],
     "language": "python",
     "metadata": {},
     "outputs": []
    },
    {
     "cell_type": "heading",
     "level": 2,
     "metadata": {},
     "source": [
      "Linear algebra"
     ]
    },
    {
     "cell_type": "markdown",
     "metadata": {},
     "source": [
      "The `linalg` submodule in `scipy` contains an interface to the standard LAPACK package for numerical linear algebra."
     ]
    },
    {
     "cell_type": "code",
     "collapsed": false,
     "input": [
      "import scipy.linalg as linalg"
     ],
     "language": "python",
     "metadata": {},
     "outputs": []
    },
    {
     "cell_type": "markdown",
     "metadata": {},
     "source": [
      "To explore how the `linalg` package works, let's first create a simple $2 \\times 2$ matrix to experiment on. We'll use a matrix that's important in the area of dynamical systems that occurs in the \"Arnold cat map\", $M = \\begin{pmatrix} 2 & 1 \\\\ 1 & 1 \\end{pmatrix}$"
     ]
    },
    {
     "cell_type": "markdown",
     "metadata": {},
     "source": [
      "----\n",
      "**Exercise**: Create this matrix.\n",
      "\n",
      "----"
     ]
    },
    {
     "cell_type": "code",
     "collapsed": false,
     "input": [
      "M = np.r_[2,1,1,1].reshape(2,2)"
     ],
     "language": "python",
     "metadata": {},
     "outputs": []
    },
    {
     "cell_type": "markdown",
     "metadata": {},
     "source": [
      "----\n",
      "**Exercise**: Explore and experiment with the contents of the `linalg` package.\n",
      "\n",
      "----"
     ]
    },
    {
     "cell_type": "markdown",
     "metadata": {},
     "source": [
      "Some useful linear algebra functions provided are the following:"
     ]
    },
    {
     "cell_type": "code",
     "collapsed": false,
     "input": [
      "linalg.det(M)  # determinant"
     ],
     "language": "python",
     "metadata": {},
     "outputs": []
    },
    {
     "cell_type": "code",
     "collapsed": false,
     "input": [
      "linalg.inv(M)  # inverse"
     ],
     "language": "python",
     "metadata": {},
     "outputs": []
    },
    {
     "cell_type": "code",
     "collapsed": false,
     "input": [
      "v = np.r_[0.5, 4]\n",
      "linalg.solve(M, v)  # solve M.x = v  for the vector x"
     ],
     "language": "python",
     "metadata": {},
     "outputs": []
    },
    {
     "cell_type": "code",
     "collapsed": false,
     "input": [
      "linalg.eig(M)"
     ],
     "language": "python",
     "metadata": {},
     "outputs": []
    },
    {
     "cell_type": "markdown",
     "metadata": {},
     "source": [
      "----\n",
      "**Exercise**: Extract the eigenvalues and eigenvectors. How are the eigenvectors represented?\n",
      "\n",
      "----"
     ]
    },
    {
     "cell_type": "markdown",
     "metadata": {},
     "source": [
      "There are special functions `eigh` and `eigvalsh` for symmetric matrices (or, in general, for Hermitian matrices with complex entries, whence the `h` at the end of the function names):"
     ]
    },
    {
     "cell_type": "code",
     "collapsed": false,
     "input": [
      "linalg.eigh(M)"
     ],
     "language": "python",
     "metadata": {},
     "outputs": []
    },
    {
     "cell_type": "markdown",
     "metadata": {},
     "source": [
      "We can check the source code of the functions to check what exactly is being called:"
     ]
    },
    {
     "cell_type": "code",
     "collapsed": false,
     "input": [
      "linalg.eigh??"
     ],
     "language": "python",
     "metadata": {},
     "outputs": []
    },
    {
     "cell_type": "heading",
     "level": 2,
     "metadata": {},
     "source": [
      "Eigenvalues of random matrices"
     ]
    },
    {
     "cell_type": "markdown",
     "metadata": {},
     "source": [
      "We now have the tools to calculate the eigenvalues of our random matrix:"
     ]
    },
    {
     "cell_type": "code",
     "collapsed": false,
     "input": [
      "import numpy as np\n",
      "import scipy.linalg as linalg"
     ],
     "language": "python",
     "metadata": {},
     "outputs": []
    },
    {
     "cell_type": "code",
     "collapsed": false,
     "input": [
      "size = 1000\n",
      "M = np.random.randn(size, size)\n",
      "\n",
      "M = 0.5 * (M + M.T)  # symmetrise"
     ],
     "language": "python",
     "metadata": {},
     "outputs": []
    },
    {
     "cell_type": "code",
     "collapsed": false,
     "input": [
      "%time lamb = linalg.eigvalsh(M)"
     ],
     "language": "python",
     "metadata": {},
     "outputs": []
    },
    {
     "cell_type": "code",
     "collapsed": false,
     "input": [
      "lamb"
     ],
     "language": "python",
     "metadata": {},
     "outputs": []
    },
    {
     "cell_type": "markdown",
     "metadata": {},
     "source": [
      "As usual, it is difficult to obtain insight from a raw listing of the data (except to see that `eigvalsh` returns the eigenvalues already ordered). So we proceed to plot them:"
     ]
    },
    {
     "cell_type": "code",
     "collapsed": false,
     "input": [
      "%matplotlib inline\n",
      "import matplotlib.pyplot as plt"
     ],
     "language": "python",
     "metadata": {},
     "outputs": []
    },
    {
     "cell_type": "code",
     "collapsed": false,
     "input": [
      "plt.plot(lamb)"
     ],
     "language": "python",
     "metadata": {},
     "outputs": []
    },
    {
     "cell_type": "markdown",
     "metadata": {},
     "source": [
      "[If only one array is passed to `plt.plot`, it just uses $1$, $2$, etc. on the $x$-axis.]"
     ]
    },
    {
     "cell_type": "markdown",
     "metadata": {},
     "source": [
      "We see that the results apparently lie on a smooth curve. To check this, let's run the same calculation several times and plot them on top of each other:"
     ]
    },
    {
     "cell_type": "code",
     "collapsed": false,
     "input": [
      "size = 1000\n",
      "\n",
      "for i in range(5):\n",
      "    M = np.random.randn(size, size)\n",
      "    M = 0.5 * (M + M.T)  # symmetrise\n",
      "\n",
      "    lamb = linalg.eigvalsh(M)\n",
      "    \n",
      "    plt.plot(lamb)"
     ],
     "language": "python",
     "metadata": {},
     "outputs": []
    },
    {
     "cell_type": "markdown",
     "metadata": {},
     "source": [
      "At the scale of the figure, the curves coincide! This is despite the fact that the matrices are random."
     ]
    },
    {
     "cell_type": "markdown",
     "metadata": {},
     "source": [
      "Now let's make a second plot with a zoom. To do this, we use `matplotlib`'s capacity for subplots:"
     ]
    },
    {
     "cell_type": "code",
     "collapsed": false,
     "input": [
      "plt.subplots(ncols=2)"
     ],
     "language": "python",
     "metadata": {},
     "outputs": []
    },
    {
     "cell_type": "markdown",
     "metadata": {},
     "source": [
      "The `plt.subplots()` function returns a tuple, consisting of the figure object and the two axes objects. Here we are seeing the object-oriented layer underneath poking through. To use these, we to tuple unpacking to assign these objects names:"
     ]
    },
    {
     "cell_type": "code",
     "collapsed": false,
     "input": [
      "fig, ax = plt.subplots(ncols=2);\n"
     ],
     "language": "python",
     "metadata": {},
     "outputs": []
    },
    {
     "cell_type": "markdown",
     "metadata": {},
     "source": [
      "`ax` is a list of axis objects, so we refer to the individual ones as `ax[0]`, `ax[1]`, etc."
     ]
    },
    {
     "cell_type": "code",
     "collapsed": false,
     "input": [
      "fig, ax = plt.subplots(figsize=(12,5), ncols=2)\n",
      "\n",
      "size = 1000\n",
      "\n",
      "for i in range(5):\n",
      "    M = np.random.randn(size, size)\n",
      "    M = 0.5 * (M + M.T)  # symmetrise\n",
      "\n",
      "    lamb = linalg.eigvalsh(M)\n",
      "    \n",
      "    ax[0].plot(lamb)  # draw on the first axis\n",
      "    ax[1].plot(lamb, \".-\", alpha=0.5)  # draw on the second axis\n",
      "    \n",
      "# zoom the second axis:\n",
      "ax[1].set_xlim(500, 550)\n",
      "ax[1].set_ylim(0, 3)\n"
     ],
     "language": "python",
     "metadata": {},
     "outputs": []
    },
    {
     "cell_type": "markdown",
     "metadata": {},
     "source": [
      "We can now *see* the (small) random variations in the eigenvalues of the different matrices.\n",
      "\n",
      "----\n",
      "**Exercise**: Add a box on the left plot to indicate the zoom region shown in the right plot.\n",
      "\n",
      "----\n",
      "\n",
      "----\n",
      "**Exercise**: How could we *calculate* these small variations?\n",
      "\n",
      "----\n"
     ]
    },
    {
     "cell_type": "markdown",
     "metadata": {},
     "source": [
      "One way of adding a box to the plot is as a `matplotlib` *patch*, which is a feature added to the graphic:"
     ]
    },
    {
     "cell_type": "code",
     "collapsed": false,
     "input": [
      "import matplotlib.patches as patches\n",
      "\n",
      "rect = patches.Rectangle((500, 0), 50, 3, fill=False)\n",
      "\n",
      "plt.plot(lamb)\n",
      "\n",
      "ax = plt.gca()  # get current axis\n",
      "ax.add_patch(rect)"
     ],
     "language": "python",
     "metadata": {},
     "outputs": []
    },
    {
     "cell_type": "heading",
     "level": 2,
     "metadata": {},
     "source": [
      "Manipulating the data"
     ]
    },
    {
     "cell_type": "markdown",
     "metadata": {},
     "source": [
      "In random matrix theory, one of the quantities of interest are the differences between consecutive eigenvalues."
     ]
    },
    {
     "cell_type": "markdown",
     "metadata": {},
     "source": [
      "----\n",
      "**Exercise**: Calculate these differences in *three* ways:\n",
      "1. Using a `for` loop\n",
      "2. Using a list comprehension\n",
      "3. Using vectorized `numpy``\n",
      "\n",
      "Which is best?\n",
      "\n",
      "----"
     ]
    },
    {
     "cell_type": "markdown",
     "metadata": {},
     "source": [
      "In fact, `numpy` also has a built-in function for calculating differences of arrays, `diff`:"
     ]
    },
    {
     "cell_type": "code",
     "collapsed": false,
     "input": [
      "differences = np.diff(lamb)"
     ],
     "language": "python",
     "metadata": {},
     "outputs": []
    },
    {
     "cell_type": "markdown",
     "metadata": {},
     "source": [
      "Let's plot the differences:"
     ]
    },
    {
     "cell_type": "code",
     "collapsed": false,
     "input": [
      "plt.plot(differences, \".-\", alpha=0.5)"
     ],
     "language": "python",
     "metadata": {},
     "outputs": []
    },
    {
     "cell_type": "markdown",
     "metadata": {},
     "source": [
      "This is not very informative. \n",
      "\n",
      "----\n",
      "**Exercise**: How could we summarize this data?\n",
      "\n",
      "----"
     ]
    },
    {
     "cell_type": "heading",
     "level": 1,
     "metadata": {},
     "source": [
      "Example 2: Exploring an ODE"
     ]
    },
    {
     "cell_type": "markdown",
     "metadata": {},
     "source": [
      "Ordinary differential equations (ODEs) are crucial in many areas of science. Here, we will investigate how to explore a simple ODE model occurring in chemistry, modelling the kinetics of the concentrations of two chemical species in a reaction (of chlorine, iodine and malonic acid)."
     ]
    },
    {
     "cell_type": "markdown",
     "metadata": {},
     "source": [
      "\\begin{align}\n",
      "\\dot{x} &= a - x - \\frac{4xy}{1+x^2} =: f_1(x, y) \\\\\n",
      "\\dot{y} &= b \\, x \\left( 1-\\frac{y}{1+x^2} \\right) =: f_2(x,y)\n",
      "\\end{align}"
     ]
    },
    {
     "cell_type": "markdown",
     "metadata": {},
     "source": [
      "There are two parameters in the system, $a$ and $b$, which depend on the concentrations of other species present in the reaction, that vary on a much slower time-scale. [Lengyel et al., J. Am. Chem. Soc. 1990]"
     ]
    },
    {
     "cell_type": "markdown",
     "metadata": {},
     "source": [
      "There are many numerical methods to solve ODEs. A few of the most common ones are available in the `integrate` submodule of `scipy`. "
     ]
    },
    {
     "cell_type": "code",
     "collapsed": false,
     "input": [
      "import scipy.integrate as integrate"
     ],
     "language": "python",
     "metadata": {},
     "outputs": []
    },
    {
     "cell_type": "markdown",
     "metadata": {},
     "source": [
      "The simplest interface is provided by `odeint`; a more flexible, but more complicated, one, is given by `ode`."
     ]
    },
    {
     "cell_type": "code",
     "collapsed": false,
     "input": [
      "integrate.odeint?"
     ],
     "language": "python",
     "metadata": {},
     "outputs": []
    },
    {
     "cell_type": "markdown",
     "metadata": {},
     "source": [
      "These methods treat ODEs as a single, vector equation of the form\n",
      "\n",
      "$$\\dot{\\mathbf{x}} = \\mathbf{f}(\\mathbf{x}; t)$$\n",
      "\n",
      "where $\\mathbf{x} = \\begin{pmatrix} x \\\\ y \\end{pmatrix}$ is the vector of variables in the problem, and the function $\\mathbf{f} = (f_1, f_2)$ accepts $\\mathbf{x}$ and returns the vector of right-hand sides $f_1$ and $f_2$ of the individual equations, again as a vector.\n",
      "\n",
      "The function `f` must thus be defined as follows; note that the `t` argument is necessary, even if the function $f$ does not depend explicitly on $t$."
     ]
    },
    {
     "cell_type": "markdown",
     "metadata": {},
     "source": [
      "----\n",
      "**Exercise**: (i) Define a function `f` which accepts a \"vector\" `x_vec`(that can, in fact, be any kind of iterable) together with `t`, and returns the new \"vector\" $\\mathbf{f}(\\mathbf{x})$.\n",
      "\n",
      "(ii) Choose an initial condition and pass it to the `odeint` routine.\n",
      "\n",
      "----"
     ]
    },
    {
     "cell_type": "markdown",
     "metadata": {},
     "source": [
      "We can now use this to sketch the \"phase space\" of the system, i.e. to show a collection of trajectories from different initial conditions.\n",
      "\n",
      "----\n",
      "**Exercise**: Integrate the system from different initial conditions.\n",
      "\n",
      "----"
     ]
    },
    {
     "cell_type": "markdown",
     "metadata": {},
     "source": [
      "In fact, `matplotlib` contains a nice convenience function, `streamplot`, that does this."
     ]
    },
    {
     "cell_type": "markdown",
     "metadata": {},
     "source": [
      "----\n",
      "**Exercise**: Copy and modify the example in the documentation for the `ode` function to simulate this system using the `dopri5` method, which is a type of Runge-Kutta method. NB: the order of the arguments is reversed compared to `odeint`.\n",
      "\n",
      "----"
     ]
    },
    {
     "cell_type": "code",
     "collapsed": false,
     "input": [
      "integrate.ode?"
     ],
     "language": "python",
     "metadata": {},
     "outputs": []
    },
    {
     "cell_type": "code",
     "collapsed": false,
     "input": [],
     "language": "python",
     "metadata": {},
     "outputs": []
    }
   ],
   "metadata": {}
  }
 ]
}