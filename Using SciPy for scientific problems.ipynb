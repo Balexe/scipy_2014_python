{
 "metadata": {
  "name": "",
  "signature": "sha256:3e77367bce44cb88b9c0f4c4445345d4f274ed0ef7882ea5598e80c7f19613fb"
 },
 "nbformat": 3,
 "nbformat_minor": 0,
 "worksheets": [
  {
   "cells": [
    {
     "cell_type": "heading",
     "level": 1,
     "metadata": {},
     "source": [
      "Example 1: Calculating eigenvalues of a random matrix"
     ]
    },
    {
     "cell_type": "markdown",
     "metadata": {},
     "source": [
      "Random matrices are used to model complicated systems such as atomic nuclei. The eigenvalues of such matrices then correspond to energy levels in the nucleus. A random matrix is literally a matrix in which each entry is sampled at random, from a certain probability distribution.\n",
      "\n",
      "Let's recall that $\\lambda$ is an *eigenvalue*  of a matrix $M$ with *eigenvector* $\\mathbf{v}$ if \n",
      "$$M \\cdot \\mathbf{v} = \\lambda \\mathbf{v},$$\n",
      "i.e. if the *direction* of the vector is left unchanged when acted on by the matrix; only its size changes, by a factor equal to the eigenvalue."
     ]
    },
    {
     "cell_type": "markdown",
     "metadata": {},
     "source": [
      "What do the eigenvalues of a random matrix look like? This sounds like a silly question, since they will depend on how the random entries of the matrix are chosen. But, in fact, for matrices whose entries are taken from a certain probability distribution, they are remarkably insensitive to the exact values of the matrix entries, as we will see."
     ]
    },
    {
     "cell_type": "heading",
     "level": 2,
     "metadata": {},
     "source": [
      "Generating normally-distributed random variates"
     ]
    },
    {
     "cell_type": "markdown",
     "metadata": {},
     "source": [
      "To create the random matrix, we need to be able to generate random variates (i.e. samples from the distribution of interest).  We know that the submodule `numpy.random` of `numpy` contains such tools."
     ]
    },
    {
     "cell_type": "code",
     "collapsed": false,
     "input": [
      "import numpy as np"
     ],
     "language": "python",
     "metadata": {},
     "outputs": [],
     "prompt_number": 1
    },
    {
     "cell_type": "markdown",
     "metadata": {},
     "source": [
      "Let's suppose that the matrix elements are sampled (independently of the others) from a standard normal (or \"gaussian\" distribution). There is a function in `numpy.random` which does this for us:"
     ]
    },
    {
     "cell_type": "code",
     "collapsed": false,
     "input": [
      "np.random.randn()"
     ],
     "language": "python",
     "metadata": {},
     "outputs": [
      {
       "metadata": {},
       "output_type": "pyout",
       "prompt_number": 16,
       "text": [
        "-1.0503849680551378"
       ]
      }
     ],
     "prompt_number": 16
    },
    {
     "cell_type": "markdown",
     "metadata": {},
     "source": [
      "It's always useful to check that library functions do \"what they say on the tin\" (what they claim to be doing). So let's generate a lot of samples and check if they seem to be distributed in a normal way:"
     ]
    },
    {
     "cell_type": "code",
     "collapsed": false,
     "input": [
      "samples = np.random.randn(100000)"
     ],
     "language": "python",
     "metadata": {},
     "outputs": [],
     "prompt_number": 17
    },
    {
     "cell_type": "markdown",
     "metadata": {},
     "source": [
      "A simple way to check the probability distribution of data is to calculate a *histogram*.\n",
      "We could do this by hand, but `numpy` already contains a `histogram` function that does this.\n",
      "You can even easily examine the source code (of those functions written in Python, not those in C):"
     ]
    },
    {
     "cell_type": "code",
     "collapsed": false,
     "input": [
      "np.histogram??"
     ],
     "language": "python",
     "metadata": {},
     "outputs": []
    },
    {
     "cell_type": "code",
     "collapsed": false,
     "input": [
      "hist = np.histogram(samples, 1000)\n",
      "hist"
     ],
     "language": "python",
     "metadata": {},
     "outputs": [
      {
       "metadata": {},
       "output_type": "pyout",
       "prompt_number": 36,
       "text": [
        "(array([  1,   0,   0,   0,   0,   1,   0,   0,   0,   0,   0,   0,   0,\n",
        "          0,   0,   0,   0,   0,   0,   0,   0,   0,   0,   0,   0,   0,\n",
        "          0,   0,   0,   0,   0,   0,   0,   0,   0,   0,   0,   0,   0,\n",
        "          0,   0,   0,   1,   1,   0,   0,   0,   0,   0,   1,   0,   1,\n",
        "          0,   0,   0,   0,   0,   0,   0,   0,   0,   1,   0,   0,   0,\n",
        "          1,   0,   0,   2,   1,   2,   0,   0,   1,   4,   1,   1,   3,\n",
        "          0,   0,   1,   2,   0,   0,   1,   2,   0,   1,   0,   1,   1,\n",
        "          1,   2,   0,   1,   2,   0,   2,   1,   1,   1,   0,   0,   1,\n",
        "          2,   0,   0,   0,   1,   1,   1,   0,   1,   3,   1,   4,   1,\n",
        "          2,   2,   1,   0,   3,   1,   1,   3,   1,   0,   2,   1,   2,\n",
        "          2,   3,   1,   1,   3,   5,   5,   5,   2,   3,   3,   2,   5,\n",
        "          3,   2,   5,   3,   9,   3,   3,   8,   0,   2,   5,   4,   5,\n",
        "          5,   5,   3,   7,   4,   7,   5,   8,   8,   3,   3,   5,   3,\n",
        "          3,   9,   5,  13,   8,   6,   7,   6,   6,   7,  12,   9,  10,\n",
        "         14,   8,   7,   4,  16,   2,   9,  10,  14,   6,   7,  16,   8,\n",
        "         12,  14,  13,   9,   8,  12,  11,  21,  10,  15,  14,  12,  12,\n",
        "         22,  13,   8,   6,  11,  15,  11,  20,  13,  21,  21,  15,  20,\n",
        "         18,  18,  15,  14,  26,  18,  17,  18,  32,  24,  16,  27,  26,\n",
        "         28,  24,  27,  24,  28,  22,  24,  25,  29,  38,  30,  22,  26,\n",
        "         38,  38,  25,  33,  29,  26,  37,  34,  49,  45,  24,  42,  38,\n",
        "         43,  36,  37,  44,  38,  42,  47,  46,  42,  38,  57,  54,  35,\n",
        "         41,  38,  42,  45,  44,  55,  37,  54,  52,  53,  58,  59,  49,\n",
        "         72,  47,  51,  62,  57,  69,  70,  62,  78,  65,  79,  67,  79,\n",
        "         59,  70,  73,  63,  91,  58,  85,  77,  70,  86,  69,  90,  65,\n",
        "         78,  87,  78,  74,  76,  96,  87,  93,  83,  90,  85, 110, 108,\n",
        "        105,  98,  92,  88, 105, 127,  96, 104,  98, 109, 115, 101, 131,\n",
        "        127, 136, 108, 119, 130, 109, 124, 116, 121, 115, 138, 119, 137,\n",
        "        134, 113, 133, 114, 133, 121, 145, 146, 145, 140, 142, 156, 139,\n",
        "        139, 149, 149, 148, 149, 139, 152, 157, 172, 130, 150, 147, 169,\n",
        "        156, 148, 193, 164, 175, 151, 165, 189, 165, 173, 230, 164, 176,\n",
        "        195, 196, 185, 178, 184, 215, 181, 214, 211, 212, 187, 216, 209,\n",
        "        215, 227, 210, 227, 198, 185, 220, 208, 232, 211, 241, 212, 244,\n",
        "        245, 249, 239, 224, 217, 239, 269, 248, 236, 243, 244, 263, 229,\n",
        "        268, 246, 246, 250, 277, 274, 272, 274, 263, 278, 261, 254, 275,\n",
        "        294, 259, 252, 286, 269, 276, 285, 308, 264, 288, 271, 275, 250,\n",
        "        257, 286, 279, 296, 299, 275, 252, 270, 296, 286, 291, 283, 268,\n",
        "        289, 259, 311, 309, 319, 334, 288, 287, 310, 297, 290, 279, 291,\n",
        "        296, 326, 305, 319, 293, 355, 310, 288, 319, 305, 356, 326, 332,\n",
        "        320, 293, 310, 293, 315, 324, 314, 331, 344, 329, 347, 312, 301,\n",
        "        306, 312, 323, 364, 291, 289, 331, 321, 323, 333, 307, 332, 318,\n",
        "        328, 308, 280, 336, 277, 331, 301, 346, 334, 334, 326, 321, 297,\n",
        "        314, 301, 301, 312, 319, 300, 310, 329, 327, 314, 322, 313, 316,\n",
        "        303, 296, 317, 329, 330, 334, 288, 301, 300, 312, 274, 337, 319,\n",
        "        305, 260, 307, 304, 290, 297, 259, 317, 302, 284, 298, 250, 286,\n",
        "        247, 304, 296, 295, 271, 266, 264, 293, 275, 293, 278, 311, 283,\n",
        "        270, 268, 283, 271, 277, 297, 239, 256, 271, 304, 265, 251, 257,\n",
        "        246, 277, 270, 257, 273, 275, 289, 259, 278, 243, 270, 248, 244,\n",
        "        235, 248, 236, 219, 241, 256, 224, 218, 242, 238, 242, 233, 226,\n",
        "        206, 237, 233, 240, 231, 223, 202, 219, 225, 208, 240, 198, 223,\n",
        "        205, 198, 233, 198, 178, 212, 216, 188, 187, 193, 197, 193, 175,\n",
        "        191, 160, 193, 182, 192, 162, 176, 161, 165, 169, 173, 187, 176,\n",
        "        137, 151, 130, 180, 154, 161, 172, 129, 165, 178, 160, 136, 158,\n",
        "        160, 144, 136, 136, 155, 126, 104, 114, 115, 137, 139, 106, 130,\n",
        "        106, 119, 130, 109, 132,  88, 119,  98, 123, 103,  95, 127, 111,\n",
        "        129, 114, 105, 111, 104, 114, 104, 101, 129,  86,  83, 101, 106,\n",
        "         81,  82,  91,  78,  93,  72,  79,  91,  73,  70,  86,  83,  67,\n",
        "         69,  91,  81,  72,  65,  67,  64,  78,  67,  67,  64,  74,  60,\n",
        "         69,  51,  60,  59,  72,  69,  62,  52,  62,  44,  49,  46,  56,\n",
        "         52,  54,  41,  59,  68,  52,  41,  38,  52,  50,  49,  48,  49,\n",
        "         50,  34,  36,  51,  27,  30,  37,  42,  27,  28,  47,  32,  32,\n",
        "         47,  34,  43,  28,  24,  19,  29,  37,  33,  23,  27,  23,  26,\n",
        "         35,  27,  26,  19,  25,  25,  23,  26,  26,  21,  19,  24,  23,\n",
        "         38,  21,  21,  26,  14,  27,  18,  24,  28,   9,  17,  16,  17,\n",
        "         10,  14,  17,  21,  15,  12,  17,  16,  11,  11,  14,   9,  12,\n",
        "         11,  16,   5,  15,  17,  19,  19,  22,   8,   6,   8,   6,  13,\n",
        "         15,  20,  11,   9,   5,   8,   8,   9,   7,   9,   7,   8,  12,\n",
        "          3,   4,  10,   6,   9,   4,  13,   4,   1,   4,  12,   3,   3,\n",
        "          2,   4,   2,   1,   6,   4,   3,   4,   6,   0,   4,   5,   2,\n",
        "          3,   3,   2,   3,  10,   3,   7,   4,   3,   4,   2,   4,   1,\n",
        "          3,   2,   2,   7,   2,   4,   7,   2,   3,   1,   0,   5,   1,\n",
        "          3,   3,   2,   3,   4,   1,   2,   0,   1,   2,   0,   2,   0,\n",
        "          2,   0,   0,   1,   1,   3,   1,   0,   1,   2,   0,   1,   3,\n",
        "          0,   2,   2,   2,   0,   1,   0,   3,   2,   0,   0,   0,   2,\n",
        "          0,   1,   0,   0,   0,   1,   0,   0,   0,   0,   0,   1,   0,\n",
        "          1,   0,   1,   1,   0,   1,   0,   0,   1,   1,   0,   0,   0,\n",
        "          0,   0,   1,   0,   0,   0,   0,   1,   0,   0,   1,   0,   1,\n",
        "          0,   0,   0,   0,   0,   1,   0,   0,   0,   0,   0,   1]),\n",
        " array([-4.16941686, -4.16136335, -4.15330984, ...,  3.86798463,\n",
        "         3.87603814,  3.88409165]))"
       ]
      }
     ],
     "prompt_number": 36
    },
    {
     "cell_type": "markdown",
     "metadata": {},
     "source": [
      "Just by eye, we can already see that the counts of numbers of elements in each \"bin\" (interval) has the right kind of shape. But, naturally, visualizing the data is more convincing. \n",
      "\n",
      "To draw a graph of these results, we use `matplotlib`:"
     ]
    },
    {
     "cell_type": "code",
     "collapsed": false,
     "input": [
      "%matplotlib inline\n",
      "import matplotlib.pyplot as plt"
     ],
     "language": "python",
     "metadata": {},
     "outputs": [],
     "prompt_number": 19
    },
    {
     "cell_type": "markdown",
     "metadata": {},
     "source": [
      "[Note that package imports can be done at any time.]"
     ]
    },
    {
     "cell_type": "markdown",
     "metadata": {},
     "source": [
      "The `histogram` function returns a *tuple* (ordered pair). The first entry gives the counts in each bin, and the second gives the locations of the bins. However, there is a slight problem:"
     ]
    },
    {
     "cell_type": "code",
     "collapsed": false,
     "input": [
      "len(hist)"
     ],
     "language": "python",
     "metadata": {},
     "outputs": [
      {
       "metadata": {},
       "output_type": "pyout",
       "prompt_number": 20,
       "text": [
        "2"
       ]
      }
     ],
     "prompt_number": 20
    },
    {
     "cell_type": "code",
     "collapsed": false,
     "input": [
      "len(hist[0]), len(hist[1])"
     ],
     "language": "python",
     "metadata": {},
     "outputs": [
      {
       "metadata": {},
       "output_type": "pyout",
       "prompt_number": 21,
       "text": [
        "(1000, 1001)"
       ]
      }
     ],
     "prompt_number": 21
    },
    {
     "cell_type": "markdown",
     "metadata": {},
     "source": [
      "The *ends* of the bins are given, and there is one more end than bins in total. For now, we will just use the left end of the bin to get an idea of the histogram."
     ]
    },
    {
     "cell_type": "code",
     "collapsed": false,
     "input": [
      "plt.plot(hist[1][:-1], hist[0])"
     ],
     "language": "python",
     "metadata": {},
     "outputs": [
      {
       "metadata": {},
       "output_type": "pyout",
       "prompt_number": 22,
       "text": [
        "[<matplotlib.lines.Line2D at 0x106018050>]"
       ]
      },
      {
       "metadata": {},
       "output_type": "display_data",
       "png": "[encoded data removed]",
       "text": [
        "<matplotlib.figure.Figure at 0x104d82490>"
       ]
      }
     ],
     "prompt_number": 22
    },
    {
     "cell_type": "markdown",
     "metadata": {},
     "source": [
      "This certainly looks convincingly normal by eye. But we should compare it to the true probability density function. To do so, we should normalise the histogram so that the total area is $1$. "
     ]
    },
    {
     "cell_type": "markdown",
     "metadata": {},
     "source": [
      "----\n",
      "**Exercise**: Normalise the histogram counts.\n",
      "\n",
      "----"
     ]
    },
    {
     "cell_type": "code",
     "collapsed": false,
     "input": [
      "counts.sum()"
     ],
     "language": "python",
     "metadata": {},
     "outputs": [
      {
       "metadata": {},
       "output_type": "pyout",
       "prompt_number": 26,
       "text": [
        "0"
       ]
      }
     ],
     "prompt_number": 26
    },
    {
     "cell_type": "code",
     "collapsed": false,
     "input": [
      "from __future__ import division"
     ],
     "language": "python",
     "metadata": {},
     "outputs": [],
     "prompt_number": 31
    },
    {
     "cell_type": "code",
     "collapsed": false,
     "input": [
      "counts = hist[0].copy().astype(\"float\")\n",
      "counts"
     ],
     "language": "python",
     "metadata": {},
     "outputs": [
      {
       "metadata": {},
       "output_type": "pyout",
       "prompt_number": 52,
       "text": [
        "array([   1.,    0.,    0.,    0.,    0.,    1.,    0.,    0.,    0.,\n",
        "          0.,    0.,    0.,    0.,    0.,    0.,    0.,    0.,    0.,\n",
        "          0.,    0.,    0.,    0.,    0.,    0.,    0.,    0.,    0.,\n",
        "          0.,    0.,    0.,    0.,    0.,    0.,    0.,    0.,    0.,\n",
        "          0.,    0.,    0.,    0.,    0.,    0.,    1.,    1.,    0.,\n",
        "          0.,    0.,    0.,    0.,    1.,    0.,    1.,    0.,    0.,\n",
        "          0.,    0.,    0.,    0.,    0.,    0.,    0.,    1.,    0.,\n",
        "          0.,    0.,    1.,    0.,    0.,    2.,    1.,    2.,    0.,\n",
        "          0.,    1.,    4.,    1.,    1.,    3.,    0.,    0.,    1.,\n",
        "          2.,    0.,    0.,    1.,    2.,    0.,    1.,    0.,    1.,\n",
        "          1.,    1.,    2.,    0.,    1.,    2.,    0.,    2.,    1.,\n",
        "          1.,    1.,    0.,    0.,    1.,    2.,    0.,    0.,    0.,\n",
        "          1.,    1.,    1.,    0.,    1.,    3.,    1.,    4.,    1.,\n",
        "          2.,    2.,    1.,    0.,    3.,    1.,    1.,    3.,    1.,\n",
        "          0.,    2.,    1.,    2.,    2.,    3.,    1.,    1.,    3.,\n",
        "          5.,    5.,    5.,    2.,    3.,    3.,    2.,    5.,    3.,\n",
        "          2.,    5.,    3.,    9.,    3.,    3.,    8.,    0.,    2.,\n",
        "          5.,    4.,    5.,    5.,    5.,    3.,    7.,    4.,    7.,\n",
        "          5.,    8.,    8.,    3.,    3.,    5.,    3.,    3.,    9.,\n",
        "          5.,   13.,    8.,    6.,    7.,    6.,    6.,    7.,   12.,\n",
        "          9.,   10.,   14.,    8.,    7.,    4.,   16.,    2.,    9.,\n",
        "         10.,   14.,    6.,    7.,   16.,    8.,   12.,   14.,   13.,\n",
        "          9.,    8.,   12.,   11.,   21.,   10.,   15.,   14.,   12.,\n",
        "         12.,   22.,   13.,    8.,    6.,   11.,   15.,   11.,   20.,\n",
        "         13.,   21.,   21.,   15.,   20.,   18.,   18.,   15.,   14.,\n",
        "         26.,   18.,   17.,   18.,   32.,   24.,   16.,   27.,   26.,\n",
        "         28.,   24.,   27.,   24.,   28.,   22.,   24.,   25.,   29.,\n",
        "         38.,   30.,   22.,   26.,   38.,   38.,   25.,   33.,   29.,\n",
        "         26.,   37.,   34.,   49.,   45.,   24.,   42.,   38.,   43.,\n",
        "         36.,   37.,   44.,   38.,   42.,   47.,   46.,   42.,   38.,\n",
        "         57.,   54.,   35.,   41.,   38.,   42.,   45.,   44.,   55.,\n",
        "         37.,   54.,   52.,   53.,   58.,   59.,   49.,   72.,   47.,\n",
        "         51.,   62.,   57.,   69.,   70.,   62.,   78.,   65.,   79.,\n",
        "         67.,   79.,   59.,   70.,   73.,   63.,   91.,   58.,   85.,\n",
        "         77.,   70.,   86.,   69.,   90.,   65.,   78.,   87.,   78.,\n",
        "         74.,   76.,   96.,   87.,   93.,   83.,   90.,   85.,  110.,\n",
        "        108.,  105.,   98.,   92.,   88.,  105.,  127.,   96.,  104.,\n",
        "         98.,  109.,  115.,  101.,  131.,  127.,  136.,  108.,  119.,\n",
        "        130.,  109.,  124.,  116.,  121.,  115.,  138.,  119.,  137.,\n",
        "        134.,  113.,  133.,  114.,  133.,  121.,  145.,  146.,  145.,\n",
        "        140.,  142.,  156.,  139.,  139.,  149.,  149.,  148.,  149.,\n",
        "        139.,  152.,  157.,  172.,  130.,  150.,  147.,  169.,  156.,\n",
        "        148.,  193.,  164.,  175.,  151.,  165.,  189.,  165.,  173.,\n",
        "        230.,  164.,  176.,  195.,  196.,  185.,  178.,  184.,  215.,\n",
        "        181.,  214.,  211.,  212.,  187.,  216.,  209.,  215.,  227.,\n",
        "        210.,  227.,  198.,  185.,  220.,  208.,  232.,  211.,  241.,\n",
        "        212.,  244.,  245.,  249.,  239.,  224.,  217.,  239.,  269.,\n",
        "        248.,  236.,  243.,  244.,  263.,  229.,  268.,  246.,  246.,\n",
        "        250.,  277.,  274.,  272.,  274.,  263.,  278.,  261.,  254.,\n",
        "        275.,  294.,  259.,  252.,  286.,  269.,  276.,  285.,  308.,\n",
        "        264.,  288.,  271.,  275.,  250.,  257.,  286.,  279.,  296.,\n",
        "        299.,  275.,  252.,  270.,  296.,  286.,  291.,  283.,  268.,\n",
        "        289.,  259.,  311.,  309.,  319.,  334.,  288.,  287.,  310.,\n",
        "        297.,  290.,  279.,  291.,  296.,  326.,  305.,  319.,  293.,\n",
        "        355.,  310.,  288.,  319.,  305.,  356.,  326.,  332.,  320.,\n",
        "        293.,  310.,  293.,  315.,  324.,  314.,  331.,  344.,  329.,\n",
        "        347.,  312.,  301.,  306.,  312.,  323.,  364.,  291.,  289.,\n",
        "        331.,  321.,  323.,  333.,  307.,  332.,  318.,  328.,  308.,\n",
        "        280.,  336.,  277.,  331.,  301.,  346.,  334.,  334.,  326.,\n",
        "        321.,  297.,  314.,  301.,  301.,  312.,  319.,  300.,  310.,\n",
        "        329.,  327.,  314.,  322.,  313.,  316.,  303.,  296.,  317.,\n",
        "        329.,  330.,  334.,  288.,  301.,  300.,  312.,  274.,  337.,\n",
        "        319.,  305.,  260.,  307.,  304.,  290.,  297.,  259.,  317.,\n",
        "        302.,  284.,  298.,  250.,  286.,  247.,  304.,  296.,  295.,\n",
        "        271.,  266.,  264.,  293.,  275.,  293.,  278.,  311.,  283.,\n",
        "        270.,  268.,  283.,  271.,  277.,  297.,  239.,  256.,  271.,\n",
        "        304.,  265.,  251.,  257.,  246.,  277.,  270.,  257.,  273.,\n",
        "        275.,  289.,  259.,  278.,  243.,  270.,  248.,  244.,  235.,\n",
        "        248.,  236.,  219.,  241.,  256.,  224.,  218.,  242.,  238.,\n",
        "        242.,  233.,  226.,  206.,  237.,  233.,  240.,  231.,  223.,\n",
        "        202.,  219.,  225.,  208.,  240.,  198.,  223.,  205.,  198.,\n",
        "        233.,  198.,  178.,  212.,  216.,  188.,  187.,  193.,  197.,\n",
        "        193.,  175.,  191.,  160.,  193.,  182.,  192.,  162.,  176.,\n",
        "        161.,  165.,  169.,  173.,  187.,  176.,  137.,  151.,  130.,\n",
        "        180.,  154.,  161.,  172.,  129.,  165.,  178.,  160.,  136.,\n",
        "        158.,  160.,  144.,  136.,  136.,  155.,  126.,  104.,  114.,\n",
        "        115.,  137.,  139.,  106.,  130.,  106.,  119.,  130.,  109.,\n",
        "        132.,   88.,  119.,   98.,  123.,  103.,   95.,  127.,  111.,\n",
        "        129.,  114.,  105.,  111.,  104.,  114.,  104.,  101.,  129.,\n",
        "         86.,   83.,  101.,  106.,   81.,   82.,   91.,   78.,   93.,\n",
        "         72.,   79.,   91.,   73.,   70.,   86.,   83.,   67.,   69.,\n",
        "         91.,   81.,   72.,   65.,   67.,   64.,   78.,   67.,   67.,\n",
        "         64.,   74.,   60.,   69.,   51.,   60.,   59.,   72.,   69.,\n",
        "         62.,   52.,   62.,   44.,   49.,   46.,   56.,   52.,   54.,\n",
        "         41.,   59.,   68.,   52.,   41.,   38.,   52.,   50.,   49.,\n",
        "         48.,   49.,   50.,   34.,   36.,   51.,   27.,   30.,   37.,\n",
        "         42.,   27.,   28.,   47.,   32.,   32.,   47.,   34.,   43.,\n",
        "         28.,   24.,   19.,   29.,   37.,   33.,   23.,   27.,   23.,\n",
        "         26.,   35.,   27.,   26.,   19.,   25.,   25.,   23.,   26.,\n",
        "         26.,   21.,   19.,   24.,   23.,   38.,   21.,   21.,   26.,\n",
        "         14.,   27.,   18.,   24.,   28.,    9.,   17.,   16.,   17.,\n",
        "         10.,   14.,   17.,   21.,   15.,   12.,   17.,   16.,   11.,\n",
        "         11.,   14.,    9.,   12.,   11.,   16.,    5.,   15.,   17.,\n",
        "         19.,   19.,   22.,    8.,    6.,    8.,    6.,   13.,   15.,\n",
        "         20.,   11.,    9.,    5.,    8.,    8.,    9.,    7.,    9.,\n",
        "          7.,    8.,   12.,    3.,    4.,   10.,    6.,    9.,    4.,\n",
        "         13.,    4.,    1.,    4.,   12.,    3.,    3.,    2.,    4.,\n",
        "          2.,    1.,    6.,    4.,    3.,    4.,    6.,    0.,    4.,\n",
        "          5.,    2.,    3.,    3.,    2.,    3.,   10.,    3.,    7.,\n",
        "          4.,    3.,    4.,    2.,    4.,    1.,    3.,    2.,    2.,\n",
        "          7.,    2.,    4.,    7.,    2.,    3.,    1.,    0.,    5.,\n",
        "          1.,    3.,    3.,    2.,    3.,    4.,    1.,    2.,    0.,\n",
        "          1.,    2.,    0.,    2.,    0.,    2.,    0.,    0.,    1.,\n",
        "          1.,    3.,    1.,    0.,    1.,    2.,    0.,    1.,    3.,\n",
        "          0.,    2.,    2.,    2.,    0.,    1.,    0.,    3.,    2.,\n",
        "          0.,    0.,    0.,    2.,    0.,    1.,    0.,    0.,    0.,\n",
        "          1.,    0.,    0.,    0.,    0.,    0.,    1.,    0.,    1.,\n",
        "          0.,    1.,    1.,    0.,    1.,    0.,    0.,    1.,    1.,\n",
        "          0.,    0.,    0.,    0.,    0.,    1.,    0.,    0.,    0.,\n",
        "          0.,    1.,    0.,    0.,    1.,    0.,    1.,    0.,    0.,\n",
        "          0.,    0.,    0.,    1.,    0.,    0.,    0.,    0.,    0.,    1.])"
       ]
      }
     ],
     "prompt_number": 52
    },
    {
     "cell_type": "code",
     "collapsed": false,
     "input": [
      "counts /= counts.sum()\n",
      "counts"
     ],
     "language": "python",
     "metadata": {},
     "outputs": [
      {
       "metadata": {},
       "output_type": "pyout",
       "prompt_number": 54,
       "text": [
        "array([  1.00000000e-05,   0.00000000e+00,   0.00000000e+00,\n",
        "         0.00000000e+00,   0.00000000e+00,   1.00000000e-05,\n",
        "         0.00000000e+00,   0.00000000e+00,   0.00000000e+00,\n",
        "         0.00000000e+00,   0.00000000e+00,   0.00000000e+00,\n",
        "         0.00000000e+00,   0.00000000e+00,   0.00000000e+00,\n",
        "         0.00000000e+00,   0.00000000e+00,   0.00000000e+00,\n",
        "         0.00000000e+00,   0.00000000e+00,   0.00000000e+00,\n",
        "         0.00000000e+00,   0.00000000e+00,   0.00000000e+00,\n",
        "         0.00000000e+00,   0.00000000e+00,   0.00000000e+00,\n",
        "         0.00000000e+00,   0.00000000e+00,   0.00000000e+00,\n",
        "         0.00000000e+00,   0.00000000e+00,   0.00000000e+00,\n",
        "         0.00000000e+00,   0.00000000e+00,   0.00000000e+00,\n",
        "         0.00000000e+00,   0.00000000e+00,   0.00000000e+00,\n",
        "         0.00000000e+00,   0.00000000e+00,   0.00000000e+00,\n",
        "         1.00000000e-05,   1.00000000e-05,   0.00000000e+00,\n",
        "         0.00000000e+00,   0.00000000e+00,   0.00000000e+00,\n",
        "         0.00000000e+00,   1.00000000e-05,   0.00000000e+00,\n",
        "         1.00000000e-05,   0.00000000e+00,   0.00000000e+00,\n",
        "         0.00000000e+00,   0.00000000e+00,   0.00000000e+00,\n",
        "         0.00000000e+00,   0.00000000e+00,   0.00000000e+00,\n",
        "         0.00000000e+00,   1.00000000e-05,   0.00000000e+00,\n",
        "         0.00000000e+00,   0.00000000e+00,   1.00000000e-05,\n",
        "         0.00000000e+00,   0.00000000e+00,   2.00000000e-05,\n",
        "         1.00000000e-05,   2.00000000e-05,   0.00000000e+00,\n",
        "         0.00000000e+00,   1.00000000e-05,   4.00000000e-05,\n",
        "         1.00000000e-05,   1.00000000e-05,   3.00000000e-05,\n",
        "         0.00000000e+00,   0.00000000e+00,   1.00000000e-05,\n",
        "         2.00000000e-05,   0.00000000e+00,   0.00000000e+00,\n",
        "         1.00000000e-05,   2.00000000e-05,   0.00000000e+00,\n",
        "         1.00000000e-05,   0.00000000e+00,   1.00000000e-05,\n",
        "         1.00000000e-05,   1.00000000e-05,   2.00000000e-05,\n",
        "         0.00000000e+00,   1.00000000e-05,   2.00000000e-05,\n",
        "         0.00000000e+00,   2.00000000e-05,   1.00000000e-05,\n",
        "         1.00000000e-05,   1.00000000e-05,   0.00000000e+00,\n",
        "         0.00000000e+00,   1.00000000e-05,   2.00000000e-05,\n",
        "         0.00000000e+00,   0.00000000e+00,   0.00000000e+00,\n",
        "         1.00000000e-05,   1.00000000e-05,   1.00000000e-05,\n",
        "         0.00000000e+00,   1.00000000e-05,   3.00000000e-05,\n",
        "         1.00000000e-05,   4.00000000e-05,   1.00000000e-05,\n",
        "         2.00000000e-05,   2.00000000e-05,   1.00000000e-05,\n",
        "         0.00000000e+00,   3.00000000e-05,   1.00000000e-05,\n",
        "         1.00000000e-05,   3.00000000e-05,   1.00000000e-05,\n",
        "         0.00000000e+00,   2.00000000e-05,   1.00000000e-05,\n",
        "         2.00000000e-05,   2.00000000e-05,   3.00000000e-05,\n",
        "         1.00000000e-05,   1.00000000e-05,   3.00000000e-05,\n",
        "         5.00000000e-05,   5.00000000e-05,   5.00000000e-05,\n",
        "         2.00000000e-05,   3.00000000e-05,   3.00000000e-05,\n",
        "         2.00000000e-05,   5.00000000e-05,   3.00000000e-05,\n",
        "         2.00000000e-05,   5.00000000e-05,   3.00000000e-05,\n",
        "         9.00000000e-05,   3.00000000e-05,   3.00000000e-05,\n",
        "         8.00000000e-05,   0.00000000e+00,   2.00000000e-05,\n",
        "         5.00000000e-05,   4.00000000e-05,   5.00000000e-05,\n",
        "         5.00000000e-05,   5.00000000e-05,   3.00000000e-05,\n",
        "         7.00000000e-05,   4.00000000e-05,   7.00000000e-05,\n",
        "         5.00000000e-05,   8.00000000e-05,   8.00000000e-05,\n",
        "         3.00000000e-05,   3.00000000e-05,   5.00000000e-05,\n",
        "         3.00000000e-05,   3.00000000e-05,   9.00000000e-05,\n",
        "         5.00000000e-05,   1.30000000e-04,   8.00000000e-05,\n",
        "         6.00000000e-05,   7.00000000e-05,   6.00000000e-05,\n",
        "         6.00000000e-05,   7.00000000e-05,   1.20000000e-04,\n",
        "         9.00000000e-05,   1.00000000e-04,   1.40000000e-04,\n",
        "         8.00000000e-05,   7.00000000e-05,   4.00000000e-05,\n",
        "         1.60000000e-04,   2.00000000e-05,   9.00000000e-05,\n",
        "         1.00000000e-04,   1.40000000e-04,   6.00000000e-05,\n",
        "         7.00000000e-05,   1.60000000e-04,   8.00000000e-05,\n",
        "         1.20000000e-04,   1.40000000e-04,   1.30000000e-04,\n",
        "         9.00000000e-05,   8.00000000e-05,   1.20000000e-04,\n",
        "         1.10000000e-04,   2.10000000e-04,   1.00000000e-04,\n",
        "         1.50000000e-04,   1.40000000e-04,   1.20000000e-04,\n",
        "         1.20000000e-04,   2.20000000e-04,   1.30000000e-04,\n",
        "         8.00000000e-05,   6.00000000e-05,   1.10000000e-04,\n",
        "         1.50000000e-04,   1.10000000e-04,   2.00000000e-04,\n",
        "         1.30000000e-04,   2.10000000e-04,   2.10000000e-04,\n",
        "         1.50000000e-04,   2.00000000e-04,   1.80000000e-04,\n",
        "         1.80000000e-04,   1.50000000e-04,   1.40000000e-04,\n",
        "         2.60000000e-04,   1.80000000e-04,   1.70000000e-04,\n",
        "         1.80000000e-04,   3.20000000e-04,   2.40000000e-04,\n",
        "         1.60000000e-04,   2.70000000e-04,   2.60000000e-04,\n",
        "         2.80000000e-04,   2.40000000e-04,   2.70000000e-04,\n",
        "         2.40000000e-04,   2.80000000e-04,   2.20000000e-04,\n",
        "         2.40000000e-04,   2.50000000e-04,   2.90000000e-04,\n",
        "         3.80000000e-04,   3.00000000e-04,   2.20000000e-04,\n",
        "         2.60000000e-04,   3.80000000e-04,   3.80000000e-04,\n",
        "         2.50000000e-04,   3.30000000e-04,   2.90000000e-04,\n",
        "         2.60000000e-04,   3.70000000e-04,   3.40000000e-04,\n",
        "         4.90000000e-04,   4.50000000e-04,   2.40000000e-04,\n",
        "         4.20000000e-04,   3.80000000e-04,   4.30000000e-04,\n",
        "         3.60000000e-04,   3.70000000e-04,   4.40000000e-04,\n",
        "         3.80000000e-04,   4.20000000e-04,   4.70000000e-04,\n",
        "         4.60000000e-04,   4.20000000e-04,   3.80000000e-04,\n",
        "         5.70000000e-04,   5.40000000e-04,   3.50000000e-04,\n",
        "         4.10000000e-04,   3.80000000e-04,   4.20000000e-04,\n",
        "         4.50000000e-04,   4.40000000e-04,   5.50000000e-04,\n",
        "         3.70000000e-04,   5.40000000e-04,   5.20000000e-04,\n",
        "         5.30000000e-04,   5.80000000e-04,   5.90000000e-04,\n",
        "         4.90000000e-04,   7.20000000e-04,   4.70000000e-04,\n",
        "         5.10000000e-04,   6.20000000e-04,   5.70000000e-04,\n",
        "         6.90000000e-04,   7.00000000e-04,   6.20000000e-04,\n",
        "         7.80000000e-04,   6.50000000e-04,   7.90000000e-04,\n",
        "         6.70000000e-04,   7.90000000e-04,   5.90000000e-04,\n",
        "         7.00000000e-04,   7.30000000e-04,   6.30000000e-04,\n",
        "         9.10000000e-04,   5.80000000e-04,   8.50000000e-04,\n",
        "         7.70000000e-04,   7.00000000e-04,   8.60000000e-04,\n",
        "         6.90000000e-04,   9.00000000e-04,   6.50000000e-04,\n",
        "         7.80000000e-04,   8.70000000e-04,   7.80000000e-04,\n",
        "         7.40000000e-04,   7.60000000e-04,   9.60000000e-04,\n",
        "         8.70000000e-04,   9.30000000e-04,   8.30000000e-04,\n",
        "         9.00000000e-04,   8.50000000e-04,   1.10000000e-03,\n",
        "         1.08000000e-03,   1.05000000e-03,   9.80000000e-04,\n",
        "         9.20000000e-04,   8.80000000e-04,   1.05000000e-03,\n",
        "         1.27000000e-03,   9.60000000e-04,   1.04000000e-03,\n",
        "         9.80000000e-04,   1.09000000e-03,   1.15000000e-03,\n",
        "         1.01000000e-03,   1.31000000e-03,   1.27000000e-03,\n",
        "         1.36000000e-03,   1.08000000e-03,   1.19000000e-03,\n",
        "         1.30000000e-03,   1.09000000e-03,   1.24000000e-03,\n",
        "         1.16000000e-03,   1.21000000e-03,   1.15000000e-03,\n",
        "         1.38000000e-03,   1.19000000e-03,   1.37000000e-03,\n",
        "         1.34000000e-03,   1.13000000e-03,   1.33000000e-03,\n",
        "         1.14000000e-03,   1.33000000e-03,   1.21000000e-03,\n",
        "         1.45000000e-03,   1.46000000e-03,   1.45000000e-03,\n",
        "         1.40000000e-03,   1.42000000e-03,   1.56000000e-03,\n",
        "         1.39000000e-03,   1.39000000e-03,   1.49000000e-03,\n",
        "         1.49000000e-03,   1.48000000e-03,   1.49000000e-03,\n",
        "         1.39000000e-03,   1.52000000e-03,   1.57000000e-03,\n",
        "         1.72000000e-03,   1.30000000e-03,   1.50000000e-03,\n",
        "         1.47000000e-03,   1.69000000e-03,   1.56000000e-03,\n",
        "         1.48000000e-03,   1.93000000e-03,   1.64000000e-03,\n",
        "         1.75000000e-03,   1.51000000e-03,   1.65000000e-03,\n",
        "         1.89000000e-03,   1.65000000e-03,   1.73000000e-03,\n",
        "         2.30000000e-03,   1.64000000e-03,   1.76000000e-03,\n",
        "         1.95000000e-03,   1.96000000e-03,   1.85000000e-03,\n",
        "         1.78000000e-03,   1.84000000e-03,   2.15000000e-03,\n",
        "         1.81000000e-03,   2.14000000e-03,   2.11000000e-03,\n",
        "         2.12000000e-03,   1.87000000e-03,   2.16000000e-03,\n",
        "         2.09000000e-03,   2.15000000e-03,   2.27000000e-03,\n",
        "         2.10000000e-03,   2.27000000e-03,   1.98000000e-03,\n",
        "         1.85000000e-03,   2.20000000e-03,   2.08000000e-03,\n",
        "         2.32000000e-03,   2.11000000e-03,   2.41000000e-03,\n",
        "         2.12000000e-03,   2.44000000e-03,   2.45000000e-03,\n",
        "         2.49000000e-03,   2.39000000e-03,   2.24000000e-03,\n",
        "         2.17000000e-03,   2.39000000e-03,   2.69000000e-03,\n",
        "         2.48000000e-03,   2.36000000e-03,   2.43000000e-03,\n",
        "         2.44000000e-03,   2.63000000e-03,   2.29000000e-03,\n",
        "         2.68000000e-03,   2.46000000e-03,   2.46000000e-03,\n",
        "         2.50000000e-03,   2.77000000e-03,   2.74000000e-03,\n",
        "         2.72000000e-03,   2.74000000e-03,   2.63000000e-03,\n",
        "         2.78000000e-03,   2.61000000e-03,   2.54000000e-03,\n",
        "         2.75000000e-03,   2.94000000e-03,   2.59000000e-03,\n",
        "         2.52000000e-03,   2.86000000e-03,   2.69000000e-03,\n",
        "         2.76000000e-03,   2.85000000e-03,   3.08000000e-03,\n",
        "         2.64000000e-03,   2.88000000e-03,   2.71000000e-03,\n",
        "         2.75000000e-03,   2.50000000e-03,   2.57000000e-03,\n",
        "         2.86000000e-03,   2.79000000e-03,   2.96000000e-03,\n",
        "         2.99000000e-03,   2.75000000e-03,   2.52000000e-03,\n",
        "         2.70000000e-03,   2.96000000e-03,   2.86000000e-03,\n",
        "         2.91000000e-03,   2.83000000e-03,   2.68000000e-03,\n",
        "         2.89000000e-03,   2.59000000e-03,   3.11000000e-03,\n",
        "         3.09000000e-03,   3.19000000e-03,   3.34000000e-03,\n",
        "         2.88000000e-03,   2.87000000e-03,   3.10000000e-03,\n",
        "         2.97000000e-03,   2.90000000e-03,   2.79000000e-03,\n",
        "         2.91000000e-03,   2.96000000e-03,   3.26000000e-03,\n",
        "         3.05000000e-03,   3.19000000e-03,   2.93000000e-03,\n",
        "         3.55000000e-03,   3.10000000e-03,   2.88000000e-03,\n",
        "         3.19000000e-03,   3.05000000e-03,   3.56000000e-03,\n",
        "         3.26000000e-03,   3.32000000e-03,   3.20000000e-03,\n",
        "         2.93000000e-03,   3.10000000e-03,   2.93000000e-03,\n",
        "         3.15000000e-03,   3.24000000e-03,   3.14000000e-03,\n",
        "         3.31000000e-03,   3.44000000e-03,   3.29000000e-03,\n",
        "         3.47000000e-03,   3.12000000e-03,   3.01000000e-03,\n",
        "         3.06000000e-03,   3.12000000e-03,   3.23000000e-03,\n",
        "         3.64000000e-03,   2.91000000e-03,   2.89000000e-03,\n",
        "         3.31000000e-03,   3.21000000e-03,   3.23000000e-03,\n",
        "         3.33000000e-03,   3.07000000e-03,   3.32000000e-03,\n",
        "         3.18000000e-03,   3.28000000e-03,   3.08000000e-03,\n",
        "         2.80000000e-03,   3.36000000e-03,   2.77000000e-03,\n",
        "         3.31000000e-03,   3.01000000e-03,   3.46000000e-03,\n",
        "         3.34000000e-03,   3.34000000e-03,   3.26000000e-03,\n",
        "         3.21000000e-03,   2.97000000e-03,   3.14000000e-03,\n",
        "         3.01000000e-03,   3.01000000e-03,   3.12000000e-03,\n",
        "         3.19000000e-03,   3.00000000e-03,   3.10000000e-03,\n",
        "         3.29000000e-03,   3.27000000e-03,   3.14000000e-03,\n",
        "         3.22000000e-03,   3.13000000e-03,   3.16000000e-03,\n",
        "         3.03000000e-03,   2.96000000e-03,   3.17000000e-03,\n",
        "         3.29000000e-03,   3.30000000e-03,   3.34000000e-03,\n",
        "         2.88000000e-03,   3.01000000e-03,   3.00000000e-03,\n",
        "         3.12000000e-03,   2.74000000e-03,   3.37000000e-03,\n",
        "         3.19000000e-03,   3.05000000e-03,   2.60000000e-03,\n",
        "         3.07000000e-03,   3.04000000e-03,   2.90000000e-03,\n",
        "         2.97000000e-03,   2.59000000e-03,   3.17000000e-03,\n",
        "         3.02000000e-03,   2.84000000e-03,   2.98000000e-03,\n",
        "         2.50000000e-03,   2.86000000e-03,   2.47000000e-03,\n",
        "         3.04000000e-03,   2.96000000e-03,   2.95000000e-03,\n",
        "         2.71000000e-03,   2.66000000e-03,   2.64000000e-03,\n",
        "         2.93000000e-03,   2.75000000e-03,   2.93000000e-03,\n",
        "         2.78000000e-03,   3.11000000e-03,   2.83000000e-03,\n",
        "         2.70000000e-03,   2.68000000e-03,   2.83000000e-03,\n",
        "         2.71000000e-03,   2.77000000e-03,   2.97000000e-03,\n",
        "         2.39000000e-03,   2.56000000e-03,   2.71000000e-03,\n",
        "         3.04000000e-03,   2.65000000e-03,   2.51000000e-03,\n",
        "         2.57000000e-03,   2.46000000e-03,   2.77000000e-03,\n",
        "         2.70000000e-03,   2.57000000e-03,   2.73000000e-03,\n",
        "         2.75000000e-03,   2.89000000e-03,   2.59000000e-03,\n",
        "         2.78000000e-03,   2.43000000e-03,   2.70000000e-03,\n",
        "         2.48000000e-03,   2.44000000e-03,   2.35000000e-03,\n",
        "         2.48000000e-03,   2.36000000e-03,   2.19000000e-03,\n",
        "         2.41000000e-03,   2.56000000e-03,   2.24000000e-03,\n",
        "         2.18000000e-03,   2.42000000e-03,   2.38000000e-03,\n",
        "         2.42000000e-03,   2.33000000e-03,   2.26000000e-03,\n",
        "         2.06000000e-03,   2.37000000e-03,   2.33000000e-03,\n",
        "         2.40000000e-03,   2.31000000e-03,   2.23000000e-03,\n",
        "         2.02000000e-03,   2.19000000e-03,   2.25000000e-03,\n",
        "         2.08000000e-03,   2.40000000e-03,   1.98000000e-03,\n",
        "         2.23000000e-03,   2.05000000e-03,   1.98000000e-03,\n",
        "         2.33000000e-03,   1.98000000e-03,   1.78000000e-03,\n",
        "         2.12000000e-03,   2.16000000e-03,   1.88000000e-03,\n",
        "         1.87000000e-03,   1.93000000e-03,   1.97000000e-03,\n",
        "         1.93000000e-03,   1.75000000e-03,   1.91000000e-03,\n",
        "         1.60000000e-03,   1.93000000e-03,   1.82000000e-03,\n",
        "         1.92000000e-03,   1.62000000e-03,   1.76000000e-03,\n",
        "         1.61000000e-03,   1.65000000e-03,   1.69000000e-03,\n",
        "         1.73000000e-03,   1.87000000e-03,   1.76000000e-03,\n",
        "         1.37000000e-03,   1.51000000e-03,   1.30000000e-03,\n",
        "         1.80000000e-03,   1.54000000e-03,   1.61000000e-03,\n",
        "         1.72000000e-03,   1.29000000e-03,   1.65000000e-03,\n",
        "         1.78000000e-03,   1.60000000e-03,   1.36000000e-03,\n",
        "         1.58000000e-03,   1.60000000e-03,   1.44000000e-03,\n",
        "         1.36000000e-03,   1.36000000e-03,   1.55000000e-03,\n",
        "         1.26000000e-03,   1.04000000e-03,   1.14000000e-03,\n",
        "         1.15000000e-03,   1.37000000e-03,   1.39000000e-03,\n",
        "         1.06000000e-03,   1.30000000e-03,   1.06000000e-03,\n",
        "         1.19000000e-03,   1.30000000e-03,   1.09000000e-03,\n",
        "         1.32000000e-03,   8.80000000e-04,   1.19000000e-03,\n",
        "         9.80000000e-04,   1.23000000e-03,   1.03000000e-03,\n",
        "         9.50000000e-04,   1.27000000e-03,   1.11000000e-03,\n",
        "         1.29000000e-03,   1.14000000e-03,   1.05000000e-03,\n",
        "         1.11000000e-03,   1.04000000e-03,   1.14000000e-03,\n",
        "         1.04000000e-03,   1.01000000e-03,   1.29000000e-03,\n",
        "         8.60000000e-04,   8.30000000e-04,   1.01000000e-03,\n",
        "         1.06000000e-03,   8.10000000e-04,   8.20000000e-04,\n",
        "         9.10000000e-04,   7.80000000e-04,   9.30000000e-04,\n",
        "         7.20000000e-04,   7.90000000e-04,   9.10000000e-04,\n",
        "         7.30000000e-04,   7.00000000e-04,   8.60000000e-04,\n",
        "         8.30000000e-04,   6.70000000e-04,   6.90000000e-04,\n",
        "         9.10000000e-04,   8.10000000e-04,   7.20000000e-04,\n",
        "         6.50000000e-04,   6.70000000e-04,   6.40000000e-04,\n",
        "         7.80000000e-04,   6.70000000e-04,   6.70000000e-04,\n",
        "         6.40000000e-04,   7.40000000e-04,   6.00000000e-04,\n",
        "         6.90000000e-04,   5.10000000e-04,   6.00000000e-04,\n",
        "         5.90000000e-04,   7.20000000e-04,   6.90000000e-04,\n",
        "         6.20000000e-04,   5.20000000e-04,   6.20000000e-04,\n",
        "         4.40000000e-04,   4.90000000e-04,   4.60000000e-04,\n",
        "         5.60000000e-04,   5.20000000e-04,   5.40000000e-04,\n",
        "         4.10000000e-04,   5.90000000e-04,   6.80000000e-04,\n",
        "         5.20000000e-04,   4.10000000e-04,   3.80000000e-04,\n",
        "         5.20000000e-04,   5.00000000e-04,   4.90000000e-04,\n",
        "         4.80000000e-04,   4.90000000e-04,   5.00000000e-04,\n",
        "         3.40000000e-04,   3.60000000e-04,   5.10000000e-04,\n",
        "         2.70000000e-04,   3.00000000e-04,   3.70000000e-04,\n",
        "         4.20000000e-04,   2.70000000e-04,   2.80000000e-04,\n",
        "         4.70000000e-04,   3.20000000e-04,   3.20000000e-04,\n",
        "         4.70000000e-04,   3.40000000e-04,   4.30000000e-04,\n",
        "         2.80000000e-04,   2.40000000e-04,   1.90000000e-04,\n",
        "         2.90000000e-04,   3.70000000e-04,   3.30000000e-04,\n",
        "         2.30000000e-04,   2.70000000e-04,   2.30000000e-04,\n",
        "         2.60000000e-04,   3.50000000e-04,   2.70000000e-04,\n",
        "         2.60000000e-04,   1.90000000e-04,   2.50000000e-04,\n",
        "         2.50000000e-04,   2.30000000e-04,   2.60000000e-04,\n",
        "         2.60000000e-04,   2.10000000e-04,   1.90000000e-04,\n",
        "         2.40000000e-04,   2.30000000e-04,   3.80000000e-04,\n",
        "         2.10000000e-04,   2.10000000e-04,   2.60000000e-04,\n",
        "         1.40000000e-04,   2.70000000e-04,   1.80000000e-04,\n",
        "         2.40000000e-04,   2.80000000e-04,   9.00000000e-05,\n",
        "         1.70000000e-04,   1.60000000e-04,   1.70000000e-04,\n",
        "         1.00000000e-04,   1.40000000e-04,   1.70000000e-04,\n",
        "         2.10000000e-04,   1.50000000e-04,   1.20000000e-04,\n",
        "         1.70000000e-04,   1.60000000e-04,   1.10000000e-04,\n",
        "         1.10000000e-04,   1.40000000e-04,   9.00000000e-05,\n",
        "         1.20000000e-04,   1.10000000e-04,   1.60000000e-04,\n",
        "         5.00000000e-05,   1.50000000e-04,   1.70000000e-04,\n",
        "         1.90000000e-04,   1.90000000e-04,   2.20000000e-04,\n",
        "         8.00000000e-05,   6.00000000e-05,   8.00000000e-05,\n",
        "         6.00000000e-05,   1.30000000e-04,   1.50000000e-04,\n",
        "         2.00000000e-04,   1.10000000e-04,   9.00000000e-05,\n",
        "         5.00000000e-05,   8.00000000e-05,   8.00000000e-05,\n",
        "         9.00000000e-05,   7.00000000e-05,   9.00000000e-05,\n",
        "         7.00000000e-05,   8.00000000e-05,   1.20000000e-04,\n",
        "         3.00000000e-05,   4.00000000e-05,   1.00000000e-04,\n",
        "         6.00000000e-05,   9.00000000e-05,   4.00000000e-05,\n",
        "         1.30000000e-04,   4.00000000e-05,   1.00000000e-05,\n",
        "         4.00000000e-05,   1.20000000e-04,   3.00000000e-05,\n",
        "         3.00000000e-05,   2.00000000e-05,   4.00000000e-05,\n",
        "         2.00000000e-05,   1.00000000e-05,   6.00000000e-05,\n",
        "         4.00000000e-05,   3.00000000e-05,   4.00000000e-05,\n",
        "         6.00000000e-05,   0.00000000e+00,   4.00000000e-05,\n",
        "         5.00000000e-05,   2.00000000e-05,   3.00000000e-05,\n",
        "         3.00000000e-05,   2.00000000e-05,   3.00000000e-05,\n",
        "         1.00000000e-04,   3.00000000e-05,   7.00000000e-05,\n",
        "         4.00000000e-05,   3.00000000e-05,   4.00000000e-05,\n",
        "         2.00000000e-05,   4.00000000e-05,   1.00000000e-05,\n",
        "         3.00000000e-05,   2.00000000e-05,   2.00000000e-05,\n",
        "         7.00000000e-05,   2.00000000e-05,   4.00000000e-05,\n",
        "         7.00000000e-05,   2.00000000e-05,   3.00000000e-05,\n",
        "         1.00000000e-05,   0.00000000e+00,   5.00000000e-05,\n",
        "         1.00000000e-05,   3.00000000e-05,   3.00000000e-05,\n",
        "         2.00000000e-05,   3.00000000e-05,   4.00000000e-05,\n",
        "         1.00000000e-05,   2.00000000e-05,   0.00000000e+00,\n",
        "         1.00000000e-05,   2.00000000e-05,   0.00000000e+00,\n",
        "         2.00000000e-05,   0.00000000e+00,   2.00000000e-05,\n",
        "         0.00000000e+00,   0.00000000e+00,   1.00000000e-05,\n",
        "         1.00000000e-05,   3.00000000e-05,   1.00000000e-05,\n",
        "         0.00000000e+00,   1.00000000e-05,   2.00000000e-05,\n",
        "         0.00000000e+00,   1.00000000e-05,   3.00000000e-05,\n",
        "         0.00000000e+00,   2.00000000e-05,   2.00000000e-05,\n",
        "         2.00000000e-05,   0.00000000e+00,   1.00000000e-05,\n",
        "         0.00000000e+00,   3.00000000e-05,   2.00000000e-05,\n",
        "         0.00000000e+00,   0.00000000e+00,   0.00000000e+00,\n",
        "         2.00000000e-05,   0.00000000e+00,   1.00000000e-05,\n",
        "         0.00000000e+00,   0.00000000e+00,   0.00000000e+00,\n",
        "         1.00000000e-05,   0.00000000e+00,   0.00000000e+00,\n",
        "         0.00000000e+00,   0.00000000e+00,   0.00000000e+00,\n",
        "         1.00000000e-05,   0.00000000e+00,   1.00000000e-05,\n",
        "         0.00000000e+00,   1.00000000e-05,   1.00000000e-05,\n",
        "         0.00000000e+00,   1.00000000e-05,   0.00000000e+00,\n",
        "         0.00000000e+00,   1.00000000e-05,   1.00000000e-05,\n",
        "         0.00000000e+00,   0.00000000e+00,   0.00000000e+00,\n",
        "         0.00000000e+00,   0.00000000e+00,   1.00000000e-05,\n",
        "         0.00000000e+00,   0.00000000e+00,   0.00000000e+00,\n",
        "         0.00000000e+00,   1.00000000e-05,   0.00000000e+00,\n",
        "         0.00000000e+00,   1.00000000e-05,   0.00000000e+00,\n",
        "         1.00000000e-05,   0.00000000e+00,   0.00000000e+00,\n",
        "         0.00000000e+00,   0.00000000e+00,   0.00000000e+00,\n",
        "         1.00000000e-05,   0.00000000e+00,   0.00000000e+00,\n",
        "         0.00000000e+00,   0.00000000e+00,   0.00000000e+00,\n",
        "         1.00000000e-05])"
       ]
      }
     ],
     "prompt_number": 54
    },
    {
     "cell_type": "markdown",
     "metadata": {},
     "source": [
      "In fact, there is a keyword argument for `histogram` that does this for us:"
     ]
    },
    {
     "cell_type": "code",
     "collapsed": false,
     "input": [
      "hist = np.histogram(samples, 1000, normed=True)\n"
     ],
     "language": "python",
     "metadata": {},
     "outputs": [],
     "prompt_number": 55
    },
    {
     "cell_type": "markdown",
     "metadata": {},
     "source": [
      "Let's compare the output to the PDF of the standard normal distribution,\n",
      "$$\\mathcal{N}(x) = \\frac{1}{\\sqrt{2 \\pi}} \\exp(-\\textstyle \\frac{x^2}{2})$$"
     ]
    },
    {
     "cell_type": "code",
     "collapsed": false,
     "input": [
      "x = hist[1][:-1]\n",
      "plt.plot(x, hist[0], alpha=0.3)  # alpha gives transparency\n",
      "plt.plot(x, 1./np.sqrt(2.*np.pi) * np.exp(-x**2/2), linewidth=1)  # draw the true pdf"
     ],
     "language": "python",
     "metadata": {},
     "outputs": [
      {
       "metadata": {},
       "output_type": "pyout",
       "prompt_number": 58,
       "text": [
        "[<matplotlib.lines.Line2D at 0x10621a510>]"
       ]
      },
      {
       "metadata": {},
       "output_type": "display_data",
       "png": "[encoded data removed]",
       "text": [
        "<matplotlib.figure.Figure at 0x10621a410>"
       ]
      }
     ],
     "prompt_number": 58
    },
    {
     "cell_type": "markdown",
     "metadata": {},
     "source": [
      "Indeed we have excellent agreement. We could also do a true statistical test (the Kolmogorov--Smirnov test). [One version of that test, although not the one that we would need in this context, is found in the `scipy.stats` submodule, as `scipy.stats.ks_2samp`.]"
     ]
    },
    {
     "cell_type": "markdown",
     "metadata": {},
     "source": [
      "Here, I was (surprisingly) able to correctly remember the analytical formula for the PDF (probability density function) of the normal distribution.\n",
      "\n"
     ]
    },
    {
     "cell_type": "heading",
     "level": 2,
     "metadata": {},
     "source": [
      "Creating the matrix"
     ]
    },
    {
     "cell_type": "markdown",
     "metadata": {},
     "source": [
      "To create matrices, `numpy` is again the tool of choice.\n",
      "In fact, the `randn` function can generate arrays of arbitrary shape:"
     ]
    },
    {
     "cell_type": "code",
     "collapsed": false,
     "input": [
      "size = 1000\n",
      "M = np.random.randn(size, size)"
     ],
     "language": "python",
     "metadata": {},
     "outputs": [],
     "prompt_number": 61
    },
    {
     "cell_type": "code",
     "collapsed": false,
     "input": [
      "M = 0.5*(M + M.T)\n",
      "M"
     ],
     "language": "python",
     "metadata": {},
     "outputs": [
      {
       "metadata": {},
       "output_type": "pyout",
       "prompt_number": 63,
       "text": [
        "array([[ 0.22232135, -0.45886233, -0.48053683, ...,  0.08842058,\n",
        "         0.35376682, -0.46865296],\n",
        "       [-0.45886233, -1.04988519,  0.77127844, ...,  0.22996484,\n",
        "        -0.74611171, -0.33945868],\n",
        "       [-0.48053683,  0.77127844, -0.73407726, ...,  0.8772704 ,\n",
        "         0.09831556, -0.2711017 ],\n",
        "       ..., \n",
        "       [ 0.08842058,  0.22996484,  0.8772704 , ...,  1.22919647,\n",
        "        -0.72711474,  0.34271477],\n",
        "       [ 0.35376682, -0.74611171,  0.09831556, ..., -0.72711474,\n",
        "        -1.11612157,  0.17987648],\n",
        "       [-0.46865296, -0.33945868, -0.2711017 , ...,  0.34271477,\n",
        "         0.17987648, -0.22833927]])"
       ]
      }
     ],
     "prompt_number": 63
    },
    {
     "cell_type": "markdown",
     "metadata": {},
     "source": [
      "Let's create a symmetric matrix by symmetrising this one, since then we can guarantee that the eigenvalues are real:"
     ]
    },
    {
     "cell_type": "markdown",
     "metadata": {},
     "source": [
      "----\n",
      "**Exercise**: How could we create a symmetric matrix from `M`?\n",
      " \n",
      "----"
     ]
    },
    {
     "cell_type": "code",
     "collapsed": false,
     "input": [
      "M = 0.5 * (M+M.T)"
     ],
     "language": "python",
     "metadata": {},
     "outputs": []
    },
    {
     "cell_type": "code",
     "collapsed": false,
     "input": [
      "M"
     ],
     "language": "python",
     "metadata": {},
     "outputs": []
    },
    {
     "cell_type": "markdown",
     "metadata": {},
     "source": [
      "Now we need to calculate the eigenvalues of the symmetrised matrix `M`. The SciPy stack contains functions to do this. There is a version in the `linalg` submodule of `numpy`, but the recommended versions are in the `linalg` submodule of `scipy`. "
     ]
    },
    {
     "cell_type": "heading",
     "level": 1,
     "metadata": {},
     "source": [
      "The `scipy` package"
     ]
    },
    {
     "cell_type": "markdown",
     "metadata": {},
     "source": [
      "Although the name SciPy is now used to refer to the complete Scientific Python ecosystem, it also refers (as it originally did) to the `scipy` package for scientific computing.\n",
      "\n",
      "The `scipy` package is a collection of submodules, each dedicated to a particular area of scientific computing. Each submodule contains functions that implement algorithms to perform scientific computations."
     ]
    },
    {
     "cell_type": "markdown",
     "metadata": {},
     "source": [
      "As a first example, let's return to the example of the histogram that we did above.\n",
      "There, I was (surprisingly) able to remember the analytical formula for the probability density function (PDF) of the normal distribution.\n",
      "\n",
      "However, this is not necessary: `scipy` contains a statistics submodule, `scipy.stats`, that has a lot of useful information about different probability distributions:"
     ]
    },
    {
     "cell_type": "code",
     "collapsed": false,
     "input": [
      "import scipy.stats as stats"
     ],
     "language": "python",
     "metadata": {},
     "outputs": [],
     "prompt_number": 64
    },
    {
     "cell_type": "markdown",
     "metadata": {},
     "source": [
      "The normal distribution is called `stats.norm`:"
     ]
    },
    {
     "cell_type": "code",
     "collapsed": false,
     "input": [
      "stats.norm"
     ],
     "language": "python",
     "metadata": {},
     "outputs": [
      {
       "metadata": {},
       "output_type": "pyout",
       "prompt_number": 65,
       "text": [
        "<scipy.stats._continuous_distns.norm_gen at 0x109427e90>"
       ]
      }
     ],
     "prompt_number": 65
    },
    {
     "cell_type": "markdown",
     "metadata": {},
     "source": [
      "We see that it is an instantiation of a particular type."
     ]
    },
    {
     "cell_type": "code",
     "collapsed": false,
     "input": [
      "stats.norm?"
     ],
     "language": "python",
     "metadata": {},
     "outputs": []
    },
    {
     "cell_type": "code",
     "collapsed": false,
     "input": [
      "x = hist[1][:-1]\n",
      "plt.plot(x, hist[0], alpha=0.5)  # alpha gives transparency\n",
      "plt.plot(x, stats.norm.pdf(x), linewidth=3)  # draw the true pdf"
     ],
     "language": "python",
     "metadata": {},
     "outputs": [
      {
       "metadata": {},
       "output_type": "pyout",
       "prompt_number": 67,
       "text": [
        "[<matplotlib.lines.Line2D at 0x1096586d0>]"
       ]
      },
      {
       "metadata": {},
       "output_type": "display_data",
       "png": "[encoded data removed]",
       "text": [
        "<matplotlib.figure.Figure at 0x109658190>"
       ]
      }
     ],
     "prompt_number": 67
    },
    {
     "cell_type": "markdown",
     "metadata": {},
     "source": [
      "Finally, it turns out that `matplotlib` in fact has a `hist` function that does all of these steps:"
     ]
    },
    {
     "cell_type": "code",
     "collapsed": false,
     "input": [
      "# Use a semicolon to suppress text output:\n",
      "plt.hist(samples, 100, normed=True, histtype=\"step\");"
     ],
     "language": "python",
     "metadata": {},
     "outputs": []
    },
    {
     "cell_type": "heading",
     "level": 2,
     "metadata": {},
     "source": [
      "Linear algebra"
     ]
    },
    {
     "cell_type": "markdown",
     "metadata": {},
     "source": [
      "The `linalg` submodule in `scipy` contains an interface to the standard LAPACK package for numerical linear algebra."
     ]
    },
    {
     "cell_type": "code",
     "collapsed": false,
     "input": [
      "import scipy.linalg as linalg"
     ],
     "language": "python",
     "metadata": {},
     "outputs": [],
     "prompt_number": 68
    },
    {
     "cell_type": "markdown",
     "metadata": {},
     "source": [
      "To explore how the `linalg` package works, let's first create a simple $2 \\times 2$ matrix to experiment on. We'll use a matrix that's important in the area of dynamical systems that occurs in the \"Arnold cat map\", $M = \\begin{pmatrix} 2 & 1 \\\\ 1 & 1 \\end{pmatrix}$"
     ]
    },
    {
     "cell_type": "markdown",
     "metadata": {},
     "source": [
      "----\n",
      "**Exercise**: Create this matrix.\n",
      "\n",
      "----"
     ]
    },
    {
     "cell_type": "code",
     "collapsed": false,
     "input": [
      "M = np.array( [ [2, 1], [1, 1] ] )\n",
      "M"
     ],
     "language": "python",
     "metadata": {},
     "outputs": [
      {
       "metadata": {},
       "output_type": "pyout",
       "prompt_number": 69,
       "text": [
        "array([[2, 1],\n",
        "       [1, 1]])"
       ]
      }
     ],
     "prompt_number": 69
    },
    {
     "cell_type": "code",
     "collapsed": false,
     "input": [
      "print(M)"
     ],
     "language": "python",
     "metadata": {},
     "outputs": [
      {
       "output_type": "stream",
       "stream": "stdout",
       "text": [
        "[[2 1]\n",
        " [1 1]]\n"
       ]
      }
     ],
     "prompt_number": 70
    },
    {
     "cell_type": "code",
     "collapsed": false,
     "input": [
      "M = np.array([2, 1, 1, 1]).reshape(2, 2)\n",
      "M"
     ],
     "language": "python",
     "metadata": {},
     "outputs": [
      {
       "metadata": {},
       "output_type": "pyout",
       "prompt_number": 71,
       "text": [
        "array([[2, 1],\n",
        "       [1, 1]])"
       ]
      }
     ],
     "prompt_number": 71
    },
    {
     "cell_type": "code",
     "collapsed": false,
     "input": [
      "M = np.r_[2,1,1,1]\n",
      "M"
     ],
     "language": "python",
     "metadata": {},
     "outputs": [
      {
       "metadata": {},
       "output_type": "pyout",
       "prompt_number": 73,
       "text": [
        "array([2, 1, 1, 1])"
       ]
      }
     ],
     "prompt_number": 73
    },
    {
     "cell_type": "code",
     "collapsed": false,
     "input": [
      "M = np.r_[2,1,1,1].reshape(2, 2)\n",
      "M"
     ],
     "language": "python",
     "metadata": {},
     "outputs": [
      {
       "metadata": {},
       "output_type": "pyout",
       "prompt_number": 79,
       "text": [
        "array([[2, 1],\n",
        "       [1, 1]])"
       ]
      }
     ],
     "prompt_number": 79
    },
    {
     "cell_type": "markdown",
     "metadata": {},
     "source": [
      "----\n",
      "**Exercise**: Explore and experiment with the contents of the `linalg` package.\n",
      "\n",
      "----"
     ]
    },
    {
     "cell_type": "code",
     "collapsed": false,
     "input": [
      "linalg.det(M)"
     ],
     "language": "python",
     "metadata": {},
     "outputs": [
      {
       "metadata": {},
       "output_type": "pyout",
       "prompt_number": 80,
       "text": [
        "1.0"
       ]
      }
     ],
     "prompt_number": 80
    },
    {
     "cell_type": "code",
     "collapsed": false,
     "input": [],
     "language": "python",
     "metadata": {},
     "outputs": []
    },
    {
     "cell_type": "markdown",
     "metadata": {},
     "source": [
      "Some useful linear algebra functions provided are the following:"
     ]
    },
    {
     "cell_type": "code",
     "collapsed": false,
     "input": [
      "linalg.det(M)  # determinant"
     ],
     "language": "python",
     "metadata": {},
     "outputs": [
      {
       "metadata": {},
       "output_type": "pyout",
       "prompt_number": 81,
       "text": [
        "1.0"
       ]
      }
     ],
     "prompt_number": 81
    },
    {
     "cell_type": "code",
     "collapsed": false,
     "input": [
      "linalg.inv(M)  # inverse"
     ],
     "language": "python",
     "metadata": {},
     "outputs": [
      {
       "metadata": {},
       "output_type": "pyout",
       "prompt_number": 82,
       "text": [
        "array([[ 1., -1.],\n",
        "       [-1.,  2.]])"
       ]
      }
     ],
     "prompt_number": 82
    },
    {
     "cell_type": "code",
     "collapsed": false,
     "input": [
      "v = np.r_[0.5, 4]\n",
      "linalg.solve(M, v)  # solve M.x = v  for the vector x"
     ],
     "language": "python",
     "metadata": {},
     "outputs": []
    },
    {
     "cell_type": "code",
     "collapsed": false,
     "input": [
      "result = linalg.eig(M)"
     ],
     "language": "python",
     "metadata": {},
     "outputs": [],
     "prompt_number": 86
    },
    {
     "cell_type": "code",
     "collapsed": false,
     "input": [
      "type(result)"
     ],
     "language": "python",
     "metadata": {},
     "outputs": [
      {
       "metadata": {},
       "output_type": "pyout",
       "prompt_number": 88,
       "text": [
        "tuple"
       ]
      }
     ],
     "prompt_number": 88
    },
    {
     "cell_type": "code",
     "collapsed": false,
     "input": [
      "a, b = linalg.eig(M)\n"
     ],
     "language": "python",
     "metadata": {},
     "outputs": [],
     "prompt_number": 89
    },
    {
     "cell_type": "code",
     "collapsed": false,
     "input": [
      "a"
     ],
     "language": "python",
     "metadata": {},
     "outputs": [
      {
       "metadata": {},
       "output_type": "pyout",
       "prompt_number": 90,
       "text": [
        "array([ 2.61803399+0.j,  0.38196601+0.j])"
       ]
      }
     ],
     "prompt_number": 90
    },
    {
     "cell_type": "code",
     "collapsed": false,
     "input": [
      "b"
     ],
     "language": "python",
     "metadata": {},
     "outputs": [
      {
       "metadata": {},
       "output_type": "pyout",
       "prompt_number": 91,
       "text": [
        "array([[ 0.85065081, -0.52573111],\n",
        "       [ 0.52573111,  0.85065081]])"
       ]
      }
     ],
     "prompt_number": 91
    },
    {
     "cell_type": "markdown",
     "metadata": {},
     "source": [
      "Matrix--vector multiplication:"
     ]
    },
    {
     "cell_type": "code",
     "collapsed": false,
     "input": [
      "M"
     ],
     "language": "python",
     "metadata": {},
     "outputs": [
      {
       "metadata": {},
       "output_type": "pyout",
       "prompt_number": 92,
       "text": [
        "array([[2, 1],\n",
        "       [1, 1]])"
       ]
      }
     ],
     "prompt_number": 92
    },
    {
     "cell_type": "code",
     "collapsed": false,
     "input": [
      "v = b[:,0]"
     ],
     "language": "python",
     "metadata": {},
     "outputs": [],
     "prompt_number": 93
    },
    {
     "cell_type": "code",
     "collapsed": false,
     "input": [
      "M * v"
     ],
     "language": "python",
     "metadata": {},
     "outputs": [
      {
       "metadata": {},
       "output_type": "pyout",
       "prompt_number": 94,
       "text": [
        "array([[ 1.70130162,  0.52573111],\n",
        "       [ 0.85065081,  0.52573111]])"
       ]
      }
     ],
     "prompt_number": 94
    },
    {
     "cell_type": "code",
     "collapsed": false,
     "input": [
      "M * np.array([5, 4])   # elementwise operation; uses broadcasting"
     ],
     "language": "python",
     "metadata": {},
     "outputs": [
      {
       "metadata": {},
       "output_type": "pyout",
       "prompt_number": 96,
       "text": [
        "array([[10,  4],\n",
        "       [ 5,  4]])"
       ]
      }
     ],
     "prompt_number": 96
    },
    {
     "cell_type": "markdown",
     "metadata": {},
     "source": [
      "Matrix--vector multiplication:"
     ]
    },
    {
     "cell_type": "code",
     "collapsed": false,
     "input": [
      "np.dot(v, v)"
     ],
     "language": "python",
     "metadata": {},
     "outputs": [
      {
       "metadata": {},
       "output_type": "pyout",
       "prompt_number": 97,
       "text": [
        "0.99999999999999978"
       ]
      }
     ],
     "prompt_number": 97
    },
    {
     "cell_type": "code",
     "collapsed": false,
     "input": [
      "v_new = np.dot(M, v)  # M.v   M \\cdot v"
     ],
     "language": "python",
     "metadata": {},
     "outputs": [],
     "prompt_number": 99
    },
    {
     "cell_type": "code",
     "collapsed": false,
     "input": [
      "np.dot(v_new, v)"
     ],
     "language": "python",
     "metadata": {},
     "outputs": [
      {
       "metadata": {},
       "output_type": "pyout",
       "prompt_number": 100,
       "text": [
        "2.618033988749894"
       ]
      }
     ],
     "prompt_number": 100
    },
    {
     "cell_type": "code",
     "collapsed": false,
     "input": [
      "v_new / v  # elementwise"
     ],
     "language": "python",
     "metadata": {},
     "outputs": [
      {
       "metadata": {},
       "output_type": "pyout",
       "prompt_number": 101,
       "text": [
        "array([ 2.61803399,  2.61803399])"
       ]
      }
     ],
     "prompt_number": 101
    },
    {
     "cell_type": "code",
     "collapsed": false,
     "input": [
      "np.c_[1, 2]"
     ],
     "language": "python",
     "metadata": {},
     "outputs": [
      {
       "metadata": {},
       "output_type": "pyout",
       "prompt_number": 83,
       "text": [
        "array([[1, 2]])"
       ]
      }
     ],
     "prompt_number": 83
    },
    {
     "cell_type": "code",
     "collapsed": false,
     "input": [
      "np.r_[1,2]"
     ],
     "language": "python",
     "metadata": {},
     "outputs": [
      {
       "metadata": {},
       "output_type": "pyout",
       "prompt_number": 84,
       "text": [
        "array([1, 2])"
       ]
      }
     ],
     "prompt_number": 84
    },
    {
     "cell_type": "markdown",
     "metadata": {},
     "source": [
      "----\n",
      "**Exercise**: Extract the eigenvalues and eigenvectors. How are the eigenvectors represented?\n",
      "\n",
      "----"
     ]
    },
    {
     "cell_type": "markdown",
     "metadata": {},
     "source": [
      "There are special functions `eigh` and `eigvalsh` for symmetric matrices (or, in general, for Hermitian matrices with complex entries, whence the `h` at the end of the function names):"
     ]
    },
    {
     "cell_type": "code",
     "collapsed": false,
     "input": [
      "linalg.eigh(M)"
     ],
     "language": "python",
     "metadata": {},
     "outputs": [
      {
       "metadata": {},
       "output_type": "pyout",
       "prompt_number": 102,
       "text": [
        "(array([ 0.38196601,  2.61803399]), array([[ 0.52573111, -0.85065081],\n",
        "        [-0.85065081, -0.52573111]]))"
       ]
      }
     ],
     "prompt_number": 102
    },
    {
     "cell_type": "markdown",
     "metadata": {},
     "source": [
      "We can check the source code of the functions to check what exactly is being called:"
     ]
    },
    {
     "cell_type": "code",
     "collapsed": false,
     "input": [
      "linalg.eigh??"
     ],
     "language": "python",
     "metadata": {},
     "outputs": []
    },
    {
     "cell_type": "heading",
     "level": 2,
     "metadata": {},
     "source": [
      "Eigenvalues of random matrices"
     ]
    },
    {
     "cell_type": "markdown",
     "metadata": {},
     "source": [
      "We now have the tools to calculate the eigenvalues of our random matrix:"
     ]
    },
    {
     "cell_type": "code",
     "collapsed": false,
     "input": [
      "import numpy as np\n",
      "import scipy.linalg as linalg"
     ],
     "language": "python",
     "metadata": {},
     "outputs": [],
     "prompt_number": 103
    },
    {
     "cell_type": "code",
     "collapsed": false,
     "input": [
      "size = 1000\n",
      "M = np.random.randn(size, size)\n",
      "\n",
      "M = 0.5 * (M + M.T)  # symmetrise"
     ],
     "language": "python",
     "metadata": {},
     "outputs": [],
     "prompt_number": 104
    },
    {
     "cell_type": "code",
     "collapsed": false,
     "input": [
      "%time lamb = linalg.eigvalsh(M)"
     ],
     "language": "python",
     "metadata": {},
     "outputs": [
      {
       "output_type": "stream",
       "stream": "stdout",
       "text": [
        "CPU times: user 298 ms, sys: 11.1 ms, total: 309 ms\n",
        "Wall time: 238 ms\n"
       ]
      }
     ],
     "prompt_number": 106
    },
    {
     "cell_type": "code",
     "collapsed": false,
     "input": [
      "lamb"
     ],
     "language": "python",
     "metadata": {},
     "outputs": [
      {
       "metadata": {},
       "output_type": "pyout",
       "prompt_number": 107,
       "text": [
        "array([ -4.45342722e+01,  -4.37957538e+01,  -4.34165359e+01,\n",
        "        -4.33348708e+01,  -4.30032245e+01,  -4.23262742e+01,\n",
        "        -4.21234443e+01,  -4.20615659e+01,  -4.18873382e+01,\n",
        "        -4.17298486e+01,  -4.15884948e+01,  -4.14252611e+01,\n",
        "        -4.11929996e+01,  -4.08863411e+01,  -4.07412895e+01,\n",
        "        -4.06684283e+01,  -4.05100907e+01,  -4.03683344e+01,\n",
        "        -4.02374939e+01,  -4.01424762e+01,  -4.00414114e+01,\n",
        "        -3.99135086e+01,  -3.97687698e+01,  -3.95656496e+01,\n",
        "        -3.92899735e+01,  -3.91876118e+01,  -3.89963064e+01,\n",
        "        -3.88870641e+01,  -3.87357117e+01,  -3.87229737e+01,\n",
        "        -3.85985417e+01,  -3.83375690e+01,  -3.82656730e+01,\n",
        "        -3.81526399e+01,  -3.79235362e+01,  -3.78323711e+01,\n",
        "        -3.75929841e+01,  -3.74618073e+01,  -3.73309233e+01,\n",
        "        -3.72879769e+01,  -3.70585316e+01,  -3.70078766e+01,\n",
        "        -3.68634160e+01,  -3.68367403e+01,  -3.66731689e+01,\n",
        "        -3.65828023e+01,  -3.63909955e+01,  -3.62581337e+01,\n",
        "        -3.61837527e+01,  -3.60946222e+01,  -3.59477930e+01,\n",
        "        -3.58533863e+01,  -3.57457819e+01,  -3.56017378e+01,\n",
        "        -3.54009329e+01,  -3.53790170e+01,  -3.52263592e+01,\n",
        "        -3.51611620e+01,  -3.50202289e+01,  -3.48678421e+01,\n",
        "        -3.47683355e+01,  -3.46627538e+01,  -3.46095409e+01,\n",
        "        -3.45468296e+01,  -3.42659136e+01,  -3.42029996e+01,\n",
        "        -3.40486637e+01,  -3.39374675e+01,  -3.39038623e+01,\n",
        "        -3.36874598e+01,  -3.35839033e+01,  -3.34575650e+01,\n",
        "        -3.33762673e+01,  -3.33568839e+01,  -3.32825753e+01,\n",
        "        -3.31515190e+01,  -3.30857283e+01,  -3.30128822e+01,\n",
        "        -3.29626751e+01,  -3.28082613e+01,  -3.26717516e+01,\n",
        "        -3.26523740e+01,  -3.24140396e+01,  -3.23740310e+01,\n",
        "        -3.22914464e+01,  -3.21217781e+01,  -3.20352258e+01,\n",
        "        -3.19559677e+01,  -3.18818486e+01,  -3.18125120e+01,\n",
        "        -3.16334532e+01,  -3.15684858e+01,  -3.14255454e+01,\n",
        "        -3.13876920e+01,  -3.13261387e+01,  -3.11277345e+01,\n",
        "        -3.10810790e+01,  -3.10251052e+01,  -3.07893467e+01,\n",
        "        -3.06764366e+01,  -3.06548138e+01,  -3.05925589e+01,\n",
        "        -3.04947359e+01,  -3.04176947e+01,  -3.03329252e+01,\n",
        "        -3.02470183e+01,  -3.01823569e+01,  -3.01243669e+01,\n",
        "        -2.99486510e+01,  -2.98824774e+01,  -2.97108756e+01,\n",
        "        -2.95689350e+01,  -2.94797849e+01,  -2.94081049e+01,\n",
        "        -2.93882229e+01,  -2.91974150e+01,  -2.90327828e+01,\n",
        "        -2.90123952e+01,  -2.89524935e+01,  -2.87623019e+01,\n",
        "        -2.86481000e+01,  -2.86234189e+01,  -2.84961451e+01,\n",
        "        -2.84258010e+01,  -2.84136921e+01,  -2.83247069e+01,\n",
        "        -2.81937331e+01,  -2.80306649e+01,  -2.79606607e+01,\n",
        "        -2.78615435e+01,  -2.78073619e+01,  -2.77811138e+01,\n",
        "        -2.77099884e+01,  -2.76105327e+01,  -2.75192414e+01,\n",
        "        -2.74446429e+01,  -2.73053325e+01,  -2.71016498e+01,\n",
        "        -2.70442165e+01,  -2.69640906e+01,  -2.69513077e+01,\n",
        "        -2.68775238e+01,  -2.67726250e+01,  -2.67238664e+01,\n",
        "        -2.66310966e+01,  -2.64212774e+01,  -2.63797206e+01,\n",
        "        -2.63118712e+01,  -2.61577799e+01,  -2.61380152e+01,\n",
        "        -2.60580569e+01,  -2.59938439e+01,  -2.59480002e+01,\n",
        "        -2.58470310e+01,  -2.57269193e+01,  -2.55568911e+01,\n",
        "        -2.55215408e+01,  -2.54314095e+01,  -2.53231580e+01,\n",
        "        -2.52630029e+01,  -2.52553237e+01,  -2.50613811e+01,\n",
        "        -2.50061648e+01,  -2.49724720e+01,  -2.48386894e+01,\n",
        "        -2.48044158e+01,  -2.47400248e+01,  -2.47188437e+01,\n",
        "        -2.45349543e+01,  -2.44713521e+01,  -2.44519088e+01,\n",
        "        -2.43414900e+01,  -2.42510765e+01,  -2.41746503e+01,\n",
        "        -2.40141853e+01,  -2.39318911e+01,  -2.38595379e+01,\n",
        "        -2.37913099e+01,  -2.36838153e+01,  -2.36123233e+01,\n",
        "        -2.36102634e+01,  -2.35653110e+01,  -2.34201620e+01,\n",
        "        -2.33305094e+01,  -2.32104548e+01,  -2.31866256e+01,\n",
        "        -2.30500062e+01,  -2.29341022e+01,  -2.29155977e+01,\n",
        "        -2.28086820e+01,  -2.27635328e+01,  -2.26962351e+01,\n",
        "        -2.25266154e+01,  -2.25116414e+01,  -2.24477217e+01,\n",
        "        -2.23515360e+01,  -2.22094125e+01,  -2.21721882e+01,\n",
        "        -2.21008739e+01,  -2.20666728e+01,  -2.19884749e+01,\n",
        "        -2.19432554e+01,  -2.18497055e+01,  -2.16863188e+01,\n",
        "        -2.15974743e+01,  -2.15822425e+01,  -2.14755073e+01,\n",
        "        -2.14564291e+01,  -2.13118153e+01,  -2.12486280e+01,\n",
        "        -2.11449057e+01,  -2.10936301e+01,  -2.10393972e+01,\n",
        "        -2.09773237e+01,  -2.09180478e+01,  -2.07986575e+01,\n",
        "        -2.05998452e+01,  -2.05729005e+01,  -2.05009210e+01,\n",
        "        -2.04094494e+01,  -2.03539393e+01,  -2.02077650e+01,\n",
        "        -2.01296027e+01,  -2.00263277e+01,  -2.00134238e+01,\n",
        "        -1.99083419e+01,  -1.97787700e+01,  -1.96801443e+01,\n",
        "        -1.96335287e+01,  -1.95199768e+01,  -1.94126021e+01,\n",
        "        -1.94003569e+01,  -1.93520454e+01,  -1.92473805e+01,\n",
        "        -1.91608347e+01,  -1.91201580e+01,  -1.89736334e+01,\n",
        "        -1.89404061e+01,  -1.89143258e+01,  -1.87763671e+01,\n",
        "        -1.87105955e+01,  -1.85451121e+01,  -1.85303090e+01,\n",
        "        -1.84781954e+01,  -1.84239598e+01,  -1.83602745e+01,\n",
        "        -1.82087158e+01,  -1.81821547e+01,  -1.81178167e+01,\n",
        "        -1.79860201e+01,  -1.78904343e+01,  -1.77889447e+01,\n",
        "        -1.77498512e+01,  -1.76533724e+01,  -1.76158128e+01,\n",
        "        -1.75083161e+01,  -1.74807350e+01,  -1.74217224e+01,\n",
        "        -1.73754454e+01,  -1.72970900e+01,  -1.71657651e+01,\n",
        "        -1.70970472e+01,  -1.70153256e+01,  -1.69108737e+01,\n",
        "        -1.68275133e+01,  -1.67878091e+01,  -1.66709349e+01,\n",
        "        -1.65916027e+01,  -1.65910184e+01,  -1.64162400e+01,\n",
        "        -1.64003768e+01,  -1.63584838e+01,  -1.63267315e+01,\n",
        "        -1.62634197e+01,  -1.61795792e+01,  -1.61571314e+01,\n",
        "        -1.60604938e+01,  -1.59781734e+01,  -1.58655058e+01,\n",
        "        -1.58237301e+01,  -1.56947585e+01,  -1.56189998e+01,\n",
        "        -1.55056524e+01,  -1.54190238e+01,  -1.53711427e+01,\n",
        "        -1.52706812e+01,  -1.52389909e+01,  -1.52083217e+01,\n",
        "        -1.51744776e+01,  -1.50139448e+01,  -1.49261359e+01,\n",
        "        -1.48689074e+01,  -1.47884961e+01,  -1.47786711e+01,\n",
        "        -1.47374581e+01,  -1.46382643e+01,  -1.45671461e+01,\n",
        "        -1.45347728e+01,  -1.43948093e+01,  -1.43311190e+01,\n",
        "        -1.42621880e+01,  -1.42164665e+01,  -1.41141283e+01,\n",
        "        -1.40608080e+01,  -1.39945088e+01,  -1.38729976e+01,\n",
        "        -1.37861793e+01,  -1.36864880e+01,  -1.36686984e+01,\n",
        "        -1.36328225e+01,  -1.34278723e+01,  -1.33851939e+01,\n",
        "        -1.33127026e+01,  -1.32837125e+01,  -1.31616608e+01,\n",
        "        -1.31282492e+01,  -1.30263129e+01,  -1.29373008e+01,\n",
        "        -1.29339186e+01,  -1.28309438e+01,  -1.27475376e+01,\n",
        "        -1.26410710e+01,  -1.25593455e+01,  -1.25138737e+01,\n",
        "        -1.23977954e+01,  -1.22899932e+01,  -1.22439219e+01,\n",
        "        -1.22260107e+01,  -1.22152462e+01,  -1.21550247e+01,\n",
        "        -1.20695619e+01,  -1.19551373e+01,  -1.19121426e+01,\n",
        "        -1.18071253e+01,  -1.17705982e+01,  -1.16617997e+01,\n",
        "        -1.15807979e+01,  -1.15115240e+01,  -1.14235032e+01,\n",
        "        -1.13772168e+01,  -1.12921100e+01,  -1.12368809e+01,\n",
        "        -1.11127994e+01,  -1.10635098e+01,  -1.09901400e+01,\n",
        "        -1.09701522e+01,  -1.07929875e+01,  -1.07593149e+01,\n",
        "        -1.06431194e+01,  -1.06162677e+01,  -1.05927532e+01,\n",
        "        -1.04487844e+01,  -1.04057117e+01,  -1.03585961e+01,\n",
        "        -1.03035539e+01,  -1.02368930e+01,  -1.01625084e+01,\n",
        "        -1.01016416e+01,  -1.00125055e+01,  -9.88444247e+00,\n",
        "        -9.73937760e+00,  -9.71148838e+00,  -9.63889580e+00,\n",
        "        -9.56981631e+00,  -9.46025126e+00,  -9.41813411e+00,\n",
        "        -9.33216572e+00,  -9.22081018e+00,  -9.18405214e+00,\n",
        "        -9.14048498e+00,  -9.03905682e+00,  -8.94599910e+00,\n",
        "        -8.92221520e+00,  -8.83134145e+00,  -8.74878443e+00,\n",
        "        -8.71229474e+00,  -8.60105406e+00,  -8.53467548e+00,\n",
        "        -8.46916511e+00,  -8.38347093e+00,  -8.31650061e+00,\n",
        "        -8.28321578e+00,  -8.22595319e+00,  -8.17885023e+00,\n",
        "        -8.12316069e+00,  -8.02376091e+00,  -7.90336619e+00,\n",
        "        -7.89145792e+00,  -7.68475207e+00,  -7.60920180e+00,\n",
        "        -7.55570589e+00,  -7.53785202e+00,  -7.45688024e+00,\n",
        "        -7.39362951e+00,  -7.32772672e+00,  -7.27322155e+00,\n",
        "        -7.22431413e+00,  -7.13729582e+00,  -7.01585435e+00,\n",
        "        -6.97462297e+00,  -6.92695614e+00,  -6.78220492e+00,\n",
        "        -6.75645917e+00,  -6.71346287e+00,  -6.68157314e+00,\n",
        "        -6.58798998e+00,  -6.50924642e+00,  -6.47300741e+00,\n",
        "        -6.37871331e+00,  -6.28378173e+00,  -6.23534354e+00,\n",
        "        -6.19514495e+00,  -6.06940245e+00,  -5.97607606e+00,\n",
        "        -5.92945771e+00,  -5.77261682e+00,  -5.68971640e+00,\n",
        "        -5.67135555e+00,  -5.56975560e+00,  -5.47167719e+00,\n",
        "        -5.45397946e+00,  -5.38864573e+00,  -5.33221845e+00,\n",
        "        -5.24921338e+00,  -5.22245953e+00,  -5.15639738e+00,\n",
        "        -5.09533245e+00,  -5.05432687e+00,  -5.01240058e+00,\n",
        "        -4.87766406e+00,  -4.81577675e+00,  -4.74251329e+00,\n",
        "        -4.69085180e+00,  -4.65728530e+00,  -4.55486216e+00,\n",
        "        -4.51343513e+00,  -4.40606887e+00,  -4.34150219e+00,\n",
        "        -4.27987805e+00,  -4.21762583e+00,  -4.16377990e+00,\n",
        "        -4.10260585e+00,  -3.98539646e+00,  -3.85595376e+00,\n",
        "        -3.80097948e+00,  -3.73214191e+00,  -3.63455911e+00,\n",
        "        -3.60958071e+00,  -3.56132608e+00,  -3.41136133e+00,\n",
        "        -3.38893030e+00,  -3.30319809e+00,  -3.25870063e+00,\n",
        "        -3.20174102e+00,  -3.06822178e+00,  -3.05737475e+00,\n",
        "        -3.00842703e+00,  -2.90092541e+00,  -2.80378456e+00,\n",
        "        -2.77782802e+00,  -2.70124956e+00,  -2.65203389e+00,\n",
        "        -2.58561565e+00,  -2.56114410e+00,  -2.48693621e+00,\n",
        "        -2.41079744e+00,  -2.29108441e+00,  -2.28820079e+00,\n",
        "        -2.20146556e+00,  -2.05291403e+00,  -2.02841008e+00,\n",
        "        -1.92588220e+00,  -1.84471593e+00,  -1.77401936e+00,\n",
        "        -1.72494575e+00,  -1.64865454e+00,  -1.61954311e+00,\n",
        "        -1.54411663e+00,  -1.44678360e+00,  -1.37185585e+00,\n",
        "        -1.29154196e+00,  -1.23882346e+00,  -1.20913727e+00,\n",
        "        -1.11618248e+00,  -1.10123105e+00,  -9.61521966e-01,\n",
        "        -9.31883543e-01,  -8.16828819e-01,  -7.52080497e-01,\n",
        "        -6.93072344e-01,  -6.34095393e-01,  -5.20240047e-01,\n",
        "        -4.78481423e-01,  -3.68408259e-01,  -3.29427875e-01,\n",
        "        -2.31174471e-01,  -6.95953998e-02,  -3.34469223e-02,\n",
        "        -5.92351791e-03,   1.07110114e-01,   1.62202496e-01,\n",
        "         2.59725225e-01,   3.26973490e-01,   3.61783842e-01,\n",
        "         4.08534765e-01,   5.16044406e-01,   5.31123191e-01,\n",
        "         5.86240087e-01,   6.36403119e-01,   7.57212733e-01,\n",
        "         7.76233909e-01,   9.04407174e-01,   9.59491112e-01,\n",
        "         1.04843437e+00,   1.08090765e+00,   1.12346686e+00,\n",
        "         1.21380020e+00,   1.25258028e+00,   1.36074384e+00,\n",
        "         1.39375559e+00,   1.51512039e+00,   1.57975637e+00,\n",
        "         1.65119476e+00,   1.68238798e+00,   1.73432780e+00,\n",
        "         1.80249032e+00,   1.92427252e+00,   1.96941362e+00,\n",
        "         2.04293677e+00,   2.11486069e+00,   2.12710048e+00,\n",
        "         2.21636953e+00,   2.26493754e+00,   2.34918740e+00,\n",
        "         2.48394051e+00,   2.57533422e+00,   2.59708583e+00,\n",
        "         2.64262162e+00,   2.74650423e+00,   2.85621607e+00,\n",
        "         2.88281920e+00,   2.91298003e+00,   3.00165062e+00,\n",
        "         3.13058785e+00,   3.17310078e+00,   3.19956729e+00,\n",
        "         3.24268896e+00,   3.28711835e+00,   3.39459768e+00,\n",
        "         3.52519226e+00,   3.55335613e+00,   3.61845301e+00,\n",
        "         3.76560366e+00,   3.79974904e+00,   3.87649001e+00,\n",
        "         3.91437966e+00,   3.94855136e+00,   4.01037697e+00,\n",
        "         4.04715605e+00,   4.16377055e+00,   4.28853570e+00,\n",
        "         4.33812794e+00,   4.45375400e+00,   4.55479157e+00,\n",
        "         4.57425105e+00,   4.66930794e+00,   4.72428101e+00,\n",
        "         4.82367377e+00,   4.86395009e+00,   4.94391652e+00,\n",
        "         4.96408518e+00,   5.03818167e+00,   5.24289255e+00,\n",
        "         5.27975791e+00,   5.33142879e+00,   5.36882681e+00,\n",
        "         5.41659014e+00,   5.47086376e+00,   5.53263518e+00,\n",
        "         5.59009079e+00,   5.66369612e+00,   5.75872133e+00,\n",
        "         5.78255255e+00,   5.83466045e+00,   5.87264268e+00,\n",
        "         6.01547667e+00,   6.12820653e+00,   6.16570080e+00,\n",
        "         6.20722438e+00,   6.27957526e+00,   6.37816066e+00,\n",
        "         6.39562395e+00,   6.47848512e+00,   6.58997653e+00,\n",
        "         6.64988617e+00,   6.71645296e+00,   6.80337441e+00,\n",
        "         6.83470012e+00,   6.94156483e+00,   6.98460455e+00,\n",
        "         7.12412511e+00,   7.23089308e+00,   7.25550524e+00,\n",
        "         7.40931266e+00,   7.46372473e+00,   7.50953970e+00,\n",
        "         7.53743006e+00,   7.63463207e+00,   7.68828057e+00,\n",
        "         7.74047696e+00,   7.82000417e+00,   7.90558549e+00,\n",
        "         7.99163560e+00,   8.02469358e+00,   8.04820724e+00,\n",
        "         8.16059124e+00,   8.31249821e+00,   8.33871151e+00,\n",
        "         8.45882298e+00,   8.50075391e+00,   8.62273990e+00,\n",
        "         8.68353490e+00,   8.74343616e+00,   8.80569927e+00,\n",
        "         8.82793375e+00,   8.88296587e+00,   8.98974944e+00,\n",
        "         9.04128690e+00,   9.09530780e+00,   9.13291087e+00,\n",
        "         9.24408837e+00,   9.32807638e+00,   9.39056652e+00,\n",
        "         9.42911973e+00,   9.49703327e+00,   9.52590678e+00,\n",
        "         9.66995842e+00,   9.74017398e+00,   9.79387664e+00,\n",
        "         9.88439844e+00,   9.94093572e+00,   1.00203045e+01,\n",
        "         1.01075692e+01,   1.01292566e+01,   1.02823279e+01,\n",
        "         1.03962624e+01,   1.04260857e+01,   1.05224883e+01,\n",
        "         1.05405969e+01,   1.06195342e+01,   1.06630072e+01,\n",
        "         1.07351078e+01,   1.07676745e+01,   1.08732868e+01,\n",
        "         1.09223340e+01,   1.10161587e+01,   1.10882139e+01,\n",
        "         1.12166981e+01,   1.12646184e+01,   1.13294611e+01,\n",
        "         1.14074355e+01,   1.14377773e+01,   1.15966683e+01,\n",
        "         1.16850445e+01,   1.17039271e+01,   1.17688313e+01,\n",
        "         1.18073101e+01,   1.19024654e+01,   1.19297107e+01,\n",
        "         1.20614284e+01,   1.20932039e+01,   1.21717973e+01,\n",
        "         1.22633635e+01,   1.23594649e+01,   1.24138349e+01,\n",
        "         1.24413399e+01,   1.25810374e+01,   1.26505483e+01,\n",
        "         1.27059864e+01,   1.27276537e+01,   1.27977871e+01,\n",
        "         1.28268083e+01,   1.29687709e+01,   1.30730606e+01,\n",
        "         1.31165685e+01,   1.31567588e+01,   1.32194373e+01,\n",
        "         1.33075179e+01,   1.34117987e+01,   1.34686930e+01,\n",
        "         1.36529511e+01,   1.37046809e+01,   1.37733404e+01,\n",
        "         1.38197437e+01,   1.39023777e+01,   1.39663586e+01,\n",
        "         1.40241854e+01,   1.40914590e+01,   1.42408507e+01,\n",
        "         1.43528054e+01,   1.45011986e+01,   1.45367730e+01,\n",
        "         1.45735317e+01,   1.46212126e+01,   1.47155441e+01,\n",
        "         1.48237658e+01,   1.48867120e+01,   1.49408531e+01,\n",
        "         1.49578167e+01,   1.50771338e+01,   1.51303580e+01,\n",
        "         1.51796132e+01,   1.52274013e+01,   1.53336696e+01,\n",
        "         1.53375601e+01,   1.54339133e+01,   1.55481199e+01,\n",
        "         1.56071840e+01,   1.56827834e+01,   1.57959487e+01,\n",
        "         1.58642710e+01,   1.58716745e+01,   1.59463292e+01,\n",
        "         1.59948389e+01,   1.61297552e+01,   1.61512359e+01,\n",
        "         1.62703113e+01,   1.63394499e+01,   1.63980238e+01,\n",
        "         1.64934038e+01,   1.65075530e+01,   1.65414240e+01,\n",
        "         1.67019487e+01,   1.68032993e+01,   1.69572943e+01,\n",
        "         1.69878623e+01,   1.70755109e+01,   1.70829983e+01,\n",
        "         1.71465067e+01,   1.72550844e+01,   1.73878671e+01,\n",
        "         1.74399702e+01,   1.75427223e+01,   1.76375778e+01,\n",
        "         1.76655882e+01,   1.77345731e+01,   1.78101716e+01,\n",
        "         1.78775392e+01,   1.79501479e+01,   1.80709560e+01,\n",
        "         1.80750181e+01,   1.81339406e+01,   1.81763670e+01,\n",
        "         1.82492652e+01,   1.83895840e+01,   1.84373588e+01,\n",
        "         1.85016193e+01,   1.85602889e+01,   1.86445335e+01,\n",
        "         1.88843177e+01,   1.89358337e+01,   1.89769258e+01,\n",
        "         1.90051078e+01,   1.91290470e+01,   1.92003557e+01,\n",
        "         1.92955394e+01,   1.93776773e+01,   1.93792623e+01,\n",
        "         1.95105679e+01,   1.95288020e+01,   1.96131299e+01,\n",
        "         1.97612040e+01,   1.98020131e+01,   1.98075791e+01,\n",
        "         1.99339940e+01,   1.99540063e+01,   2.00910412e+01,\n",
        "         2.02224104e+01,   2.02973999e+01,   2.03232580e+01,\n",
        "         2.03890506e+01,   2.04475173e+01,   2.06486350e+01,\n",
        "         2.06909928e+01,   2.07658512e+01,   2.08619760e+01,\n",
        "         2.09811612e+01,   2.10397798e+01,   2.10836862e+01,\n",
        "         2.12055320e+01,   2.12833116e+01,   2.13292636e+01,\n",
        "         2.14001060e+01,   2.14364433e+01,   2.16055331e+01,\n",
        "         2.16325057e+01,   2.16771985e+01,   2.17786948e+01,\n",
        "         2.18691229e+01,   2.18832523e+01,   2.19573422e+01,\n",
        "         2.21036102e+01,   2.22143492e+01,   2.22227811e+01,\n",
        "         2.23612119e+01,   2.23893561e+01,   2.24953094e+01,\n",
        "         2.25442566e+01,   2.26459940e+01,   2.27448934e+01,\n",
        "         2.28919168e+01,   2.29198154e+01,   2.29935020e+01,\n",
        "         2.30923686e+01,   2.31820602e+01,   2.32139857e+01,\n",
        "         2.33486462e+01,   2.33753245e+01,   2.34448887e+01,\n",
        "         2.35019734e+01,   2.35383812e+01,   2.36566978e+01,\n",
        "         2.37503786e+01,   2.37934534e+01,   2.39726480e+01,\n",
        "         2.40440369e+01,   2.41321030e+01,   2.42257540e+01,\n",
        "         2.43403125e+01,   2.44439261e+01,   2.45653793e+01,\n",
        "         2.46921126e+01,   2.47395468e+01,   2.48027698e+01,\n",
        "         2.49255325e+01,   2.49813199e+01,   2.49959173e+01,\n",
        "         2.51377181e+01,   2.51896266e+01,   2.52549371e+01,\n",
        "         2.52969869e+01,   2.53249171e+01,   2.54817275e+01,\n",
        "         2.55993999e+01,   2.56809286e+01,   2.58060067e+01,\n",
        "         2.58402007e+01,   2.59283359e+01,   2.59991151e+01,\n",
        "         2.60330104e+01,   2.61461671e+01,   2.63145097e+01,\n",
        "         2.63614377e+01,   2.64649797e+01,   2.65199039e+01,\n",
        "         2.66502194e+01,   2.67052778e+01,   2.67514106e+01,\n",
        "         2.68323144e+01,   2.69489340e+01,   2.71383670e+01,\n",
        "         2.72299708e+01,   2.73039768e+01,   2.73540666e+01,\n",
        "         2.74019330e+01,   2.74742696e+01,   2.75297085e+01,\n",
        "         2.76740741e+01,   2.76904036e+01,   2.78367244e+01,\n",
        "         2.79469984e+01,   2.80221992e+01,   2.80820904e+01,\n",
        "         2.81873888e+01,   2.83919718e+01,   2.84389186e+01,\n",
        "         2.86234721e+01,   2.86410680e+01,   2.86844954e+01,\n",
        "         2.88424953e+01,   2.88995855e+01,   2.90127339e+01,\n",
        "         2.91356192e+01,   2.92570942e+01,   2.93068038e+01,\n",
        "         2.93411930e+01,   2.94065185e+01,   2.94779147e+01,\n",
        "         2.96763595e+01,   2.97545511e+01,   2.98882663e+01,\n",
        "         2.99296246e+01,   3.00523145e+01,   3.01025436e+01,\n",
        "         3.02605348e+01,   3.03316821e+01,   3.03885516e+01,\n",
        "         3.05139509e+01,   3.06032123e+01,   3.06734517e+01,\n",
        "         3.07838984e+01,   3.09033449e+01,   3.09850285e+01,\n",
        "         3.11873704e+01,   3.12777542e+01,   3.13191449e+01,\n",
        "         3.13640396e+01,   3.14977798e+01,   3.15926579e+01,\n",
        "         3.16398684e+01,   3.17192687e+01,   3.17504364e+01,\n",
        "         3.18060063e+01,   3.20022469e+01,   3.21567456e+01,\n",
        "         3.22708437e+01,   3.23423723e+01,   3.23867483e+01,\n",
        "         3.25015722e+01,   3.26433857e+01,   3.28375972e+01,\n",
        "         3.28860464e+01,   3.30368320e+01,   3.31121230e+01,\n",
        "         3.32383620e+01,   3.32495658e+01,   3.34121911e+01,\n",
        "         3.35818929e+01,   3.37224047e+01,   3.38603186e+01,\n",
        "         3.38857595e+01,   3.40507766e+01,   3.41472208e+01,\n",
        "         3.42080758e+01,   3.42521508e+01,   3.44901952e+01,\n",
        "         3.45761940e+01,   3.46871339e+01,   3.47958952e+01,\n",
        "         3.48788497e+01,   3.49053133e+01,   3.50540091e+01,\n",
        "         3.50663884e+01,   3.52400708e+01,   3.53444798e+01,\n",
        "         3.55667253e+01,   3.56588140e+01,   3.57568761e+01,\n",
        "         3.59817895e+01,   3.60764051e+01,   3.61339008e+01,\n",
        "         3.62309789e+01,   3.63235777e+01,   3.64351391e+01,\n",
        "         3.65975578e+01,   3.66876201e+01,   3.68082225e+01,\n",
        "         3.68967436e+01,   3.69400927e+01,   3.70691770e+01,\n",
        "         3.72771028e+01,   3.73368778e+01,   3.74464709e+01,\n",
        "         3.74866102e+01,   3.76745113e+01,   3.77843995e+01,\n",
        "         3.78423064e+01,   3.79924055e+01,   3.80832502e+01,\n",
        "         3.82594685e+01,   3.84603077e+01,   3.85797666e+01,\n",
        "         3.88064859e+01,   3.88395562e+01,   3.89366294e+01,\n",
        "         3.90195005e+01,   3.92882994e+01,   3.93920337e+01,\n",
        "         3.97552150e+01,   3.99751402e+01,   4.00733873e+01,\n",
        "         4.01571741e+01,   4.04803120e+01,   4.06100151e+01,\n",
        "         4.07974499e+01,   4.08495040e+01,   4.10527526e+01,\n",
        "         4.12542577e+01,   4.13770356e+01,   4.15900890e+01,\n",
        "         4.17788766e+01,   4.20097704e+01,   4.20945201e+01,\n",
        "         4.25262744e+01,   4.27307912e+01,   4.28810992e+01,\n",
        "         4.31491378e+01,   4.36040225e+01,   4.39583521e+01,\n",
        "         4.40487351e+01])"
       ]
      }
     ],
     "prompt_number": 107
    },
    {
     "cell_type": "markdown",
     "metadata": {},
     "source": [
      "As usual, it is difficult to obtain insight from a raw listing of the data (except to see that `eigvalsh` returns the eigenvalues already ordered). So we proceed to plot them:"
     ]
    },
    {
     "cell_type": "code",
     "collapsed": false,
     "input": [
      "%matplotlib inline\n",
      "import matplotlib.pyplot as plt"
     ],
     "language": "python",
     "metadata": {},
     "outputs": [],
     "prompt_number": 108
    },
    {
     "cell_type": "code",
     "collapsed": false,
     "input": [
      "plt.plot(lamb)"
     ],
     "language": "python",
     "metadata": {},
     "outputs": [
      {
       "metadata": {},
       "output_type": "pyout",
       "prompt_number": 109,
       "text": [
        "[<matplotlib.lines.Line2D at 0x109665610>]"
       ]
      },
      {
       "metadata": {},
       "output_type": "display_data",
       "png": "[encoded data removed]",
       "text": [
        "<matplotlib.figure.Figure at 0x1062a0710>"
       ]
      }
     ],
     "prompt_number": 109
    },
    {
     "cell_type": "markdown",
     "metadata": {},
     "source": [
      "[If only one array is passed to `plt.plot`, it just uses $1$, $2$, etc. on the $x$-axis.]"
     ]
    },
    {
     "cell_type": "markdown",
     "metadata": {},
     "source": [
      "We see that the results apparently lie on a smooth curve. To check this, let's run the same calculation several times and plot them on top of each other:"
     ]
    },
    {
     "cell_type": "code",
     "collapsed": false,
     "input": [
      "size = 1000\n",
      "\n",
      "for i in range(5):\n",
      "    M = np.random.randn(size, size)\n",
      "    M = 0.5 * (M + M.T)  # symmetrise\n",
      "\n",
      "    lamb = linalg.eigvalsh(M)\n",
      "    \n",
      "    plt.plot(lamb)"
     ],
     "language": "python",
     "metadata": {},
     "outputs": [
      {
       "metadata": {},
       "output_type": "display_data",
       "png": "[encoded data removed]",
       "text": [
        "<matplotlib.figure.Figure at 0x1096634d0>"
       ]
      }
     ],
     "prompt_number": 110
    },
    {
     "cell_type": "markdown",
     "metadata": {},
     "source": [
      "At the scale of the figure, the curves coincide! This is despite the fact that the matrices are random."
     ]
    },
    {
     "cell_type": "markdown",
     "metadata": {},
     "source": [
      "Now let's make a second plot with a zoom. To do this, we use `matplotlib`'s capacity for subplots:"
     ]
    },
    {
     "cell_type": "code",
     "collapsed": false,
     "input": [
      "plt.subplots(2)"
     ],
     "language": "python",
     "metadata": {},
     "outputs": [
      {
       "metadata": {},
       "output_type": "pyout",
       "prompt_number": 112,
       "text": [
        "(<matplotlib.figure.Figure at 0x10966ed10>,\n",
        " array([<matplotlib.axes.AxesSubplot object at 0x109613910>,\n",
        "        <matplotlib.axes.AxesSubplot object at 0x109809d50>], dtype=object))"
       ]
      },
      {
       "metadata": {},
       "output_type": "display_data",
       "png": "[encoded data removed]",
       "text": [
        "<matplotlib.figure.Figure at 0x10966ed10>"
       ]
      }
     ],
     "prompt_number": 112
    },
    {
     "cell_type": "code",
     "collapsed": false,
     "input": [
      "plt.subplots(ncols=2)"
     ],
     "language": "python",
     "metadata": {},
     "outputs": [
      {
       "metadata": {},
       "output_type": "pyout",
       "prompt_number": 113,
       "text": [
        "(<matplotlib.figure.Figure at 0x109692d10>,\n",
        " array([<matplotlib.axes.AxesSubplot object at 0x109c5f290>,\n",
        "        <matplotlib.axes.AxesSubplot object at 0x109c86650>], dtype=object))"
       ]
      },
      {
       "metadata": {},
       "output_type": "display_data",
       "png": "[encoded data removed]",
       "text": [
        "<matplotlib.figure.Figure at 0x109692d10>"
       ]
      }
     ],
     "prompt_number": 113
    },
    {
     "cell_type": "markdown",
     "metadata": {},
     "source": [
      "The `plt.subplots()` function returns a tuple, consisting of the figure object and the two axes objects. Here we are seeing the object-oriented layer underneath poking through. To use these, we to tuple unpacking to assign these objects names:"
     ]
    },
    {
     "cell_type": "code",
     "collapsed": false,
     "input": [
      "fig, ax = plt.subplots(ncols=2);\n"
     ],
     "language": "python",
     "metadata": {},
     "outputs": []
    },
    {
     "cell_type": "markdown",
     "metadata": {},
     "source": [
      "`ax` is a list of axis objects, so we refer to the individual ones as `ax[0]`, `ax[1]`, etc."
     ]
    },
    {
     "cell_type": "code",
     "collapsed": false,
     "input": [
      "fig, ax = plt.subplots(figsize=(12,5), ncols=2)\n",
      "\n",
      "size = 1000\n",
      "\n",
      "for i in range(5):\n",
      "    M = np.random.randn(size, size)\n",
      "    M = 0.5 * (M + M.T)  # symmetrise\n",
      "\n",
      "    lamb = linalg.eigvalsh(M)\n",
      "    \n",
      "    ax[0].plot(lamb)  # draw on the first axis\n",
      "    ax[1].plot(lamb, \".-\", alpha=0.5)  # draw on the second axis\n",
      "    \n",
      "# zoom the second axis:\n",
      "ax[1].set_xlim(500, 550)\n",
      "ax[1].set_ylim(0, 3)\n",
      "\n"
     ],
     "language": "python",
     "metadata": {},
     "outputs": [
      {
       "metadata": {},
       "output_type": "pyout",
       "prompt_number": 115,
       "text": [
        "(0, 3)"
       ]
      },
      {
       "metadata": {},
       "output_type": "display_data",
       "png": "[encoded data removed]",
       "text": [
        "<matplotlib.figure.Figure at 0x109fa0090>"
       ]
      }
     ],
     "prompt_number": 115
    },
    {
     "cell_type": "markdown",
     "metadata": {},
     "source": [
      "We can now *see* the (small) random variations in the eigenvalues of the different matrices.\n",
      "\n",
      "----\n",
      "**Exercise**: Add a box on the left plot to indicate the zoom region shown in the right plot.\n",
      "\n",
      "----\n",
      "\n",
      "----\n",
      "**Exercise**: How could we *calculate* these small variations?\n",
      "\n",
      "----\n"
     ]
    },
    {
     "cell_type": "markdown",
     "metadata": {},
     "source": [
      "One way of adding a box to the plot is as a `matplotlib` *patch*, which is a feature added to the graphic:"
     ]
    },
    {
     "cell_type": "code",
     "collapsed": false,
     "input": [],
     "language": "python",
     "metadata": {},
     "outputs": []
    },
    {
     "cell_type": "code",
     "collapsed": false,
     "input": [
      "patches.Rect"
     ],
     "language": "python",
     "metadata": {},
     "outputs": []
    },
    {
     "cell_type": "code",
     "collapsed": false,
     "input": [
      "import matplotlib.patches as patches"
     ],
     "language": "python",
     "metadata": {},
     "outputs": [],
     "prompt_number": 116
    },
    {
     "cell_type": "code",
     "collapsed": false,
     "input": [
      "patches.Rectangle?"
     ],
     "language": "python",
     "metadata": {},
     "outputs": [],
     "prompt_number": 117
    },
    {
     "cell_type": "code",
     "collapsed": false,
     "input": [
      "\n",
      "\n",
      "rect = patches.Rectangle( (500, 0), 50, 3, fill=False)\n",
      "\n",
      "plt.plot(lamb)\n",
      "\n",
      "ax = plt.gca()  # get current axis\n",
      "ax.add_patch(rect)"
     ],
     "language": "python",
     "metadata": {},
     "outputs": [
      {
       "metadata": {},
       "output_type": "pyout",
       "prompt_number": 123,
       "text": [
        "<matplotlib.patches.Rectangle at 0x109eed8d0>"
       ]
      },
      {
       "metadata": {},
       "output_type": "display_data",
       "png": "[encoded data removed]",
       "text": [
        "<matplotlib.figure.Figure at 0x109c57190>"
       ]
      }
     ],
     "prompt_number": 123
    },
    {
     "cell_type": "heading",
     "level": 2,
     "metadata": {},
     "source": [
      "Manipulating the data"
     ]
    },
    {
     "cell_type": "markdown",
     "metadata": {},
     "source": [
      "In random matrix theory, one of the quantities of interest are the differences between consecutive eigenvalues."
     ]
    },
    {
     "cell_type": "code",
     "collapsed": false,
     "input": [
      "x = np.array([3., 4., 6., 10.])\n",
      "\n",
      "x[1:]\n"
     ],
     "language": "python",
     "metadata": {},
     "outputs": [
      {
       "metadata": {},
       "output_type": "pyout",
       "prompt_number": 124,
       "text": [
        "array([  4.,   6.,  10.])"
       ]
      }
     ],
     "prompt_number": 124
    },
    {
     "cell_type": "code",
     "collapsed": false,
     "input": [
      "x[:-1]"
     ],
     "language": "python",
     "metadata": {},
     "outputs": [
      {
       "metadata": {},
       "output_type": "pyout",
       "prompt_number": 125,
       "text": [
        "array([ 3.,  4.,  6.])"
       ]
      }
     ],
     "prompt_number": 125
    },
    {
     "cell_type": "code",
     "collapsed": false,
     "input": [
      "x[1:] - x[:-1]"
     ],
     "language": "python",
     "metadata": {},
     "outputs": [
      {
       "metadata": {},
       "output_type": "pyout",
       "prompt_number": 126,
       "text": [
        "array([ 1.,  2.,  4.])"
       ]
      }
     ],
     "prompt_number": 126
    },
    {
     "cell_type": "markdown",
     "metadata": {},
     "source": [
      "----\n",
      "**Exercise**: Calculate these differences in *three* ways:\n",
      "1. Using a `for` loop\n",
      "2. Using a list comprehension\n",
      "3. Using vectorized `numpy``\n",
      "\n",
      "Which is best?\n",
      "\n",
      "----"
     ]
    },
    {
     "cell_type": "markdown",
     "metadata": {},
     "source": [
      "In fact, `numpy` also has a built-in function for calculating differences of arrays, `diff`:"
     ]
    },
    {
     "cell_type": "code",
     "collapsed": false,
     "input": [
      "np.diff(x)"
     ],
     "language": "python",
     "metadata": {},
     "outputs": [
      {
       "metadata": {},
       "output_type": "pyout",
       "prompt_number": 128,
       "text": [
        "array([ 1.,  2.,  4.])"
       ]
      }
     ],
     "prompt_number": 128
    },
    {
     "cell_type": "code",
     "collapsed": false,
     "input": [
      "np.diff??"
     ],
     "language": "python",
     "metadata": {},
     "outputs": [],
     "prompt_number": 130
    },
    {
     "cell_type": "code",
     "collapsed": false,
     "input": [
      "differences = np.diff(lamb)\n",
      "differences"
     ],
     "language": "python",
     "metadata": {},
     "outputs": [
      {
       "metadata": {},
       "output_type": "pyout",
       "prompt_number": 131,
       "text": [
        "array([ 0.19455236,  0.16945476,  0.13457963,  0.40421536,  0.51458448,\n",
        "        0.120711  ,  0.29311922,  0.056565  ,  0.42142776,  0.16086438,\n",
        "        0.17252592,  0.18693272,  0.12525242,  0.10454165,  0.089262  ,\n",
        "        0.25606729,  0.19416127,  0.19827523,  0.17644851,  0.09270516,\n",
        "        0.18997485,  0.07305669,  0.29465212,  0.03248338,  0.06170571,\n",
        "        0.12586508,  0.17704246,  0.10007947,  0.18835766,  0.22227743,\n",
        "        0.19223366,  0.0435371 ,  0.12863593,  0.11266604,  0.09054916,\n",
        "        0.06563603,  0.157806  ,  0.1305397 ,  0.23890537,  0.11259524,\n",
        "        0.14905972,  0.07890244,  0.12319339,  0.03150083,  0.13939305,\n",
        "        0.27758529,  0.09159965,  0.05546111,  0.2056086 ,  0.14522954,\n",
        "        0.07790923,  0.06501997,  0.12573272,  0.07978759,  0.19927328,\n",
        "        0.01866988,  0.08481684,  0.20730422,  0.06158994,  0.10127074,\n",
        "        0.08127022,  0.11296463,  0.14016538,  0.12906726,  0.06738851,\n",
        "        0.08211331,  0.08425049,  0.23253889,  0.0758383 ,  0.11245674,\n",
        "        0.11214551,  0.0672907 ,  0.308267  ,  0.1705439 ,  0.03936966,\n",
        "        0.06673618,  0.17171017,  0.11228916,  0.06904668,  0.12752773,\n",
        "        0.08067731,  0.02247138,  0.04178322,  0.14750177,  0.07382996,\n",
        "        0.07432528,  0.18894   ,  0.02265771,  0.03486426,  0.18217695,\n",
        "        0.10970183,  0.0272849 ,  0.0958484 ,  0.05927919,  0.15652831,\n",
        "        0.02825089,  0.08985744,  0.04870108,  0.19032   ,  0.11478522,\n",
        "        0.12928681,  0.06084568,  0.12769364,  0.09878608,  0.06564485,\n",
        "        0.09739239,  0.12437975,  0.16329063,  0.09090316,  0.02811475,\n",
        "        0.03286352,  0.07121103,  0.05457664,  0.10132599,  0.04103459,\n",
        "        0.08500372,  0.06320819,  0.03069429,  0.21160779,  0.14821556,\n",
        "        0.07797823,  0.04328713,  0.06858395,  0.00532494,  0.14806624,\n",
        "        0.08450765,  0.07575181,  0.11178786,  0.11999241,  0.15269836,\n",
        "        0.12069241,  0.06281436,  0.10508643,  0.09913379,  0.05758183,\n",
        "        0.13556177,  0.13560202,  0.13996461,  0.04850433,  0.05279256,\n",
        "        0.06042134,  0.08587087,  0.07658919,  0.10276718,  0.0552343 ,\n",
        "        0.14869024,  0.13384138,  0.11591814,  0.03231398,  0.05631841,\n",
        "        0.1195682 ,  0.0301199 ,  0.10707915,  0.05362821,  0.16672966,\n",
        "        0.02560043,  0.13079984,  0.11690423,  0.02509093,  0.12930082,\n",
        "        0.13037411,  0.06160804,  0.01779732,  0.08933125,  0.09520597,\n",
        "        0.06833718,  0.05509135,  0.08754828,  0.12136862,  0.02953896,\n",
        "        0.13758162,  0.05467423,  0.05375031,  0.06406584,  0.10651505,\n",
        "        0.16241003,  0.08783628,  0.06513254,  0.084516  ,  0.08534406,\n",
        "        0.09039261,  0.03298928,  0.05703953,  0.13775496,  0.00310724,\n",
        "        0.11867878,  0.08380683,  0.05962246,  0.11291434,  0.09758382,\n",
        "        0.08775788,  0.00121238,  0.11270155,  0.11128949,  0.07236312,\n",
        "        0.08679255,  0.06645509,  0.14142384,  0.0142399 ,  0.04219624,\n",
        "        0.04797062,  0.10266232,  0.09793814,  0.07124241,  0.030576  ,\n",
        "        0.07636299,  0.12131325,  0.05073037,  0.00390429,  0.12033899,\n",
        "        0.07342661,  0.13642539,  0.01618184,  0.11154919,  0.12914637,\n",
        "        0.01651663,  0.12763179,  0.08632864,  0.08695234,  0.09050199,\n",
        "        0.05186675,  0.15610715,  0.0567873 ,  0.04192281,  0.07179661,\n",
        "        0.08978548,  0.06542784,  0.08841964,  0.09748037,  0.07575724,\n",
        "        0.0849692 ,  0.10100697,  0.09002017,  0.07372332,  0.11455287,\n",
        "        0.11898879,  0.08119079,  0.07100878,  0.04466642,  0.02906279,\n",
        "        0.11962575,  0.01322502,  0.09991815,  0.02584144,  0.05051325,\n",
        "        0.14705534,  0.0849342 ,  0.1629994 ,  0.08864198,  0.02990943,\n",
        "        0.03252662,  0.03632578,  0.0842924 ,  0.10429584,  0.04086021,\n",
        "        0.08552229,  0.09339596,  0.05922383,  0.03495868,  0.0507397 ,\n",
        "        0.15619326,  0.03926221,  0.0651556 ,  0.10659207,  0.01043096,\n",
        "        0.07801027,  0.1126608 ,  0.16016778,  0.09012451,  0.0431581 ,\n",
        "        0.08584396,  0.08257328,  0.05652854,  0.08567094,  0.13047865,\n",
        "        0.02208031,  0.04352257,  0.07760386,  0.08243617,  0.11144241,\n",
        "        0.03693714,  0.0822704 ,  0.07693651,  0.0971141 ,  0.02499331,\n",
        "        0.07156748,  0.05227051,  0.02302538,  0.08404379,  0.03724398,\n",
        "        0.12889563,  0.08068691,  0.05374534,  0.169474  ,  0.01532477,\n",
        "        0.11830025,  0.02128173,  0.11993056,  0.07273257,  0.06969183,\n",
        "        0.06057022,  0.09789858,  0.00277714,  0.08579846,  0.10037554,\n",
        "        0.05808909,  0.07760172,  0.09363309,  0.03600684,  0.16274517,\n",
        "        0.04720434,  0.05171001,  0.09696477,  0.03879354,  0.01819681,\n",
        "        0.07486877,  0.04692956,  0.10268593,  0.08692734,  0.0737494 ,\n",
        "        0.11388336,  0.07271003,  0.11389591,  0.13809348,  0.04309936,\n",
        "        0.03240264,  0.13734461,  0.06668304,  0.13285077,  0.03937299,\n",
        "        0.14825857,  0.03526975,  0.06525467,  0.08662586,  0.03731202,\n",
        "        0.11344209,  0.05132554,  0.11634157,  0.04689983,  0.05552617,\n",
        "        0.02656834,  0.04008797,  0.01084843,  0.10253493,  0.04384115,\n",
        "        0.05182025,  0.09028118,  0.09213868,  0.09519432,  0.0572668 ,\n",
        "        0.02071909,  0.10390154,  0.00956976,  0.13763741,  0.06224574,\n",
        "        0.09195475,  0.07456412,  0.01696481,  0.1179458 ,  0.07140517,\n",
        "        0.02776938,  0.07849039,  0.08073695,  0.03787089,  0.0419099 ,\n",
        "        0.09549842,  0.11350394,  0.06999005,  0.04712681,  0.0560927 ,\n",
        "        0.11137673,  0.12426344,  0.12551057,  0.0686078 ,  0.01944818,\n",
        "        0.05076218,  0.09968935,  0.07415022,  0.04248258,  0.10913404,\n",
        "        0.07344787,  0.03879968,  0.13952362,  0.09708201,  0.0553968 ,\n",
        "        0.02961541,  0.07009505,  0.0437107 ,  0.0710088 ,  0.09963251,\n",
        "        0.03004382,  0.08366958,  0.09580713,  0.06763292,  0.05569066,\n",
        "        0.08706721,  0.00637463,  0.05476479,  0.12502708,  0.04718139,\n",
        "        0.15209458,  0.09980963,  0.01985367,  0.05935203,  0.09873659,\n",
        "        0.09515932,  0.02974257,  0.05241108,  0.09299146,  0.02586571,\n",
        "        0.10649709,  0.09474018,  0.07471794,  0.02911195,  0.06956816,\n",
        "        0.01728266,  0.17898612,  0.01600073,  0.168616  ,  0.01787376,\n",
        "        0.08646105,  0.0693176 ,  0.06808566,  0.04980523,  0.0496032 ,\n",
        "        0.10526218,  0.05385291,  0.08850539,  0.06395625,  0.03463325,\n",
        "        0.11272958,  0.05892824,  0.046222  ,  0.0666304 ,  0.16523755,\n",
        "        0.04579594,  0.03159779,  0.0667823 ,  0.0259335 ,  0.06887344,\n",
        "        0.04387079,  0.16930242,  0.06958339,  0.10509586,  0.00908144,\n",
        "        0.07176825,  0.03652082,  0.03009005,  0.10769532,  0.15684632,\n",
        "        0.03548103,  0.07662707,  0.06115626,  0.08490412,  0.05812454,\n",
        "        0.07326401,  0.04486204,  0.06805693,  0.05234926,  0.1318381 ,\n",
        "        0.02763889,  0.12270814,  0.01383275,  0.09441749,  0.10619933,\n",
        "        0.02444098,  0.0771921 ,  0.11692008,  0.02863321,  0.07570511,\n",
        "        0.0484785 ,  0.03676263,  0.1331625 ,  0.09087138,  0.01829329,\n",
        "        0.08376053,  0.10729028,  0.03787358,  0.0992978 ,  0.02135531,\n",
        "        0.09547147,  0.08408672,  0.01995717,  0.07408524,  0.12631613,\n",
        "        0.04018711,  0.06104613,  0.04427214,  0.08174781,  0.05789354,\n",
        "        0.04069812,  0.03889369,  0.0781737 ,  0.13860072,  0.11310214,\n",
        "        0.02906934,  0.06703245,  0.02244314,  0.13438471,  0.0133778 ,\n",
        "        0.1088367 ,  0.02304553,  0.10402866,  0.05339969,  0.12387891,\n",
        "        0.02757643,  0.09863068,  0.04517928,  0.05047371,  0.15688068,\n",
        "        0.06289532,  0.05746435,  0.05055798,  0.06611503,  0.08123077,\n",
        "        0.02482764,  0.11682815,  0.10094726,  0.03501235,  0.00335303,\n",
        "        0.06177291,  0.09294384,  0.0757446 ,  0.03657347,  0.03525021,\n",
        "        0.02406222,  0.0975107 ,  0.07978737,  0.10579385,  0.0114953 ,\n",
        "        0.10107418,  0.08989194,  0.13620024,  0.05134979,  0.07561027,\n",
        "        0.07446572,  0.03213965,  0.02100137,  0.07664817,  0.05372665,\n",
        "        0.08719546,  0.10237738,  0.11045951,  0.10553945,  0.04059981,\n",
        "        0.04142413,  0.03296108,  0.12454723,  0.0537575 ,  0.05918396,\n",
        "        0.08835382,  0.06475153,  0.11108176,  0.08685931,  0.09815639,\n",
        "        0.05519909,  0.08054293,  0.07222408,  0.12656609,  0.06167034,\n",
        "        0.04119226,  0.07678815,  0.06645225,  0.01357205,  0.09676956,\n",
        "        0.10053573,  0.067955  ,  0.09040731,  0.10391169,  0.06238363,\n",
        "        0.02408117,  0.11923674,  0.03959986,  0.05174771,  0.03981668,\n",
        "        0.08411164,  0.0246989 ,  0.07793901,  0.12069465,  0.072308  ,\n",
        "        0.06044069,  0.10695421,  0.08564234,  0.03163367,  0.11171032,\n",
        "        0.0672373 ,  0.07678801,  0.05942124,  0.0043664 ,  0.10931976,\n",
        "        0.05131482,  0.0224389 ,  0.0873344 ,  0.12344628,  0.07642215,\n",
        "        0.06378834,  0.15479827,  0.06491769,  0.02148865,  0.05619366,\n",
        "        0.07840855,  0.03000426,  0.12179802,  0.08320681,  0.01546948,\n",
        "        0.03909022,  0.15838353,  0.08706725,  0.06803246,  0.09618681,\n",
        "        0.09011838,  0.00695707,  0.10740113,  0.05749695,  0.12655915,\n",
        "        0.00803192,  0.0391622 ,  0.0941608 ,  0.02763503,  0.17545189,\n",
        "        0.06146748,  0.05205127,  0.04914261,  0.08824076,  0.07972968,\n",
        "        0.06519566,  0.06013283,  0.0703639 ,  0.08664539,  0.10363157,\n",
        "        0.0379081 ,  0.06186636,  0.11093135,  0.09585016,  0.03786244,\n",
        "        0.0303305 ,  0.07277041,  0.02061477,  0.15758659,  0.08415399,\n",
        "        0.00661792,  0.10313727,  0.03894855,  0.0648352 ,  0.08932419,\n",
        "        0.05718377,  0.0778282 ,  0.06611625,  0.03908831,  0.03810236,\n",
        "        0.11392923,  0.09835628,  0.12658354,  0.0448292 ,  0.02867538,\n",
        "        0.09284694,  0.05046378,  0.06699511,  0.02325588,  0.07103856,\n",
        "        0.04400477,  0.10744714,  0.02443648,  0.16942048,  0.0730746 ,\n",
        "        0.01627537,  0.05167255,  0.12148519,  0.11135226,  0.06618953,\n",
        "        0.12581591,  0.03449956,  0.00988854,  0.18348426,  0.03626473,\n",
        "        0.05020416,  0.09626108,  0.07526567,  0.0874391 ,  0.07779293,\n",
        "        0.0368248 ,  0.11299334,  0.07624376,  0.03114193,  0.06122405,\n",
        "        0.02165602,  0.10550432,  0.04679719,  0.04726169,  0.09184747,\n",
        "        0.09554191,  0.05797203,  0.05520913,  0.01168337,  0.11096764,\n",
        "        0.08480453,  0.13477003,  0.03027735,  0.08570758,  0.09237441,\n",
        "        0.15267522,  0.03406316,  0.04641261,  0.09264266,  0.04350874,\n",
        "        0.13794208,  0.01590574,  0.08253393,  0.11057795,  0.05982714,\n",
        "        0.07442694,  0.05266404,  0.12513921,  0.09609601,  0.06098755,\n",
        "        0.06641647,  0.02120915,  0.10239992,  0.06376269,  0.11560774,\n",
        "        0.0840303 ,  0.13357749,  0.06103339,  0.05324997,  0.08543564,\n",
        "        0.04644908,  0.08819085,  0.10824927,  0.09660602,  0.04220283,\n",
        "        0.02744638,  0.06025818,  0.01759348,  0.13358954,  0.10447004,\n",
        "        0.05521952,  0.01091771,  0.09448375,  0.05155605,  0.05190291,\n",
        "        0.09250057,  0.04769549,  0.13587272,  0.09869703,  0.08394384,\n",
        "        0.06709654,  0.10365014,  0.09511137,  0.01715283,  0.14749709,\n",
        "        0.0345916 ,  0.03413409,  0.07488211,  0.09808216,  0.08969404,\n",
        "        0.03529941,  0.13370499,  0.04584756,  0.05874751,  0.05650677,\n",
        "        0.07836956,  0.08967411,  0.10423819,  0.04877189,  0.09799645,\n",
        "        0.0622247 ,  0.09356378,  0.0083474 ,  0.09292114,  0.13041262,\n",
        "        0.13138753,  0.06557461,  0.01682919,  0.12197576,  0.0668873 ,\n",
        "        0.03397133,  0.04464902,  0.1087045 ,  0.02886865,  0.07734382,\n",
        "        0.10758067,  0.13130193,  0.03858645,  0.04839155,  0.10934002,\n",
        "        0.05709554,  0.13808529,  0.02333417,  0.16052618,  0.06141592,\n",
        "        0.07918225,  0.09550859,  0.08925912,  0.04622337,  0.06314173,\n",
        "        0.12218303,  0.01233899,  0.05418533,  0.05463924,  0.21475825,\n",
        "        0.1510623 ,  0.03587125,  0.0955649 ,  0.12708643,  0.04346114,\n",
        "        0.05842957,  0.11634997,  0.04426733,  0.07337849,  0.06789602,\n",
        "        0.05140587,  0.1676233 ,  0.05488492,  0.05417113,  0.12372954,\n",
        "        0.08887749,  0.04899063,  0.05474285,  0.14410205,  0.05731209,\n",
        "        0.03734529,  0.06116603,  0.11884225,  0.03960547,  0.09479551,\n",
        "        0.1189295 ,  0.06791715,  0.12588799,  0.03601776,  0.08520751,\n",
        "        0.0504292 ,  0.09922553,  0.18337365,  0.06466014,  0.16610605,\n",
        "        0.0226019 ,  0.12403928,  0.04217271,  0.03394621,  0.17709883,\n",
        "        0.10083436,  0.06282932,  0.03306458,  0.08589055,  0.02222424,\n",
        "        0.05879785,  0.10065509,  0.10979377,  0.09279441,  0.21635973,\n",
        "        0.00328508,  0.08294185,  0.15668533,  0.02225382,  0.07352795,\n",
        "        0.09242358,  0.05232772,  0.08540419,  0.08352396,  0.11169983,\n",
        "        0.0735301 ,  0.09165702,  0.0759504 ,  0.07507079,  0.18219158,\n",
        "        0.07367322,  0.10934755,  0.03055497,  0.12625888,  0.03510512,\n",
        "        0.04117426,  0.07860435,  0.04868016,  0.07620133,  0.26027093,\n",
        "        0.14092543,  0.06805914,  0.06135086,  0.02658264,  0.07426477,\n",
        "        0.10100142,  0.16452724,  0.0621802 ,  0.05191749,  0.12205934,\n",
        "        0.21079065,  0.07139527,  0.10043895,  0.05839131,  0.04110554,\n",
        "        0.01260166,  0.22727908,  0.11089746,  0.03818212,  0.15432177,\n",
        "        0.063794  ,  0.0601253 ,  0.05841317,  0.14623618,  0.03716943,\n",
        "        0.12528779,  0.03310076,  0.05611537,  0.16159147,  0.15147396,\n",
        "        0.02141112,  0.16720414,  0.0803957 ,  0.0625553 ,  0.26284042,\n",
        "        0.0805322 ,  0.09538357,  0.03600892,  0.04263977,  0.12787212,\n",
        "        0.18323513,  0.14466057,  0.12512815,  0.07753963,  0.02449468,\n",
        "        0.11731829,  0.09229388,  0.08450597,  0.10473506,  0.1477346 ,\n",
        "        0.01916567,  0.13848466,  0.07649776,  0.14231132,  0.07967062,\n",
        "        0.07358322,  0.07759724,  0.22728929,  0.02494565,  0.1451825 ,\n",
        "        0.03929963,  0.07940051,  0.29172838,  0.04652365,  0.07393783,\n",
        "        0.25731859,  0.09952807,  0.11175907,  0.10063879,  0.1237646 ,\n",
        "        0.05404899,  0.06864847,  0.04842312,  0.21041092,  0.19719184,\n",
        "        0.16671388,  0.05394087,  0.05624004,  0.08333364,  0.18422088,\n",
        "        0.2490102 ,  0.04965404,  0.14540654,  0.04926636,  0.03001803,\n",
        "        0.21559977,  0.10800369,  0.07219713,  0.17487802,  0.14631166,\n",
        "        0.070228  ,  0.12831497,  0.11499066,  0.11579248,  0.08667096,\n",
        "        0.48926551,  0.05252571,  0.04141556,  0.062867  ,  0.21260896,\n",
        "        0.25171212,  0.20695729,  0.16525255,  0.19384223,  0.11417553,\n",
        "        0.02797358,  0.20582027,  0.06495367,  0.23459374,  0.17300902,\n",
        "        0.12916499,  0.09593307,  0.31896585,  0.13187287,  0.18657532,\n",
        "        0.18273372,  0.39620086,  0.09392242,  0.0490585 ,  0.28604236,\n",
        "        0.60114586,  0.04430448,  0.42147893,  0.54590223])"
       ]
      }
     ],
     "prompt_number": 131
    },
    {
     "cell_type": "markdown",
     "metadata": {},
     "source": [
      "Let's plot the differences:"
     ]
    },
    {
     "cell_type": "code",
     "collapsed": false,
     "input": [
      "plt.plot(differences, \".-\", alpha=0.5)"
     ],
     "language": "python",
     "metadata": {},
     "outputs": [
      {
       "metadata": {},
       "output_type": "pyout",
       "prompt_number": 132,
       "text": [
        "[<matplotlib.lines.Line2D at 0x10cc1dfd0>]"
       ]
      },
      {
       "metadata": {},
       "output_type": "display_data",
       "png": "[encoded data removed]",
       "text": [
        "<matplotlib.figure.Figure at 0x10983e110>"
       ]
      }
     ],
     "prompt_number": 132
    },
    {
     "cell_type": "markdown",
     "metadata": {},
     "source": [
      "This is not very informative. \n",
      "\n",
      "----\n",
      "**Exercise**: How could we summarize this data?\n",
      "\n",
      "----"
     ]
    },
    {
     "cell_type": "code",
     "collapsed": false,
     "input": [
      "plt.hist(differences, 100, histtype=\"step\");"
     ],
     "language": "python",
     "metadata": {},
     "outputs": [
      {
       "metadata": {},
       "output_type": "display_data",
       "png": "[encoded data removed]",
       "text": [
        "<matplotlib.figure.Figure at 0x10ce80a90>"
       ]
      }
     ],
     "prompt_number": 135
    },
    {
     "cell_type": "heading",
     "level": 1,
     "metadata": {},
     "source": [
      "Example 2: Exploring an ODE"
     ]
    },
    {
     "cell_type": "markdown",
     "metadata": {},
     "source": [
      "Ordinary differential equations (ODEs) are crucial in many areas of science. Here, we will investigate how to explore a simple ODE model occurring in chemistry, modelling the kinetics of the concentrations of two chemical species in a reaction (of chlorine, iodine and malonic acid)."
     ]
    },
    {
     "cell_type": "markdown",
     "metadata": {},
     "source": [
      "\\begin{align}\n",
      "\\dot{x} &= a - x - \\frac{4xy}{1+x^2} =: f_1(x, y) \\\\\n",
      "\\dot{y} &= b \\, x \\left( 1-\\frac{y}{1+x^2} \\right) =: f_2(x,y)\n",
      "\\end{align}"
     ]
    },
    {
     "cell_type": "markdown",
     "metadata": {},
     "source": [
      "There are two parameters in the system, $a$ and $b$, which depend on the concentrations of other species present in the reaction, that vary on a much slower time-scale. [Lengyel et al., J. Am. Chem. Soc. 1990]"
     ]
    },
    {
     "cell_type": "markdown",
     "metadata": {},
     "source": [
      "There are many numerical methods to solve ODEs. A few of the most common ones are available in the `integrate` submodule of `scipy`. "
     ]
    },
    {
     "cell_type": "code",
     "collapsed": false,
     "input": [
      "import scipy.integrate as integrate"
     ],
     "language": "python",
     "metadata": {},
     "outputs": [],
     "prompt_number": 136
    },
    {
     "cell_type": "code",
     "collapsed": false,
     "input": [],
     "language": "python",
     "metadata": {},
     "outputs": []
    },
    {
     "cell_type": "markdown",
     "metadata": {},
     "source": [
      "The simplest interface is provided by `odeint`; a more flexible, but more complicated, one, is given by `ode`."
     ]
    },
    {
     "cell_type": "code",
     "collapsed": false,
     "input": [
      "integrate.odeint?"
     ],
     "language": "python",
     "metadata": {},
     "outputs": [],
     "prompt_number": 137
    },
    {
     "cell_type": "markdown",
     "metadata": {},
     "source": [
      "These methods treat ODEs as a single, vector equation of the form\n",
      "\n",
      "$$\\dot{\\mathbf{x}} = \\mathbf{f}(\\mathbf{x}; t)$$\n",
      "\n",
      "where $\\mathbf{x} = \\begin{pmatrix} x \\\\ y \\end{pmatrix}$ is the vector of variables in the problem, and the function $\\mathbf{f} = (f_1, f_2)$ accepts $\\mathbf{x}$ and returns the vector of right-hand sides $f_1$ and $f_2$ of the individual equations, again as a vector.\n",
      "\n",
      "The function `f` must thus be defined as follows; note that the `t` argument is necessary, even if the function $f$ does not depend explicitly on $t$.\n",
      "\n",
      "$$\\mathbf{f}(\\mathbf{x}) = (f_1(\\mathbf{x}), f_2(\\mathbf{x}))$$"
     ]
    },
    {
     "cell_type": "markdown",
     "metadata": {},
     "source": [
      "----\n",
      "**Exercise**: (i) Define a function `f` which accepts a \"vector\" `x_vec`(that can, in fact, be any kind of iterable) together with `t`, and returns the new \"vector\" $\\mathbf{f}(\\mathbf{x})$.\n",
      "\n",
      "(ii) Choose an initial condition and pass it to the `odeint` routine.\n",
      "\n",
      "----"
     ]
    },
    {
     "cell_type": "code",
     "collapsed": false,
     "input": [],
     "language": "python",
     "metadata": {},
     "outputs": []
    },
    {
     "cell_type": "markdown",
     "metadata": {},
     "source": [
      "\\begin{align}\n",
      "\\dot{x} &= a - x - \\frac{4xy}{1+x^2} =: f_1(x, y) \\\\\n",
      "\\dot{y} &= b \\, x \\left( 1-\\frac{y}{1+x^2} \\right) =: f_2(x,y)\n",
      "\\end{align}"
     ]
    },
    {
     "cell_type": "code",
     "collapsed": false,
     "input": [
      "a = 1\n",
      "b = 1"
     ],
     "language": "python",
     "metadata": {},
     "outputs": [],
     "prompt_number": 146
    },
    {
     "cell_type": "code",
     "collapsed": false,
     "input": [
      "def f(x_vec, t):  # extra parameter\n",
      "    \n",
      "    x, y = x_vec\n",
      "    \n",
      "    f1 = a - x - 4*x*y / (1+x**2)\n",
      "    f2 = b * x * (1 - y/(1+x**2)) \n",
      "    \n",
      "    return f1, f2"
     ],
     "language": "python",
     "metadata": {},
     "outputs": [],
     "prompt_number": 147
    },
    {
     "cell_type": "code",
     "collapsed": false,
     "input": [
      "x_vec = np.array([3, 4])\n",
      "x, y = x_vec"
     ],
     "language": "python",
     "metadata": {},
     "outputs": [],
     "prompt_number": 148
    },
    {
     "cell_type": "code",
     "collapsed": false,
     "input": [
      "x0 = np.array([1, 0])"
     ],
     "language": "python",
     "metadata": {},
     "outputs": [],
     "prompt_number": 149
    },
    {
     "cell_type": "code",
     "collapsed": false,
     "input": [
      "t = np.arange(0, 30, 0.1)"
     ],
     "language": "python",
     "metadata": {},
     "outputs": [],
     "prompt_number": 160
    },
    {
     "cell_type": "code",
     "collapsed": false,
     "input": [
      "results = integrate.odeint(f, x0, t)"
     ],
     "language": "python",
     "metadata": {},
     "outputs": [],
     "prompt_number": 161
    },
    {
     "cell_type": "markdown",
     "metadata": {},
     "source": [
      "What should I plot against what?"
     ]
    },
    {
     "cell_type": "code",
     "collapsed": false,
     "input": [
      "plt.plot(t, results[:,0])\n",
      "plt.plot(t, results[:,1])"
     ],
     "language": "python",
     "metadata": {},
     "outputs": [
      {
       "metadata": {},
       "output_type": "pyout",
       "prompt_number": 162,
       "text": [
        "[<matplotlib.lines.Line2D at 0x10da2fa90>]"
       ]
      },
      {
       "metadata": {},
       "output_type": "display_data",
       "png": "[encoded data removed]",
       "text": [
        "<matplotlib.figure.Figure at 0x10da2fc90>"
       ]
      }
     ],
     "prompt_number": 162
    },
    {
     "cell_type": "code",
     "collapsed": false,
     "input": [
      "plt.plot(results[:,0], results[:,1]) "
     ],
     "language": "python",
     "metadata": {},
     "outputs": [
      {
       "metadata": {},
       "output_type": "pyout",
       "prompt_number": 163,
       "text": [
        "[<matplotlib.lines.Line2D at 0x10dc1d290>]"
       ]
      },
      {
       "metadata": {},
       "output_type": "display_data",
       "png": "[encoded data removed]",
       "text": [
        "<matplotlib.figure.Figure at 0x10dc441d0>"
       ]
      }
     ],
     "prompt_number": 163
    },
    {
     "cell_type": "code",
     "collapsed": false,
     "input": [],
     "language": "python",
     "metadata": {},
     "outputs": []
    },
    {
     "cell_type": "markdown",
     "metadata": {},
     "source": [
      "We can now use this to sketch the \"phase space\" of the system, i.e. to show a collection of trajectories from different initial conditions.\n",
      "\n",
      "----\n",
      "**Exercise**: Integrate the system from different initial conditions.\n",
      "\n",
      "----"
     ]
    },
    {
     "cell_type": "markdown",
     "metadata": {},
     "source": [
      "In fact, `matplotlib` contains a nice convenience function, `streamplot`, that does this."
     ]
    },
    {
     "cell_type": "markdown",
     "metadata": {},
     "source": [
      "----\n",
      "**Exercise**: Copy and modify the example in the documentation for the `ode` function to simulate this system using the `dopri5` method, which is a type of Runge-Kutta method. NB: the order of the arguments is reversed compared to `odeint`.\n",
      "\n",
      "----"
     ]
    },
    {
     "cell_type": "code",
     "collapsed": false,
     "input": [
      "integrate.ode?"
     ],
     "language": "python",
     "metadata": {},
     "outputs": []
    },
    {
     "cell_type": "code",
     "collapsed": false,
     "input": [],
     "language": "python",
     "metadata": {},
     "outputs": []
    }
   ],
   "metadata": {}
  }
 ]
}