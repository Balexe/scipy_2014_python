{
 "metadata": {
  "name": "",
  "signature": "sha256:26884b3910f3545670b9201a1a53c92f21113f0704e5badba1a52ef5a9faef70"
 },
 "nbformat": 3,
 "nbformat_minor": 0,
 "worksheets": [
  {
   "cells": [
    {
     "cell_type": "heading",
     "level": 1,
     "metadata": {},
     "source": [
      "Example 1: Calculating eigenvalues of a random matrix"
     ]
    },
    {
     "cell_type": "markdown",
     "metadata": {},
     "source": [
      "Random matrices are used to model complicated systems such as atomic nuclei. The eigenvalues of such matrices then correspond to energy levels in the nucleus. A random matrix is literally a matrix in which each entry is sampled at random, from a certain probability distribution.\n",
      "\n",
      "Let's recall that $\\lambda$ is an *eigenvalue*  of a matrix $M$ with *eigenvector* $\\mathbf{v}$ if \n",
      "$$M \\cdot \\mathbf{v} = \\lambda \\mathbf{v},$$\n",
      "i.e. if the *direction* of the vector is left unchanged when acted on by the matrix; only its size changes, by a factor equal to the eigenvalue."
     ]
    },
    {
     "cell_type": "markdown",
     "metadata": {},
     "source": [
      "What do the eigenvalues of a random matrix look like? This sounds like a silly question, since they will depend on how the random entries of the matrix are chosen. But, in fact, for matrices whose entries are taken from a certain probability distribution, they are remarkably insensitive to the exact values of the matrix entries, as we will see."
     ]
    },
    {
     "cell_type": "heading",
     "level": 2,
     "metadata": {},
     "source": [
      "Generating normally-distributed random variates"
     ]
    },
    {
     "cell_type": "markdown",
     "metadata": {},
     "source": [
      "To create the random matrix, we need to be able to generate random variates (i.e. samples from the distribution of interest).  We know that the submodule `numpy.random` of `numpy` contains such tools."
     ]
    },
    {
     "cell_type": "code",
     "collapsed": false,
     "input": [
      "import numpy as np"
     ],
     "language": "python",
     "metadata": {},
     "outputs": [],
     "prompt_number": 3
    },
    {
     "cell_type": "markdown",
     "metadata": {},
     "source": [
      "Let's suppose that the matrix elements are sampled (independently of the others) from a standard normal (or \"gaussian\" distribution). There is a function in `numpy.random` which does this for us:"
     ]
    },
    {
     "cell_type": "code",
     "collapsed": false,
     "input": [
      "np.random.randn()"
     ],
     "language": "python",
     "metadata": {},
     "outputs": [
      {
       "metadata": {},
       "output_type": "pyout",
       "prompt_number": 6,
       "text": [
        "-1.162289492437289"
       ]
      }
     ],
     "prompt_number": 6
    },
    {
     "cell_type": "markdown",
     "metadata": {},
     "source": [
      "It's always useful to check that library functions do \"what they say on the tin\" (what they claim to be doing). So let's generate a lot of samples and check if they seem to be distributed in a normal way:"
     ]
    },
    {
     "cell_type": "code",
     "collapsed": false,
     "input": [
      "samples = np.random.randn(100000)"
     ],
     "language": "python",
     "metadata": {},
     "outputs": [],
     "prompt_number": 4
    },
    {
     "cell_type": "markdown",
     "metadata": {},
     "source": [
      "A simple way to check the probability distribution of data is to calculate a *histogram*.\n",
      "We could do this by hand, but `numpy` already contains a `histogram` function that does this.\n",
      "You can even easily examine the source code (of those functions written in Python, not those in C):"
     ]
    },
    {
     "cell_type": "code",
     "collapsed": false,
     "input": [
      "np.histogram??"
     ],
     "language": "python",
     "metadata": {},
     "outputs": [],
     "prompt_number": 9
    },
    {
     "cell_type": "code",
     "collapsed": false,
     "input": [
      "hist = np.histogram(samples, 1000)\n",
      "hist"
     ],
     "language": "python",
     "metadata": {},
     "outputs": [
      {
       "metadata": {},
       "output_type": "pyout",
       "prompt_number": 12,
       "text": [
        "(array([  1,   0,   0,   1,   0,   1,   0,   0,   0,   0,   1,   0,   0,\n",
        "          0,   0,   0,   0,   0,   0,   0,   0,   0,   0,   0,   0,   1,\n",
        "          0,   1,   0,   0,   0,   0,   0,   1,   0,   0,   1,   1,   0,\n",
        "          0,   0,   0,   0,   0,   0,   0,   0,   0,   0,   0,   0,   1,\n",
        "          0,   2,   0,   0,   0,   0,   0,   0,   1,   0,   2,   2,   1,\n",
        "          0,   0,   1,   0,   0,   1,   0,   0,   0,   0,   1,   2,   5,\n",
        "          1,   2,   3,   0,   0,   1,   3,   0,   0,   2,   3,   1,   0,\n",
        "          1,   0,   0,   0,   1,   0,   1,   0,   0,   1,   1,   1,   1,\n",
        "          1,   0,   3,   0,   2,   1,   0,   0,   1,   0,   3,   1,   2,\n",
        "          1,   2,   2,   0,   1,   6,   2,   3,   0,   0,   1,   1,   0,\n",
        "          3,   0,   4,   3,   3,   4,   2,   0,   4,   6,   4,   4,   1,\n",
        "          3,   4,   3,   3,   3,   4,   2,   4,   2,   3,   4,   6,   5,\n",
        "          3,   6,   6,   2,   3,   4,   7,   4,   5,   6,   3,   5,   4,\n",
        "          3,   6,   7,   1,   9,   6,   7,   5,   6,   6,   6,  10,  10,\n",
        "          8,  10,   6,  10,  12,   6,   9,  13,  12,  12,  12,  13,  12,\n",
        "          7,   7,  13,  14,  14,  18,  11,  14,  13,  10,  10,  17,  10,\n",
        "         13,  14,  11,  22,  19,  15,  17,  14,  20,  13,  25,  19,  18,\n",
        "         24,  30,  12,  25,  24,  22,  21,  23,  20,  17,  23,  23,  24,\n",
        "         23,  20,  31,  24,  36,  29,  26,  26,  29,  23,  24,  25,  29,\n",
        "         27,  41,  39,  26,  37,  39,  37,  32,  40,  34,  44,  38,  29,\n",
        "         40,  42,  40,  43,  36,  41,  41,  58,  47,  51,  58,  47,  49,\n",
        "         52,  50,  50,  47,  50,  52,  57,  66,  49,  49,  55,  65,  60,\n",
        "         52,  60,  66,  66,  65,  57,  66,  67,  59,  68,  68,  74,  83,\n",
        "         67,  70,  69,  65,  63,  62,  75,  85,  89,  82,  95,  85,  85,\n",
        "         99,  93, 102,  88,  90,  98,  99, 109, 104,  90, 106,  94, 107,\n",
        "        105, 105,  97, 107, 116,  95, 130, 114, 111, 116, 115, 131, 120,\n",
        "        123, 141, 136, 112, 125, 123, 138, 119, 126, 121, 152, 119, 164,\n",
        "        148, 146, 154, 156, 167, 138, 164, 163, 150, 146, 152, 154, 159,\n",
        "        163, 172, 168, 160, 174, 182, 177, 185, 179, 183, 161, 172, 177,\n",
        "        172, 167, 194, 202, 186, 176, 186, 195, 216, 209, 197, 213, 197,\n",
        "        201, 219, 209, 195, 210, 227, 218, 207, 202, 212, 220, 212, 204,\n",
        "        207, 219, 219, 250, 235, 245, 222, 248, 287, 246, 238, 243, 260,\n",
        "        252, 242, 273, 252, 272, 269, 268, 269, 236, 264, 266, 272, 237,\n",
        "        311, 235, 281, 255, 282, 260, 280, 308, 288, 267, 296, 291, 286,\n",
        "        280, 268, 266, 285, 270, 294, 279, 287, 234, 316, 261, 312, 316,\n",
        "        299, 310, 261, 308, 274, 296, 311, 322, 342, 291, 313, 327, 300,\n",
        "        322, 305, 308, 294, 299, 310, 312, 310, 316, 344, 305, 330, 326,\n",
        "        342, 317, 329, 342, 330, 313, 351, 362, 341, 334, 324, 329, 283,\n",
        "        323, 326, 324, 336, 303, 338, 333, 349, 323, 318, 361, 334, 327,\n",
        "        337, 324, 350, 339, 344, 340, 308, 310, 331, 335, 308, 329, 323,\n",
        "        311, 352, 343, 330, 311, 348, 328, 324, 323, 311, 340, 318, 327,\n",
        "        342, 301, 344, 342, 324, 332, 329, 308, 329, 328, 325, 351, 293,\n",
        "        317, 337, 299, 290, 299, 296, 330, 295, 335, 340, 297, 302, 283,\n",
        "        314, 320, 305, 295, 274, 317, 313, 310, 283, 300, 303, 283, 297,\n",
        "        295, 298, 325, 279, 278, 273, 287, 284, 288, 282, 268, 273, 285,\n",
        "        277, 269, 300, 230, 261, 271, 266, 257, 257, 274, 241, 266, 257,\n",
        "        243, 241, 258, 247, 231, 257, 256, 236, 237, 227, 236, 237, 245,\n",
        "        253, 232, 215, 235, 212, 202, 249, 220, 208, 234, 215, 202, 211,\n",
        "        201, 208, 203, 231, 215, 185, 181, 189, 182, 205, 193, 190, 190,\n",
        "        173, 185, 175, 194, 164, 171, 190, 193, 176, 177, 177, 195, 155,\n",
        "        198, 172, 158, 165, 138, 165, 140, 158, 153, 123, 158, 147, 138,\n",
        "        136, 127, 133, 130, 130, 124, 151, 113, 108, 129, 121, 119, 120,\n",
        "        110, 131, 127, 129, 133, 108, 115, 105, 123, 109, 106,  84,  90,\n",
        "        115,  94, 109,  98,  98,  91,  82,  96, 116, 100,  95, 102,  96,\n",
        "        106,  75,  93,  98,  71,  88,  89,  95,  64,  79,  78,  71,  80,\n",
        "         66,  61,  82,  73,  78,  56,  59,  67,  58,  70,  66,  74,  67,\n",
        "         63,  55,  69,  71,  56,  51,  52,  54,  52,  53,  57,  65,  53,\n",
        "         50,  54,  53,  44,  45,  49,  41,  61,  40,  40,  49,  36,  44,\n",
        "         36,  43,  26,  35,  40,  40,  43,  42,  31,  32,  32,  35,  34,\n",
        "         33,  23,  37,  31,  42,  30,  30,  39,  27,  26,  29,  26,  24,\n",
        "         29,  22,  21,  26,  22,  32,  26,  25,  17,  23,  17,  13,  27,\n",
        "         22,  19,  22,  21,  29,  15,  16,  16,  17,  16,  14,  22,  18,\n",
        "         13,  18,  23,   9,  16,  16,  17,  19,  18,   6,  11,  11,   9,\n",
        "          8,  12,   9,   9,  11,   7,   7,   4,   9,   5,   7,  12,   9,\n",
        "          8,   7,   6,   5,  14,   7,   6,  11,  10,   8,   6,  10,   5,\n",
        "          4,   9,   9,   4,   2,   4,   6,   5,   8,   5,   4,   2,   3,\n",
        "          8,   4,   7,   2,   7,   3,   1,   2,   1,   1,   1,   2,   4,\n",
        "          5,   6,   5,   2,   2,   2,   2,   3,   5,   4,   8,   2,   4,\n",
        "          1,   0,   2,   2,   2,   2,   1,   1,   2,   1,   1,   3,   1,\n",
        "          2,   1,   1,   1,   5,   1,   1,   2,   1,   1,   1,   1,   0,\n",
        "          0,   0,   1,   0,   1,   2,   3,   1,   2,   0,   0,   0,   1,\n",
        "          1,   0,   1,   2,   1,   2,   1,   0,   0,   0,   1,   0,   0,\n",
        "          1,   0,   1,   0,   0,   1,   0,   1,   0,   0,   1,   0,   0,\n",
        "          0,   0,   0,   1,   0,   0,   0,   0,   0,   1,   0,   0,   0,\n",
        "          1,   1,   0,   0,   0,   0,   0,   0,   1,   0,   0,   0,   0,\n",
        "          0,   0,   0,   0,   0,   0,   0,   0,   0,   0,   1,   0,   0,\n",
        "          0,   1,   1,   0,   0,   1,   0,   0,   0,   0,   1,   1]),\n",
        " array([-4.23525286, -4.22692037, -4.21858787, ...,  4.08057409,\n",
        "         4.08890658,  4.09723907]))"
       ]
      }
     ],
     "prompt_number": 12
    },
    {
     "cell_type": "markdown",
     "metadata": {},
     "source": [
      "Just by eye, we can already see that the counts of numbers of elements in each \"bin\" (interval) has the right kind of shape. But, naturally, visualizing the data is more convincing. \n",
      "\n",
      "To draw a graph of these results, we use `matplotlib`:"
     ]
    },
    {
     "cell_type": "code",
     "collapsed": false,
     "input": [
      "%matplotlib inline\n",
      "import matplotlib.pyplot as plt"
     ],
     "language": "python",
     "metadata": {},
     "outputs": [],
     "prompt_number": 5
    },
    {
     "cell_type": "markdown",
     "metadata": {},
     "source": [
      "[Note that package imports can be done at any time.]"
     ]
    },
    {
     "cell_type": "markdown",
     "metadata": {},
     "source": [
      "The `histogram` function returns a *tuple* (ordered pair). The first entry gives the counts in each bin, and the second gives the locations of the bins. However, there is a slight problem:"
     ]
    },
    {
     "cell_type": "code",
     "collapsed": false,
     "input": [
      "len(hist[0]), len(hist[1])"
     ],
     "language": "python",
     "metadata": {},
     "outputs": [
      {
       "metadata": {},
       "output_type": "pyout",
       "prompt_number": 16,
       "text": [
        "(1000, 1001)"
       ]
      }
     ],
     "prompt_number": 16
    },
    {
     "cell_type": "markdown",
     "metadata": {},
     "source": [
      "The *ends* of the bins are given, and there is one more end than bins in total. For now, we will just use the left end of the bin to get an idea of the histogram."
     ]
    },
    {
     "cell_type": "code",
     "collapsed": false,
     "input": [
      "plt.plot(hist[1][:-1], hist[0])"
     ],
     "language": "python",
     "metadata": {},
     "outputs": [
      {
       "metadata": {},
       "output_type": "pyout",
       "prompt_number": 17,
       "text": [
        "[<matplotlib.lines.Line2D at 0x10615cf10>]"
       ]
      },
      {
       "metadata": {},
       "output_type": "display_data",
       "png": "[encoded data removed]",
       "text": [
        "<matplotlib.figure.Figure at 0x104f30850>"
       ]
      }
     ],
     "prompt_number": 17
    },
    {
     "cell_type": "markdown",
     "metadata": {},
     "source": [
      "This certainly looks convincingly normal by eye. But we should compare it to the true probability density function. To do so, we should normalise the histogram so that the total area is $1$. "
     ]
    },
    {
     "cell_type": "markdown",
     "metadata": {},
     "source": [
      "----\n",
      "**Exercise**: Normalise the histogram counts.\n",
      "\n",
      "----"
     ]
    },
    {
     "cell_type": "markdown",
     "metadata": {},
     "source": [
      "In fact, there is a keyword argument for `histogram` that does this for us:"
     ]
    },
    {
     "cell_type": "code",
     "collapsed": false,
     "input": [
      "hist = np.histogram(samples, 1000, normed=True)\n"
     ],
     "language": "python",
     "metadata": {},
     "outputs": [],
     "prompt_number": 19
    },
    {
     "cell_type": "markdown",
     "metadata": {},
     "source": [
      "Let's compare the output to the PDF of the standard normal distribution,\n",
      "$$\\mathcal{N}(x) = \\frac{1}{\\sqrt{2 \\pi}} \\exp(-\\textstyle \\frac{x^2}{2})$$"
     ]
    },
    {
     "cell_type": "code",
     "collapsed": false,
     "input": [
      "x = hist[1][:-1]\n",
      "plt.plot(x, hist[0], alpha=0.5)  # alpha gives transparency\n",
      "plt.plot(x, 1./np.sqrt(2.*np.pi) * np.exp(-x**2/2), linewidth=3)  # draw the true pdf"
     ],
     "language": "python",
     "metadata": {},
     "outputs": [
      {
       "metadata": {},
       "output_type": "pyout",
       "prompt_number": 24,
       "text": [
        "[<matplotlib.lines.Line2D at 0x106633c90>]"
       ]
      },
      {
       "metadata": {},
       "output_type": "display_data",
       "png": "[encoded data removed]",
       "text": [
        "<matplotlib.figure.Figure at 0x106315b50>"
       ]
      }
     ],
     "prompt_number": 24
    },
    {
     "cell_type": "markdown",
     "metadata": {},
     "source": [
      "Indeed we have excellent agreement. We could also do a true statistical test (the Kolmogorov--Smirnov test). [One version of that test, although not the one that we would need in this context, is found in the `scipy.stats` submodule, as `scipy.stats.ks_2samp`.]"
     ]
    },
    {
     "cell_type": "markdown",
     "metadata": {},
     "source": [
      "Here, I was (surprisingly) able to correctly remember the analytical formula for the PDF (probability density function) of the normal distribution.\n",
      "\n"
     ]
    },
    {
     "cell_type": "heading",
     "level": 2,
     "metadata": {},
     "source": [
      "Creating the matrix"
     ]
    },
    {
     "cell_type": "markdown",
     "metadata": {},
     "source": [
      "To create matrices, `numpy` is again the tool of choice.\n",
      "In fact, the `randn` function can generate arrays of arbitrary shape:"
     ]
    },
    {
     "cell_type": "code",
     "collapsed": false,
     "input": [
      "N = 1000\n",
      "M = np.random.randn(N, N)"
     ],
     "language": "python",
     "metadata": {},
     "outputs": [],
     "prompt_number": 27
    },
    {
     "cell_type": "code",
     "collapsed": false,
     "input": [
      "M"
     ],
     "language": "python",
     "metadata": {},
     "outputs": [
      {
       "metadata": {},
       "output_type": "pyout",
       "prompt_number": 28,
       "text": [
        "array([[-2.38963072, -0.69939479,  0.62114428, ...,  1.35597499,\n",
        "        -1.14086246,  2.16223021],\n",
        "       [ 2.2815989 , -0.44211143, -0.45858154, ...,  0.97135459,\n",
        "         0.67027189, -0.43118593],\n",
        "       [-0.00815924, -0.82073978, -1.65869761, ..., -0.75572274,\n",
        "         1.05624311,  2.46783348],\n",
        "       ..., \n",
        "       [ 2.19530938, -1.79140209, -1.22097204, ..., -0.30777633,\n",
        "         0.32436875, -0.38573939],\n",
        "       [ 1.4369997 ,  0.01079324,  0.00265885, ..., -1.98442077,\n",
        "        -0.43960637, -0.69368777],\n",
        "       [ 0.09142795, -0.49361774, -0.22867424, ...,  0.93570022,\n",
        "        -0.73688541, -0.80821924]])"
       ]
      }
     ],
     "prompt_number": 28
    },
    {
     "cell_type": "markdown",
     "metadata": {},
     "source": [
      "Let's create a symmetric matrix by symmetrising this one, since then we can guarantee that the eigenvalues are real:"
     ]
    },
    {
     "cell_type": "markdown",
     "metadata": {},
     "source": [
      "----\n",
      "**Exercise**: How could we create a symmetric matrix from `M`?\n",
      " \n",
      "----"
     ]
    },
    {
     "cell_type": "code",
     "collapsed": false,
     "input": [
      "M = 0.5 * (M+M.T)"
     ],
     "language": "python",
     "metadata": {},
     "outputs": [],
     "prompt_number": 29
    },
    {
     "cell_type": "code",
     "collapsed": false,
     "input": [
      "M"
     ],
     "language": "python",
     "metadata": {},
     "outputs": [
      {
       "metadata": {},
       "output_type": "pyout",
       "prompt_number": 30,
       "text": [
        "array([[-2.38963072,  0.79110206,  0.30649252, ...,  1.77564218,\n",
        "         0.14806862,  1.12682908],\n",
        "       [ 0.79110206, -0.44211143, -0.63966066, ..., -0.41002375,\n",
        "         0.34053257, -0.46240183],\n",
        "       [ 0.30649252, -0.63966066, -1.65869761, ..., -0.98834739,\n",
        "         0.52945098,  1.11957962],\n",
        "       ..., \n",
        "       [ 1.77564218, -0.41002375, -0.98834739, ..., -0.30777633,\n",
        "        -0.83002601,  0.27498042],\n",
        "       [ 0.14806862,  0.34053257,  0.52945098, ..., -0.83002601,\n",
        "        -0.43960637, -0.71528659],\n",
        "       [ 1.12682908, -0.46240183,  1.11957962, ...,  0.27498042,\n",
        "        -0.71528659, -0.80821924]])"
       ]
      }
     ],
     "prompt_number": 30
    },
    {
     "cell_type": "markdown",
     "metadata": {},
     "source": [
      "Now we need to calculate the eigenvalues of the symmetrised matrix `M`. The SciPy stack contains functions to do this. There is a version in the `linalg` submodule of `numpy`, but the recommended versions are in the `linalg` submodule of `scipy`. "
     ]
    },
    {
     "cell_type": "heading",
     "level": 1,
     "metadata": {},
     "source": [
      "The `scipy` package"
     ]
    },
    {
     "cell_type": "markdown",
     "metadata": {},
     "source": [
      "Although the name SciPy is now used to refer to the complete Scientific Python ecosystem, it also refers (as it originally did) to the `scipy` package for scientific computing.\n",
      "\n",
      "The `scipy` package is a collection of submodules, each dedicated to a particular area of scientific computing. Each submodule contains functions that implement algorithms to perform scientific computations."
     ]
    },
    {
     "cell_type": "markdown",
     "metadata": {},
     "source": [
      "As a first example, let's return to the example of the histogram that we did above.\n",
      "There, I was (surprisingly) able to remember the analytical formula for the probability density function (PDF) of the normal distribution.\n",
      "\n",
      "However, this is not necessary: `scipy` contains a statistics submodule, `scipy.stats`, that has a lot of useful information about different probability distributions:"
     ]
    },
    {
     "cell_type": "code",
     "collapsed": false,
     "input": [
      "import scipy.stats as stats"
     ],
     "language": "python",
     "metadata": {},
     "outputs": [],
     "prompt_number": 37
    },
    {
     "cell_type": "markdown",
     "metadata": {},
     "source": [
      "The normal distribution is called `stats.norm`:"
     ]
    },
    {
     "cell_type": "code",
     "collapsed": false,
     "input": [
      "stats.norm"
     ],
     "language": "python",
     "metadata": {},
     "outputs": [
      {
       "metadata": {},
       "output_type": "pyout",
       "prompt_number": 38,
       "text": [
        "<scipy.stats._continuous_distns.norm_gen at 0x107715d90>"
       ]
      }
     ],
     "prompt_number": 38
    },
    {
     "cell_type": "markdown",
     "metadata": {},
     "source": [
      "We see that it is an instantiation of a particular type."
     ]
    },
    {
     "cell_type": "code",
     "collapsed": false,
     "input": [
      "stats.norm?"
     ],
     "language": "python",
     "metadata": {},
     "outputs": [],
     "prompt_number": 39
    },
    {
     "cell_type": "code",
     "collapsed": false,
     "input": [
      "x = hist[1][:-1]\n",
      "plt.plot(x, hist[0], alpha=0.5)  # alpha gives transparency\n",
      "plt.plot(x, scipy.stats.norm.pdf(x), linewidth=3)  # draw the true pdf"
     ],
     "language": "python",
     "metadata": {},
     "outputs": [
      {
       "metadata": {},
       "output_type": "pyout",
       "prompt_number": 40,
       "text": [
        "[<matplotlib.lines.Line2D at 0x1066bf4d0>]"
       ]
      },
      {
       "metadata": {},
       "output_type": "display_data",
       "png": "[encoded data removed]",
       "text": [
        "<matplotlib.figure.Figure at 0x10793e150>"
       ]
      }
     ],
     "prompt_number": 40
    },
    {
     "cell_type": "markdown",
     "metadata": {},
     "source": [
      "Finally, it turns out that `matplotlib` in fact has a `hist` function that does all of these steps:"
     ]
    },
    {
     "cell_type": "code",
     "collapsed": false,
     "input": [
      "# Use a semicolon to suppress text output:\n",
      "plt.hist(samples, 100, normed=True, histtype=\"step\");"
     ],
     "language": "python",
     "metadata": {},
     "outputs": [
      {
       "metadata": {},
       "output_type": "display_data",
       "png": "[encoded data removed]",
       "text": [
        "<matplotlib.figure.Figure at 0x106a57810>"
       ]
      }
     ],
     "prompt_number": 13
    },
    {
     "cell_type": "heading",
     "level": 2,
     "metadata": {},
     "source": [
      "Linear algebra"
     ]
    },
    {
     "cell_type": "markdown",
     "metadata": {},
     "source": [
      "The `linalg` submodule in `scipy` contains an interface to the standard LAPACK package for numerical linear algebra."
     ]
    },
    {
     "cell_type": "code",
     "collapsed": false,
     "input": [
      "import scipy.linalg as linalg"
     ],
     "language": "python",
     "metadata": {},
     "outputs": [],
     "prompt_number": 42
    },
    {
     "cell_type": "markdown",
     "metadata": {},
     "source": [
      "To explore how the `linalg` package works, let's first create a simple $2 \\times 2$ matrix to experiment on. We'll use a matrix that's important in the area of dynamical systems that occurs in the \"Arnold cat map\", $M = \\begin{pmatrix} 2 & 1 \\\\ 1 & 1 \\end{pmatrix}$"
     ]
    },
    {
     "cell_type": "markdown",
     "metadata": {},
     "source": [
      "----\n",
      "**Exercise**: Create this matrix.\n",
      "\n",
      "----"
     ]
    },
    {
     "cell_type": "code",
     "collapsed": false,
     "input": [
      "M = np.r_[2,1,1,1].reshape(2,2)"
     ],
     "language": "python",
     "metadata": {},
     "outputs": [],
     "prompt_number": 41
    },
    {
     "cell_type": "markdown",
     "metadata": {},
     "source": [
      "----\n",
      "**Exercise**: Explore and experiment with the contents of the `linalg` package.\n",
      "\n",
      "----"
     ]
    },
    {
     "cell_type": "markdown",
     "metadata": {},
     "source": [
      "Some useful linear algebra functions provided are the following:"
     ]
    },
    {
     "cell_type": "code",
     "collapsed": false,
     "input": [
      "linalg.det(M)  # determinant"
     ],
     "language": "python",
     "metadata": {},
     "outputs": [
      {
       "metadata": {},
       "output_type": "pyout",
       "prompt_number": 43,
       "text": [
        "1.0"
       ]
      }
     ],
     "prompt_number": 43
    },
    {
     "cell_type": "code",
     "collapsed": false,
     "input": [
      "linalg.inv(M)  # inverse"
     ],
     "language": "python",
     "metadata": {},
     "outputs": [
      {
       "metadata": {},
       "output_type": "pyout",
       "prompt_number": 44,
       "text": [
        "array([[ 1., -1.],\n",
        "       [-1.,  2.]])"
       ]
      }
     ],
     "prompt_number": 44
    },
    {
     "cell_type": "code",
     "collapsed": false,
     "input": [
      "v = np.r_[0.5, 4]\n",
      "linalg.solve(M, v)  # solve M.x = v  for the vector x"
     ],
     "language": "python",
     "metadata": {},
     "outputs": [
      {
       "metadata": {},
       "output_type": "pyout",
       "prompt_number": 47,
       "text": [
        "array([-3.5,  7.5])"
       ]
      }
     ],
     "prompt_number": 47
    },
    {
     "cell_type": "code",
     "collapsed": false,
     "input": [
      "linalg.eig(M)"
     ],
     "language": "python",
     "metadata": {},
     "outputs": [
      {
       "metadata": {},
       "output_type": "pyout",
       "prompt_number": 48,
       "text": [
        "(array([ 2.61803399+0.j,  0.38196601+0.j]), array([[ 0.85065081, -0.52573111],\n",
        "        [ 0.52573111,  0.85065081]]))"
       ]
      }
     ],
     "prompt_number": 48
    },
    {
     "cell_type": "markdown",
     "metadata": {},
     "source": [
      "----\n",
      "**Exercise**: Extract the eigenvalues and eigenvectors. How are the eigenvectors represented?\n",
      "\n",
      "----"
     ]
    },
    {
     "cell_type": "markdown",
     "metadata": {},
     "source": [
      "There are special functions `eigh` and `eigvalsh` for symmetric matrices (or, in general, for Hermitian matrices with complex entries, whence the `h` at the end of the function names):"
     ]
    },
    {
     "cell_type": "code",
     "collapsed": false,
     "input": [
      "linalg.eigh(M)"
     ],
     "language": "python",
     "metadata": {},
     "outputs": [
      {
       "metadata": {},
       "output_type": "pyout",
       "prompt_number": 49,
       "text": [
        "(array([ 0.38196601,  2.61803399]), array([[ 0.52573111, -0.85065081],\n",
        "        [-0.85065081, -0.52573111]]))"
       ]
      }
     ],
     "prompt_number": 49
    },
    {
     "cell_type": "markdown",
     "metadata": {},
     "source": [
      "We can check the source code of the functions to check what exactly is being called:"
     ]
    },
    {
     "cell_type": "code",
     "collapsed": false,
     "input": [
      "linalg.eigh??"
     ],
     "language": "python",
     "metadata": {},
     "outputs": [],
     "prompt_number": 50
    },
    {
     "cell_type": "heading",
     "level": 2,
     "metadata": {},
     "source": [
      "Eigenvalues of random matrices"
     ]
    },
    {
     "cell_type": "markdown",
     "metadata": {},
     "source": [
      "We now have the tools to calculate the eigenvalues of our random matrix:"
     ]
    },
    {
     "cell_type": "code",
     "collapsed": false,
     "input": [
      "import numpy as np\n",
      "import scipy.linalg as linalg"
     ],
     "language": "python",
     "metadata": {},
     "outputs": [],
     "prompt_number": 21
    },
    {
     "cell_type": "code",
     "collapsed": false,
     "input": [
      "size = 1000\n",
      "M = np.random.randn(size, size)\n",
      "\n",
      "M = 0.5 * (M + M.T)  # symmetrise"
     ],
     "language": "python",
     "metadata": {},
     "outputs": [],
     "prompt_number": 22
    },
    {
     "cell_type": "code",
     "collapsed": false,
     "input": [
      "%time lamb = linalg.eigvalsh(M)"
     ],
     "language": "python",
     "metadata": {},
     "outputs": [
      {
       "output_type": "stream",
       "stream": "stdout",
       "text": [
        "CPU times: user 297 ms, sys: 13.6 ms, total: 310 ms\n",
        "Wall time: 232 ms\n"
       ]
      }
     ],
     "prompt_number": 23
    },
    {
     "cell_type": "code",
     "collapsed": false,
     "input": [
      "lamb"
     ],
     "language": "python",
     "metadata": {},
     "outputs": [
      {
       "metadata": {},
       "output_type": "pyout",
       "prompt_number": 24,
       "text": [
        "array([ -4.45256914e+01,  -4.39851114e+01,  -4.34295023e+01,\n",
        "        -4.32039278e+01,  -4.30089171e+01,  -4.28104422e+01,\n",
        "        -4.26807544e+01,  -4.25533705e+01,  -4.21976147e+01,\n",
        "        -4.20411790e+01,  -4.17891950e+01,  -4.14640693e+01,\n",
        "        -4.12350917e+01,  -4.10468314e+01,  -4.09162412e+01,\n",
        "        -4.08655359e+01,  -4.05983200e+01,  -4.04947339e+01,\n",
        "        -4.03379694e+01,  -4.00941184e+01,  -3.98861634e+01,\n",
        "        -3.97461948e+01,  -3.96191843e+01,  -3.94844798e+01,\n",
        "        -3.93825499e+01,  -3.91972116e+01,  -3.91150245e+01,\n",
        "        -3.88642073e+01,  -3.88038679e+01,  -3.86199085e+01,\n",
        "        -3.84689512e+01,  -3.83700988e+01,  -3.82784571e+01,\n",
        "        -3.82127804e+01,  -3.80672378e+01,  -3.79388517e+01,\n",
        "        -3.77850238e+01,  -3.77523147e+01,  -3.74207114e+01,\n",
        "        -3.73354295e+01,  -3.73026667e+01,  -3.71033608e+01,\n",
        "        -3.70134388e+01,  -3.69878279e+01,  -3.67860480e+01,\n",
        "        -3.67154895e+01,  -3.65881286e+01,  -3.64839132e+01,\n",
        "        -3.62976513e+01,  -3.62004950e+01,  -3.61674883e+01,\n",
        "        -3.59556272e+01,  -3.58784765e+01,  -3.57219350e+01,\n",
        "        -3.56039549e+01,  -3.54323434e+01,  -3.53251062e+01,\n",
        "        -3.51843350e+01,  -3.50410503e+01,  -3.48675859e+01,\n",
        "        -3.48292759e+01,  -3.46311619e+01,  -3.45417990e+01,\n",
        "        -3.44761009e+01,  -3.42875086e+01,  -3.42560102e+01,\n",
        "        -3.41385516e+01,  -3.40291903e+01,  -3.39654387e+01,\n",
        "        -3.39392953e+01,  -3.37645760e+01,  -3.36848819e+01,\n",
        "        -3.36200208e+01,  -3.33757632e+01,  -3.32777348e+01,\n",
        "        -3.32252198e+01,  -3.31773493e+01,  -3.30675122e+01,\n",
        "        -3.28710199e+01,  -3.28264369e+01,  -3.28111360e+01,\n",
        "        -3.26965780e+01,  -3.25557690e+01,  -3.23477118e+01,\n",
        "        -3.22826891e+01,  -3.22105919e+01,  -3.21108876e+01,\n",
        "        -3.20823243e+01,  -3.20027213e+01,  -3.18706596e+01,\n",
        "        -3.17505652e+01,  -3.17087251e+01,  -3.16806397e+01,\n",
        "        -3.15010022e+01,  -3.14671831e+01,  -3.13743196e+01,\n",
        "        -3.12577239e+01,  -3.11376827e+01,  -3.09304727e+01,\n",
        "        -3.08409306e+01,  -3.08017384e+01,  -3.07302714e+01,\n",
        "        -3.06734443e+01,  -3.05470764e+01,  -3.03488472e+01,\n",
        "        -3.02525784e+01,  -3.02246704e+01,  -3.01674919e+01,\n",
        "        -3.01021284e+01,  -2.98848513e+01,  -2.97913364e+01,\n",
        "        -2.96806270e+01,  -2.95700226e+01,  -2.94443467e+01,\n",
        "        -2.92975967e+01,  -2.92820312e+01,  -2.92343815e+01,\n",
        "        -2.91625850e+01,  -2.90561394e+01,  -2.89518884e+01,\n",
        "        -2.89084575e+01,  -2.88090891e+01,  -2.87352562e+01,\n",
        "        -2.86571417e+01,  -2.86317006e+01,  -2.84542826e+01,\n",
        "        -2.83229113e+01,  -2.81689196e+01,  -2.81560050e+01,\n",
        "        -2.80694161e+01,  -2.79217397e+01,  -2.78253232e+01,\n",
        "        -2.76952372e+01,  -2.75708247e+01,  -2.74661237e+01,\n",
        "        -2.74059673e+01,  -2.73058252e+01,  -2.71992542e+01,\n",
        "        -2.71603550e+01,  -2.70697551e+01,  -2.70388186e+01,\n",
        "        -2.69572768e+01,  -2.68943265e+01,  -2.67341327e+01,\n",
        "        -2.67007152e+01,  -2.65919339e+01,  -2.64914311e+01,\n",
        "        -2.63719476e+01,  -2.63125187e+01,  -2.61663496e+01,\n",
        "        -2.60001633e+01,  -2.59448495e+01,  -2.59108712e+01,\n",
        "        -2.58852455e+01,  -2.57490220e+01,  -2.57186714e+01,\n",
        "        -2.55471012e+01,  -2.55172477e+01,  -2.54219878e+01,\n",
        "        -2.52854477e+01,  -2.52143273e+01,  -2.51743475e+01,\n",
        "        -2.51079639e+01,  -2.49498900e+01,  -2.48599776e+01,\n",
        "        -2.48188763e+01,  -2.46662945e+01,  -2.46395088e+01,\n",
        "        -2.45204065e+01,  -2.44337399e+01,  -2.43283363e+01,\n",
        "        -2.42053447e+01,  -2.41570866e+01,  -2.40826102e+01,\n",
        "        -2.40247639e+01,  -2.39630678e+01,  -2.39222243e+01,\n",
        "        -2.38678333e+01,  -2.37538822e+01,  -2.36349091e+01,\n",
        "        -2.35801255e+01,  -2.35201091e+01,  -2.34227847e+01,\n",
        "        -2.33353750e+01,  -2.32622852e+01,  -2.31470683e+01,\n",
        "        -2.30648966e+01,  -2.30526578e+01,  -2.29971788e+01,\n",
        "        -2.28526539e+01,  -2.28328564e+01,  -2.27634732e+01,\n",
        "        -2.27210656e+01,  -2.25823802e+01,  -2.24615434e+01,\n",
        "        -2.24071441e+01,  -2.22992498e+01,  -2.22361702e+01,\n",
        "        -2.22138499e+01,  -2.20896105e+01,  -2.20640437e+01,\n",
        "        -2.19435919e+01,  -2.18304859e+01,  -2.17406198e+01,\n",
        "        -2.16879999e+01,  -2.15956723e+01,  -2.15575400e+01,\n",
        "        -2.15036231e+01,  -2.14594982e+01,  -2.13718657e+01,\n",
        "        -2.13080933e+01,  -2.11673815e+01,  -2.10517218e+01,\n",
        "        -2.09667597e+01,  -2.08989230e+01,  -2.08083091e+01,\n",
        "        -2.07336852e+01,  -2.06970592e+01,  -2.05960367e+01,\n",
        "        -2.05449433e+01,  -2.04070407e+01,  -2.03621639e+01,\n",
        "        -2.02856891e+01,  -2.02660676e+01,  -2.01512388e+01,\n",
        "        -2.00565853e+01,  -1.99697622e+01,  -1.99583861e+01,\n",
        "        -1.98686985e+01,  -1.97145790e+01,  -1.96539674e+01,\n",
        "        -1.95007573e+01,  -1.94532690e+01,  -1.94042137e+01,\n",
        "        -1.92945996e+01,  -1.92212535e+01,  -1.91594609e+01,\n",
        "        -1.90460384e+01,  -1.90333135e+01,  -1.89033410e+01,\n",
        "        -1.88868614e+01,  -1.87725149e+01,  -1.86593123e+01,\n",
        "        -1.86413354e+01,  -1.83767037e+01,  -1.83139074e+01,\n",
        "        -1.82359286e+01,  -1.81910478e+01,  -1.81433786e+01,\n",
        "        -1.80719871e+01,  -1.80493387e+01,  -1.79092798e+01,\n",
        "        -1.78435357e+01,  -1.78116346e+01,  -1.76492664e+01,\n",
        "        -1.75654038e+01,  -1.75068536e+01,  -1.74547090e+01,\n",
        "        -1.73592563e+01,  -1.72473074e+01,  -1.71795645e+01,\n",
        "        -1.70749265e+01,  -1.69775401e+01,  -1.69188116e+01,\n",
        "        -1.68336756e+01,  -1.67890086e+01,  -1.67086498e+01,\n",
        "        -1.66604377e+01,  -1.66012643e+01,  -1.65686641e+01,\n",
        "        -1.64977155e+01,  -1.64421662e+01,  -1.63630003e+01,\n",
        "        -1.62962953e+01,  -1.62157926e+01,  -1.61914759e+01,\n",
        "        -1.60739133e+01,  -1.60358783e+01,  -1.59071146e+01,\n",
        "        -1.58501732e+01,  -1.57975216e+01,  -1.56739104e+01,\n",
        "        -1.56151318e+01,  -1.55762752e+01,  -1.55112102e+01,\n",
        "        -1.53812941e+01,  -1.53534122e+01,  -1.52110373e+01,\n",
        "        -1.51799191e+01,  -1.51142634e+01,  -1.50329653e+01,\n",
        "        -1.50094444e+01,  -1.49517308e+01,  -1.48560549e+01,\n",
        "        -1.47437671e+01,  -1.46840866e+01,  -1.45158061e+01,\n",
        "        -1.44849117e+01,  -1.44222127e+01,  -1.43529664e+01,\n",
        "        -1.42627860e+01,  -1.42039082e+01,  -1.40510570e+01,\n",
        "        -1.39695906e+01,  -1.38492908e+01,  -1.37726875e+01,\n",
        "        -1.37429732e+01,  -1.36944483e+01,  -1.35878568e+01,\n",
        "        -1.35360271e+01,  -1.34182067e+01,  -1.33874353e+01,\n",
        "        -1.33182569e+01,  -1.32660461e+01,  -1.31923851e+01,\n",
        "        -1.31503103e+01,  -1.31108897e+01,  -1.30850852e+01,\n",
        "        -1.30776950e+01,  -1.29427964e+01,  -1.28770464e+01,\n",
        "        -1.27393330e+01,  -1.26886900e+01,  -1.25745854e+01,\n",
        "        -1.25083982e+01,  -1.24087792e+01,  -1.23840160e+01,\n",
        "        -1.22700714e+01,  -1.21601039e+01,  -1.21187120e+01,\n",
        "        -1.20204738e+01,  -1.19808501e+01,  -1.18925279e+01,\n",
        "        -1.18411257e+01,  -1.17703317e+01,  -1.17189377e+01,\n",
        "        -1.16246343e+01,  -1.15898931e+01,  -1.15335898e+01,\n",
        "        -1.14710124e+01,  -1.13917223e+01,  -1.13005363e+01,\n",
        "        -1.11964053e+01,  -1.11682468e+01,  -1.11047762e+01,\n",
        "        -1.10054368e+01,  -1.09277103e+01,  -1.08914132e+01,\n",
        "        -1.08189653e+01,  -1.07256782e+01,  -1.06688476e+01,\n",
        "        -1.05901225e+01,  -1.05371980e+01,  -1.03769242e+01,\n",
        "        -1.03391686e+01,  -1.02393715e+01,  -1.01824795e+01,\n",
        "        -1.01434529e+01,  -1.01018526e+01,  -9.97965674e+00,\n",
        "        -9.94582273e+00,  -9.89481626e+00,  -9.77400307e+00,\n",
        "        -9.60079926e+00,  -9.52836142e+00,  -9.52309486e+00,\n",
        "        -9.43909231e+00,  -9.33472102e+00,  -9.30872499e+00,\n",
        "        -9.24646418e+00,  -9.20380564e+00,  -9.10181172e+00,\n",
        "        -9.03409032e+00,  -9.00142765e+00,  -8.90170695e+00,\n",
        "        -8.89382219e+00,  -8.79012457e+00,  -8.67719005e+00,\n",
        "        -8.63587012e+00,  -8.57557511e+00,  -8.43163598e+00,\n",
        "        -8.41978592e+00,  -8.37291146e+00,  -8.34341243e+00,\n",
        "        -8.26380983e+00,  -8.20214730e+00,  -8.14626488e+00,\n",
        "        -8.05007513e+00,  -7.94917245e+00,  -7.89627733e+00,\n",
        "        -7.82408112e+00,  -7.78300250e+00,  -7.71524770e+00,\n",
        "        -7.59785158e+00,  -7.52795137e+00,  -7.49658455e+00,\n",
        "        -7.40422078e+00,  -7.37648658e+00,  -7.31356691e+00,\n",
        "        -7.20732083e+00,  -7.13373214e+00,  -7.04430535e+00,\n",
        "        -6.99755008e+00,  -6.84253400e+00,  -6.81466443e+00,\n",
        "        -6.74397089e+00,  -6.61904784e+00,  -6.59408298e+00,\n",
        "        -6.52703819e+00,  -6.48456627e+00,  -6.38636420e+00,\n",
        "        -6.30385304e+00,  -6.16313352e+00,  -6.05783060e+00,\n",
        "        -6.00653745e+00,  -5.97210300e+00,  -5.86274936e+00,\n",
        "        -5.79437351e+00,  -5.71257664e+00,  -5.62604578e+00,\n",
        "        -5.56434351e+00,  -5.55705433e+00,  -5.46973383e+00,\n",
        "        -5.33542727e+00,  -5.27600158e+00,  -5.22858512e+00,\n",
        "        -5.19535012e+00,  -5.15943983e+00,  -5.02442770e+00,\n",
        "        -5.00256417e+00,  -4.92549330e+00,  -4.87867535e+00,\n",
        "        -4.76227061e+00,  -4.73344774e+00,  -4.66745577e+00,\n",
        "        -4.63454031e+00,  -4.56566945e+00,  -4.37552746e+00,\n",
        "        -4.30878747e+00,  -4.21873543e+00,  -4.19416262e+00,\n",
        "        -4.07892646e+00,  -4.06646486e+00,  -4.01559146e+00,\n",
        "        -3.96889342e+00,  -3.86953730e+00,  -3.79010694e+00,\n",
        "        -3.72558817e+00,  -3.68720529e+00,  -3.54665096e+00,\n",
        "        -3.43625625e+00,  -3.38569838e+00,  -3.32877150e+00,\n",
        "        -3.17755694e+00,  -3.14806079e+00,  -3.13131708e+00,\n",
        "        -3.12170870e+00,  -2.93281869e+00,  -2.92649395e+00,\n",
        "        -2.85118242e+00,  -2.72056074e+00,  -2.65742317e+00,\n",
        "        -2.58804938e+00,  -2.52771563e+00,  -2.51601587e+00,\n",
        "        -2.39476548e+00,  -2.33261249e+00,  -2.24273720e+00,\n",
        "        -2.20465753e+00,  -2.14703965e+00,  -2.05645446e+00,\n",
        "        -1.97879387e+00,  -1.92652712e+00,  -1.87797135e+00,\n",
        "        -1.85539216e+00,  -1.74250617e+00,  -1.69208630e+00,\n",
        "        -1.61482269e+00,  -1.54269111e+00,  -1.46762764e+00,\n",
        "        -1.39657608e+00,  -1.30746361e+00,  -1.21994397e+00,\n",
        "        -1.18150013e+00,  -1.06312718e+00,  -1.02437048e+00,\n",
        "        -8.99656811e-01,  -8.36614960e-01,  -8.18365549e-01,\n",
        "        -7.04973790e-01,  -6.64638439e-01,  -6.07601909e-01,\n",
        "        -5.83710987e-01,  -4.95856828e-01,  -3.90110940e-01,\n",
        "        -2.82273288e-01,  -1.94901583e-01,  -1.30949979e-01,\n",
        "        -7.98079624e-02,  -1.26959938e-02,   4.48650814e-02,\n",
        "         1.65148073e-01,   2.16198247e-01,   3.10861305e-01,\n",
        "         3.37290303e-01,   4.27712725e-01,   5.34686454e-01,\n",
        "         5.74174589e-01,   6.31527197e-01,   6.49501017e-01,\n",
        "         7.25183833e-01,   8.84551856e-01,   9.62919270e-01,\n",
        "         9.84912381e-01,   1.04015861e+00,   1.09366538e+00,\n",
        "         1.13890270e+00,   1.19789083e+00,   1.30223713e+00,\n",
        "         1.38861291e+00,   1.45350932e+00,   1.49283343e+00,\n",
        "         1.53319806e+00,   1.57718493e+00,   1.62520207e+00,\n",
        "         1.71407087e+00,   1.76189883e+00,   1.83704067e+00,\n",
        "         1.90599851e+00,   2.04654768e+00,   2.11584524e+00,\n",
        "         2.20966441e+00,   2.23351909e+00,   2.31931618e+00,\n",
        "         2.36477835e+00,   2.43241499e+00,   2.58384915e+00,\n",
        "         2.62209358e+00,   2.70703250e+00,   2.72716668e+00,\n",
        "         2.76227438e+00,   2.87617991e+00,   2.92932705e+00,\n",
        "         3.06500431e+00,   3.07892275e+00,   3.10054654e+00,\n",
        "         3.22202961e+00,   3.25343020e+00,   3.38845458e+00,\n",
        "         3.48466183e+00,   3.54533363e+00,   3.67088677e+00,\n",
        "         3.79128186e+00,   3.80583787e+00,   3.81545938e+00,\n",
        "         3.87801035e+00,   3.93594919e+00,   3.99477349e+00,\n",
        "         4.14239299e+00,   4.19681966e+00,   4.20791984e+00,\n",
        "         4.26567187e+00,   4.49371416e+00,   4.51639149e+00,\n",
        "         4.55886853e+00,   4.71094712e+00,   4.75032342e+00,\n",
        "         4.78591353e+00,   4.82318153e+00,   4.91146203e+00,\n",
        "         4.99159060e+00,   5.09128496e+00,   5.15609454e+00,\n",
        "         5.21269412e+00,   5.23793928e+00,   5.36164523e+00,\n",
        "         5.42613760e+00,   5.49060827e+00,   5.49672690e+00,\n",
        "         5.59869140e+00,   5.70485482e+00,   5.77794168e+00,\n",
        "         5.81363043e+00,   5.87357332e+00,   5.93336631e+00,\n",
        "         5.94694202e+00,   5.98521922e+00,   6.03504437e+00,\n",
        "         6.17421825e+00,   6.25774601e+00,   6.35226858e+00,\n",
        "         6.38990083e+00,   6.43295861e+00,   6.51219364e+00,\n",
        "         6.65275236e+00,   6.70413172e+00,   6.78509187e+00,\n",
        "         6.78843232e+00,   6.91138677e+00,   6.98014886e+00,\n",
        "         6.99190361e+00,   7.07082298e+00,   7.16998069e+00,\n",
        "         7.20477522e+00,   7.29327251e+00,   7.44725171e+00,\n",
        "         7.46779549e+00,   7.55578246e+00,   7.64511900e+00,\n",
        "         7.78364905e+00,   7.83376154e+00,   7.88528327e+00,\n",
        "         7.94854306e+00,   8.03304960e+00,   8.10312234e+00,\n",
        "         8.17217784e+00,   8.20736020e+00,   8.25762322e+00,\n",
        "         8.39542048e+00,   8.43040249e+00,   8.60620799e+00,\n",
        "         8.61812851e+00,   8.72559058e+00,   8.75685742e+00,\n",
        "         8.82516374e+00,   8.86674968e+00,   8.94958134e+00,\n",
        "         9.04964925e+00,   9.10281819e+00,   9.13031463e+00,\n",
        "         9.22522659e+00,   9.31466742e+00,   9.37436152e+00,\n",
        "         9.46101867e+00,   9.48838479e+00,   9.62664328e+00,\n",
        "         9.66587459e+00,   9.72369444e+00,   9.77103503e+00,\n",
        "         9.83438330e+00,   9.90638247e+00,   9.98494656e+00,\n",
        "         1.00606900e+01,   1.00956060e+01,   1.01817142e+01,\n",
        "         1.03085408e+01,   1.03547204e+01,   1.04315832e+01,\n",
        "         1.04829251e+01,   1.05808485e+01,   1.06649534e+01,\n",
        "         1.06998897e+01,   1.07155677e+01,   1.08054743e+01,\n",
        "         1.09233855e+01,   1.09719237e+01,   1.09954982e+01,\n",
        "         1.11440752e+01,   1.11666389e+01,   1.11760631e+01,\n",
        "         1.13137803e+01,   1.14239853e+01,   1.14646305e+01,\n",
        "         1.15583833e+01,   1.16428460e+01,   1.17022435e+01,\n",
        "         1.17486678e+01,   1.18251065e+01,   1.18850580e+01,\n",
        "         1.20563372e+01,   1.21036181e+01,   1.21440293e+01,\n",
        "         1.23187312e+01,   1.23569227e+01,   1.25306012e+01,\n",
        "         1.25515368e+01,   1.25883009e+01,   1.27137355e+01,\n",
        "         1.27703037e+01,   1.28126448e+01,   1.29042304e+01,\n",
        "         1.29940271e+01,   1.30529198e+01,   1.31647559e+01,\n",
        "         1.32410766e+01,   1.32863295e+01,   1.33021848e+01,\n",
        "         1.34082702e+01,   1.34441929e+01,   1.35295687e+01,\n",
        "         1.35741775e+01,   1.36982770e+01,   1.37283862e+01,\n",
        "         1.38550950e+01,   1.39503692e+01,   1.39836758e+01,\n",
        "         1.40442769e+01,   1.40506116e+01,   1.41850693e+01,\n",
        "         1.42709167e+01,   1.43406606e+01,   1.43630826e+01,\n",
        "         1.44445729e+01,   1.44982822e+01,   1.45166618e+01,\n",
        "         1.45955404e+01,   1.46818386e+01,   1.47370695e+01,\n",
        "         1.48904670e+01,   1.50039264e+01,   1.50461974e+01,\n",
        "         1.50841029e+01,   1.52176582e+01,   1.52588321e+01,\n",
        "         1.53408550e+01,   1.53855097e+01,   1.54134781e+01,\n",
        "         1.54696967e+01,   1.55932888e+01,   1.56980969e+01,\n",
        "         1.57603161e+01,   1.58030791e+01,   1.58186694e+01,\n",
        "         1.59794981e+01,   1.60629979e+01,   1.61054836e+01,\n",
        "         1.61835192e+01,   1.62353324e+01,   1.63795930e+01,\n",
        "         1.64084940e+01,   1.65051316e+01,   1.65772498e+01,\n",
        "         1.66820402e+01,   1.67387804e+01,   1.68121247e+01,\n",
        "         1.68874825e+01,   1.69934512e+01,   1.70964105e+01,\n",
        "         1.72494467e+01,   1.72662540e+01,   1.74071953e+01,\n",
        "         1.74502991e+01,   1.74781029e+01,   1.75262058e+01,\n",
        "         1.76103982e+01,   1.77322971e+01,   1.77672400e+01,\n",
        "         1.78545006e+01,   1.79049984e+01,   1.80191010e+01,\n",
        "         1.80925242e+01,   1.81180334e+01,   1.81610273e+01,\n",
        "         1.82481224e+01,   1.83365419e+01,   1.84310589e+01,\n",
        "         1.85001980e+01,   1.85794397e+01,   1.86235358e+01,\n",
        "         1.86536394e+01,   1.87661863e+01,   1.88348451e+01,\n",
        "         1.89224001e+01,   1.89393016e+01,   1.91588972e+01,\n",
        "         1.92170229e+01,   1.92631845e+01,   1.93797362e+01,\n",
        "         1.94340033e+01,   1.94699668e+01,   1.95628655e+01,\n",
        "         1.96505341e+01,   1.96635190e+01,   1.97853930e+01,\n",
        "         1.98584686e+01,   1.99200809e+01,   2.00186253e+01,\n",
        "         2.00847333e+01,   2.01520130e+01,   2.01691653e+01,\n",
        "         2.02995512e+01,   2.03673248e+01,   2.04739991e+01,\n",
        "         2.05483039e+01,   2.07489202e+01,   2.08053183e+01,\n",
        "         2.08897490e+01,   2.09773725e+01,   2.10145164e+01,\n",
        "         2.10675255e+01,   2.11288449e+01,   2.12270189e+01,\n",
        "         2.13706330e+01,   2.14358697e+01,   2.15008906e+01,\n",
        "         2.15388618e+01,   2.16524444e+01,   2.16971269e+01,\n",
        "         2.17580709e+01,   2.18100962e+01,   2.20230151e+01,\n",
        "         2.21221764e+01,   2.21400729e+01,   2.22093646e+01,\n",
        "         2.22923268e+01,   2.23845534e+01,   2.25385228e+01,\n",
        "         2.26015095e+01,   2.27237647e+01,   2.28328992e+01,\n",
        "         2.28744281e+01,   2.29099250e+01,   2.29979741e+01,\n",
        "         2.30021713e+01,   2.31103387e+01,   2.31507872e+01,\n",
        "         2.32979546e+01,   2.33889717e+01,   2.34695844e+01,\n",
        "         2.34764073e+01,   2.35243093e+01,   2.37120769e+01,\n",
        "         2.37460044e+01,   2.38581742e+01,   2.39502234e+01,\n",
        "         2.39803481e+01,   2.40964062e+01,   2.41426602e+01,\n",
        "         2.42831863e+01,   2.43907119e+01,   2.44695076e+01,\n",
        "         2.45359476e+01,   2.45854889e+01,   2.46759095e+01,\n",
        "         2.47972440e+01,   2.48969421e+01,   2.50275888e+01,\n",
        "         2.50478640e+01,   2.51723916e+01,   2.51940568e+01,\n",
        "         2.52241302e+01,   2.53929090e+01,   2.54478949e+01,\n",
        "         2.54820772e+01,   2.55950696e+01,   2.57309400e+01,\n",
        "         2.58140089e+01,   2.59144161e+01,   2.59451369e+01,\n",
        "         2.60304712e+01,   2.60364426e+01,   2.61445966e+01,\n",
        "         2.62565370e+01,   2.64804962e+01,   2.65419320e+01,\n",
        "         2.66509139e+01,   2.66895160e+01,   2.67581791e+01,\n",
        "         2.68274987e+01,   2.68920142e+01,   2.69170638e+01,\n",
        "         2.70921003e+01,   2.71737546e+01,   2.72270746e+01,\n",
        "         2.73423691e+01,   2.73465742e+01,   2.74168691e+01,\n",
        "         2.75483663e+01,   2.76991756e+01,   2.78010960e+01,\n",
        "         2.79557107e+01,   2.80087018e+01,   2.80299334e+01,\n",
        "         2.82063434e+01,   2.82755906e+01,   2.83429238e+01,\n",
        "         2.84100360e+01,   2.85198992e+01,   2.86778168e+01,\n",
        "         2.87643569e+01,   2.88114528e+01,   2.89397186e+01,\n",
        "         2.89957721e+01,   2.90861369e+01,   2.91685109e+01,\n",
        "         2.92044109e+01,   2.94034554e+01,   2.94471172e+01,\n",
        "         2.95435599e+01,   2.96875542e+01,   2.97665440e+01,\n",
        "         2.98853587e+01,   2.99826750e+01,   3.01305323e+01,\n",
        "         3.01708358e+01,   3.02928467e+01,   3.03613533e+01,\n",
        "         3.04367246e+01,   3.04695427e+01,   3.06580422e+01,\n",
        "         3.07409125e+01,   3.07583108e+01,   3.08608788e+01,\n",
        "         3.09197002e+01,   3.10123372e+01,   3.11431092e+01,\n",
        "         3.12544773e+01,   3.13673786e+01,   3.14813007e+01,\n",
        "         3.15088641e+01,   3.16336246e+01,   3.16667555e+01,\n",
        "         3.18591238e+01,   3.19852837e+01,   3.20082799e+01,\n",
        "         3.21692546e+01,   3.23469310e+01,   3.23816285e+01,\n",
        "         3.24915054e+01,   3.26384703e+01,   3.26922189e+01,\n",
        "         3.27281473e+01,   3.28251532e+01,   3.29215080e+01,\n",
        "         3.30537499e+01,   3.31300147e+01,   3.32217822e+01,\n",
        "         3.34624857e+01,   3.34974856e+01,   3.35767008e+01,\n",
        "         3.36618868e+01,   3.38330156e+01,   3.39367617e+01,\n",
        "         3.40898616e+01,   3.41369510e+01,   3.42392087e+01,\n",
        "         3.43815253e+01,   3.45329016e+01,   3.45948137e+01,\n",
        "         3.46690028e+01,   3.47391920e+01,   3.48823347e+01,\n",
        "         3.50489007e+01,   3.52211774e+01,   3.52601645e+01,\n",
        "         3.53576507e+01,   3.55757779e+01,   3.55922357e+01,\n",
        "         3.56489066e+01,   3.58600811e+01,   3.59200472e+01,\n",
        "         3.60812234e+01,   3.62364639e+01,   3.63672240e+01,\n",
        "         3.63785630e+01,   3.64710470e+01,   3.65921072e+01,\n",
        "         3.68182438e+01,   3.68763378e+01,   3.70931375e+01,\n",
        "         3.72723228e+01,   3.73559846e+01,   3.75900912e+01,\n",
        "         3.77369120e+01,   3.79247884e+01,   3.79839510e+01,\n",
        "         3.81546060e+01,   3.82775629e+01,   3.83380776e+01,\n",
        "         3.83904620e+01,   3.86271871e+01,   3.87811326e+01,\n",
        "         3.88285882e+01,   3.90745574e+01,   3.92349802e+01,\n",
        "         3.93371032e+01,   3.94628304e+01,   3.95765995e+01,\n",
        "         3.97967074e+01,   3.99914002e+01,   4.01671440e+01,\n",
        "         4.03146403e+01,   4.04261281e+01,   4.06705298e+01,\n",
        "         4.07084438e+01,   4.09679669e+01,   4.12005124e+01,\n",
        "         4.13491102e+01,   4.14895619e+01,   4.17674119e+01,\n",
        "         4.18652672e+01,   4.20083584e+01,   4.22708266e+01,\n",
        "         4.24130192e+01,   4.27304985e+01,   4.32478532e+01,\n",
        "         4.35687574e+01,   4.37729172e+01,   4.39215752e+01,\n",
        "         4.44418512e+01])"
       ]
      }
     ],
     "prompt_number": 24
    },
    {
     "cell_type": "markdown",
     "metadata": {},
     "source": [
      "As usual, it is difficult to obtain insight from a raw listing of the data (except to see that `eigvalsh` returns the eigenvalues already ordered). So we proceed to plot them:"
     ]
    },
    {
     "cell_type": "code",
     "collapsed": false,
     "input": [
      "%matplotlib inline\n",
      "import matplotlib.pyplot as plt"
     ],
     "language": "python",
     "metadata": {},
     "outputs": [],
     "prompt_number": 25
    },
    {
     "cell_type": "code",
     "collapsed": false,
     "input": [
      "plt.plot(lamb)"
     ],
     "language": "python",
     "metadata": {},
     "outputs": [
      {
       "metadata": {},
       "output_type": "pyout",
       "prompt_number": 26,
       "text": [
        "[<matplotlib.lines.Line2D at 0x107434850>]"
       ]
      },
      {
       "metadata": {},
       "output_type": "display_data",
       "png": "[encoded data removed]",
       "text": [
        "<matplotlib.figure.Figure at 0x106d46f50>"
       ]
      }
     ],
     "prompt_number": 26
    },
    {
     "cell_type": "markdown",
     "metadata": {},
     "source": [
      "[If only one array is passed to `plt.plot`, it just uses $1$, $2$, etc. on the $x$-axis.]"
     ]
    },
    {
     "cell_type": "markdown",
     "metadata": {},
     "source": [
      "We see that the results apparently lie on a smooth curve. To check this, let's run the same calculation several times and plot them on top of each other:"
     ]
    },
    {
     "cell_type": "code",
     "collapsed": false,
     "input": [
      "size = 1000\n",
      "\n",
      "for i in range(5):\n",
      "    M = np.random.randn(size, size)\n",
      "    M = 0.5 * (M + M.T)  # symmetrise\n",
      "\n",
      "    lamb = linalg.eigvalsh(M)\n",
      "    \n",
      "    plt.plot(lamb)"
     ],
     "language": "python",
     "metadata": {},
     "outputs": [
      {
       "metadata": {},
       "output_type": "display_data",
       "png": "[encoded data removed]",
       "text": [
        "<matplotlib.figure.Figure at 0x10727e8d0>"
       ]
      }
     ],
     "prompt_number": 27
    },
    {
     "cell_type": "markdown",
     "metadata": {},
     "source": [
      "At the scale of the figure, the curves coincide! This is despite the fact that the matrices are random."
     ]
    },
    {
     "cell_type": "markdown",
     "metadata": {},
     "source": [
      "Now let's make a second plot with a zoom. To do this, we use `matplotlib`'s capacity for subplots:"
     ]
    },
    {
     "cell_type": "code",
     "collapsed": false,
     "input": [
      "plt.subplots(ncols=2)"
     ],
     "language": "python",
     "metadata": {},
     "outputs": [
      {
       "metadata": {},
       "output_type": "pyout",
       "prompt_number": 69,
       "text": [
        "(<matplotlib.figure.Figure at 0x10915c8d0>,\n",
        " array([<matplotlib.axes.AxesSubplot object at 0x10b20a0d0>,\n",
        "        <matplotlib.axes.AxesSubplot object at 0x10b28a910>], dtype=object))"
       ]
      },
      {
       "metadata": {},
       "output_type": "display_data",
       "png": "[encoded data removed]",
       "text": [
        "<matplotlib.figure.Figure at 0x10915c8d0>"
       ]
      }
     ],
     "prompt_number": 69
    },
    {
     "cell_type": "markdown",
     "metadata": {},
     "source": [
      "The `plt.subplots()` function returns a tuple, consisting of the figure object and the two axes objects. Here we are seeing the object-oriented layer underneath poking through. To use these, we to tuple unpacking to assign these objects names:"
     ]
    },
    {
     "cell_type": "code",
     "collapsed": false,
     "input": [
      "fig, ax = plt.subplots(ncols=2);\n"
     ],
     "language": "python",
     "metadata": {},
     "outputs": [
      {
       "metadata": {},
       "output_type": "display_data",
       "png": "[encoded data removed]",
       "text": [
        "<matplotlib.figure.Figure at 0x10b751d90>"
       ]
      }
     ],
     "prompt_number": 75
    },
    {
     "cell_type": "markdown",
     "metadata": {},
     "source": [
      "`ax` is a list of axis objects, so we refer to the individual ones as `ax[0]`, `ax[1]`, etc."
     ]
    },
    {
     "cell_type": "code",
     "collapsed": false,
     "input": [
      "fig, ax = plt.subplots(figsize=(12,5), ncols=2)\n",
      "\n",
      "size = 1000\n",
      "\n",
      "for i in range(5):\n",
      "    M = np.random.randn(size, size)\n",
      "    M = 0.5 * (M + M.T)  # symmetrise\n",
      "\n",
      "    lamb = linalg.eigvalsh(M)\n",
      "    \n",
      "    ax[0].plot(lamb)  # draw on the first axis\n",
      "    ax[1].plot(lamb, \".-\", alpha=0.5)  # draw on the second axis\n",
      "    \n",
      "# zoom the second axis:\n",
      "ax[1].set_xlim(500, 550)\n",
      "ax[1].set_ylim(0, 3)\n"
     ],
     "language": "python",
     "metadata": {},
     "outputs": [
      {
       "metadata": {},
       "output_type": "pyout",
       "prompt_number": 28,
       "text": [
        "(0, 3)"
       ]
      },
      {
       "metadata": {},
       "output_type": "display_data",
       "png": "[encoded data removed]",
       "text": [
        "<matplotlib.figure.Figure at 0x106d8bd50>"
       ]
      }
     ],
     "prompt_number": 28
    },
    {
     "cell_type": "markdown",
     "metadata": {},
     "source": [
      "We can now *see* the (small) random variations in the eigenvalues of the different matrices.\n",
      "\n",
      "----\n",
      "**Exercise**: Add a box on the left plot to indicate the zoom region shown in the right plot.\n",
      "\n",
      "----\n",
      "\n",
      "----\n",
      "**Exercise**: How could we *calculate* these small variations?\n",
      "\n",
      "----\n"
     ]
    },
    {
     "cell_type": "markdown",
     "metadata": {},
     "source": [
      "One way of adding a box to the plot is as a `matplotlib` *patch*, which is a feature added to the graphic:"
     ]
    },
    {
     "cell_type": "code",
     "collapsed": false,
     "input": [
      "import matplotlib.patches as patches\n",
      "\n",
      "rect = patches.Rectangle((500, 0), 50, 3, fill=False)\n",
      "\n",
      "plt.plot(lamb)\n",
      "\n",
      "ax = plt.gca()  # get current axis\n",
      "ax.add_patch(rect)"
     ],
     "language": "python",
     "metadata": {},
     "outputs": [
      {
       "metadata": {},
       "output_type": "pyout",
       "prompt_number": 37,
       "text": [
        "<matplotlib.patches.Rectangle at 0x106465090>"
       ]
      },
      {
       "metadata": {},
       "output_type": "display_data",
       "png": "[encoded data removed]",
       "text": [
        "<matplotlib.figure.Figure at 0x106465a90>"
       ]
      }
     ],
     "prompt_number": 37
    },
    {
     "cell_type": "heading",
     "level": 2,
     "metadata": {},
     "source": [
      "Manipulating the data"
     ]
    },
    {
     "cell_type": "markdown",
     "metadata": {},
     "source": [
      "In random matrix theory, one of the quantities of interest are the differences between consecutive eigenvalues."
     ]
    },
    {
     "cell_type": "markdown",
     "metadata": {},
     "source": [
      "----\n",
      "**Exercise**: Calculate these differences in *three* ways:\n",
      "1. Using a `for` loop\n",
      "2. Using a list comprehension\n",
      "3. Using vectorized `numpy``\n",
      "\n",
      "Which is best?\n",
      "\n",
      "----"
     ]
    },
    {
     "cell_type": "markdown",
     "metadata": {},
     "source": [
      "In fact, `numpy` also has a built-in function for calculating differences of arrays, `diff`:"
     ]
    },
    {
     "cell_type": "code",
     "collapsed": false,
     "input": [
      "differences = np.diff(lamb)"
     ],
     "language": "python",
     "metadata": {},
     "outputs": [],
     "prompt_number": 80
    },
    {
     "cell_type": "markdown",
     "metadata": {},
     "source": [
      "Let's plot the differences:"
     ]
    },
    {
     "cell_type": "code",
     "collapsed": false,
     "input": [
      "plt.plot(differences, \".-\", alpha=0.5)"
     ],
     "language": "python",
     "metadata": {},
     "outputs": [
      {
       "metadata": {},
       "output_type": "pyout",
       "prompt_number": 83,
       "text": [
        "[<matplotlib.lines.Line2D at 0x10b78f850>]"
       ]
      },
      {
       "metadata": {},
       "output_type": "display_data",
       "png": "[encoded data removed]",
       "text": [
        "<matplotlib.figure.Figure at 0x10b22c410>"
       ]
      }
     ],
     "prompt_number": 83
    },
    {
     "cell_type": "markdown",
     "metadata": {},
     "source": [
      "This is not very informative. \n",
      "\n",
      "----\n",
      "**Exercise**: How could we summarize this data?\n",
      "\n",
      "----"
     ]
    },
    {
     "cell_type": "heading",
     "level": 1,
     "metadata": {},
     "source": [
      "Example 2: Exploring an ODE"
     ]
    },
    {
     "cell_type": "markdown",
     "metadata": {},
     "source": [
      "Ordinary differential equations (ODEs) are crucial in many areas of science. Here, we will investigate how to explore a simple ODE model occurring in chemistry, modelling the kinetics of the concentrations of two chemical species in a reaction (of chlorine, iodine and malonic acid)."
     ]
    },
    {
     "cell_type": "markdown",
     "metadata": {},
     "source": [
      "\\begin{align}\n",
      "\\dot{x} &= a - x - \\frac{4xy}{1+x^2} =: f_1(x, y) \\\\\n",
      "\\dot{y} &= b \\, x \\left( 1-\\frac{y}{1+x^2} \\right) =: f_2(x,y)\n",
      "\\end{align}"
     ]
    },
    {
     "cell_type": "markdown",
     "metadata": {},
     "source": [
      "There are two parameters in the system, $a$ and $b$, which depend on the concentrations of other species present in the reaction, that vary on a much slower time-scale. [Lengyel et al., J. Am. Chem. Soc. 1990]"
     ]
    },
    {
     "cell_type": "markdown",
     "metadata": {},
     "source": [
      "There are many numerical methods to solve ODEs. A few of the most common ones are available in the `integrate` submodule of `scipy`. "
     ]
    },
    {
     "cell_type": "code",
     "collapsed": false,
     "input": [
      "import scipy.integrate as integrate"
     ],
     "language": "python",
     "metadata": {},
     "outputs": [],
     "prompt_number": 38
    },
    {
     "cell_type": "markdown",
     "metadata": {},
     "source": [
      "The simplest interface is provided by `odeint`; a more flexible, but more complicated, one, is given by `ode`."
     ]
    },
    {
     "cell_type": "code",
     "collapsed": false,
     "input": [
      "integrate.odeint?"
     ],
     "language": "python",
     "metadata": {},
     "outputs": [],
     "prompt_number": 40
    },
    {
     "cell_type": "markdown",
     "metadata": {},
     "source": [
      "These methods treat ODEs as a single, vector equation of the form\n",
      "\n",
      "$$\\dot{\\mathbf{x}} = \\mathbf{f}(\\mathbf{x}; t)$$\n",
      "\n",
      "where $\\mathbf{x} = \\begin{pmatrix} x \\\\ y \\end{pmatrix}$ is the vector of variables in the problem, and the function $\\mathbf{f} = (f_1, f_2)$ accepts $\\mathbf{x}$ and returns the vector of right-hand sides $f_1$ and $f_2$ of the individual equations, again as a vector.\n",
      "\n",
      "The function `f` must thus be defined as follows; note that the `t` argument is necessary, even if the function $f$ does not depend explicitly on $t$."
     ]
    },
    {
     "cell_type": "markdown",
     "metadata": {},
     "source": [
      "----\n",
      "**Exercise**: (i) Define a function `f` which accepts a \"vector\" `x_vec`(that can, in fact, be any kind of iterable) together with `t`, and returns the new \"vector\" $\\mathbf{f}(\\mathbf{x})$.\n",
      "\n",
      "(ii) Choose an initial condition and pass it to the `odeint` routine.\n",
      "\n",
      "----"
     ]
    },
    {
     "cell_type": "markdown",
     "metadata": {},
     "source": [
      "We can now use this to sketch the \"phase space\" of the system, i.e. to show a collection of trajectories from different initial conditions.\n",
      "\n",
      "----\n",
      "**Exercise**: Integrate the system from different initial conditions.\n",
      "\n",
      "----"
     ]
    },
    {
     "cell_type": "markdown",
     "metadata": {},
     "source": [
      "In fact, `matplotlib` contains a convenience function, `streamplot`, that does this."
     ]
    },
    {
     "cell_type": "markdown",
     "metadata": {},
     "source": [
      "----\n",
      "**Exercise**: Copy and modify the example in the documentation for the `ode` function to simulate this system using the `dopri5` method, which is a type of Runge-Kutta method. NB: the order of the arguments is reversed compared to `odeint`.\n",
      "\n",
      "----"
     ]
    },
    {
     "cell_type": "code",
     "collapsed": false,
     "input": [
      "integrate.ode?"
     ],
     "language": "python",
     "metadata": {},
     "outputs": [],
     "prompt_number": 42
    },
    {
     "cell_type": "code",
     "collapsed": false,
     "input": [],
     "language": "python",
     "metadata": {},
     "outputs": []
    }
   ],
   "metadata": {}
  }
 ]
}