{
 "metadata": {
  "celltoolbar": "Slideshow",
  "name": "",
  "signature": "sha256:6a3580c4b9c9884c3c83aa968d5a185d8307f25f1539f8c8ee34713f1ff175d4"
 },
 "nbformat": 3,
 "nbformat_minor": 0,
 "worksheets": [
  {
   "cells": [
    {
     "cell_type": "heading",
     "level": 1,
     "metadata": {
      "slideshow": {
       "slide_type": "slide"
      }
     },
     "source": [
      "The Wonderful World of Scientific Python: A Guided Tour"
     ]
    },
    {
     "cell_type": "markdown",
     "metadata": {
      "internals": {
       "slide_helper": "subslide_end"
      },
      "slide_helper": "slide_end",
      "slideshow": {
       "slide_type": "fragment"
      }
     },
     "source": [
      "##Dr. David P. Sanders\n",
      "\n",
      "###Department of Physics, Faculty of Sciences\n",
      "###National University of Mexico"
     ]
    },
    {
     "cell_type": "heading",
     "level": 1,
     "metadata": {
      "internals": {
       "slide_type": "subslide"
      },
      "slideshow": {
       "slide_type": "slide"
      }
     },
     "source": [
      "\n",
      "Why is Python a good choice for scientific computing?"
     ]
    },
    {
     "cell_type": "heading",
     "level": 1,
     "metadata": {
      "internals": {
       "slide_type": "subslide"
      },
      "slideshow": {
       "slide_type": "slide"
      }
     },
     "source": [
      "Python is an interpreted language"
     ]
    },
    {
     "cell_type": "markdown",
     "metadata": {
      "internals": {},
      "slideshow": {
       "slide_type": "fragment"
      }
     },
     "source": [
      "- It works via an interpreter\n",
      "- So can be used *interactively*"
     ]
    },
    {
     "cell_type": "markdown",
     "metadata": {
      "internals": {},
      "slideshow": {
       "slide_type": "fragment"
      }
     },
     "source": [
      "- Its syntax is simple, elegant and readable"
     ]
    },
    {
     "cell_type": "markdown",
     "metadata": {
      "internals": {},
      "slideshow": {
       "slide_type": "fragment"
      }
     },
     "source": [
      "- \"Bueno, bonito y barato\"\n",
      "- Good, pretty and cheap\n",
      "- Free software"
     ]
    },
    {
     "cell_type": "markdown",
     "metadata": {
      "internals": {
       "slide_helper": "subslide_end"
      },
      "slide_helper": "slide_end",
      "slideshow": {
       "slide_type": "fragment"
      }
     },
     "source": [
      "- It's powerful, due to its ecosystem of libraries"
     ]
    },
    {
     "cell_type": "heading",
     "level": 1,
     "metadata": {
      "internals": {
       "slide_type": "subslide"
      },
      "slideshow": {
       "slide_type": "slide"
      }
     },
     "source": [
      "Python is versatile"
     ]
    },
    {
     "cell_type": "heading",
     "level": 2,
     "metadata": {
      "internals": {},
      "slideshow": {
       "slide_type": "fragment"
      }
     },
     "source": [
      "Can I do $X$ en Python? *Yes*, for any value of $X$!"
     ]
    },
    {
     "cell_type": "markdown",
     "metadata": {
      "internals": {},
      "slideshow": {
       "slide_type": "fragment"
      }
     },
     "source": [
      "E.g.\n",
      "\n",
      "- Download information from a web page\n",
      "- Manipulate texts to extract and create information\n",
      "- Animate a world in 3D\n",
      "- Process huge data sets\n",
      "- Make publication-quality graphics\n"
     ]
    },
    {
     "cell_type": "heading",
     "level": 1,
     "metadata": {
      "internals": {},
      "slideshow": {
       "slide_type": "slide"
      }
     },
     "source": [
      "When shouldn't I use Python?"
     ]
    },
    {
     "cell_type": "markdown",
     "metadata": {
      "internals": {
       "slide_helper": "subslide_end"
      },
      "slide_helper": "slide_end",
      "slideshow": {
       "slide_type": "fragment"
      }
     },
     "source": [
      "It is often said to be slow\n",
      "\n",
      "- it is, for certain operations, in particular nested loops\n",
      "\n",
      "These days there are solutions for this\n"
     ]
    },
    {
     "cell_type": "heading",
     "level": 1,
     "metadata": {
      "internals": {
       "slide_type": "subslide"
      },
      "slideshow": {
       "slide_type": "slide"
      }
     },
     "source": [
      "Installing Python"
     ]
    },
    {
     "cell_type": "markdown",
     "metadata": {
      "internals": {
       "slide_helper": "subslide_end"
      },
      "slide_helper": "slide_end",
      "slideshow": {
       "slide_type": "fragment"
      }
     },
     "source": [
      "The easiest method is with a \"distribution\":\n",
      "\n",
      "- Continuum \"Anaconda\":  <https://store.continuum.io/cshop/anaconda/>\n",
      "\n",
      "- Enthought \"Canopy\": <https://www.enthought.com/products/canopy/>\n",
      "\n",
      "The alternative is through your favourite package manager (`apt-get`, `brew`, etc.)"
     ]
    },
    {
     "cell_type": "heading",
     "level": 1,
     "metadata": {
      "internals": {
       "slide_helper": "subslide_end",
       "slide_type": "subslide"
      },
      "slide_helper": "subslide_end",
      "slideshow": {
       "slide_type": "slide"
      }
     },
     "source": [
      "How do I run Python?"
     ]
    },
    {
     "cell_type": "markdown",
     "metadata": {
      "internals": {
       "slide_helper": "subslide_end",
       "slide_type": "subslide"
      },
      "slide_helper": "slide_end",
      "slideshow": {
       "slide_type": "subslide"
      }
     },
     "source": [
      "- From the command line:\n",
      "\n",
      "    `> python` \n",
      "    \n",
      "    (anti-recommended for interactive use; use only for scripts)\n",
      "\n",
      "\n",
      "- Command-line interactive use\n",
      "\n",
      "    `> ipython`\n",
      "\n",
      "\n",
      "- Forget the command line and enter the 21st century!:\n",
      "\n",
      "    `> ipython notebook`\n",
      "    \n"
     ]
    },
    {
     "cell_type": "heading",
     "level": 1,
     "metadata": {
      "slideshow": {
       "slide_type": "slide"
      }
     },
     "source": [
      "Which version of Python should I use?"
     ]
    },
    {
     "cell_type": "markdown",
     "metadata": {
      "slideshow": {
       "slide_type": "subslide"
      }
     },
     "source": [
      "- There are two current versions: 2.7 y 3.4\n",
      "\n",
      "- Some packages still work only with 2.7\n",
      "\n",
      "- But version 2 is now deprecated\n",
      "\n",
      "- Use `python3` e `ipython3` instead of `python` and `ipython`"
     ]
    },
    {
     "cell_type": "heading",
     "level": 1,
     "metadata": {
      "internals": {
       "slide_helper": "subslide_end",
       "slide_type": "subslide"
      },
      "slide_helper": "subslide_end",
      "slideshow": {
       "slide_type": "slide"
      }
     },
     "source": [
      "Why use the IPython Notebook?\n"
     ]
    },
    {
     "cell_type": "markdown",
     "metadata": {
      "internals": {
       "slide_helper": "subslide_end",
       "slide_type": "subslide"
      },
      "slide_helper": "slide_end",
      "slideshow": {
       "slide_type": "subslide"
      }
     },
     "source": [
      "The IPython Notebook is an amazing productivity tool that literally gives us a *computational notebook*\n",
      "\n",
      "Notebook documents may include\n",
      "\n",
      "- Rich text\n",
      "- Equations written with LaTeX \n",
      "- Source code in Python and other languages \n",
      "- Results\n",
      "- Graphics\n",
      "- Links to web pages and other resources\n",
      "- Multimedia"
     ]
    },
    {
     "cell_type": "heading",
     "level": 1,
     "metadata": {
      "internals": {
       "slide_type": "subslide"
      },
      "slideshow": {
       "slide_type": "slide"
      }
     },
     "source": [
      "What is the structure of a notebook?"
     ]
    },
    {
     "cell_type": "markdown",
     "metadata": {
      "slideshow": {
       "slide_type": "subslide"
      }
     },
     "source": [
      "A notebook consists of a sequence of *cells* of different types:\n",
      "\n",
      "- Text (Markdown): `Ctrl-m m`\n",
      "- Code: `Ctrl-m y`\n",
      "- Headings: `Ctrl-m 1`, ..., `Ctrl-m 6`\n",
      "- \"Raw\" text:  `Ctrl-m t`\n",
      "\n",
      "Use `Ctrl-m h` to see keyboard shortcuts\n",
      "\n",
      "Cells may be edited using double click or `Enter`"
     ]
    },
    {
     "cell_type": "heading",
     "level": 1,
     "metadata": {
      "slideshow": {
       "slide_type": "slide"
      }
     },
     "source": [
      "The \"SciPy stack\""
     ]
    },
    {
     "cell_type": "markdown",
     "metadata": {
      "slideshow": {
       "slide_type": "fragment"
      }
     },
     "source": [
      "- IPython: the environment\n",
      "- NumPy: vectors & matrices\n",
      "- Matplotlib: graphics\n",
      "- SciPy: algorithms for scientific computation\n",
      "- SymPy: symbolic calculation (computer algebra)\n",
      "- Pandas: data analysis\n",
      "- nose: tests"
     ]
    }
   ],
   "metadata": {}
  }
 ]
}