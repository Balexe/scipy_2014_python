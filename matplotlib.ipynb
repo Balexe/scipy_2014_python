{
 "metadata": {
  "name": "",
  "signature": "sha256:2db49999a0c7ffe9c7842f3b0f6da29632e63e9fbd82686df31d72c4f4698c7a"
 },
 "nbformat": 3,
 "nbformat_minor": 0,
 "worksheets": [
  {
   "cells": [
    {
     "cell_type": "heading",
     "level": 1,
     "metadata": {},
     "source": [
      "The `matplotlib` package for scientific plots"
     ]
    },
    {
     "cell_type": "markdown",
     "metadata": {},
     "source": [
      "`matplotlib` is the current standard package for high-quality scientific plots of many kinds, mainly static 2D plots, but also basic 3D plots and animations. The name arose since it is a **lib**rary for **plot**ting with a syntax familiar to users of **MAT**LAB.\n",
      "\n",
      "This syntax provides a simple, high-level interface to the package. However, there is also an object-oriented interface which enables more control over the output."
     ]
    },
    {
     "cell_type": "markdown",
     "metadata": {},
     "source": [
      "To use `matplotlib` together with the IPython Notebook, it is necessary  to first set up some behind-the-scenes interactions using"
     ]
    },
    {
     "cell_type": "code",
     "collapsed": false,
     "input": [
      "%matplotlib"
     ],
     "language": "python",
     "metadata": {},
     "outputs": [
      {
       "output_type": "stream",
       "stream": "stdout",
       "text": [
        "Using matplotlib backend: MacOSX\n"
       ]
      }
     ],
     "prompt_number": 1
    },
    {
     "cell_type": "code",
     "collapsed": false,
     "input": [
      "a = 3"
     ],
     "language": "python",
     "metadata": {},
     "outputs": [],
     "prompt_number": 3
    },
    {
     "cell_type": "code",
     "collapsed": false,
     "input": [
      "%who"
     ],
     "language": "python",
     "metadata": {},
     "outputs": [
      {
       "output_type": "stream",
       "stream": "stdout",
       "text": [
        "a\t \n"
       ]
      }
     ],
     "prompt_number": 4
    },
    {
     "cell_type": "code",
     "collapsed": false,
     "input": [
      "%whos"
     ],
     "language": "python",
     "metadata": {},
     "outputs": [
      {
       "output_type": "stream",
       "stream": "stdout",
       "text": [
        "Variable   Type    Data/Info\n",
        "----------------------------\n",
        "a          int     3\n"
       ]
      }
     ],
     "prompt_number": 5
    },
    {
     "cell_type": "markdown",
     "metadata": {},
     "source": [
      "Note that this *does not*, however, import any names into the current namespace, so that in order actually to use the package, the relevant parts must also be imported. The high-level interface is contained in the `pyplot` submodule, which is usually imported under the name `plt` for brevity:"
     ]
    },
    {
     "cell_type": "code",
     "collapsed": false,
     "input": [
      "import matplotlib.pyplot as plt\n",
      "\n",
      "import numpy as np"
     ],
     "language": "python",
     "metadata": {},
     "outputs": [],
     "prompt_number": 6
    },
    {
     "cell_type": "markdown",
     "metadata": {},
     "source": [
      "Let's create some data to plot:"
     ]
    },
    {
     "cell_type": "code",
     "collapsed": false,
     "input": [
      "xx = np.linspace(-5, 5, 101)\n",
      "yy = xx**2 + np.random.random(len(xx))"
     ],
     "language": "python",
     "metadata": {},
     "outputs": []
    },
    {
     "cell_type": "code",
     "collapsed": false,
     "input": [
      "plt.plot(xx, yy)"
     ],
     "language": "python",
     "metadata": {},
     "outputs": []
    },
    {
     "cell_type": "markdown",
     "metadata": {},
     "source": [
      "We see that an external window is opened which allows panning, zooming and saving the file. However, it is often convenient to include plots directly into the notebook, which may be accomplished with"
     ]
    },
    {
     "cell_type": "code",
     "collapsed": false,
     "input": [
      "%matplotlib inline"
     ],
     "language": "python",
     "metadata": {},
     "outputs": []
    },
    {
     "cell_type": "code",
     "collapsed": false,
     "input": [
      "plt.plot(xx, yy)"
     ],
     "language": "python",
     "metadata": {},
     "outputs": []
    },
    {
     "cell_type": "markdown",
     "metadata": {},
     "source": [
      "All graphs should have at least labels indicating what is shown on the axes. Standard matplotlib allows a subset of TeX:"
     ]
    },
    {
     "cell_type": "code",
     "collapsed": false,
     "input": [
      "plt.xlabel(\"$x$\")\n",
      "plt.ylabel(\"$x^2$\")\n",
      "\n",
      "plt.plot(xx, yy, label=\"Noisy quadratic\")\n",
      "plt.legend()"
     ],
     "language": "python",
     "metadata": {},
     "outputs": []
    },
    {
     "cell_type": "markdown",
     "metadata": {},
     "source": [
      "The style of the graph may be changed using a string that specifies the basic format, as well as keyword arguments. The many options are listed in the help of the `plot` command"
     ]
    },
    {
     "cell_type": "code",
     "collapsed": false,
     "input": [
      "plt.plot(xx, yy, \"rs\", markersize=10, markeredgecolor=\"blue\")\n"
     ],
     "language": "python",
     "metadata": {},
     "outputs": []
    },
    {
     "cell_type": "heading",
     "level": 2,
     "metadata": {},
     "source": [
      "Histograms"
     ]
    },
    {
     "cell_type": "markdown",
     "metadata": {},
     "source": [
      "The standard types of scientific graphs are available in `matplotlib`. Although `matplotlib` is not designed for general data processing, which should be done in `numpy` and other packages, it has certain summary statistics available, for example histograms:"
     ]
    },
    {
     "cell_type": "code",
     "collapsed": false,
     "input": [
      "xx = np.random.randn(10000)\n",
      "plt.hist(xx, 100, normed=True, histtype=\"step\");  \n",
      "# semicolon suppresses text output"
     ],
     "language": "python",
     "metadata": {},
     "outputs": []
    },
    {
     "cell_type": "markdown",
     "metadata": {},
     "source": [
      "For data in 2D, there are 2D histograms, which calculate the number of data points falling in each 2D rectangular bin, and `hexbin`, which uses hexagons instead, and often provides higher-quality (smoother) results:"
     ]
    },
    {
     "cell_type": "code",
     "collapsed": false,
     "input": [
      "plt.hist2d(xx, yy, 100);\n",
      "plt.axis(\"equal\")"
     ],
     "language": "python",
     "metadata": {},
     "outputs": []
    },
    {
     "cell_type": "code",
     "collapsed": false,
     "input": [
      "N = 100000\n",
      "xx = np.random.randn(N)\n",
      "yy = np.random.randn(N)\n",
      "\n",
      "plt.hexbin(xx, yy)\n",
      "plt.axis(\"equal\")"
     ],
     "language": "python",
     "metadata": {},
     "outputs": []
    },
    {
     "cell_type": "markdown",
     "metadata": {},
     "source": [
      "An alternative is a standard rectangular 2D histogram:"
     ]
    },
    {
     "cell_type": "heading",
     "level": 2,
     "metadata": {},
     "source": [
      "Heat maps"
     ]
    },
    {
     "cell_type": "markdown",
     "metadata": {},
     "source": [
      "Given a matrix of values, we can represent graphically the values in the matrix via a \"heat map\".\n",
      "\n",
      "[Note that the default color maps in matplotlib are not optimal; see e.g. the discussion [here](https://datarazzi.wordpress.com/2014/01/13/plot-or-not-voting-results/)]"
     ]
    },
    {
     "cell_type": "markdown",
     "metadata": {},
     "source": [
      "To create useful tables of numbers, we can use an interesting `numpy` feature called `meshgrid`. Given $x$ and $y$ vectors, this generates *two* matrices, consisting of the $x$ and $y$ coordinates of all points of the grid formed by putting vertical and horizontal lines at those coordinates:"
     ]
    },
    {
     "cell_type": "code",
     "collapsed": false,
     "input": [
      "Z = np.random.rand(100, 100)\n",
      "plt.pcolor(Z)\n",
      "plt.axis(\"equal\")"
     ],
     "language": "python",
     "metadata": {},
     "outputs": [
      {
       "metadata": {},
       "output_type": "pyout",
       "prompt_number": 7,
       "text": [
        "(0.0, 100.0, -20.0, 100.0)"
       ]
      }
     ],
     "prompt_number": 7
    },
    {
     "cell_type": "code",
     "collapsed": false,
     "input": [
      "x = y = np.linspace(-5, 5, 11)"
     ],
     "language": "python",
     "metadata": {},
     "outputs": [],
     "prompt_number": 8
    },
    {
     "cell_type": "code",
     "collapsed": false,
     "input": [
      "x"
     ],
     "language": "python",
     "metadata": {},
     "outputs": [
      {
       "metadata": {},
       "output_type": "pyout",
       "prompt_number": 9,
       "text": [
        "array([-5., -4., -3., -2., -1.,  0.,  1.,  2.,  3.,  4.,  5.])"
       ]
      }
     ],
     "prompt_number": 9
    },
    {
     "cell_type": "code",
     "collapsed": false,
     "input": [
      "y"
     ],
     "language": "python",
     "metadata": {},
     "outputs": [
      {
       "metadata": {},
       "output_type": "pyout",
       "prompt_number": 10,
       "text": [
        "array([-5., -4., -3., -2., -1.,  0.,  1.,  2.,  3.,  4.,  5.])"
       ]
      }
     ],
     "prompt_number": 10
    },
    {
     "cell_type": "code",
     "collapsed": false,
     "input": [
      "XX, YY = np.meshgrid(x, y)"
     ],
     "language": "python",
     "metadata": {},
     "outputs": [],
     "prompt_number": 11
    },
    {
     "cell_type": "code",
     "collapsed": false,
     "input": [
      "XX"
     ],
     "language": "python",
     "metadata": {},
     "outputs": [
      {
       "metadata": {},
       "output_type": "pyout",
       "prompt_number": 12,
       "text": [
        "array([[-5., -4., -3., -2., -1.,  0.,  1.,  2.,  3.,  4.,  5.],\n",
        "       [-5., -4., -3., -2., -1.,  0.,  1.,  2.,  3.,  4.,  5.],\n",
        "       [-5., -4., -3., -2., -1.,  0.,  1.,  2.,  3.,  4.,  5.],\n",
        "       [-5., -4., -3., -2., -1.,  0.,  1.,  2.,  3.,  4.,  5.],\n",
        "       [-5., -4., -3., -2., -1.,  0.,  1.,  2.,  3.,  4.,  5.],\n",
        "       [-5., -4., -3., -2., -1.,  0.,  1.,  2.,  3.,  4.,  5.],\n",
        "       [-5., -4., -3., -2., -1.,  0.,  1.,  2.,  3.,  4.,  5.],\n",
        "       [-5., -4., -3., -2., -1.,  0.,  1.,  2.,  3.,  4.,  5.],\n",
        "       [-5., -4., -3., -2., -1.,  0.,  1.,  2.,  3.,  4.,  5.],\n",
        "       [-5., -4., -3., -2., -1.,  0.,  1.,  2.,  3.,  4.,  5.],\n",
        "       [-5., -4., -3., -2., -1.,  0.,  1.,  2.,  3.,  4.,  5.]])"
       ]
      }
     ],
     "prompt_number": 12
    },
    {
     "cell_type": "code",
     "collapsed": false,
     "input": [
      "XX**2 + YY**2 "
     ],
     "language": "python",
     "metadata": {},
     "outputs": [
      {
       "metadata": {},
       "output_type": "pyout",
       "prompt_number": 15,
       "text": [
        "array([[ 50.,  41.,  34.,  29.,  26.,  25.,  26.,  29.,  34.,  41.,  50.],\n",
        "       [ 41.,  32.,  25.,  20.,  17.,  16.,  17.,  20.,  25.,  32.,  41.],\n",
        "       [ 34.,  25.,  18.,  13.,  10.,   9.,  10.,  13.,  18.,  25.,  34.],\n",
        "       [ 29.,  20.,  13.,   8.,   5.,   4.,   5.,   8.,  13.,  20.,  29.],\n",
        "       [ 26.,  17.,  10.,   5.,   2.,   1.,   2.,   5.,  10.,  17.,  26.],\n",
        "       [ 25.,  16.,   9.,   4.,   1.,   0.,   1.,   4.,   9.,  16.,  25.],\n",
        "       [ 26.,  17.,  10.,   5.,   2.,   1.,   2.,   5.,  10.,  17.,  26.],\n",
        "       [ 29.,  20.,  13.,   8.,   5.,   4.,   5.,   8.,  13.,  20.,  29.],\n",
        "       [ 34.,  25.,  18.,  13.,  10.,   9.,  10.,  13.,  18.,  25.,  34.],\n",
        "       [ 41.,  32.,  25.,  20.,  17.,  16.,  17.,  20.,  25.,  32.,  41.],\n",
        "       [ 50.,  41.,  34.,  29.,  26.,  25.,  26.,  29.,  34.,  41.,  50.]])"
       ]
      }
     ],
     "prompt_number": 15
    },
    {
     "cell_type": "code",
     "collapsed": false,
     "input": [
      "plt.vlines(x, -5, 5, linestyles=\"dashed\")  # plot vertical lines\n",
      "plt.hlines(y, -5, 5, linestyles=\"dashed\")  # plot vertical lines\n",
      "\n",
      "plt.plot(XX.flatten(), YY.flatten(), 'o')\n",
      "\n",
      "plt.axis(\"equal\")"
     ],
     "language": "python",
     "metadata": {},
     "outputs": []
    },
    {
     "cell_type": "code",
     "collapsed": false,
     "input": [],
     "language": "python",
     "metadata": {},
     "outputs": []
    },
    {
     "cell_type": "code",
     "collapsed": false,
     "input": [
      "XX"
     ],
     "language": "python",
     "metadata": {},
     "outputs": []
    },
    {
     "cell_type": "markdown",
     "metadata": {},
     "source": [
      "Now we can use the magic of `numpy` to calculate interesting functions in space at the points of the grid:"
     ]
    },
    {
     "cell_type": "code",
     "collapsed": false,
     "input": [
      "%matplotlib inline"
     ],
     "language": "python",
     "metadata": {},
     "outputs": [],
     "prompt_number": 18
    },
    {
     "cell_type": "code",
     "collapsed": false,
     "input": [
      "x = y = np.linspace(-5, 5, 101)\n",
      "XX, YY = np.meshgrid(x, y)\n",
      "\n",
      "ZZ = XX*XX + YY*YY\n",
      "plt.pcolor(XX, YY, ZZ)\n",
      "\n",
      "plt.axis(\"equal\")"
     ],
     "language": "python",
     "metadata": {},
     "outputs": [
      {
       "metadata": {},
       "output_type": "pyout",
       "prompt_number": 19,
       "text": [
        "(-6.0, 6.0, -6.0, 6.0)"
       ]
      },
      {
       "metadata": {},
       "output_type": "display_data",
       "png": "[encoded data removed]",
       "text": [
        "<matplotlib.figure.Figure at 0x10bc16590>"
       ]
      }
     ],
     "prompt_number": 19
    },
    {
     "cell_type": "markdown",
     "metadata": {},
     "source": [
      "It seems unnecessary to actually generate the `XX` and `YY` arrays, and indeed it is:"
     ]
    },
    {
     "cell_type": "code",
     "collapsed": false,
     "input": [
      "XX, YY = np.ogrid?"
     ],
     "language": "python",
     "metadata": {},
     "outputs": []
    },
    {
     "cell_type": "code",
     "collapsed": false,
     "input": [
      "XX, YY = np.ogrid?"
     ],
     "language": "python",
     "metadata": {},
     "outputs": []
    },
    {
     "cell_type": "code",
     "collapsed": false,
     "input": [
      "XX, YY = np.ogrid"
     ],
     "language": "python",
     "metadata": {},
     "outputs": []
    },
    {
     "cell_type": "code",
     "collapsed": false,
     "input": [
      "np.ogrid[-5:5:0.5]"
     ],
     "language": "python",
     "metadata": {},
     "outputs": []
    },
    {
     "cell_type": "code",
     "collapsed": false,
     "input": [
      "np.ogrid[-5:5:11j]"
     ],
     "language": "python",
     "metadata": {},
     "outputs": []
    },
    {
     "cell_type": "markdown",
     "metadata": {},
     "source": [
      "Note that here there is a strange trick used by which a `j` is used to signify the number of points to be used instead of the step size (i.e. to use `linspace` instead of `arange`-type functionality)"
     ]
    },
    {
     "cell_type": "heading",
     "level": 1,
     "metadata": {},
     "source": [
      "3D graphics with `matplotlib` "
     ]
    },
    {
     "cell_type": "code",
     "collapsed": false,
     "input": [
      "%matplotlib\n",
      "import numpy as np"
     ],
     "language": "python",
     "metadata": {},
     "outputs": [
      {
       "output_type": "stream",
       "stream": "stdout",
       "text": [
        "Using matplotlib backend: MacOSX\n"
       ]
      }
     ],
     "prompt_number": 29
    },
    {
     "cell_type": "code",
     "collapsed": false,
     "input": [
      "ax.sc"
     ],
     "language": "python",
     "metadata": {},
     "outputs": []
    },
    {
     "cell_type": "code",
     "collapsed": false,
     "input": [
      "import matplotlib.pyplot as plt\n",
      "from mpl_toolkits.mplot3d import Axes3D\n",
      "\n",
      "fig = plt.figure(figsize=(8,8))\n",
      "ax = fig.add_subplot(111, projection='3d')\n",
      "\n",
      "#ax.scatter3D(x, y, z)\n",
      "ax.plot_surface(XX, YY, ZZ)"
     ],
     "language": "python",
     "metadata": {},
     "outputs": [
      {
       "metadata": {},
       "output_type": "pyout",
       "prompt_number": 30,
       "text": [
        "<mpl_toolkits.mplot3d.art3d.Poly3DCollection at 0x10683d290>"
       ]
      }
     ],
     "prompt_number": 30
    },
    {
     "cell_type": "code",
     "collapsed": false,
     "input": [
      "x, y, z = np.random.rand(3, 10)\n",
      "ax."
     ],
     "language": "python",
     "metadata": {},
     "outputs": [
      {
       "metadata": {},
       "output_type": "pyout",
       "prompt_number": 23,
       "text": [
        "[<mpl_toolkits.mplot3d.art3d.Line3D at 0x10816b910>]"
       ]
      },
      {
       "metadata": {},
       "output_type": "display_data",
       "png": "[encoded data removed]",
       "text": [
        "<matplotlib.figure.Figure at 0x107f92fd0>"
       ]
      }
     ],
     "prompt_number": 23
    },
    {
     "cell_type": "markdown",
     "metadata": {},
     "source": [
      "The `ax` axis object \"knows\" that it is 3D, and hence that `plot` is the 3D version."
     ]
    },
    {
     "cell_type": "code",
     "collapsed": false,
     "input": [],
     "language": "python",
     "metadata": {},
     "outputs": [
      {
       "metadata": {},
       "output_type": "pyout",
       "prompt_number": 27,
       "text": [
        "<mpl_toolkits.mplot3d.art3d.Poly3DCollection at 0x1083be190>"
       ]
      }
     ],
     "prompt_number": 27
    },
    {
     "cell_type": "code",
     "collapsed": false,
     "input": [],
     "language": "python",
     "metadata": {},
     "outputs": []
    }
   ],
   "metadata": {}
  }
 ]
}